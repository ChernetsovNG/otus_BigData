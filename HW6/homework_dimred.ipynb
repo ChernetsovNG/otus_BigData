{
 "cells": [
  {
   "cell_type": "code",
   "execution_count": 3,
   "metadata": {},
   "outputs": [],
   "source": [
    "from __future__ import print_function\n",
    "from collections import defaultdict\n",
    "import pandas as pd\n",
    "import numpy as np\n",
    "import matplotlib\n",
    "import pandas_profiling\n",
    "import matplotlib.pyplot as plt\n",
    "import matplotlib.cm as cm\n",
    "from mpl_toolkits.mplot3d import Axes3D\n",
    "import seaborn as sns\n",
    "\n",
    "%matplotlib inline\n",
    "plt.rcParams[\"figure.figsize\"] = (15, 8)\n",
    "pd.options.display.float_format = '{:.2f}'.format"
   ]
  },
  {
   "cell_type": "code",
   "execution_count": 5,
   "metadata": {},
   "outputs": [],
   "source": [
    "fn = 'orders.csv'"
   ]
  },
  {
   "cell_type": "code",
   "execution_count": 3,
   "metadata": {},
   "outputs": [
    {
     "name": "stdout",
     "output_type": "stream",
     "text": [
      "DISCOUNT_VALUE,NAME,PRICE,QUANTITY,date_insert,discount,itemID,orderID,ordered_item_count,price,user_id\r\n",
      "23.55%,Хроники Амбера. Том 2,357.0,1,2017-03-19 22:25:20,110.0,169108,602051,1,527.0,911531\r\n",
      "4.07%,Хроники Амбера. Том 1,448.0,1,2017-03-19 22:19:58,19.0,1394744,602047,1,618.0,911531\r\n",
      "4.17%,Пищеводитель,414.0,1,2017-03-19 20:58:00,65.0,191276,602017,4,1503.0,911587\r\n",
      "4.17%,\"Аудиокн. Мясников. &quot;Ржавчина&quot;: что делать, чтобы сердце не болело\",253.0,1,2017-03-19 20:58:00,65.0,157945,602017,4,1503.0,911587\r\n",
      "4.09%,Инфекции. Как защитить себя и своего ребенка,422.0,1,2017-03-19 20:58:00,65.0,205173,602017,4,1503.0,911587\r\n",
      "4.17%,О самом главном с доктором Мясниковым,414.0,1,2017-03-19 20:58:00,65.0,189415,602017,4,1503.0,911587\r\n",
      "4.12%,Пеппи Длинныйчулок собирается в путь,489.0,1,2017-03-19 20:53:51,42.0,168183,602015,2,1238.0,201724\r\n",
      "4.12%,Пеппи Длинныйчулок в стране Веселии,489.0,1,2017-03-19 20:53:51,42.0,186112,602015,2,1238.0,201724\r\n",
      "4.09%,Серебряный шар. Драма за сценой,586.0,1,2017-03-19 20:28:54,25.0,181388,602005,1,586.0,77858\r\n"
     ]
    }
   ],
   "source": [
    "# Данные касаются продаж книжного интернет-магазина\n",
    "!head $fn"
   ]
  },
  {
   "cell_type": "markdown",
   "metadata": {},
   "source": [
    "# 1. Провести EDA\n",
    "Просмотреть структуру данных, значения каждого признака, поискать особенности в признаках и в данных вцелом"
   ]
  },
  {
   "cell_type": "code",
   "execution_count": 6,
   "metadata": {},
   "outputs": [
    {
     "data": {
      "text/html": [
       "<div>\n",
       "<style scoped>\n",
       "    .dataframe tbody tr th:only-of-type {\n",
       "        vertical-align: middle;\n",
       "    }\n",
       "\n",
       "    .dataframe tbody tr th {\n",
       "        vertical-align: top;\n",
       "    }\n",
       "\n",
       "    .dataframe thead th {\n",
       "        text-align: right;\n",
       "    }\n",
       "</style>\n",
       "<table border=\"1\" class=\"dataframe\">\n",
       "  <thead>\n",
       "    <tr style=\"text-align: right;\">\n",
       "      <th></th>\n",
       "      <th>DISCOUNT_VALUE</th>\n",
       "      <th>NAME</th>\n",
       "      <th>PRICE</th>\n",
       "      <th>QUANTITY</th>\n",
       "      <th>date_insert</th>\n",
       "      <th>discount</th>\n",
       "      <th>itemID</th>\n",
       "      <th>orderID</th>\n",
       "      <th>ordered_item_count</th>\n",
       "      <th>price</th>\n",
       "      <th>user_id</th>\n",
       "    </tr>\n",
       "  </thead>\n",
       "  <tbody>\n",
       "    <tr>\n",
       "      <th>0</th>\n",
       "      <td>23.55%</td>\n",
       "      <td>Хроники Амбера. Том 2</td>\n",
       "      <td>357.00</td>\n",
       "      <td>1</td>\n",
       "      <td>2017-03-19 22:25:20</td>\n",
       "      <td>110.00</td>\n",
       "      <td>169108</td>\n",
       "      <td>602051</td>\n",
       "      <td>1</td>\n",
       "      <td>527.00</td>\n",
       "      <td>911531</td>\n",
       "    </tr>\n",
       "    <tr>\n",
       "      <th>1</th>\n",
       "      <td>4.07%</td>\n",
       "      <td>Хроники Амбера. Том 1</td>\n",
       "      <td>448.00</td>\n",
       "      <td>1</td>\n",
       "      <td>2017-03-19 22:19:58</td>\n",
       "      <td>19.00</td>\n",
       "      <td>1394744</td>\n",
       "      <td>602047</td>\n",
       "      <td>1</td>\n",
       "      <td>618.00</td>\n",
       "      <td>911531</td>\n",
       "    </tr>\n",
       "    <tr>\n",
       "      <th>2</th>\n",
       "      <td>4.17%</td>\n",
       "      <td>Пищеводитель</td>\n",
       "      <td>414.00</td>\n",
       "      <td>1</td>\n",
       "      <td>2017-03-19 20:58:00</td>\n",
       "      <td>65.00</td>\n",
       "      <td>191276</td>\n",
       "      <td>602017</td>\n",
       "      <td>4</td>\n",
       "      <td>1503.00</td>\n",
       "      <td>911587</td>\n",
       "    </tr>\n",
       "    <tr>\n",
       "      <th>3</th>\n",
       "      <td>4.17%</td>\n",
       "      <td>Аудиокн. Мясников. &amp;quot;Ржавчина&amp;quot;: что д...</td>\n",
       "      <td>253.00</td>\n",
       "      <td>1</td>\n",
       "      <td>2017-03-19 20:58:00</td>\n",
       "      <td>65.00</td>\n",
       "      <td>157945</td>\n",
       "      <td>602017</td>\n",
       "      <td>4</td>\n",
       "      <td>1503.00</td>\n",
       "      <td>911587</td>\n",
       "    </tr>\n",
       "    <tr>\n",
       "      <th>4</th>\n",
       "      <td>4.09%</td>\n",
       "      <td>Инфекции. Как защитить себя и своего ребенка</td>\n",
       "      <td>422.00</td>\n",
       "      <td>1</td>\n",
       "      <td>2017-03-19 20:58:00</td>\n",
       "      <td>65.00</td>\n",
       "      <td>205173</td>\n",
       "      <td>602017</td>\n",
       "      <td>4</td>\n",
       "      <td>1503.00</td>\n",
       "      <td>911587</td>\n",
       "    </tr>\n",
       "  </tbody>\n",
       "</table>\n",
       "</div>"
      ],
      "text/plain": [
       "  DISCOUNT_VALUE                                               NAME  PRICE  \\\n",
       "0         23.55%                              Хроники Амбера. Том 2 357.00   \n",
       "1          4.07%                              Хроники Амбера. Том 1 448.00   \n",
       "2          4.17%                                       Пищеводитель 414.00   \n",
       "3          4.17%  Аудиокн. Мясников. &quot;Ржавчина&quot;: что д... 253.00   \n",
       "4          4.09%       Инфекции. Как защитить себя и своего ребенка 422.00   \n",
       "\n",
       "   QUANTITY          date_insert  discount   itemID  orderID  \\\n",
       "0         1  2017-03-19 22:25:20    110.00   169108   602051   \n",
       "1         1  2017-03-19 22:19:58     19.00  1394744   602047   \n",
       "2         1  2017-03-19 20:58:00     65.00   191276   602017   \n",
       "3         1  2017-03-19 20:58:00     65.00   157945   602017   \n",
       "4         1  2017-03-19 20:58:00     65.00   205173   602017   \n",
       "\n",
       "   ordered_item_count   price  user_id  \n",
       "0                   1  527.00   911531  \n",
       "1                   1  618.00   911531  \n",
       "2                   4 1503.00   911587  \n",
       "3                   4 1503.00   911587  \n",
       "4                   4 1503.00   911587  "
      ]
     },
     "execution_count": 6,
     "metadata": {},
     "output_type": "execute_result"
    }
   ],
   "source": [
    "df = pd.read_csv(fn, na_values='NaN')\n",
    "df.head(5)"
   ]
  },
  {
   "cell_type": "code",
   "execution_count": 7,
   "metadata": {},
   "outputs": [
    {
     "data": {
      "text/plain": [
       "10"
      ]
     },
     "execution_count": 7,
     "metadata": {},
     "output_type": "execute_result"
    }
   ],
   "source": [
    "# Дубликаты\n",
    "df.duplicated().sum()"
   ]
  },
  {
   "cell_type": "code",
   "execution_count": 8,
   "metadata": {},
   "outputs": [],
   "source": [
    "df.drop_duplicates(inplace = True)"
   ]
  },
  {
   "cell_type": "markdown",
   "metadata": {},
   "source": [
    "Представлены следующие данные:\n",
    "\n",
    "- DISCOUNT_VALUE - величина скидки, %;\n",
    "- NAME - название книги;\n",
    "- PRICE - стоимость одного экземпляра книги;\n",
    "- QUANTITY - количество заказанных экземпляров книги;\n",
    "- data_inser - дата и время размещения (?) заказа;\n",
    "- discount - рассчитанная стоимость скидки. Расчётная формула, по-видимому, следующая:\n",
    "discount = PRICE * DISCOUNT_VALUE / (1 - DISCOUNT_VALUE);\n",
    "- itemID - идентификатор товара (книги);\n",
    "- orderID - идентификатор заказа;\n",
    "- ordered_item_count - количество товаров в данном заказе;\n",
    "- price - общая стоимость заказа (видимо, с учётом доставки?);\n",
    "- user_id - идентификатор клиента."
   ]
  },
  {
   "cell_type": "code",
   "execution_count": 7,
   "metadata": {},
   "outputs": [
    {
     "name": "stdout",
     "output_type": "stream",
     "text": [
      "<class 'pandas.core.frame.DataFrame'>\n",
      "Int64Index: 557808 entries, 0 to 557817\n",
      "Data columns (total 11 columns):\n",
      "DISCOUNT_VALUE        553771 non-null object\n",
      "NAME                  557801 non-null object\n",
      "PRICE                 557808 non-null float64\n",
      "QUANTITY              557808 non-null int64\n",
      "date_insert           557808 non-null object\n",
      "discount              557808 non-null float64\n",
      "itemID                557808 non-null int64\n",
      "orderID               557808 non-null int64\n",
      "ordered_item_count    557808 non-null int64\n",
      "price                 557808 non-null float64\n",
      "user_id               557808 non-null int64\n",
      "dtypes: float64(3), int64(5), object(3)\n",
      "memory usage: 51.1+ MB\n"
     ]
    }
   ],
   "source": [
    "df.info()"
   ]
  },
  {
   "cell_type": "code",
   "execution_count": 8,
   "metadata": {},
   "outputs": [
    {
     "data": {
      "text/plain": [
       "76258"
      ]
     },
     "execution_count": 8,
     "metadata": {},
     "output_type": "execute_result"
    }
   ],
   "source": [
    "# Количество уникальных пользователей, делавших заказы\n",
    "df['user_id'].nunique()"
   ]
  },
  {
   "cell_type": "code",
   "execution_count": 9,
   "metadata": {},
   "outputs": [
    {
     "data": {
      "text/plain": [
       "51890"
      ]
     },
     "execution_count": 9,
     "metadata": {},
     "output_type": "execute_result"
    }
   ],
   "source": [
    "# Количество уникальных книг (по id)\n",
    "df['itemID'].nunique()"
   ]
  },
  {
   "cell_type": "code",
   "execution_count": 10,
   "metadata": {},
   "outputs": [
    {
     "data": {
      "text/plain": [
       "74632"
      ]
     },
     "execution_count": 10,
     "metadata": {},
     "output_type": "execute_result"
    }
   ],
   "source": [
    "df['NAME'].nunique()"
   ]
  },
  {
   "cell_type": "markdown",
   "metadata": {},
   "source": [
    "Т.к. уникальных id товаров меньше, чем уникальных названий, то скорее всего в названиях встречаются неточности (из-за чего они получаются отличающимися)"
   ]
  },
  {
   "cell_type": "code",
   "execution_count": 11,
   "metadata": {},
   "outputs": [
    {
     "data": {
      "text/html": [
       "<div>\n",
       "<style scoped>\n",
       "    .dataframe tbody tr th:only-of-type {\n",
       "        vertical-align: middle;\n",
       "    }\n",
       "\n",
       "    .dataframe tbody tr th {\n",
       "        vertical-align: top;\n",
       "    }\n",
       "\n",
       "    .dataframe thead th {\n",
       "        text-align: right;\n",
       "    }\n",
       "</style>\n",
       "<table border=\"1\" class=\"dataframe\">\n",
       "  <thead>\n",
       "    <tr style=\"text-align: right;\">\n",
       "      <th></th>\n",
       "      <th>DISCOUNT_VALUE</th>\n",
       "      <th>NAME</th>\n",
       "      <th>PRICE</th>\n",
       "      <th>QUANTITY</th>\n",
       "      <th>date_insert</th>\n",
       "      <th>discount</th>\n",
       "      <th>itemID</th>\n",
       "      <th>orderID</th>\n",
       "      <th>ordered_item_count</th>\n",
       "      <th>price</th>\n",
       "      <th>user_id</th>\n",
       "    </tr>\n",
       "  </thead>\n",
       "  <tbody>\n",
       "    <tr>\n",
       "      <th>190</th>\n",
       "      <td>NaN</td>\n",
       "      <td>Кыш, Двапортфеля и целая неделя. Кыш и я в Кры...</td>\n",
       "      <td>437.00</td>\n",
       "      <td>1</td>\n",
       "      <td>2017-03-18 11:15:09</td>\n",
       "      <td>-823.00</td>\n",
       "      <td>198440</td>\n",
       "      <td>601300</td>\n",
       "      <td>2</td>\n",
       "      <td>1102.00</td>\n",
       "      <td>910987</td>\n",
       "    </tr>\n",
       "    <tr>\n",
       "      <th>191</th>\n",
       "      <td>NaN</td>\n",
       "      <td>В Стране Вечных Каникул. Саша и Шура (вес: 640...</td>\n",
       "      <td>386.00</td>\n",
       "      <td>1</td>\n",
       "      <td>2017-03-18 11:15:09</td>\n",
       "      <td>-823.00</td>\n",
       "      <td>200733</td>\n",
       "      <td>601300</td>\n",
       "      <td>2</td>\n",
       "      <td>1102.00</td>\n",
       "      <td>910987</td>\n",
       "    </tr>\n",
       "  </tbody>\n",
       "</table>\n",
       "</div>"
      ],
      "text/plain": [
       "    DISCOUNT_VALUE                                               NAME  PRICE  \\\n",
       "190            NaN  Кыш, Двапортфеля и целая неделя. Кыш и я в Кры... 437.00   \n",
       "191            NaN  В Стране Вечных Каникул. Саша и Шура (вес: 640... 386.00   \n",
       "\n",
       "     QUANTITY          date_insert  discount  itemID  orderID  \\\n",
       "190         1  2017-03-18 11:15:09   -823.00  198440   601300   \n",
       "191         1  2017-03-18 11:15:09   -823.00  200733   601300   \n",
       "\n",
       "     ordered_item_count   price  user_id  \n",
       "190                   2 1102.00   910987  \n",
       "191                   2 1102.00   910987  "
      ]
     },
     "execution_count": 11,
     "metadata": {},
     "output_type": "execute_result"
    }
   ],
   "source": [
    "# Встречаются такие довольно загадочные данные с отрицательной скидкой\n",
    "df[df['orderID'] == 601300]"
   ]
  },
  {
   "cell_type": "code",
   "execution_count": 12,
   "metadata": {},
   "outputs": [
    {
     "data": {
      "image/png": "[encoded data removed]",
      "text/plain": [
       "<matplotlib.figure.Figure at 0x7fd500a61290>"
      ]
     },
     "metadata": {},
     "output_type": "display_data"
    }
   ],
   "source": [
    "# График распределения цены книги\n",
    "\n",
    "fig, ax = plt.subplots(1, 1, figsize=(11, 8))\n",
    "\n",
    "# the histogram of the speed\n",
    "n, bins, patches = plt.hist(df['PRICE'], 500, normed=1, facecolor='#368d5c', alpha=0.75)\n",
    "\n",
    "plt.xlabel('Price', fontsize = 10)\n",
    "plt.ylabel('Probability', fontsize = 10)\n",
    "plt.axis([0, 1500, 0, 0.004])\n",
    "plt.grid(True)\n",
    "\n",
    "ax.spines[\"top\"].set_visible(False)    \n",
    "ax.spines[\"right\"].set_visible(False)    \n",
    "ax.yaxis.set_ticks_position('left')\n",
    "ax.xaxis.set_ticks_position('bottom')\n",
    "\n",
    "plt.show()"
   ]
  },
  {
   "cell_type": "code",
   "execution_count": 13,
   "metadata": {},
   "outputs": [
    {
     "data": {
      "text/plain": [
       "count      76258.00\n",
       "mean       20461.55\n",
       "std       238496.76\n",
       "min            3.00\n",
       "25%          984.85\n",
       "50%         3688.00\n",
       "75%        10833.98\n",
       "max     31763867.00\n",
       "Name: price, dtype: float64"
      ]
     },
     "execution_count": 13,
     "metadata": {},
     "output_type": "execute_result"
    }
   ],
   "source": [
    "# Сгруппируем стоимость заказов пользователей\n",
    "price_by_user = df.groupby(['user_id'])['price'].sum()\n",
    "price_by_user.describe()"
   ]
  },
  {
   "cell_type": "code",
   "execution_count": 14,
   "metadata": {},
   "outputs": [
    {
     "data": {
      "text/plain": [
       "count    76258.00\n",
       "mean        88.89\n",
       "std        953.18\n",
       "min          1.00\n",
       "25%          1.00\n",
       "50%          9.00\n",
       "75%         36.00\n",
       "max     103570.00\n",
       "Name: ordered_item_count, dtype: float64"
      ]
     },
     "execution_count": 14,
     "metadata": {},
     "output_type": "execute_result"
    }
   ],
   "source": [
    "# Сгруппируем количество заказов пользователей\n",
    "ordered_item_count_by_user = df.groupby(['user_id'])['ordered_item_count'].sum()\n",
    "ordered_item_count_by_user.describe()"
   ]
  },
  {
   "cell_type": "markdown",
   "metadata": {},
   "source": [
    "Видно, что в данных выделяются некие оптовые покупатели, приобретающие большое количество книг"
   ]
  },
  {
   "cell_type": "code",
   "execution_count": 10,
   "metadata": {},
   "outputs": [
    {
     "data": {
      "text/html": [
       "<div>\n",
       "<style scoped>\n",
       "    .dataframe tbody tr th:only-of-type {\n",
       "        vertical-align: middle;\n",
       "    }\n",
       "\n",
       "    .dataframe tbody tr th {\n",
       "        vertical-align: top;\n",
       "    }\n",
       "\n",
       "    .dataframe thead th {\n",
       "        text-align: right;\n",
       "    }\n",
       "</style>\n",
       "<table border=\"1\" class=\"dataframe\">\n",
       "  <thead>\n",
       "    <tr style=\"text-align: right;\">\n",
       "      <th></th>\n",
       "      <th>itemID</th>\n",
       "      <th>QUANTITY</th>\n",
       "    </tr>\n",
       "  </thead>\n",
       "  <tbody>\n",
       "    <tr>\n",
       "      <th>count</th>\n",
       "      <td>51890.00</td>\n",
       "      <td>51890.00</td>\n",
       "    </tr>\n",
       "    <tr>\n",
       "      <th>mean</th>\n",
       "      <td>493166.01</td>\n",
       "      <td>17.74</td>\n",
       "    </tr>\n",
       "    <tr>\n",
       "      <th>std</th>\n",
       "      <td>518404.88</td>\n",
       "      <td>74.59</td>\n",
       "    </tr>\n",
       "    <tr>\n",
       "      <th>min</th>\n",
       "      <td>131823.00</td>\n",
       "      <td>1.00</td>\n",
       "    </tr>\n",
       "    <tr>\n",
       "      <th>25%</th>\n",
       "      <td>170760.50</td>\n",
       "      <td>2.00</td>\n",
       "    </tr>\n",
       "    <tr>\n",
       "      <th>50%</th>\n",
       "      <td>192168.50</td>\n",
       "      <td>5.00</td>\n",
       "    </tr>\n",
       "    <tr>\n",
       "      <th>75%</th>\n",
       "      <td>665972.50</td>\n",
       "      <td>14.00</td>\n",
       "    </tr>\n",
       "    <tr>\n",
       "      <th>max</th>\n",
       "      <td>1787508.00</td>\n",
       "      <td>3269.00</td>\n",
       "    </tr>\n",
       "  </tbody>\n",
       "</table>\n",
       "</div>"
      ],
      "text/plain": [
       "          itemID  QUANTITY\n",
       "count   51890.00  51890.00\n",
       "mean   493166.01     17.74\n",
       "std    518404.88     74.59\n",
       "min    131823.00      1.00\n",
       "25%    170760.50      2.00\n",
       "50%    192168.50      5.00\n",
       "75%    665972.50     14.00\n",
       "max   1787508.00   3269.00"
      ]
     },
     "execution_count": 10,
     "metadata": {},
     "output_type": "execute_result"
    }
   ],
   "source": [
    "# Сгруппируем количество заказов для каждой отдельной книги (т.е. сколько раз её покупали)\n",
    "book_order_count = df.groupby(['itemID'])['QUANTITY'].sum().reset_index().sort_values('QUANTITY', ascending=False)\n",
    "book_order_count.describe()"
   ]
  },
  {
   "cell_type": "code",
   "execution_count": 11,
   "metadata": {},
   "outputs": [
    {
     "data": {
      "text/html": [
       "<div>\n",
       "<style scoped>\n",
       "    .dataframe tbody tr th:only-of-type {\n",
       "        vertical-align: middle;\n",
       "    }\n",
       "\n",
       "    .dataframe tbody tr th {\n",
       "        vertical-align: top;\n",
       "    }\n",
       "\n",
       "    .dataframe thead th {\n",
       "        text-align: right;\n",
       "    }\n",
       "</style>\n",
       "<table border=\"1\" class=\"dataframe\">\n",
       "  <thead>\n",
       "    <tr style=\"text-align: right;\">\n",
       "      <th></th>\n",
       "      <th>itemID</th>\n",
       "      <th>QUANTITY</th>\n",
       "    </tr>\n",
       "  </thead>\n",
       "  <tbody>\n",
       "    <tr>\n",
       "      <th>34914</th>\n",
       "      <td>294189</td>\n",
       "      <td>3269</td>\n",
       "    </tr>\n",
       "    <tr>\n",
       "      <th>41498</th>\n",
       "      <td>721305</td>\n",
       "      <td>2806</td>\n",
       "    </tr>\n",
       "    <tr>\n",
       "      <th>40350</th>\n",
       "      <td>712235</td>\n",
       "      <td>2765</td>\n",
       "    </tr>\n",
       "    <tr>\n",
       "      <th>50091</th>\n",
       "      <td>1635426</td>\n",
       "      <td>2715</td>\n",
       "    </tr>\n",
       "    <tr>\n",
       "      <th>38141</th>\n",
       "      <td>637235</td>\n",
       "      <td>2624</td>\n",
       "    </tr>\n",
       "  </tbody>\n",
       "</table>\n",
       "</div>"
      ],
      "text/plain": [
       "        itemID  QUANTITY\n",
       "34914   294189      3269\n",
       "41498   721305      2806\n",
       "40350   712235      2765\n",
       "50091  1635426      2715\n",
       "38141   637235      2624"
      ]
     },
     "execution_count": 11,
     "metadata": {},
     "output_type": "execute_result"
    }
   ],
   "source": [
    "top5_selling_books = book_order_count.head()\n",
    "top5_selling_books"
   ]
  },
  {
   "cell_type": "code",
   "execution_count": 12,
   "metadata": {},
   "outputs": [
    {
     "data": {
      "text/html": [
       "<div>\n",
       "<style scoped>\n",
       "    .dataframe tbody tr th:only-of-type {\n",
       "        vertical-align: middle;\n",
       "    }\n",
       "\n",
       "    .dataframe tbody tr th {\n",
       "        vertical-align: top;\n",
       "    }\n",
       "\n",
       "    .dataframe thead th {\n",
       "        text-align: right;\n",
       "    }\n",
       "</style>\n",
       "<table border=\"1\" class=\"dataframe\">\n",
       "  <thead>\n",
       "    <tr style=\"text-align: right;\">\n",
       "      <th></th>\n",
       "      <th>DISCOUNT_VALUE</th>\n",
       "      <th>NAME</th>\n",
       "      <th>PRICE</th>\n",
       "      <th>QUANTITY</th>\n",
       "      <th>date_insert</th>\n",
       "      <th>discount</th>\n",
       "      <th>itemID</th>\n",
       "      <th>orderID</th>\n",
       "      <th>ordered_item_count</th>\n",
       "      <th>price</th>\n",
       "      <th>user_id</th>\n",
       "    </tr>\n",
       "  </thead>\n",
       "  <tbody>\n",
       "    <tr>\n",
       "      <th>3455</th>\n",
       "      <td>4.2%</td>\n",
       "      <td>География. 8 класс. Атлас</td>\n",
       "      <td>137.00</td>\n",
       "      <td>1</td>\n",
       "      <td>2017-03-19 15:53:10</td>\n",
       "      <td>24.00</td>\n",
       "      <td>712235</td>\n",
       "      <td>601906</td>\n",
       "      <td>4</td>\n",
       "      <td>793.00</td>\n",
       "      <td>911492</td>\n",
       "    </tr>\n",
       "    <tr>\n",
       "      <th>14973</th>\n",
       "      <td>10.49%</td>\n",
       "      <td>География. 8 класс. Атлас</td>\n",
       "      <td>107.29</td>\n",
       "      <td>24</td>\n",
       "      <td>2017-03-16 17:46:39</td>\n",
       "      <td>35.71</td>\n",
       "      <td>712235</td>\n",
       "      <td>600357</td>\n",
       "      <td>1</td>\n",
       "      <td>2574.96</td>\n",
       "      <td>109601</td>\n",
       "    </tr>\n",
       "    <tr>\n",
       "      <th>15290</th>\n",
       "      <td>0</td>\n",
       "      <td>География. 8 класс. Атлас (вес: 122гр.)</td>\n",
       "      <td>114.40</td>\n",
       "      <td>19</td>\n",
       "      <td>2017-03-16 16:44:05</td>\n",
       "      <td>41.20</td>\n",
       "      <td>712235</td>\n",
       "      <td>600306</td>\n",
       "      <td>2</td>\n",
       "      <td>3181.60</td>\n",
       "      <td>105934</td>\n",
       "    </tr>\n",
       "    <tr>\n",
       "      <th>16555</th>\n",
       "      <td>4.2%</td>\n",
       "      <td>География. 8 класс. Атлас</td>\n",
       "      <td>143.00</td>\n",
       "      <td>1</td>\n",
       "      <td>2017-03-14 17:28:00</td>\n",
       "      <td>0.00</td>\n",
       "      <td>712235</td>\n",
       "      <td>598723</td>\n",
       "      <td>4</td>\n",
       "      <td>884.00</td>\n",
       "      <td>909377</td>\n",
       "    </tr>\n",
       "    <tr>\n",
       "      <th>23764</th>\n",
       "      <td>25.4%</td>\n",
       "      <td>География. 7 класс. Контурные карты</td>\n",
       "      <td>47.00</td>\n",
       "      <td>20</td>\n",
       "      <td>2017-03-26 15:27:21</td>\n",
       "      <td>322.00</td>\n",
       "      <td>637235</td>\n",
       "      <td>607656</td>\n",
       "      <td>7</td>\n",
       "      <td>12290.00</td>\n",
       "      <td>105934</td>\n",
       "    </tr>\n",
       "    <tr>\n",
       "      <th>59636</th>\n",
       "      <td>0</td>\n",
       "      <td>География. 7 класс. Контурные карты (вес: 46гр.)</td>\n",
       "      <td>47.25</td>\n",
       "      <td>2</td>\n",
       "      <td>2017-03-31 08:33:33</td>\n",
       "      <td>202.75</td>\n",
       "      <td>637235</td>\n",
       "      <td>610226</td>\n",
       "      <td>5</td>\n",
       "      <td>1821.00</td>\n",
       "      <td>105934</td>\n",
       "    </tr>\n",
       "    <tr>\n",
       "      <th>64775</th>\n",
       "      <td>4.76%</td>\n",
       "      <td>География. 7 класс. Контурные карты</td>\n",
       "      <td>60.00</td>\n",
       "      <td>1</td>\n",
       "      <td>2017-04-09 15:54:16</td>\n",
       "      <td>44.00</td>\n",
       "      <td>637235</td>\n",
       "      <td>614238</td>\n",
       "      <td>4</td>\n",
       "      <td>1028.00</td>\n",
       "      <td>920446</td>\n",
       "    </tr>\n",
       "    <tr>\n",
       "      <th>72630</th>\n",
       "      <td>11.89%</td>\n",
       "      <td>География. 8 класс. Атлас (вес: 122гр.)</td>\n",
       "      <td>125.84</td>\n",
       "      <td>15</td>\n",
       "      <td>2017-04-14 15:42:11</td>\n",
       "      <td>85.80</td>\n",
       "      <td>712235</td>\n",
       "      <td>617748</td>\n",
       "      <td>5</td>\n",
       "      <td>10018.00</td>\n",
       "      <td>919443</td>\n",
       "    </tr>\n",
       "    <tr>\n",
       "      <th>73308</th>\n",
       "      <td>18.88%</td>\n",
       "      <td>Атлас. 5кл. География. ФГОС (вес: 80гр.)</td>\n",
       "      <td>116.00</td>\n",
       "      <td>26</td>\n",
       "      <td>2017-04-12 16:57:30</td>\n",
       "      <td>264.00</td>\n",
       "      <td>294189</td>\n",
       "      <td>616786</td>\n",
       "      <td>6</td>\n",
       "      <td>15938.00</td>\n",
       "      <td>382228</td>\n",
       "    </tr>\n",
       "    <tr>\n",
       "      <th>74538</th>\n",
       "      <td>25.87%</td>\n",
       "      <td>География. 8 класс. Атлас</td>\n",
       "      <td>106.00</td>\n",
       "      <td>9</td>\n",
       "      <td>2017-04-12 11:37:25</td>\n",
       "      <td>230.00</td>\n",
       "      <td>712235</td>\n",
       "      <td>616547</td>\n",
       "      <td>4</td>\n",
       "      <td>3019.00</td>\n",
       "      <td>921863</td>\n",
       "    </tr>\n",
       "  </tbody>\n",
       "</table>\n",
       "</div>"
      ],
      "text/plain": [
       "      DISCOUNT_VALUE                                              NAME  PRICE  \\\n",
       "3455            4.2%                         География. 8 класс. Атлас 137.00   \n",
       "14973         10.49%                         География. 8 класс. Атлас 107.29   \n",
       "15290              0           География. 8 класс. Атлас (вес: 122гр.) 114.40   \n",
       "16555           4.2%                         География. 8 класс. Атлас 143.00   \n",
       "23764          25.4%               География. 7 класс. Контурные карты  47.00   \n",
       "59636              0  География. 7 класс. Контурные карты (вес: 46гр.)  47.25   \n",
       "64775          4.76%               География. 7 класс. Контурные карты  60.00   \n",
       "72630         11.89%           География. 8 класс. Атлас (вес: 122гр.) 125.84   \n",
       "73308         18.88%          Атлас. 5кл. География. ФГОС (вес: 80гр.) 116.00   \n",
       "74538         25.87%                         География. 8 класс. Атлас 106.00   \n",
       "\n",
       "       QUANTITY          date_insert  discount  itemID  orderID  \\\n",
       "3455          1  2017-03-19 15:53:10     24.00  712235   601906   \n",
       "14973        24  2017-03-16 17:46:39     35.71  712235   600357   \n",
       "15290        19  2017-03-16 16:44:05     41.20  712235   600306   \n",
       "16555         1  2017-03-14 17:28:00      0.00  712235   598723   \n",
       "23764        20  2017-03-26 15:27:21    322.00  637235   607656   \n",
       "59636         2  2017-03-31 08:33:33    202.75  637235   610226   \n",
       "64775         1  2017-04-09 15:54:16     44.00  637235   614238   \n",
       "72630        15  2017-04-14 15:42:11     85.80  712235   617748   \n",
       "73308        26  2017-04-12 16:57:30    264.00  294189   616786   \n",
       "74538         9  2017-04-12 11:37:25    230.00  712235   616547   \n",
       "\n",
       "       ordered_item_count    price  user_id  \n",
       "3455                    4   793.00   911492  \n",
       "14973                   1  2574.96   109601  \n",
       "15290                   2  3181.60   105934  \n",
       "16555                   4   884.00   909377  \n",
       "23764                   7 12290.00   105934  \n",
       "59636                   5  1821.00   105934  \n",
       "64775                   4  1028.00   920446  \n",
       "72630                   5 10018.00   919443  \n",
       "73308                   6 15938.00   382228  \n",
       "74538                   4  3019.00   921863  "
      ]
     },
     "execution_count": 12,
     "metadata": {},
     "output_type": "execute_result"
    }
   ],
   "source": [
    "df[df['itemID'].isin(top5_selling_books['itemID'].tolist())].head(10)"
   ]
  },
  {
   "cell_type": "markdown",
   "metadata": {},
   "source": [
    "Мы видим, что наиболее продаваемые книги - различные учебники. Особенно популярны почему-то география, история и астрономия"
   ]
  },
  {
   "cell_type": "markdown",
   "metadata": {},
   "source": [
    "# 2. Спланировать эксперимент \n",
    "\n",
    "Задача:\n",
    "* сегментация товаров + сегментация пользователей (по товарам, по поведению, скидкам и пр.)\n",
    "\n",
    "Дополнительнительные задачи:\n",
    "* поиск товаров-заменителей и товаров, дополняющих друг друга\n",
    "* поиск выбросов среди товаров\n",
    "* поиск выбросов среди заказов\n",
    "\n",
    "Эксперимент:\n",
    "* Составить первичный список признаков, необходимых для решения задачи\n",
    "* Сгенерировать список новых признаков, которые можно получить из данных\n",
    "* Применить понижение размерности для визуализации данных\n",
    "* Применить кластеризацию, визуализировать\n",
    "* Описание кластера\n",
    "* Любые другие пункты"
   ]
  },
  {
   "cell_type": "markdown",
   "metadata": {},
   "source": [
    "Сегментацию товаров выполним по количеству проданных экземпляров. Дополнительно проведём анализ названий книг, вдруг там обнаружится что-нибудь интересно.\n",
    "\n",
    "Сегментация пользователей - по количеству покупок, по скидкам.\n",
    "\n",
    "Первичный список признаков, необходимых для решения задачи:\n",
    "- все, кроме discount\n",
    "\n",
    "Список новых признаков, которые можно получить из данных:\n",
    "- частота определённых слов в названиях книг"
   ]
  },
  {
   "cell_type": "markdown",
   "metadata": {},
   "source": [
    "# 3. Выполнить подготовку данных для построения модели\n",
    "\n",
    "Выполнить необходимые преобразования данных"
   ]
  },
  {
   "cell_type": "code",
   "execution_count": 13,
   "metadata": {},
   "outputs": [],
   "source": [
    "# Удалим в столбце скидки знак процента, чтобы данные использовать в числовой форме\n",
    "df['DISCOUNT_VALUE'] = pd.to_numeric(df['DISCOUNT_VALUE'].str.replace('%', ''))"
   ]
  },
  {
   "cell_type": "code",
   "execution_count": 14,
   "metadata": {},
   "outputs": [
    {
     "data": {
      "text/plain": [
       "<matplotlib.axes._subplots.AxesSubplot at 0x7fba3d334b10>"
      ]
     },
     "execution_count": 14,
     "metadata": {},
     "output_type": "execute_result"
    },
    {
     "data": {
      "image/png": "[encoded data removed]",
      "text/plain": [
       "<matplotlib.figure.Figure at 0x7fba7cc7c850>"
      ]
     },
     "metadata": {},
     "output_type": "display_data"
    }
   ],
   "source": [
    "df['DISCOUNT_VALUE'].plot.kde()"
   ]
  },
  {
   "cell_type": "markdown",
   "metadata": {},
   "source": [
    "В распределении скидки видно несколько пиков, в районе 5, 20 и 40 % => можно ожидать некоторой кластеризации"
   ]
  },
  {
   "cell_type": "code",
   "execution_count": 15,
   "metadata": {},
   "outputs": [],
   "source": [
    "# Даты преобразуем из строкового представления в формат даты\n",
    "df['date_insert'] = pd.to_datetime(df['date_insert'])"
   ]
  },
  {
   "cell_type": "code",
   "execution_count": 16,
   "metadata": {},
   "outputs": [],
   "source": [
    "# Приводим названия книг к нижнему регистру и заменяем отсутствующие значения пустой строкой\n",
    "df['NAME'] = df['NAME'].map(lambda x: str(x).decode('utf8').lower()).fillna('')\n",
    "docs = df['NAME'].as_matrix()"
   ]
  },
  {
   "cell_type": "code",
   "execution_count": 22,
   "metadata": {},
   "outputs": [
    {
     "data": {
      "text/plain": [
       "count      203.00\n",
       "mean     33390.16\n",
       "std      20624.69\n",
       "min       4862.00\n",
       "25%      17962.50\n",
       "50%      26922.00\n",
       "75%      43673.50\n",
       "max     130066.00\n",
       "Name: ordered_item_count, dtype: float64"
      ]
     },
     "execution_count": 22,
     "metadata": {},
     "output_type": "execute_result"
    }
   ],
   "source": [
    "# Рассмотрим интенсивность покупок по времени (сгруппируем заказы по дням)\n",
    "df_group_by_day = df.groupby(df['date_insert'].map(lambda x: x.date()))['ordered_item_count'].sum()\n",
    "df_group_by_day.describe()"
   ]
  },
  {
   "cell_type": "code",
   "execution_count": 23,
   "metadata": {},
   "outputs": [
    {
     "data": {
      "text/plain": [
       "[<matplotlib.lines.Line2D at 0x7fd4ca02a4d0>]"
      ]
     },
     "execution_count": 23,
     "metadata": {},
     "output_type": "execute_result"
    },
    {
     "data": {
      "image/png": "[encoded data removed]",
      "text/plain": [
       "<matplotlib.figure.Figure at 0x7fd4ce121950>"
      ]
     },
     "metadata": {},
     "output_type": "display_data"
    }
   ],
   "source": [
    "fig, ax = plt.subplots(1, 1, figsize=(11, 8))\n",
    "plt.grid()\n",
    "ax.plot(df_group_by_day)"
   ]
  },
  {
   "cell_type": "markdown",
   "metadata": {},
   "source": [
    "Видим, что никакой особой зависимости не наблюдается, хотя в районе мая-июня всё же заметен некоторый спад. Построим сглаженный график с количеством покупок по месяцам"
   ]
  },
  {
   "cell_type": "code",
   "execution_count": 29,
   "metadata": {},
   "outputs": [
    {
     "data": {
      "text/plain": [
       "count         8.00\n",
       "mean     847275.38\n",
       "std      363933.86\n",
       "min       17277.00\n",
       "25%      845946.50\n",
       "50%      941350.50\n",
       "75%     1024293.50\n",
       "max     1179503.00\n",
       "Name: ordered_item_count, dtype: float64"
      ]
     },
     "execution_count": 29,
     "metadata": {},
     "output_type": "execute_result"
    }
   ],
   "source": [
    "df_group_by_month = df.groupby(df['date_insert'].map(lambda x: x.month))['ordered_item_count'].sum()\n",
    "df_group_by_month.describe()"
   ]
  },
  {
   "cell_type": "code",
   "execution_count": 33,
   "metadata": {},
   "outputs": [
    {
     "data": {
      "text/plain": [
       "[<matplotlib.lines.Line2D at 0x7fd4c5626cd0>]"
      ]
     },
     "execution_count": 33,
     "metadata": {},
     "output_type": "execute_result"
    },
    {
     "data": {
      "image/png": "[encoded data removed]",
      "text/plain": [
       "<matplotlib.figure.Figure at 0x7fd4c57dfd50>"
      ]
     },
     "metadata": {},
     "output_type": "display_data"
    }
   ],
   "source": [
    "fig, ax = plt.subplots(1, 1, figsize=(11, 8))\n",
    "plt.grid()\n",
    "ax.plot(df_group_by_month[:7])"
   ]
  },
  {
   "cell_type": "markdown",
   "metadata": {},
   "source": [
    "На этом графике спад продаж в мае более заметен. Также виден подъём в сентябре (что, видимо, связано с началом учебного года)"
   ]
  },
  {
   "cell_type": "code",
   "execution_count": 34,
   "metadata": {},
   "outputs": [
    {
     "data": {
      "text/html": [
       "<div>\n",
       "<style scoped>\n",
       "    .dataframe tbody tr th:only-of-type {\n",
       "        vertical-align: middle;\n",
       "    }\n",
       "\n",
       "    .dataframe tbody tr th {\n",
       "        vertical-align: top;\n",
       "    }\n",
       "\n",
       "    .dataframe thead th {\n",
       "        text-align: right;\n",
       "    }\n",
       "</style>\n",
       "<table border=\"1\" class=\"dataframe\">\n",
       "  <thead>\n",
       "    <tr style=\"text-align: right;\">\n",
       "      <th></th>\n",
       "      <th>DISCOUNT_VALUE</th>\n",
       "      <th>NAME</th>\n",
       "      <th>PRICE</th>\n",
       "      <th>QUANTITY</th>\n",
       "      <th>date_insert</th>\n",
       "      <th>discount</th>\n",
       "      <th>itemID</th>\n",
       "      <th>orderID</th>\n",
       "      <th>ordered_item_count</th>\n",
       "      <th>price</th>\n",
       "      <th>user_id</th>\n",
       "      <th>unix_time</th>\n",
       "    </tr>\n",
       "  </thead>\n",
       "  <tbody>\n",
       "    <tr>\n",
       "      <th>0</th>\n",
       "      <td>23.55</td>\n",
       "      <td>хроники амбера. том 2</td>\n",
       "      <td>357.00</td>\n",
       "      <td>1</td>\n",
       "      <td>2017-03-19 22:25:20</td>\n",
       "      <td>110.00</td>\n",
       "      <td>169108</td>\n",
       "      <td>602051</td>\n",
       "      <td>1</td>\n",
       "      <td>527.00</td>\n",
       "      <td>911531</td>\n",
       "      <td>1489962320</td>\n",
       "    </tr>\n",
       "    <tr>\n",
       "      <th>1</th>\n",
       "      <td>4.07</td>\n",
       "      <td>хроники амбера. том 1</td>\n",
       "      <td>448.00</td>\n",
       "      <td>1</td>\n",
       "      <td>2017-03-19 22:19:58</td>\n",
       "      <td>19.00</td>\n",
       "      <td>1394744</td>\n",
       "      <td>602047</td>\n",
       "      <td>1</td>\n",
       "      <td>618.00</td>\n",
       "      <td>911531</td>\n",
       "      <td>1489961998</td>\n",
       "    </tr>\n",
       "    <tr>\n",
       "      <th>2</th>\n",
       "      <td>4.17</td>\n",
       "      <td>пищеводитель</td>\n",
       "      <td>414.00</td>\n",
       "      <td>1</td>\n",
       "      <td>2017-03-19 20:58:00</td>\n",
       "      <td>65.00</td>\n",
       "      <td>191276</td>\n",
       "      <td>602017</td>\n",
       "      <td>4</td>\n",
       "      <td>1503.00</td>\n",
       "      <td>911587</td>\n",
       "      <td>1489957080</td>\n",
       "    </tr>\n",
       "    <tr>\n",
       "      <th>3</th>\n",
       "      <td>4.17</td>\n",
       "      <td>аудиокн. мясников. &amp;quot;ржавчина&amp;quot;: что д...</td>\n",
       "      <td>253.00</td>\n",
       "      <td>1</td>\n",
       "      <td>2017-03-19 20:58:00</td>\n",
       "      <td>65.00</td>\n",
       "      <td>157945</td>\n",
       "      <td>602017</td>\n",
       "      <td>4</td>\n",
       "      <td>1503.00</td>\n",
       "      <td>911587</td>\n",
       "      <td>1489957080</td>\n",
       "    </tr>\n",
       "    <tr>\n",
       "      <th>4</th>\n",
       "      <td>4.09</td>\n",
       "      <td>инфекции. как защитить себя и своего ребенка</td>\n",
       "      <td>422.00</td>\n",
       "      <td>1</td>\n",
       "      <td>2017-03-19 20:58:00</td>\n",
       "      <td>65.00</td>\n",
       "      <td>205173</td>\n",
       "      <td>602017</td>\n",
       "      <td>4</td>\n",
       "      <td>1503.00</td>\n",
       "      <td>911587</td>\n",
       "      <td>1489957080</td>\n",
       "    </tr>\n",
       "  </tbody>\n",
       "</table>\n",
       "</div>"
      ],
      "text/plain": [
       "   DISCOUNT_VALUE                                               NAME  PRICE  \\\n",
       "0           23.55                              хроники амбера. том 2 357.00   \n",
       "1            4.07                              хроники амбера. том 1 448.00   \n",
       "2            4.17                                       пищеводитель 414.00   \n",
       "3            4.17  аудиокн. мясников. &quot;ржавчина&quot;: что д... 253.00   \n",
       "4            4.09       инфекции. как защитить себя и своего ребенка 422.00   \n",
       "\n",
       "   QUANTITY         date_insert  discount   itemID  orderID  \\\n",
       "0         1 2017-03-19 22:25:20    110.00   169108   602051   \n",
       "1         1 2017-03-19 22:19:58     19.00  1394744   602047   \n",
       "2         1 2017-03-19 20:58:00     65.00   191276   602017   \n",
       "3         1 2017-03-19 20:58:00     65.00   157945   602017   \n",
       "4         1 2017-03-19 20:58:00     65.00   205173   602017   \n",
       "\n",
       "   ordered_item_count   price  user_id   unix_time  \n",
       "0                   1  527.00   911531  1489962320  \n",
       "1                   1  618.00   911531  1489961998  \n",
       "2                   4 1503.00   911587  1489957080  \n",
       "3                   4 1503.00   911587  1489957080  \n",
       "4                   4 1503.00   911587  1489957080  "
      ]
     },
     "execution_count": 34,
     "metadata": {},
     "output_type": "execute_result"
    }
   ],
   "source": [
    "# Чтобы работать с временными данными как с числами, преобразуем их к UNIX-time\n",
    "df['unix_time'] = pd.DatetimeIndex(df['date_insert']).astype(np.int64)/1000000000\n",
    "df.head()"
   ]
  },
  {
   "cell_type": "markdown",
   "metadata": {},
   "source": [
    "#### Выполним стандартизацию числовых признаков"
   ]
  },
  {
   "cell_type": "code",
   "execution_count": 35,
   "metadata": {},
   "outputs": [],
   "source": [
    "from sklearn.preprocessing import Imputer, FunctionTransformer\n",
    "from sklearn.preprocessing import MinMaxScaler, StandardScaler\n",
    "from sklearn.base import TransformerMixin\n",
    "from sklearn.pipeline import make_union, make_pipeline"
   ]
  },
  {
   "cell_type": "code",
   "execution_count": 42,
   "metadata": {},
   "outputs": [
    {
     "data": {
      "text/plain": [
       "(557808, 12)"
      ]
     },
     "execution_count": 42,
     "metadata": {},
     "output_type": "execute_result"
    }
   ],
   "source": [
    "def get_num_cols(df):\n",
    "    return df[['DISCOUNT_VALUE', 'PRICE', 'QUANTITY', 'discount', 'ordered_item_count', 'price', 'unix_time']]\n",
    "\n",
    "def get_not_modified_cols(df):\n",
    "    return df[['NAME', 'date_insert', 'itemID', 'orderID', 'user_id']]\n",
    "\n",
    "vec_std = make_union(*[\n",
    "    make_pipeline(FunctionTransformer(get_num_cols, validate=False), Imputer(strategy='mean'), StandardScaler()),\n",
    "    make_pipeline(FunctionTransformer(get_not_modified_cols, validate=False))\n",
    "])\n",
    "\n",
    "df_std = vec_std.fit_transform(df)\n",
    "df_std.shape"
   ]
  },
  {
   "cell_type": "code",
   "execution_count": 43,
   "metadata": {},
   "outputs": [
    {
     "name": "stdout",
     "output_type": "stream",
     "text": [
      "array([[0.5109046342306376, 0.43623760629522723, -0.12896924751979866,\n",
      "        -0.39655535527063945, -0.5686650903216658, -0.29926384405373574,\n",
      "        -1.6934566628269991,\n",
      "        u'хроники амбера. том 2',\n",
      "        Timestamp('2017-03-19 22:25:20'), 169108, 602051, 911531],\n",
      "       [-1.2344873017532243, 0.7836555040284127, -0.12896924751979866,\n",
      "        -0.4846974730232106, -0.5686650903216658, -0.28726851553151495,\n",
      "        -1.6935177290304904,\n",
      "        u'хроники амбера. том 1',\n",
      "        Timestamp('2017-03-19 22:19:58'), 1394744, 602047, 911531]], dtype=object)\n"
     ]
    }
   ],
   "source": [
    "print(repr(df_std[:2, :]).decode(\"unicode-escape\"))"
   ]
  },
  {
   "cell_type": "markdown",
   "metadata": {},
   "source": [
    "#### Попробуем применить понижение размерности для выделения наиболее важных признаков"
   ]
  },
  {
   "cell_type": "code",
   "execution_count": 48,
   "metadata": {},
   "outputs": [
    {
     "data": {
      "text/plain": [
       "array([ 0.32150828,  0.17076966,  0.16434017,  0.14865967,  0.11771855,\n",
       "        0.04663833,  0.03036533])"
      ]
     },
     "execution_count": 48,
     "metadata": {},
     "output_type": "execute_result"
    }
   ],
   "source": [
    "from sklearn.decomposition import PCA\n",
    "pca = PCA(n_components=None)\n",
    "X_train_pca = pca.fit_transform(df_std[:, :7])\n",
    "\n",
    "pca.explained_variance_ratio_"
   ]
  },
  {
   "cell_type": "markdown",
   "metadata": {},
   "source": [
    "Видим, что первые 5 компонент отвечают за 92,3 % дисперсии в данных. Уменьшим размерность в соответствии с этим"
   ]
  },
  {
   "cell_type": "code",
   "execution_count": 49,
   "metadata": {},
   "outputs": [
    {
     "data": {
      "text/plain": [
       "(557808, 7)"
      ]
     },
     "execution_count": 49,
     "metadata": {},
     "output_type": "execute_result"
    }
   ],
   "source": [
    "vec_std = make_union(*[\n",
    "    make_pipeline(FunctionTransformer(get_num_cols, validate=False), Imputer(strategy='mean'), StandardScaler())\n",
    "])\n",
    "\n",
    "df_numeric = vec_std.fit_transform(df)\n",
    "df_numeric.shape"
   ]
  },
  {
   "cell_type": "code",
   "execution_count": 50,
   "metadata": {},
   "outputs": [
    {
     "name": "stdout",
     "output_type": "stream",
     "text": [
      "[[ 0.51090463  0.43623761 -0.12896925 -0.39655536 -0.56866509 -0.29926384\n",
      "  -1.69345666]\n",
      " [-1.2344873   0.7836555  -0.12896925 -0.48469747 -0.56866509 -0.28726852\n",
      "  -1.69351773]\n",
      " [-1.22552738  0.65385101 -0.12896925 -0.44014212 -0.41568159 -0.17061065\n",
      "  -1.69445041]\n",
      " [-1.22552738  0.03918858 -0.12896925 -0.44014212 -0.41568159 -0.17061065\n",
      "  -1.69445041]\n",
      " [-1.23269532  0.68439325 -0.12896925 -0.44014212 -0.41568159 -0.17061065\n",
      "  -1.69445041]]\n"
     ]
    }
   ],
   "source": [
    "print(df_numeric[:5, :])"
   ]
  },
  {
   "cell_type": "code",
   "execution_count": 52,
   "metadata": {},
   "outputs": [
    {
     "data": {
      "text/plain": [
       "array([[-0.62641582, -0.29468148,  0.63247676, -0.52624647,  1.65513501],\n",
       "       [-0.93316678, -0.41531683,  2.02461871, -0.32341382,  0.6297799 ],\n",
       "       [-0.74741047, -0.46508852,  1.98526177, -0.41294855,  0.55927798],\n",
       "       [-0.69607888, -0.59017232,  1.72705601, -0.88338088,  0.34268857],\n",
       "       [-0.75091748, -0.45974218,  2.00318879, -0.38974293,  0.5653542 ]])"
      ]
     },
     "execution_count": 52,
     "metadata": {},
     "output_type": "execute_result"
    }
   ],
   "source": [
    "pca = PCA(n_components = 5)\n",
    "df_numeric_pca = pca.fit_transform(df_numeric)\n",
    "\n",
    "df_numeric_pca[:5]"
   ]
  },
  {
   "cell_type": "markdown",
   "metadata": {},
   "source": [
    "Каждая строка в массиве df_numeric соответствует заказу одной определённой книги и характеризуется соответствующим ему набору itemID, orderID и user_id. Соответственно, по этим 5-ти числовым признакам мы могли бы попытаться классифицировать соответствующий товар или пользователя. А те товары, у которых одинаковый orderId, мы могли бы назвать \"сопутствующими\" или \"дополняющими\" товарами. "
   ]
  },
  {
   "cell_type": "code",
   "execution_count": 53,
   "metadata": {},
   "outputs": [],
   "source": [
    "y_item = df['itemID'].as_matrix()\n",
    "y_user = df['user_id'].as_matrix()\n",
    "y_order = df['orderID'].as_matrix()"
   ]
  },
  {
   "cell_type": "markdown",
   "metadata": {},
   "source": [
    "# 4. Провести построение модели "
   ]
  },
  {
   "cell_type": "markdown",
   "metadata": {},
   "source": [
    "#### Попробуем использовать кластеризацию без учителя - модели k-means и dbscan, используя числовые данные"
   ]
  },
  {
   "cell_type": "code",
   "execution_count": 54,
   "metadata": {},
   "outputs": [],
   "source": [
    "from sklearn.cluster import KMeans\n",
    "from sklearn import metrics"
   ]
  },
  {
   "cell_type": "code",
   "execution_count": 55,
   "metadata": {},
   "outputs": [
    {
     "data": {
      "text/plain": [
       "Text(0,0.5,u'inertia')"
      ]
     },
     "execution_count": 55,
     "metadata": {},
     "output_type": "execute_result"
    },
    {
     "data": {
      "image/png": "[encoded data removed]",
      "text/plain": [
       "<matplotlib.figure.Figure at 0x7fd4c51e6b50>"
      ]
     },
     "metadata": {},
     "output_type": "display_data"
    }
   ],
   "source": [
    "# Т.к. про кластеры в данных нам ничего не известно, по будем варьировать число кластеров в методе k-means\n",
    "\n",
    "inertia = []\n",
    "k = range(1, 20, 2)\n",
    "for k_i in k:\n",
    "    km = KMeans(n_clusters=k_i).fit(df_numeric_pca)\n",
    "    inertia.append(km.inertia_)\n",
    " \n",
    "plt.plot(k, inertia)\n",
    "plt.xlabel('k')\n",
    "plt.ylabel('inertia')"
   ]
  },
  {
   "cell_type": "markdown",
   "metadata": {},
   "source": [
    "По методу локтя возьмём примерное количество кластеров в месте перегиба графика, равное 4 "
   ]
  },
  {
   "cell_type": "code",
   "execution_count": 56,
   "metadata": {},
   "outputs": [],
   "source": [
    "k_means = KMeans(n_clusters=4).fit(df_numeric_pca)"
   ]
  },
  {
   "cell_type": "code",
   "execution_count": 57,
   "metadata": {},
   "outputs": [
    {
     "data": {
      "image/png": "[encoded data removed]",
      "text/plain": [
       "<matplotlib.figure.Figure at 0x7fd4c5741390>"
      ]
     },
     "metadata": {},
     "output_type": "display_data"
    }
   ],
   "source": [
    "# Визуализируем получившееся разбиение на кластеры\n",
    "fig = plt.figure(1, figsize=(10, 8))\n",
    "ax = Axes3D(fig)\n",
    "\n",
    "ax.scatter(df_numeric_pca[:, 0], df_numeric_pca[:, 1], df_numeric_pca[:, 2],\n",
    "           c=k_means.labels_.astype(np.float), edgecolor='k')\n",
    "\n",
    "ax.w_xaxis.set_ticklabels([])\n",
    "ax.w_yaxis.set_ticklabels([])\n",
    "ax.w_zaxis.set_ticklabels([])\n",
    "\n",
    "ax.set_xlabel('x1')\n",
    "ax.set_ylabel('x2')\n",
    "ax.set_zlabel('x3')\n",
    "\n",
    "ax.set_title('K-means clustering')\n",
    "ax.dist = 12"
   ]
  },
  {
   "cell_type": "code",
   "execution_count": 58,
   "metadata": {},
   "outputs": [],
   "source": [
    "df['k_means_label'] = k_means.labels_"
   ]
  },
  {
   "cell_type": "markdown",
   "metadata": {},
   "source": [
    "#### Попытаемся проанализировать названия книг и сопоставить их с классами k-means"
   ]
  },
  {
   "cell_type": "code",
   "execution_count": 59,
   "metadata": {},
   "outputs": [
    {
     "name": "stdout",
     "output_type": "stream",
     "text": [
      "Кол-во уникальных слов в названиях книг: 37396\n"
     ]
    }
   ],
   "source": [
    "from sklearn.feature_extraction.text import CountVectorizer\n",
    "count_vec = CountVectorizer()\n",
    "\n",
    "word_bag = count_vec.fit_transform(docs)\n",
    "print('Кол-во уникальных слов в названиях книг: ' + str(len(count_vec.vocabulary_)))"
   ]
  },
  {
   "cell_type": "code",
   "execution_count": 17,
   "metadata": {},
   "outputs": [],
   "source": [
    "# Чтобы напечатать весь словарь\n",
    "# print (repr(count_vec.vocabulary_).decode(\"unicode-escape\"))"
   ]
  },
  {
   "cell_type": "code",
   "execution_count": 61,
   "metadata": {},
   "outputs": [
    {
     "data": {
      "text/plain": [
       "(557808, 37396)"
      ]
     },
     "execution_count": 61,
     "metadata": {},
     "output_type": "execute_result"
    }
   ],
   "source": [
    "from sklearn.feature_extraction.text import TfidfTransformer\n",
    "\n",
    "tfidf_transformer = TfidfTransformer()\n",
    "word_bag_tfidf = tfidf_transformer.fit_transform(word_bag)\n",
    "word_bag_tfidf.shape"
   ]
  },
  {
   "cell_type": "code",
   "execution_count": 62,
   "metadata": {},
   "outputs": [
    {
     "data": {
      "text/plain": [
       "array([ 292702.,  248743.,    8832.,    7531.])"
      ]
     },
     "execution_count": 62,
     "metadata": {},
     "output_type": "execute_result"
    }
   ],
   "source": [
    "from sklearn.naive_bayes import MultinomialNB\n",
    "clf = MultinomialNB().fit(word_bag_tfidf, df['k_means_label'])"
   ]
  },
  {
   "cell_type": "markdown",
   "metadata": {},
   "source": [
    "# 5. Проанализировать результат\n",
    "получилось или нет, почему, что можно улучшить, можно ли интерпретировать результат"
   ]
  },
  {
   "cell_type": "code",
   "execution_count": 64,
   "metadata": {},
   "outputs": [
    {
     "data": {
      "text/plain": [
       "array([ 292702.,  248743.,    8832.,    7531.])"
      ]
     },
     "execution_count": 64,
     "metadata": {},
     "output_type": "execute_result"
    }
   ],
   "source": [
    "# Найдём, сколько всего книг в каждом классе k-means\n",
    "clf.class_count_\n",
    "# Явно по количеству выделяются 1 и 2 классы "
   ]
  },
  {
   "cell_type": "code",
   "execution_count": 65,
   "metadata": {},
   "outputs": [
    {
     "data": {
      "text/plain": [
       "k_means_label\n",
       "0   578541371.49\n",
       "1   504153518.14\n",
       "2   226263518.28\n",
       "3   251398629.64\n",
       "Name: price, dtype: float64"
      ]
     },
     "execution_count": 65,
     "metadata": {},
     "output_type": "execute_result"
    }
   ],
   "source": [
    "# Найдём общую стоимость продаж книг в каждом классе\n",
    "df.groupby(['k_means_label'])['price'].sum()\n",
    "# По объёму продаж классы примерно сопоставимы"
   ]
  },
  {
   "cell_type": "code",
   "execution_count": 71,
   "metadata": {},
   "outputs": [],
   "source": [
    "# Центры кластеров характеризуются следующими значениями числовых признаков\n",
    "\n",
    "cluster_centers_pca = pca.inverse_transform(k_means.cluster_centers_)\n",
    "\n",
    "std_scaler = StandardScaler()\n",
    "std_scaler.fit(get_num_cols(df).dropna())\n",
    "\n",
    "# центры кластеров (преобразованные обратнов размерные единицы)\n",
    "cluster_centers = std_scaler.inverse_transform(cluster_centers_pca)"
   ]
  },
  {
   "cell_type": "code",
   "execution_count": 72,
   "metadata": {},
   "outputs": [
    {
     "data": {
      "text/html": [
       "<div>\n",
       "<style scoped>\n",
       "    .dataframe tbody tr th:only-of-type {\n",
       "        vertical-align: middle;\n",
       "    }\n",
       "\n",
       "    .dataframe tbody tr th {\n",
       "        vertical-align: top;\n",
       "    }\n",
       "\n",
       "    .dataframe thead th {\n",
       "        text-align: right;\n",
       "    }\n",
       "</style>\n",
       "<table border=\"1\" class=\"dataframe\">\n",
       "  <thead>\n",
       "    <tr style=\"text-align: right;\">\n",
       "      <th></th>\n",
       "      <th>DISCOUNT_VALUE</th>\n",
       "      <th>PRICE</th>\n",
       "      <th>QUANTITY</th>\n",
       "      <th>discount</th>\n",
       "      <th>ordered_item_count</th>\n",
       "      <th>price</th>\n",
       "      <th>unix_time</th>\n",
       "    </tr>\n",
       "  </thead>\n",
       "  <tbody>\n",
       "    <tr>\n",
       "      <th>0</th>\n",
       "      <td>20.60</td>\n",
       "      <td>242.67</td>\n",
       "      <td>1.27</td>\n",
       "      <td>474.44</td>\n",
       "      <td>9.89</td>\n",
       "      <td>1849.18</td>\n",
       "      <td>1502981059.20</td>\n",
       "    </tr>\n",
       "    <tr>\n",
       "      <th>1</th>\n",
       "      <td>14.39</td>\n",
       "      <td>246.71</td>\n",
       "      <td>1.14</td>\n",
       "      <td>401.73</td>\n",
       "      <td>11.91</td>\n",
       "      <td>2036.89</td>\n",
       "      <td>1494022223.32</td>\n",
       "    </tr>\n",
       "    <tr>\n",
       "      <th>2</th>\n",
       "      <td>22.04</td>\n",
       "      <td>153.46</td>\n",
       "      <td>29.97</td>\n",
       "      <td>399.14</td>\n",
       "      <td>2.52</td>\n",
       "      <td>27647.96</td>\n",
       "      <td>1499595933.43</td>\n",
       "    </tr>\n",
       "    <tr>\n",
       "      <th>3</th>\n",
       "      <td>20.29</td>\n",
       "      <td>176.65</td>\n",
       "      <td>0.18</td>\n",
       "      <td>6479.20</td>\n",
       "      <td>121.98</td>\n",
       "      <td>36224.73</td>\n",
       "      <td>1498079623.55</td>\n",
       "    </tr>\n",
       "  </tbody>\n",
       "</table>\n",
       "</div>"
      ],
      "text/plain": [
       "   DISCOUNT_VALUE  PRICE  QUANTITY  discount  ordered_item_count    price  \\\n",
       "0           20.60 242.67      1.27    474.44                9.89  1849.18   \n",
       "1           14.39 246.71      1.14    401.73               11.91  2036.89   \n",
       "2           22.04 153.46     29.97    399.14                2.52 27647.96   \n",
       "3           20.29 176.65      0.18   6479.20              121.98 36224.73   \n",
       "\n",
       "      unix_time  \n",
       "0 1502981059.20  \n",
       "1 1494022223.32  \n",
       "2 1499595933.43  \n",
       "3 1498079623.55  "
      ]
     },
     "execution_count": 72,
     "metadata": {},
     "output_type": "execute_result"
    }
   ],
   "source": [
    "labels = ['DISCOUNT_VALUE', 'PRICE', 'QUANTITY', 'discount', 'ordered_item_count', 'price', 'unix_time']\n",
    "\n",
    "df_clusters_rows = []\n",
    "\n",
    "df_clusters_rows.append(cluster_centers[0, :].tolist())\n",
    "df_clusters_rows.append(cluster_centers[1, :].tolist())\n",
    "df_clusters_rows.append(cluster_centers[2, :].tolist())\n",
    "df_clusters_rows.append(cluster_centers[3, :].tolist())\n",
    "\n",
    "df_clusters = pd.DataFrame.from_records(df_clusters_rows, columns=labels)\n",
    "\n",
    "df_clusters"
   ]
  },
  {
   "cell_type": "markdown",
   "metadata": {},
   "source": [
    "Кластеры характеризуются:\n",
    "\n",
    "0, 1 - похожи друг на друга. Заказ с небольшой суммой, среднее количество книг в заказе около 10, каждой книги примерно по 1-ой. Похоже на типичный индивидуальный заказ. В классе 0 скидка выше, чем в классе 1;\n",
    "\n",
    "2 - характеризуется максимальной скидкой. Небольшое количество разных книг в заказе, но каждой книги покупается много экземпляров. Типичный оптовый заказ, например, учебников в школу\n",
    "\n",
    "3 - много разных книг в рамках одного заказа, и очень большая скидка. Это какие-то странные оптовые заказы, в\n",
    "которых закупается очень много различных книг. Возможно, какие-то розничные магазины?"
   ]
  },
  {
   "cell_type": "code",
   "execution_count": 73,
   "metadata": {},
   "outputs": [
    {
     "data": {
      "text/html": [
       "<div>\n",
       "<style scoped>\n",
       "    .dataframe tbody tr th:only-of-type {\n",
       "        vertical-align: middle;\n",
       "    }\n",
       "\n",
       "    .dataframe tbody tr th {\n",
       "        vertical-align: top;\n",
       "    }\n",
       "\n",
       "    .dataframe thead th {\n",
       "        text-align: right;\n",
       "    }\n",
       "</style>\n",
       "<table border=\"1\" class=\"dataframe\">\n",
       "  <thead>\n",
       "    <tr style=\"text-align: right;\">\n",
       "      <th></th>\n",
       "      <th>DISCOUNT_VALUE</th>\n",
       "      <th>NAME</th>\n",
       "      <th>PRICE</th>\n",
       "      <th>QUANTITY</th>\n",
       "      <th>date_insert</th>\n",
       "      <th>discount</th>\n",
       "      <th>itemID</th>\n",
       "      <th>orderID</th>\n",
       "      <th>ordered_item_count</th>\n",
       "      <th>price</th>\n",
       "      <th>user_id</th>\n",
       "      <th>unix_time</th>\n",
       "      <th>k_means_label</th>\n",
       "    </tr>\n",
       "  </thead>\n",
       "  <tbody>\n",
       "    <tr>\n",
       "      <th>91893</th>\n",
       "      <td>74.88</td>\n",
       "      <td>идеальные блюда из мультиварки (вес: 424гр.)</td>\n",
       "      <td>51.00</td>\n",
       "      <td>1</td>\n",
       "      <td>2017-04-21 01:39:23</td>\n",
       "      <td>219.00</td>\n",
       "      <td>557038</td>\n",
       "      <td>620536</td>\n",
       "      <td>5</td>\n",
       "      <td>481.68</td>\n",
       "      <td>924731</td>\n",
       "      <td>1492738763</td>\n",
       "      <td>0</td>\n",
       "    </tr>\n",
       "    <tr>\n",
       "      <th>92927</th>\n",
       "      <td>74.88</td>\n",
       "      <td>идеальные блюда из мультиварки</td>\n",
       "      <td>51.00</td>\n",
       "      <td>1</td>\n",
       "      <td>2017-04-19 16:44:42</td>\n",
       "      <td>304.00</td>\n",
       "      <td>557038</td>\n",
       "      <td>619543</td>\n",
       "      <td>2</td>\n",
       "      <td>102.00</td>\n",
       "      <td>210195</td>\n",
       "      <td>1492620282</td>\n",
       "      <td>0</td>\n",
       "    </tr>\n",
       "    <tr>\n",
       "      <th>92928</th>\n",
       "      <td>74.88</td>\n",
       "      <td>блюда в мультиварке для праздников</td>\n",
       "      <td>51.00</td>\n",
       "      <td>1</td>\n",
       "      <td>2017-04-19 16:44:42</td>\n",
       "      <td>304.00</td>\n",
       "      <td>138078</td>\n",
       "      <td>619543</td>\n",
       "      <td>2</td>\n",
       "      <td>102.00</td>\n",
       "      <td>210195</td>\n",
       "      <td>1492620282</td>\n",
       "      <td>0</td>\n",
       "    </tr>\n",
       "    <tr>\n",
       "      <th>95294</th>\n",
       "      <td>74.88</td>\n",
       "      <td>чудо-блендер</td>\n",
       "      <td>51.00</td>\n",
       "      <td>1</td>\n",
       "      <td>2017-04-21 10:56:30</td>\n",
       "      <td>747.00</td>\n",
       "      <td>188175</td>\n",
       "      <td>620755</td>\n",
       "      <td>7</td>\n",
       "      <td>1053.00</td>\n",
       "      <td>32128</td>\n",
       "      <td>1492772190</td>\n",
       "      <td>0</td>\n",
       "    </tr>\n",
       "    <tr>\n",
       "      <th>95295</th>\n",
       "      <td>65.08</td>\n",
       "      <td>мультиварка. новые рецепты</td>\n",
       "      <td>103.00</td>\n",
       "      <td>1</td>\n",
       "      <td>2017-04-21 10:56:30</td>\n",
       "      <td>747.00</td>\n",
       "      <td>195933</td>\n",
       "      <td>620755</td>\n",
       "      <td>7</td>\n",
       "      <td>1053.00</td>\n",
       "      <td>32128</td>\n",
       "      <td>1492772190</td>\n",
       "      <td>0</td>\n",
       "    </tr>\n",
       "  </tbody>\n",
       "</table>\n",
       "</div>"
      ],
      "text/plain": [
       "       DISCOUNT_VALUE                                          NAME  PRICE  \\\n",
       "91893           74.88  идеальные блюда из мультиварки (вес: 424гр.)  51.00   \n",
       "92927           74.88                идеальные блюда из мультиварки  51.00   \n",
       "92928           74.88            блюда в мультиварке для праздников  51.00   \n",
       "95294           74.88                                  чудо-блендер  51.00   \n",
       "95295           65.08                    мультиварка. новые рецепты 103.00   \n",
       "\n",
       "       QUANTITY         date_insert  discount  itemID  orderID  \\\n",
       "91893         1 2017-04-21 01:39:23    219.00  557038   620536   \n",
       "92927         1 2017-04-19 16:44:42    304.00  557038   619543   \n",
       "92928         1 2017-04-19 16:44:42    304.00  138078   619543   \n",
       "95294         1 2017-04-21 10:56:30    747.00  188175   620755   \n",
       "95295         1 2017-04-21 10:56:30    747.00  195933   620755   \n",
       "\n",
       "       ordered_item_count   price  user_id   unix_time  k_means_label  \n",
       "91893                   5  481.68   924731  1492738763              0  \n",
       "92927                   2  102.00   210195  1492620282              0  \n",
       "92928                   2  102.00   210195  1492620282              0  \n",
       "95294                   7 1053.00    32128  1492772190              0  \n",
       "95295                   7 1053.00    32128  1492772190              0  "
      ]
     },
     "execution_count": 73,
     "metadata": {},
     "output_type": "execute_result"
    }
   ],
   "source": [
    "df[df['k_means_label'] == 0].head()"
   ]
  },
  {
   "cell_type": "code",
   "execution_count": 74,
   "metadata": {},
   "outputs": [
    {
     "data": {
      "text/html": [
       "<div>\n",
       "<style scoped>\n",
       "    .dataframe tbody tr th:only-of-type {\n",
       "        vertical-align: middle;\n",
       "    }\n",
       "\n",
       "    .dataframe tbody tr th {\n",
       "        vertical-align: top;\n",
       "    }\n",
       "\n",
       "    .dataframe thead th {\n",
       "        text-align: right;\n",
       "    }\n",
       "</style>\n",
       "<table border=\"1\" class=\"dataframe\">\n",
       "  <thead>\n",
       "    <tr style=\"text-align: right;\">\n",
       "      <th></th>\n",
       "      <th>DISCOUNT_VALUE</th>\n",
       "      <th>NAME</th>\n",
       "      <th>PRICE</th>\n",
       "      <th>QUANTITY</th>\n",
       "      <th>date_insert</th>\n",
       "      <th>discount</th>\n",
       "      <th>itemID</th>\n",
       "      <th>orderID</th>\n",
       "      <th>ordered_item_count</th>\n",
       "      <th>price</th>\n",
       "      <th>user_id</th>\n",
       "      <th>unix_time</th>\n",
       "      <th>k_means_label</th>\n",
       "    </tr>\n",
       "  </thead>\n",
       "  <tbody>\n",
       "    <tr>\n",
       "      <th>0</th>\n",
       "      <td>23.55</td>\n",
       "      <td>хроники амбера. том 2</td>\n",
       "      <td>357.00</td>\n",
       "      <td>1</td>\n",
       "      <td>2017-03-19 22:25:20</td>\n",
       "      <td>110.00</td>\n",
       "      <td>169108</td>\n",
       "      <td>602051</td>\n",
       "      <td>1</td>\n",
       "      <td>527.00</td>\n",
       "      <td>911531</td>\n",
       "      <td>1489962320</td>\n",
       "      <td>1</td>\n",
       "    </tr>\n",
       "    <tr>\n",
       "      <th>1</th>\n",
       "      <td>4.07</td>\n",
       "      <td>хроники амбера. том 1</td>\n",
       "      <td>448.00</td>\n",
       "      <td>1</td>\n",
       "      <td>2017-03-19 22:19:58</td>\n",
       "      <td>19.00</td>\n",
       "      <td>1394744</td>\n",
       "      <td>602047</td>\n",
       "      <td>1</td>\n",
       "      <td>618.00</td>\n",
       "      <td>911531</td>\n",
       "      <td>1489961998</td>\n",
       "      <td>1</td>\n",
       "    </tr>\n",
       "    <tr>\n",
       "      <th>2</th>\n",
       "      <td>4.17</td>\n",
       "      <td>пищеводитель</td>\n",
       "      <td>414.00</td>\n",
       "      <td>1</td>\n",
       "      <td>2017-03-19 20:58:00</td>\n",
       "      <td>65.00</td>\n",
       "      <td>191276</td>\n",
       "      <td>602017</td>\n",
       "      <td>4</td>\n",
       "      <td>1503.00</td>\n",
       "      <td>911587</td>\n",
       "      <td>1489957080</td>\n",
       "      <td>1</td>\n",
       "    </tr>\n",
       "    <tr>\n",
       "      <th>3</th>\n",
       "      <td>4.17</td>\n",
       "      <td>аудиокн. мясников. &amp;quot;ржавчина&amp;quot;: что д...</td>\n",
       "      <td>253.00</td>\n",
       "      <td>1</td>\n",
       "      <td>2017-03-19 20:58:00</td>\n",
       "      <td>65.00</td>\n",
       "      <td>157945</td>\n",
       "      <td>602017</td>\n",
       "      <td>4</td>\n",
       "      <td>1503.00</td>\n",
       "      <td>911587</td>\n",
       "      <td>1489957080</td>\n",
       "      <td>1</td>\n",
       "    </tr>\n",
       "    <tr>\n",
       "      <th>4</th>\n",
       "      <td>4.09</td>\n",
       "      <td>инфекции. как защитить себя и своего ребенка</td>\n",
       "      <td>422.00</td>\n",
       "      <td>1</td>\n",
       "      <td>2017-03-19 20:58:00</td>\n",
       "      <td>65.00</td>\n",
       "      <td>205173</td>\n",
       "      <td>602017</td>\n",
       "      <td>4</td>\n",
       "      <td>1503.00</td>\n",
       "      <td>911587</td>\n",
       "      <td>1489957080</td>\n",
       "      <td>1</td>\n",
       "    </tr>\n",
       "  </tbody>\n",
       "</table>\n",
       "</div>"
      ],
      "text/plain": [
       "   DISCOUNT_VALUE                                               NAME  PRICE  \\\n",
       "0           23.55                              хроники амбера. том 2 357.00   \n",
       "1            4.07                              хроники амбера. том 1 448.00   \n",
       "2            4.17                                       пищеводитель 414.00   \n",
       "3            4.17  аудиокн. мясников. &quot;ржавчина&quot;: что д... 253.00   \n",
       "4            4.09       инфекции. как защитить себя и своего ребенка 422.00   \n",
       "\n",
       "   QUANTITY         date_insert  discount   itemID  orderID  \\\n",
       "0         1 2017-03-19 22:25:20    110.00   169108   602051   \n",
       "1         1 2017-03-19 22:19:58     19.00  1394744   602047   \n",
       "2         1 2017-03-19 20:58:00     65.00   191276   602017   \n",
       "3         1 2017-03-19 20:58:00     65.00   157945   602017   \n",
       "4         1 2017-03-19 20:58:00     65.00   205173   602017   \n",
       "\n",
       "   ordered_item_count   price  user_id   unix_time  k_means_label  \n",
       "0                   1  527.00   911531  1489962320              1  \n",
       "1                   1  618.00   911531  1489961998              1  \n",
       "2                   4 1503.00   911587  1489957080              1  \n",
       "3                   4 1503.00   911587  1489957080              1  \n",
       "4                   4 1503.00   911587  1489957080              1  "
      ]
     },
     "execution_count": 74,
     "metadata": {},
     "output_type": "execute_result"
    }
   ],
   "source": [
    "df[df['k_means_label'] == 1].head()"
   ]
  },
  {
   "cell_type": "markdown",
   "metadata": {},
   "source": [
    "Видим, что в классе 0 собрались товары с максимальной скидкой"
   ]
  },
  {
   "cell_type": "code",
   "execution_count": 77,
   "metadata": {},
   "outputs": [
    {
     "data": {
      "text/html": [
       "<div>\n",
       "<style scoped>\n",
       "    .dataframe tbody tr th:only-of-type {\n",
       "        vertical-align: middle;\n",
       "    }\n",
       "\n",
       "    .dataframe tbody tr th {\n",
       "        vertical-align: top;\n",
       "    }\n",
       "\n",
       "    .dataframe thead th {\n",
       "        text-align: right;\n",
       "    }\n",
       "</style>\n",
       "<table border=\"1\" class=\"dataframe\">\n",
       "  <thead>\n",
       "    <tr style=\"text-align: right;\">\n",
       "      <th></th>\n",
       "      <th>DISCOUNT_VALUE</th>\n",
       "      <th>NAME</th>\n",
       "      <th>PRICE</th>\n",
       "      <th>QUANTITY</th>\n",
       "      <th>date_insert</th>\n",
       "      <th>discount</th>\n",
       "      <th>itemID</th>\n",
       "      <th>orderID</th>\n",
       "      <th>ordered_item_count</th>\n",
       "      <th>price</th>\n",
       "      <th>user_id</th>\n",
       "      <th>unix_time</th>\n",
       "      <th>k_means_label</th>\n",
       "    </tr>\n",
       "  </thead>\n",
       "  <tbody>\n",
       "    <tr>\n",
       "      <th>299</th>\n",
       "      <td>4.02</td>\n",
       "      <td>#пастапаста</td>\n",
       "      <td>1065.00</td>\n",
       "      <td>10</td>\n",
       "      <td>2017-03-17 15:46:28</td>\n",
       "      <td>4037.00</td>\n",
       "      <td>196138</td>\n",
       "      <td>600959</td>\n",
       "      <td>8</td>\n",
       "      <td>42544.00</td>\n",
       "      <td>175158</td>\n",
       "      <td>1489765588</td>\n",
       "      <td>2</td>\n",
       "    </tr>\n",
       "    <tr>\n",
       "      <th>306</th>\n",
       "      <td>4.08</td>\n",
       "      <td>#неслипнется</td>\n",
       "      <td>512.00</td>\n",
       "      <td>15</td>\n",
       "      <td>2017-03-17 15:46:28</td>\n",
       "      <td>4037.00</td>\n",
       "      <td>188927</td>\n",
       "      <td>600959</td>\n",
       "      <td>8</td>\n",
       "      <td>42544.00</td>\n",
       "      <td>175158</td>\n",
       "      <td>1489765588</td>\n",
       "      <td>2</td>\n",
       "    </tr>\n",
       "    <tr>\n",
       "      <th>562</th>\n",
       "      <td>45.06</td>\n",
       "      <td>животные. все обитатели нашей планеты</td>\n",
       "      <td>834.00</td>\n",
       "      <td>23</td>\n",
       "      <td>2017-03-16 17:41:02</td>\n",
       "      <td>684.00</td>\n",
       "      <td>715598</td>\n",
       "      <td>600352</td>\n",
       "      <td>1</td>\n",
       "      <td>19182.00</td>\n",
       "      <td>198448</td>\n",
       "      <td>1489686062</td>\n",
       "      <td>2</td>\n",
       "    </tr>\n",
       "    <tr>\n",
       "      <th>570</th>\n",
       "      <td>19.95</td>\n",
       "      <td>чайка. три сестры. вишневый сад (вес: 513гр.)</td>\n",
       "      <td>276.00</td>\n",
       "      <td>36</td>\n",
       "      <td>2017-03-16 17:08:14</td>\n",
       "      <td>12.00</td>\n",
       "      <td>219266</td>\n",
       "      <td>600329</td>\n",
       "      <td>1</td>\n",
       "      <td>9936.00</td>\n",
       "      <td>910163</td>\n",
       "      <td>1489684094</td>\n",
       "      <td>2</td>\n",
       "    </tr>\n",
       "    <tr>\n",
       "      <th>594</th>\n",
       "      <td>17.22</td>\n",
       "      <td>вселенная (+ наклейки для раскрашивания)</td>\n",
       "      <td>298.00</td>\n",
       "      <td>41</td>\n",
       "      <td>2017-03-16 16:08:19</td>\n",
       "      <td>114.00</td>\n",
       "      <td>669491</td>\n",
       "      <td>600274</td>\n",
       "      <td>3</td>\n",
       "      <td>20818.00</td>\n",
       "      <td>910190</td>\n",
       "      <td>1489680499</td>\n",
       "      <td>2</td>\n",
       "    </tr>\n",
       "    <tr>\n",
       "      <th>595</th>\n",
       "      <td>17.11</td>\n",
       "      <td>космос (с наклейками)</td>\n",
       "      <td>155.00</td>\n",
       "      <td>33</td>\n",
       "      <td>2017-03-16 16:08:19</td>\n",
       "      <td>114.00</td>\n",
       "      <td>706157</td>\n",
       "      <td>600274</td>\n",
       "      <td>3</td>\n",
       "      <td>20818.00</td>\n",
       "      <td>910190</td>\n",
       "      <td>1489680499</td>\n",
       "      <td>2</td>\n",
       "    </tr>\n",
       "    <tr>\n",
       "      <th>596</th>\n",
       "      <td>17.39</td>\n",
       "      <td>монстры в космосе</td>\n",
       "      <td>95.00</td>\n",
       "      <td>33</td>\n",
       "      <td>2017-03-16 16:08:19</td>\n",
       "      <td>114.00</td>\n",
       "      <td>190165</td>\n",
       "      <td>600274</td>\n",
       "      <td>3</td>\n",
       "      <td>20818.00</td>\n",
       "      <td>910190</td>\n",
       "      <td>1489680499</td>\n",
       "      <td>2</td>\n",
       "    </tr>\n",
       "    <tr>\n",
       "      <th>610</th>\n",
       "      <td>45.05</td>\n",
       "      <td>на линии огня. искусство отвечать на провокаци...</td>\n",
       "      <td>261.00</td>\n",
       "      <td>100</td>\n",
       "      <td>2017-03-16 15:42:54</td>\n",
       "      <td>214.00</td>\n",
       "      <td>181818</td>\n",
       "      <td>600247</td>\n",
       "      <td>1</td>\n",
       "      <td>26100.00</td>\n",
       "      <td>33931</td>\n",
       "      <td>1489678974</td>\n",
       "      <td>2</td>\n",
       "    </tr>\n",
       "    <tr>\n",
       "      <th>720</th>\n",
       "      <td>18.27</td>\n",
       "      <td>избранное</td>\n",
       "      <td>78.04</td>\n",
       "      <td>28</td>\n",
       "      <td>2017-03-16 11:18:47</td>\n",
       "      <td>25.96</td>\n",
       "      <td>176329</td>\n",
       "      <td>600035</td>\n",
       "      <td>1</td>\n",
       "      <td>2185.12</td>\n",
       "      <td>910164</td>\n",
       "      <td>1489663127</td>\n",
       "      <td>2</td>\n",
       "    </tr>\n",
       "    <tr>\n",
       "      <th>968</th>\n",
       "      <td>4.49</td>\n",
       "      <td>химия. 9 класс. рабочая тетрадь к умк лунина (...</td>\n",
       "      <td>178.00</td>\n",
       "      <td>24</td>\n",
       "      <td>2017-03-15 16:19:17</td>\n",
       "      <td>0.00</td>\n",
       "      <td>181610</td>\n",
       "      <td>599343</td>\n",
       "      <td>1</td>\n",
       "      <td>4272.00</td>\n",
       "      <td>909813</td>\n",
       "      <td>1489594757</td>\n",
       "      <td>2</td>\n",
       "    </tr>\n",
       "    <tr>\n",
       "      <th>1084</th>\n",
       "      <td>6.12</td>\n",
       "      <td>полная хрестоматия для начальной школы. 3 клас...</td>\n",
       "      <td>196.00</td>\n",
       "      <td>29</td>\n",
       "      <td>2017-03-15 11:00:15</td>\n",
       "      <td>0.00</td>\n",
       "      <td>193339</td>\n",
       "      <td>599050</td>\n",
       "      <td>1</td>\n",
       "      <td>5684.00</td>\n",
       "      <td>61355</td>\n",
       "      <td>1489575615</td>\n",
       "      <td>2</td>\n",
       "    </tr>\n",
       "    <tr>\n",
       "      <th>1270</th>\n",
       "      <td>4.25</td>\n",
       "      <td>мой первый толковый словарь русского языка. 1-...</td>\n",
       "      <td>353.00</td>\n",
       "      <td>23</td>\n",
       "      <td>2017-03-14 14:18:30</td>\n",
       "      <td>0.00</td>\n",
       "      <td>188279</td>\n",
       "      <td>598587</td>\n",
       "      <td>2</td>\n",
       "      <td>8418.00</td>\n",
       "      <td>909262</td>\n",
       "      <td>1489501110</td>\n",
       "      <td>2</td>\n",
       "    </tr>\n",
       "    <tr>\n",
       "      <th>1348</th>\n",
       "      <td>4.00</td>\n",
       "      <td>новейший полный справочник школьника: 1-4 клас...</td>\n",
       "      <td>402.53</td>\n",
       "      <td>30</td>\n",
       "      <td>2017-03-14 09:15:27</td>\n",
       "      <td>122.47</td>\n",
       "      <td>147858</td>\n",
       "      <td>598384</td>\n",
       "      <td>1</td>\n",
       "      <td>12075.90</td>\n",
       "      <td>909102</td>\n",
       "      <td>1489482927</td>\n",
       "      <td>2</td>\n",
       "    </tr>\n",
       "    <tr>\n",
       "      <th>1424</th>\n",
       "      <td>17.03</td>\n",
       "      <td>русский язык и литература. литература. 11 клас...</td>\n",
       "      <td>385.00</td>\n",
       "      <td>60</td>\n",
       "      <td>2017-03-13 17:40:49</td>\n",
       "      <td>79.00</td>\n",
       "      <td>190271</td>\n",
       "      <td>598106</td>\n",
       "      <td>1</td>\n",
       "      <td>23500.00</td>\n",
       "      <td>421862</td>\n",
       "      <td>1489426849</td>\n",
       "      <td>2</td>\n",
       "    </tr>\n",
       "    <tr>\n",
       "      <th>1425</th>\n",
       "      <td>17.05</td>\n",
       "      <td>места, исполняющие желания</td>\n",
       "      <td>1211.00</td>\n",
       "      <td>24</td>\n",
       "      <td>2017-03-13 17:21:04</td>\n",
       "      <td>249.00</td>\n",
       "      <td>237284</td>\n",
       "      <td>598094</td>\n",
       "      <td>1</td>\n",
       "      <td>29464.00</td>\n",
       "      <td>908878</td>\n",
       "      <td>1489425664</td>\n",
       "      <td>2</td>\n",
       "    </tr>\n",
       "  </tbody>\n",
       "</table>\n",
       "</div>"
      ],
      "text/plain": [
       "      DISCOUNT_VALUE                                               NAME  \\\n",
       "299             4.02                                        #пастапаста   \n",
       "306             4.08                                       #неслипнется   \n",
       "562            45.06              животные. все обитатели нашей планеты   \n",
       "570            19.95      чайка. три сестры. вишневый сад (вес: 513гр.)   \n",
       "594            17.22           вселенная (+ наклейки для раскрашивания)   \n",
       "595            17.11                              космос (с наклейками)   \n",
       "596            17.39                                  монстры в космосе   \n",
       "610            45.05  на линии огня. искусство отвечать на провокаци...   \n",
       "720            18.27                                          избранное   \n",
       "968             4.49  химия. 9 класс. рабочая тетрадь к умк лунина (...   \n",
       "1084            6.12  полная хрестоматия для начальной школы. 3 клас...   \n",
       "1270            4.25  мой первый толковый словарь русского языка. 1-...   \n",
       "1348            4.00  новейший полный справочник школьника: 1-4 клас...   \n",
       "1424           17.03  русский язык и литература. литература. 11 клас...   \n",
       "1425           17.05                         места, исполняющие желания   \n",
       "\n",
       "       PRICE  QUANTITY         date_insert  discount  itemID  orderID  \\\n",
       "299  1065.00        10 2017-03-17 15:46:28   4037.00  196138   600959   \n",
       "306   512.00        15 2017-03-17 15:46:28   4037.00  188927   600959   \n",
       "562   834.00        23 2017-03-16 17:41:02    684.00  715598   600352   \n",
       "570   276.00        36 2017-03-16 17:08:14     12.00  219266   600329   \n",
       "594   298.00        41 2017-03-16 16:08:19    114.00  669491   600274   \n",
       "595   155.00        33 2017-03-16 16:08:19    114.00  706157   600274   \n",
       "596    95.00        33 2017-03-16 16:08:19    114.00  190165   600274   \n",
       "610   261.00       100 2017-03-16 15:42:54    214.00  181818   600247   \n",
       "720    78.04        28 2017-03-16 11:18:47     25.96  176329   600035   \n",
       "968   178.00        24 2017-03-15 16:19:17      0.00  181610   599343   \n",
       "1084  196.00        29 2017-03-15 11:00:15      0.00  193339   599050   \n",
       "1270  353.00        23 2017-03-14 14:18:30      0.00  188279   598587   \n",
       "1348  402.53        30 2017-03-14 09:15:27    122.47  147858   598384   \n",
       "1424  385.00        60 2017-03-13 17:40:49     79.00  190271   598106   \n",
       "1425 1211.00        24 2017-03-13 17:21:04    249.00  237284   598094   \n",
       "\n",
       "      ordered_item_count    price  user_id   unix_time  k_means_label  \n",
       "299                    8 42544.00   175158  1489765588              2  \n",
       "306                    8 42544.00   175158  1489765588              2  \n",
       "562                    1 19182.00   198448  1489686062              2  \n",
       "570                    1  9936.00   910163  1489684094              2  \n",
       "594                    3 20818.00   910190  1489680499              2  \n",
       "595                    3 20818.00   910190  1489680499              2  \n",
       "596                    3 20818.00   910190  1489680499              2  \n",
       "610                    1 26100.00    33931  1489678974              2  \n",
       "720                    1  2185.12   910164  1489663127              2  \n",
       "968                    1  4272.00   909813  1489594757              2  \n",
       "1084                   1  5684.00    61355  1489575615              2  \n",
       "1270                   2  8418.00   909262  1489501110              2  \n",
       "1348                   1 12075.90   909102  1489482927              2  \n",
       "1424                   1 23500.00   421862  1489426849              2  \n",
       "1425                   1 29464.00   908878  1489425664              2  "
      ]
     },
     "execution_count": 77,
     "metadata": {},
     "output_type": "execute_result"
    }
   ],
   "source": [
    "df[df['k_means_label'] == 2].head(15)"
   ]
  },
  {
   "cell_type": "markdown",
   "metadata": {},
   "source": [
    "Здесь собрались детские книги, школьные учебники, и т.д."
   ]
  },
  {
   "cell_type": "code",
   "execution_count": 81,
   "metadata": {},
   "outputs": [
    {
     "data": {
      "text/html": [
       "<div>\n",
       "<style scoped>\n",
       "    .dataframe tbody tr th:only-of-type {\n",
       "        vertical-align: middle;\n",
       "    }\n",
       "\n",
       "    .dataframe tbody tr th {\n",
       "        vertical-align: top;\n",
       "    }\n",
       "\n",
       "    .dataframe thead th {\n",
       "        text-align: right;\n",
       "    }\n",
       "</style>\n",
       "<table border=\"1\" class=\"dataframe\">\n",
       "  <thead>\n",
       "    <tr style=\"text-align: right;\">\n",
       "      <th></th>\n",
       "      <th>DISCOUNT_VALUE</th>\n",
       "      <th>NAME</th>\n",
       "      <th>PRICE</th>\n",
       "      <th>QUANTITY</th>\n",
       "      <th>date_insert</th>\n",
       "      <th>discount</th>\n",
       "      <th>itemID</th>\n",
       "      <th>orderID</th>\n",
       "      <th>ordered_item_count</th>\n",
       "      <th>price</th>\n",
       "      <th>user_id</th>\n",
       "      <th>unix_time</th>\n",
       "      <th>k_means_label</th>\n",
       "    </tr>\n",
       "  </thead>\n",
       "  <tbody>\n",
       "    <tr>\n",
       "      <th>9827</th>\n",
       "      <td>16.95</td>\n",
       "      <td>как работает google (вес: 782гр.)</td>\n",
       "      <td>484.72</td>\n",
       "      <td>1</td>\n",
       "      <td>2017-03-16 10:47:37</td>\n",
       "      <td>4360.67</td>\n",
       "      <td>168979</td>\n",
       "      <td>599999</td>\n",
       "      <td>44</td>\n",
       "      <td>23380.33</td>\n",
       "      <td>908657</td>\n",
       "      <td>1489661257</td>\n",
       "      <td>3</td>\n",
       "    </tr>\n",
       "    <tr>\n",
       "      <th>9828</th>\n",
       "      <td>16.90</td>\n",
       "      <td>игры, в которые играют люди. люди, которые игр...</td>\n",
       "      <td>407.53</td>\n",
       "      <td>1</td>\n",
       "      <td>2017-03-16 10:47:37</td>\n",
       "      <td>4360.67</td>\n",
       "      <td>174113</td>\n",
       "      <td>599999</td>\n",
       "      <td>44</td>\n",
       "      <td>23380.33</td>\n",
       "      <td>908657</td>\n",
       "      <td>1489661257</td>\n",
       "      <td>3</td>\n",
       "    </tr>\n",
       "    <tr>\n",
       "      <th>9829</th>\n",
       "      <td>16.85</td>\n",
       "      <td>время-деньги! (вес: 315гр.)</td>\n",
       "      <td>226.59</td>\n",
       "      <td>1</td>\n",
       "      <td>2017-03-16 10:47:37</td>\n",
       "      <td>4360.67</td>\n",
       "      <td>173665</td>\n",
       "      <td>599999</td>\n",
       "      <td>44</td>\n",
       "      <td>23380.33</td>\n",
       "      <td>908657</td>\n",
       "      <td>1489661257</td>\n",
       "      <td>3</td>\n",
       "    </tr>\n",
       "    <tr>\n",
       "      <th>9830</th>\n",
       "      <td>16.99</td>\n",
       "      <td>пособие по выживанию продавца: как закрывать с...</td>\n",
       "      <td>390.93</td>\n",
       "      <td>1</td>\n",
       "      <td>2017-03-16 10:47:37</td>\n",
       "      <td>4360.67</td>\n",
       "      <td>675611</td>\n",
       "      <td>599999</td>\n",
       "      <td>44</td>\n",
       "      <td>23380.33</td>\n",
       "      <td>908657</td>\n",
       "      <td>1489661257</td>\n",
       "      <td>3</td>\n",
       "    </tr>\n",
       "    <tr>\n",
       "      <th>9831</th>\n",
       "      <td>17.08</td>\n",
       "      <td>код экстраординарности. 10 нестандартных спосо...</td>\n",
       "      <td>403.38</td>\n",
       "      <td>1</td>\n",
       "      <td>2017-03-16 10:47:37</td>\n",
       "      <td>4360.67</td>\n",
       "      <td>711832</td>\n",
       "      <td>599999</td>\n",
       "      <td>44</td>\n",
       "      <td>23380.33</td>\n",
       "      <td>908657</td>\n",
       "      <td>1489661257</td>\n",
       "      <td>3</td>\n",
       "    </tr>\n",
       "  </tbody>\n",
       "</table>\n",
       "</div>"
      ],
      "text/plain": [
       "      DISCOUNT_VALUE                                               NAME  \\\n",
       "9827           16.95                  как работает google (вес: 782гр.)   \n",
       "9828           16.90  игры, в которые играют люди. люди, которые игр...   \n",
       "9829           16.85                        время-деньги! (вес: 315гр.)   \n",
       "9830           16.99  пособие по выживанию продавца: как закрывать с...   \n",
       "9831           17.08  код экстраординарности. 10 нестандартных спосо...   \n",
       "\n",
       "      PRICE  QUANTITY         date_insert  discount  itemID  orderID  \\\n",
       "9827 484.72         1 2017-03-16 10:47:37   4360.67  168979   599999   \n",
       "9828 407.53         1 2017-03-16 10:47:37   4360.67  174113   599999   \n",
       "9829 226.59         1 2017-03-16 10:47:37   4360.67  173665   599999   \n",
       "9830 390.93         1 2017-03-16 10:47:37   4360.67  675611   599999   \n",
       "9831 403.38         1 2017-03-16 10:47:37   4360.67  711832   599999   \n",
       "\n",
       "      ordered_item_count    price  user_id   unix_time  k_means_label  \n",
       "9827                  44 23380.33   908657  1489661257              3  \n",
       "9828                  44 23380.33   908657  1489661257              3  \n",
       "9829                  44 23380.33   908657  1489661257              3  \n",
       "9830                  44 23380.33   908657  1489661257              3  \n",
       "9831                  44 23380.33   908657  1489661257              3  "
      ]
     },
     "execution_count": 81,
     "metadata": {},
     "output_type": "execute_result"
    }
   ],
   "source": [
    "df[df['k_means_label'] == 3].head()"
   ]
  },
  {
   "cell_type": "markdown",
   "metadata": {},
   "source": [
    "А здесь самые разные книги, но в одном заказе"
   ]
  },
  {
   "cell_type": "markdown",
   "metadata": {},
   "source": [
    "Попробуем выбрать наугад несколько названий книг с ozon.ru из списка бестселлеров, и проверим, к какому классу их отнесёт обученный классификатор"
   ]
  },
  {
   "cell_type": "code",
   "execution_count": 83,
   "metadata": {},
   "outputs": [
    {
     "name": "stdout",
     "output_type": "stream",
     "text": [
      "[[  8.37270972e-01   1.61632598e-01   2.40944974e-04   8.55484841e-04]\n",
      " [  4.78291359e-01   4.82895724e-01   1.24082084e-02   2.64047086e-02]\n",
      " [  6.36367927e-01   3.62519903e-01   1.36477620e-04   9.75692204e-04]\n",
      " [  7.06736288e-01   1.48931640e-01   1.10058751e-01   3.42733209e-02]\n",
      " [  6.39337887e-01   3.39298352e-01   8.38082626e-03   1.29829354e-02]\n",
      " [  4.66802118e-01   5.06455864e-01   1.83853210e-02   8.35669728e-03]\n",
      " [  4.40341111e-01   5.40661162e-01   4.06372284e-03   1.49340045e-02]\n",
      " [  9.48568664e-01   4.24765210e-02   8.24994156e-03   7.04873879e-04]\n",
      " [  5.64546088e-01   4.01091690e-01   3.17514692e-02   2.61075348e-03]]\n",
      "[0 1 0 0 0 1 1 0 0]\n"
     ]
    }
   ],
   "source": [
    "docs_test = [\n",
    "    'Хочу и буду. Принять себя, полюбить жизнь и стать счастливым',\n",
    "    'Империя должна умереть. История русских революций в лицах. 1900-1917',\n",
    "    'Тайная опора. Привязанность в жизни ребенка',\n",
    "    'Атлас мира. Максимально подробная информация (чёрн.)',\n",
    "    'Весёлый лисёнок. Учимся сравнивать. Наклейки',\n",
    "    'Ботанический атлас по системе Де-Кандоля',\n",
    "    'Последний вздох Византии',\n",
    "    'ОГЭ-2018. Обществознание. Типовые экзаменационные варианты. 30 вариантов',\n",
    "    'Мир и человек. Географический атлас']\n",
    "\n",
    "X_new_counts = count_vec.transform(docs_test)\n",
    "X_new_tfidf = tfidf_transformer.transform(X_new_counts)\n",
    "\n",
    "predicted_proba = clf.predict_proba(X_new_tfidf)\n",
    "predicted = clf.predict(X_new_tfidf)\n",
    "\n",
    "print(predicted_proba)\n",
    "print(predicted)"
   ]
  },
  {
   "cell_type": "markdown",
   "metadata": {},
   "source": [
    "Здесь похоже проблема в том, что в классах 2 и 3 очень мало книг, поэтому классификатор, использующий слова, не может правильно спрогнозировать учебники, а относит все книг к классам 0 и 1, в которых подавляющее число книг (и, соответственно, слов)"
   ]
  },
  {
   "cell_type": "markdown",
   "metadata": {},
   "source": [
    "# 6. Повторить при необходимости "
   ]
  },
  {
   "cell_type": "markdown",
   "metadata": {},
   "source": [
    "# Подсказки\n",
    "\n",
    "* Проводить EDA и работу с признаками на всем датасете\n",
    "* Для построения модели отсеивать данные тем или иным способом (обосновать выбор) - уменьшить объем данных для анализа\n",
    "* Оформлять для сдачи задания все эксперименты (в том числе неудачные). Так мы сможем увидеть процесс работы над заданием\n",
    "* Не тратить 90% времени на первый этап. Планировать время так, чтобы успеть поработать над моделью (в равной степени над каждым пунктом)."
   ]
  }
 ],
 "metadata": {
  "kernelspec": {
   "display_name": "Python 3",
   "language": "python",
   "name": "python3"
  },
  "language_info": {
   "codemirror_mode": {
    "name": "ipython",
    "version": 2
   },
   "file_extension": ".py",
   "mimetype": "text/x-python",
   "name": "python",
   "nbconvert_exporter": "python",
   "pygments_lexer": "ipython2",
   "version": "2.7.12"
  }
 },
 "nbformat": 4,
 "nbformat_minor": 2
}
