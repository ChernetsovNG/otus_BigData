{
 "cells": [
  {
   "cell_type": "code",
   "execution_count": 1,
   "metadata": {},
   "outputs": [],
   "source": [
    "import re\n",
    "import pandas as pd\n",
    "import numpy as np\n",
    "import matplotlib\n",
    "import matplotlib.pyplot as plt\n",
    "import matplotlib.cm as cm\n",
    "import seaborn as sns\n",
    "\n",
    "from sklearn.base import BaseEstimator, TransformerMixin\n",
    "from sklearn.pipeline import make_union, make_pipeline\n",
    "from sklearn.preprocessing import FunctionTransformer, StandardScaler, LabelEncoder, MinMaxScaler,  Imputer\n",
    "from sklearn.preprocessing import LabelBinarizer, OneHotEncoder\n",
    "from sklearn.model_selection import train_test_split\n",
    "from sklearn.feature_extraction.text import CountVectorizer, TfidfTransformer, TfidfVectorizer\n",
    "from sklearn.naive_bayes import MultinomialNB\n",
    "from sklearn.model_selection import RandomizedSearchCV\n",
    "from sklearn.metrics import accuracy_score\n",
    "from sklearn.svm import SVR\n",
    "\n",
    "from tqdm import tqdm\n",
    "import time\n",
    "# import cPickle as pickle\n",
    "from scipy import sparse\n",
    "from scipy.sparse import hstack\n",
    "\n",
    "%matplotlib inline\n",
    "plt.rcParams[\"figure.figsize\"] = (15, 8)\n",
    "pd.options.display.float_format = '{:.2f}'.format"
   ]
  },
  {
   "cell_type": "code",
   "execution_count": 2,
   "metadata": {},
   "outputs": [
    {
     "name": "stdout",
     "output_type": "stream",
     "text": [
      "<class 'pandas.core.frame.DataFrame'>\n",
      "RangeIndex: 34011 entries, 0 to 34010\n",
      "Data columns (total 22 columns):\n",
      "bdate         27938 non-null object\n",
      "langs         4425 non-null object\n",
      "political     5193 non-null float64\n",
      "smoking       5987 non-null float64\n",
      "verified      34011 non-null int64\n",
      "life_main     5965 non-null float64\n",
      "alcohol       5915 non-null float64\n",
      "tv            3272 non-null object\n",
      "country       32669 non-null object\n",
      "sex           34011 non-null int64\n",
      "last_name     34011 non-null object\n",
      "age           34011 non-null float64\n",
      "id            34011 non-null int64\n",
      "posts         34011 non-null object\n",
      "interests     5383 non-null object\n",
      "university    14180 non-null float64\n",
      "first_name    34011 non-null object\n",
      "city          31156 non-null object\n",
      "religion      6096 non-null object\n",
      "movies        4427 non-null object\n",
      "relation      14180 non-null float64\n",
      "music         4709 non-null object\n",
      "dtypes: float64(7), int64(3), object(12)\n",
      "memory usage: 5.7+ MB\n"
     ]
    }
   ],
   "source": [
    "df = pd.read_csv('data/vk_users_data.csv')\n",
    "df.info()"
   ]
  },
  {
   "cell_type": "code",
   "execution_count": 3,
   "metadata": {},
   "outputs": [],
   "source": [
    "df['interests'] = df['interests'].fillna(\"empty\")\n",
    "df['movies'] = df['movies'].fillna(\"empty\")\n",
    "df['music'] = df['music'].fillna(\"empty\")\n",
    "df['tv'] = df['tv'].fillna(\"empty\")\n",
    "# заменим не указанные значения категориальных признаков на -1\n",
    "df = df.fillna(-1)\n",
    "# В столбце university содержится id университета по БД VK. \n",
    "# Будем считать, что если он указан, то у пользователя есть высшее \n",
    "# образование, иначе нет (хотя строго это не так, он может быть просто \n",
    "# не указан. Но примем такое предположение)\n",
    "df['high_education'] = df['university'].apply(lambda x: 0 if x < -0.5 else 1)\n",
    "df['age'] = df['age'].astype(int)\n",
    "df['political'] = df['political'].astype(int)\n",
    "df['smoking'] = df['smoking'].astype(int)\n",
    "df['alcohol'] = df['alcohol'].astype(int)\n",
    "df['relation'] = df['relation'].astype(int)\n",
    "df['life_main'] = df['life_main'].astype(int)\n",
    "# df['posts'] = df['posts'].str.decode('utf-8')"
   ]
  },
  {
   "cell_type": "code",
   "execution_count": 4,
   "metadata": {},
   "outputs": [
    {
     "data": {
      "text/html": [
       "<div>\n",
       "<style scoped>\n",
       "    .dataframe tbody tr th:only-of-type {\n",
       "        vertical-align: middle;\n",
       "    }\n",
       "\n",
       "    .dataframe tbody tr th {\n",
       "        vertical-align: top;\n",
       "    }\n",
       "\n",
       "    .dataframe thead th {\n",
       "        text-align: right;\n",
       "    }\n",
       "</style>\n",
       "<table border=\"1\" class=\"dataframe\">\n",
       "  <thead>\n",
       "    <tr style=\"text-align: right;\">\n",
       "      <th></th>\n",
       "      <th>bdate</th>\n",
       "      <th>langs</th>\n",
       "      <th>political</th>\n",
       "      <th>smoking</th>\n",
       "      <th>verified</th>\n",
       "      <th>life_main</th>\n",
       "      <th>alcohol</th>\n",
       "      <th>tv</th>\n",
       "      <th>country</th>\n",
       "      <th>sex</th>\n",
       "      <th>...</th>\n",
       "      <th>interests</th>\n",
       "      <th>university</th>\n",
       "      <th>first_name</th>\n",
       "      <th>city</th>\n",
       "      <th>religion</th>\n",
       "      <th>movies</th>\n",
       "      <th>relation</th>\n",
       "      <th>music</th>\n",
       "      <th>high_education</th>\n",
       "      <th>age_category</th>\n",
       "    </tr>\n",
       "  </thead>\n",
       "  <tbody>\n",
       "    <tr>\n",
       "      <th>0</th>\n",
       "      <td>28.4</td>\n",
       "      <td>-1</td>\n",
       "      <td>-1</td>\n",
       "      <td>-1</td>\n",
       "      <td>0</td>\n",
       "      <td>-1</td>\n",
       "      <td>-1</td>\n",
       "      <td>empty</td>\n",
       "      <td>Россия</td>\n",
       "      <td>2</td>\n",
       "      <td>...</td>\n",
       "      <td>empty</td>\n",
       "      <td>-1.00</td>\n",
       "      <td>Виталя</td>\n",
       "      <td>Москва</td>\n",
       "      <td>-1</td>\n",
       "      <td>empty</td>\n",
       "      <td>-1</td>\n",
       "      <td>empty</td>\n",
       "      <td>0</td>\n",
       "      <td>4</td>\n",
       "    </tr>\n",
       "    <tr>\n",
       "      <th>1</th>\n",
       "      <td>-1</td>\n",
       "      <td>-1</td>\n",
       "      <td>-1</td>\n",
       "      <td>-1</td>\n",
       "      <td>0</td>\n",
       "      <td>-1</td>\n",
       "      <td>-1</td>\n",
       "      <td>empty</td>\n",
       "      <td>Россия</td>\n",
       "      <td>2</td>\n",
       "      <td>...</td>\n",
       "      <td>🔞Не лайкаю, видео не смотрю, в группы не вступ...</td>\n",
       "      <td>0.00</td>\n",
       "      <td>Олег</td>\n",
       "      <td>-1</td>\n",
       "      <td>-1</td>\n",
       "      <td>empty</td>\n",
       "      <td>0</td>\n",
       "      <td>☝☝☝☝☝☝☝☝☝☝☝☝☝☝☝☝☝☝☝☝☝☝☝</td>\n",
       "      <td>1</td>\n",
       "      <td>2</td>\n",
       "    </tr>\n",
       "    <tr>\n",
       "      <th>2</th>\n",
       "      <td>-1</td>\n",
       "      <td>-1</td>\n",
       "      <td>-1</td>\n",
       "      <td>-1</td>\n",
       "      <td>1</td>\n",
       "      <td>-1</td>\n",
       "      <td>-1</td>\n",
       "      <td>empty</td>\n",
       "      <td>Россия</td>\n",
       "      <td>2</td>\n",
       "      <td>...</td>\n",
       "      <td>empty</td>\n",
       "      <td>0.00</td>\n",
       "      <td>Артур</td>\n",
       "      <td>Набережные Челны</td>\n",
       "      <td>4ayan.ru</td>\n",
       "      <td>empty</td>\n",
       "      <td>0</td>\n",
       "      <td>empty</td>\n",
       "      <td>1</td>\n",
       "      <td>2</td>\n",
       "    </tr>\n",
       "    <tr>\n",
       "      <th>3</th>\n",
       "      <td>1.1</td>\n",
       "      <td>-1</td>\n",
       "      <td>8</td>\n",
       "      <td>-1</td>\n",
       "      <td>0</td>\n",
       "      <td>-1</td>\n",
       "      <td>-1</td>\n",
       "      <td>Zara, Pull and Bear, Massimo Dutti, Bershka, S...</td>\n",
       "      <td>Украина</td>\n",
       "      <td>2</td>\n",
       "      <td>...</td>\n",
       "      <td>Zara, Pull and Bear, Massimo Dutti, Bershka, S...</td>\n",
       "      <td>1892.00</td>\n",
       "      <td>Zara</td>\n",
       "      <td>Днепропетровск (Днепр)</td>\n",
       "      <td>Buisness</td>\n",
       "      <td>Zara, Pull and Bear, Massimo Dutti, Bershka, S...</td>\n",
       "      <td>0</td>\n",
       "      <td>Zara, Pull and Bear, Massimo Dutti, Bershka, S...</td>\n",
       "      <td>1</td>\n",
       "      <td>2</td>\n",
       "    </tr>\n",
       "    <tr>\n",
       "      <th>4</th>\n",
       "      <td>6.6.1989</td>\n",
       "      <td>-1</td>\n",
       "      <td>-1</td>\n",
       "      <td>-1</td>\n",
       "      <td>0</td>\n",
       "      <td>-1</td>\n",
       "      <td>-1</td>\n",
       "      <td>empty</td>\n",
       "      <td>Украина</td>\n",
       "      <td>1</td>\n",
       "      <td>...</td>\n",
       "      <td>empty</td>\n",
       "      <td>-1.00</td>\n",
       "      <td>Наталя</td>\n",
       "      <td>Львов</td>\n",
       "      <td>-1</td>\n",
       "      <td>empty</td>\n",
       "      <td>-1</td>\n",
       "      <td>empty</td>\n",
       "      <td>0</td>\n",
       "      <td>1</td>\n",
       "    </tr>\n",
       "  </tbody>\n",
       "</table>\n",
       "<p>5 rows × 24 columns</p>\n",
       "</div>"
      ],
      "text/plain": [
       "      bdate langs  political  smoking  verified  life_main  alcohol  \\\n",
       "0      28.4    -1         -1       -1         0         -1       -1   \n",
       "1        -1    -1         -1       -1         0         -1       -1   \n",
       "2        -1    -1         -1       -1         1         -1       -1   \n",
       "3       1.1    -1          8       -1         0         -1       -1   \n",
       "4  6.6.1989    -1         -1       -1         0         -1       -1   \n",
       "\n",
       "                                                  tv  country  sex  \\\n",
       "0                                              empty   Россия    2   \n",
       "1                                              empty   Россия    2   \n",
       "2                                              empty   Россия    2   \n",
       "3  Zara, Pull and Bear, Massimo Dutti, Bershka, S...  Украина    2   \n",
       "4                                              empty  Украина    1   \n",
       "\n",
       "      ...                                               interests  university  \\\n",
       "0     ...                                                   empty       -1.00   \n",
       "1     ...       🔞Не лайкаю, видео не смотрю, в группы не вступ...        0.00   \n",
       "2     ...                                                   empty        0.00   \n",
       "3     ...       Zara, Pull and Bear, Massimo Dutti, Bershka, S...     1892.00   \n",
       "4     ...                                                   empty       -1.00   \n",
       "\n",
       "   first_name                    city  religion  \\\n",
       "0      Виталя                  Москва        -1   \n",
       "1        Олег                      -1        -1   \n",
       "2       Артур        Набережные Челны  4ayan.ru   \n",
       "3        Zara  Днепропетровск (Днепр)  Buisness   \n",
       "4      Наталя                   Львов        -1   \n",
       "\n",
       "                                              movies relation  \\\n",
       "0                                              empty       -1   \n",
       "1                                              empty        0   \n",
       "2                                              empty        0   \n",
       "3  Zara, Pull and Bear, Massimo Dutti, Bershka, S...        0   \n",
       "4                                              empty       -1   \n",
       "\n",
       "                                               music high_education  \\\n",
       "0                                              empty              0   \n",
       "1                            ☝☝☝☝☝☝☝☝☝☝☝☝☝☝☝☝☝☝☝☝☝☝☝              1   \n",
       "2                                              empty              1   \n",
       "3  Zara, Pull and Bear, Massimo Dutti, Bershka, S...              1   \n",
       "4                                              empty              0   \n",
       "\n",
       "  age_category  \n",
       "0            4  \n",
       "1            2  \n",
       "2            2  \n",
       "3            2  \n",
       "4            1  \n",
       "\n",
       "[5 rows x 24 columns]"
      ]
     },
     "execution_count": 4,
     "metadata": {},
     "output_type": "execute_result"
    }
   ],
   "source": [
    "# Чтобы превратить нашу задачу в задачу классификации, уменьшим количество категорий возраста\n",
    "# рассмотрим возраста от 0 до 18; от 18 до 30; от 30 до 50; от 50 до 70 и от 70 до 110 - 5 категорий\n",
    "def age_cat(age):\n",
    "    if 0 <= age <= 18:\n",
    "        return 0\n",
    "    elif 18 < age <= 30:\n",
    "        return 1\n",
    "    elif 30 < age <= 50:\n",
    "        return 2\n",
    "    elif 50 < age <= 70:\n",
    "        return 3\n",
    "    elif 70 < age <= 110:\n",
    "        return 4\n",
    "    \n",
    "df['age_category'] = df['age'].apply(lambda x: age_cat(x))\n",
    "df.head()"
   ]
  },
  {
   "cell_type": "code",
   "execution_count": 5,
   "metadata": {},
   "outputs": [],
   "source": [
    "df_train, df_test = train_test_split(df, test_size=0.2, random_state=42)"
   ]
  },
  {
   "cell_type": "code",
   "execution_count": 6,
   "metadata": {},
   "outputs": [
    {
     "data": {
      "text/html": [
       "<div>\n",
       "<style scoped>\n",
       "    .dataframe tbody tr th:only-of-type {\n",
       "        vertical-align: middle;\n",
       "    }\n",
       "\n",
       "    .dataframe tbody tr th {\n",
       "        vertical-align: top;\n",
       "    }\n",
       "\n",
       "    .dataframe thead th {\n",
       "        text-align: right;\n",
       "    }\n",
       "</style>\n",
       "<table border=\"1\" class=\"dataframe\">\n",
       "  <thead>\n",
       "    <tr style=\"text-align: right;\">\n",
       "      <th></th>\n",
       "      <th>bdate</th>\n",
       "      <th>langs</th>\n",
       "      <th>political</th>\n",
       "      <th>smoking</th>\n",
       "      <th>verified</th>\n",
       "      <th>life_main</th>\n",
       "      <th>alcohol</th>\n",
       "      <th>tv</th>\n",
       "      <th>country</th>\n",
       "      <th>sex</th>\n",
       "      <th>...</th>\n",
       "      <th>interests</th>\n",
       "      <th>university</th>\n",
       "      <th>first_name</th>\n",
       "      <th>city</th>\n",
       "      <th>religion</th>\n",
       "      <th>movies</th>\n",
       "      <th>relation</th>\n",
       "      <th>music</th>\n",
       "      <th>high_education</th>\n",
       "      <th>age_category</th>\n",
       "    </tr>\n",
       "  </thead>\n",
       "  <tbody>\n",
       "    <tr>\n",
       "      <th>11153</th>\n",
       "      <td>25.3.1936</td>\n",
       "      <td>-1</td>\n",
       "      <td>-1</td>\n",
       "      <td>-1</td>\n",
       "      <td>0</td>\n",
       "      <td>-1</td>\n",
       "      <td>-1</td>\n",
       "      <td>empty</td>\n",
       "      <td>Россия</td>\n",
       "      <td>2</td>\n",
       "      <td>...</td>\n",
       "      <td>empty</td>\n",
       "      <td>-1.00</td>\n",
       "      <td>Михаил</td>\n",
       "      <td>Нижний Новгород</td>\n",
       "      <td>-1</td>\n",
       "      <td>empty</td>\n",
       "      <td>-1</td>\n",
       "      <td>empty</td>\n",
       "      <td>0</td>\n",
       "      <td>4</td>\n",
       "    </tr>\n",
       "    <tr>\n",
       "      <th>6352</th>\n",
       "      <td>12.8</td>\n",
       "      <td>['Русский', 'English']</td>\n",
       "      <td>-1</td>\n",
       "      <td>2</td>\n",
       "      <td>0</td>\n",
       "      <td>-1</td>\n",
       "      <td>1</td>\n",
       "      <td>empty</td>\n",
       "      <td>Россия</td>\n",
       "      <td>2</td>\n",
       "      <td>...</td>\n",
       "      <td>empty</td>\n",
       "      <td>0.00</td>\n",
       "      <td>Валера</td>\n",
       "      <td>Самара</td>\n",
       "      <td>Пастафарианство</td>\n",
       "      <td>empty</td>\n",
       "      <td>2</td>\n",
       "      <td>empty</td>\n",
       "      <td>1</td>\n",
       "      <td>0</td>\n",
       "    </tr>\n",
       "    <tr>\n",
       "      <th>27363</th>\n",
       "      <td>1.9.2001</td>\n",
       "      <td>-1</td>\n",
       "      <td>-1</td>\n",
       "      <td>-1</td>\n",
       "      <td>0</td>\n",
       "      <td>-1</td>\n",
       "      <td>-1</td>\n",
       "      <td>empty</td>\n",
       "      <td>Россия</td>\n",
       "      <td>2</td>\n",
       "      <td>...</td>\n",
       "      <td>empty</td>\n",
       "      <td>0.00</td>\n",
       "      <td>Никита</td>\n",
       "      <td>Краснодар</td>\n",
       "      <td>-1</td>\n",
       "      <td>empty</td>\n",
       "      <td>6</td>\n",
       "      <td>empty</td>\n",
       "      <td>1</td>\n",
       "      <td>0</td>\n",
       "    </tr>\n",
       "    <tr>\n",
       "      <th>19244</th>\n",
       "      <td>29.8.1991</td>\n",
       "      <td>['Русский', 'Українська']</td>\n",
       "      <td>3</td>\n",
       "      <td>4</td>\n",
       "      <td>0</td>\n",
       "      <td>2</td>\n",
       "      <td>5</td>\n",
       "      <td>Шоу Опры</td>\n",
       "      <td>Россия</td>\n",
       "      <td>1</td>\n",
       "      <td>...</td>\n",
       "      <td>Клубы, парни, танцы</td>\n",
       "      <td>327.00</td>\n",
       "      <td>Марина</td>\n",
       "      <td>Москва</td>\n",
       "      <td>Православие</td>\n",
       "      <td>Универ, Интерны, Один дома, Крик, Звонок</td>\n",
       "      <td>5</td>\n",
       "      <td>Та, под которую можно подвигаться</td>\n",
       "      <td>1</td>\n",
       "      <td>1</td>\n",
       "    </tr>\n",
       "    <tr>\n",
       "      <th>29708</th>\n",
       "      <td>29.11.1945</td>\n",
       "      <td>-1</td>\n",
       "      <td>-1</td>\n",
       "      <td>-1</td>\n",
       "      <td>0</td>\n",
       "      <td>-1</td>\n",
       "      <td>-1</td>\n",
       "      <td>empty</td>\n",
       "      <td>Россия</td>\n",
       "      <td>2</td>\n",
       "      <td>...</td>\n",
       "      <td>empty</td>\n",
       "      <td>-1.00</td>\n",
       "      <td>Гриша</td>\n",
       "      <td>Радужный</td>\n",
       "      <td>-1</td>\n",
       "      <td>empty</td>\n",
       "      <td>-1</td>\n",
       "      <td>empty</td>\n",
       "      <td>0</td>\n",
       "      <td>4</td>\n",
       "    </tr>\n",
       "  </tbody>\n",
       "</table>\n",
       "<p>5 rows × 24 columns</p>\n",
       "</div>"
      ],
      "text/plain": [
       "            bdate                      langs  political  smoking  verified  \\\n",
       "11153   25.3.1936                         -1         -1       -1         0   \n",
       "6352         12.8     ['Русский', 'English']         -1        2         0   \n",
       "27363    1.9.2001                         -1         -1       -1         0   \n",
       "19244   29.8.1991  ['Русский', 'Українська']          3        4         0   \n",
       "29708  29.11.1945                         -1         -1       -1         0   \n",
       "\n",
       "       life_main  alcohol        tv country  sex     ...       \\\n",
       "11153         -1       -1     empty  Россия    2     ...        \n",
       "6352          -1        1     empty  Россия    2     ...        \n",
       "27363         -1       -1     empty  Россия    2     ...        \n",
       "19244          2        5  Шоу Опры  Россия    1     ...        \n",
       "29708         -1       -1     empty  Россия    2     ...        \n",
       "\n",
       "                 interests  university  first_name             city  \\\n",
       "11153                empty       -1.00      Михаил  Нижний Новгород   \n",
       "6352                 empty        0.00      Валера           Самара   \n",
       "27363                empty        0.00      Никита        Краснодар   \n",
       "19244  Клубы, парни, танцы      327.00      Марина           Москва   \n",
       "29708                empty       -1.00       Гриша         Радужный   \n",
       "\n",
       "              religion                                    movies relation  \\\n",
       "11153               -1                                     empty       -1   \n",
       "6352   Пастафарианство                                     empty        2   \n",
       "27363               -1                                     empty        6   \n",
       "19244      Православие  Универ, Интерны, Один дома, Крик, Звонок        5   \n",
       "29708               -1                                     empty       -1   \n",
       "\n",
       "                                   music high_education age_category  \n",
       "11153                              empty              0            4  \n",
       "6352                               empty              1            0  \n",
       "27363                              empty              1            0  \n",
       "19244  Та, под которую можно подвигаться              1            1  \n",
       "29708                              empty              0            4  \n",
       "\n",
       "[5 rows x 24 columns]"
      ]
     },
     "execution_count": 6,
     "metadata": {},
     "output_type": "execute_result"
    }
   ],
   "source": [
    "df_train.head()"
   ]
  },
  {
   "cell_type": "code",
   "execution_count": 7,
   "metadata": {},
   "outputs": [
    {
     "data": {
      "text/html": [
       "<div>\n",
       "<style scoped>\n",
       "    .dataframe tbody tr th:only-of-type {\n",
       "        vertical-align: middle;\n",
       "    }\n",
       "\n",
       "    .dataframe tbody tr th {\n",
       "        vertical-align: top;\n",
       "    }\n",
       "\n",
       "    .dataframe thead th {\n",
       "        text-align: right;\n",
       "    }\n",
       "</style>\n",
       "<table border=\"1\" class=\"dataframe\">\n",
       "  <thead>\n",
       "    <tr style=\"text-align: right;\">\n",
       "      <th></th>\n",
       "      <th>bdate</th>\n",
       "      <th>langs</th>\n",
       "      <th>political</th>\n",
       "      <th>smoking</th>\n",
       "      <th>verified</th>\n",
       "      <th>life_main</th>\n",
       "      <th>alcohol</th>\n",
       "      <th>tv</th>\n",
       "      <th>country</th>\n",
       "      <th>sex</th>\n",
       "      <th>...</th>\n",
       "      <th>interests</th>\n",
       "      <th>university</th>\n",
       "      <th>first_name</th>\n",
       "      <th>city</th>\n",
       "      <th>religion</th>\n",
       "      <th>movies</th>\n",
       "      <th>relation</th>\n",
       "      <th>music</th>\n",
       "      <th>high_education</th>\n",
       "      <th>age_category</th>\n",
       "    </tr>\n",
       "  </thead>\n",
       "  <tbody>\n",
       "    <tr>\n",
       "      <th>11313</th>\n",
       "      <td>27.8</td>\n",
       "      <td>-1</td>\n",
       "      <td>3</td>\n",
       "      <td>1</td>\n",
       "      <td>0</td>\n",
       "      <td>1</td>\n",
       "      <td>1</td>\n",
       "      <td>empty</td>\n",
       "      <td>Россия</td>\n",
       "      <td>1</td>\n",
       "      <td>...</td>\n",
       "      <td>empty</td>\n",
       "      <td>0.00</td>\n",
       "      <td>Анастасия</td>\n",
       "      <td>Краснодар</td>\n",
       "      <td>Православие</td>\n",
       "      <td>empty</td>\n",
       "      <td>4</td>\n",
       "      <td>empty</td>\n",
       "      <td>1</td>\n",
       "      <td>4</td>\n",
       "    </tr>\n",
       "    <tr>\n",
       "      <th>23533</th>\n",
       "      <td>19.3</td>\n",
       "      <td>['Русский', 'Gagauz dili', 'Türkçe', 'Українсь...</td>\n",
       "      <td>3</td>\n",
       "      <td>2</td>\n",
       "      <td>0</td>\n",
       "      <td>1</td>\n",
       "      <td>2</td>\n",
       "      <td>не на вижу</td>\n",
       "      <td>Украина</td>\n",
       "      <td>2</td>\n",
       "      <td>...</td>\n",
       "      <td>кушать, спать, интернет)</td>\n",
       "      <td>0.00</td>\n",
       "      <td>Dima</td>\n",
       "      <td>Одесса</td>\n",
       "      <td>Православие</td>\n",
       "      <td>разные</td>\n",
       "      <td>4</td>\n",
       "      <td>разные</td>\n",
       "      <td>1</td>\n",
       "      <td>1</td>\n",
       "    </tr>\n",
       "    <tr>\n",
       "      <th>3386</th>\n",
       "      <td>-1</td>\n",
       "      <td>-1</td>\n",
       "      <td>-1</td>\n",
       "      <td>4</td>\n",
       "      <td>0</td>\n",
       "      <td>3</td>\n",
       "      <td>4</td>\n",
       "      <td>empty</td>\n",
       "      <td>Россия</td>\n",
       "      <td>2</td>\n",
       "      <td>...</td>\n",
       "      <td>empty</td>\n",
       "      <td>0.00</td>\n",
       "      <td>Саша</td>\n",
       "      <td>-1</td>\n",
       "      <td>-1</td>\n",
       "      <td>empty</td>\n",
       "      <td>0</td>\n",
       "      <td>empty</td>\n",
       "      <td>1</td>\n",
       "      <td>4</td>\n",
       "    </tr>\n",
       "    <tr>\n",
       "      <th>12659</th>\n",
       "      <td>20.6</td>\n",
       "      <td>['English']</td>\n",
       "      <td>-1</td>\n",
       "      <td>2</td>\n",
       "      <td>0</td>\n",
       "      <td>-1</td>\n",
       "      <td>2</td>\n",
       "      <td>empty</td>\n",
       "      <td>Беларусь</td>\n",
       "      <td>2</td>\n",
       "      <td>...</td>\n",
       "      <td>empty</td>\n",
       "      <td>0.00</td>\n",
       "      <td>Алексей</td>\n",
       "      <td>Слуцк</td>\n",
       "      <td>-1</td>\n",
       "      <td>empty</td>\n",
       "      <td>0</td>\n",
       "      <td>SUICIDEBOY, BONES, LIL PEEP, IMAGINE DRAGONS, ...</td>\n",
       "      <td>1</td>\n",
       "      <td>4</td>\n",
       "    </tr>\n",
       "    <tr>\n",
       "      <th>8037</th>\n",
       "      <td>31.3.1905</td>\n",
       "      <td>-1</td>\n",
       "      <td>-1</td>\n",
       "      <td>-1</td>\n",
       "      <td>0</td>\n",
       "      <td>-1</td>\n",
       "      <td>-1</td>\n",
       "      <td>empty</td>\n",
       "      <td>Россия</td>\n",
       "      <td>2</td>\n",
       "      <td>...</td>\n",
       "      <td>empty</td>\n",
       "      <td>-1.00</td>\n",
       "      <td>Денис</td>\n",
       "      <td>-1</td>\n",
       "      <td>-1</td>\n",
       "      <td>empty</td>\n",
       "      <td>-1</td>\n",
       "      <td>empty</td>\n",
       "      <td>0</td>\n",
       "      <td>4</td>\n",
       "    </tr>\n",
       "  </tbody>\n",
       "</table>\n",
       "<p>5 rows × 24 columns</p>\n",
       "</div>"
      ],
      "text/plain": [
       "           bdate                                              langs  \\\n",
       "11313       27.8                                                 -1   \n",
       "23533       19.3  ['Русский', 'Gagauz dili', 'Türkçe', 'Українсь...   \n",
       "3386          -1                                                 -1   \n",
       "12659       20.6                                        ['English']   \n",
       "8037   31.3.1905                                                 -1   \n",
       "\n",
       "       political  smoking  verified  life_main  alcohol          tv   country  \\\n",
       "11313          3        1         0          1        1       empty    Россия   \n",
       "23533          3        2         0          1        2  не на вижу   Украина   \n",
       "3386          -1        4         0          3        4       empty    Россия   \n",
       "12659         -1        2         0         -1        2       empty  Беларусь   \n",
       "8037          -1       -1         0         -1       -1       empty    Россия   \n",
       "\n",
       "       sex     ...                      interests  university  first_name  \\\n",
       "11313    1     ...                          empty        0.00   Анастасия   \n",
       "23533    2     ...       кушать, спать, интернет)        0.00        Dima   \n",
       "3386     2     ...                          empty        0.00        Саша   \n",
       "12659    2     ...                          empty        0.00     Алексей   \n",
       "8037     2     ...                          empty       -1.00       Денис   \n",
       "\n",
       "            city     religion  movies relation  \\\n",
       "11313  Краснодар  Православие   empty        4   \n",
       "23533     Одесса  Православие  разные        4   \n",
       "3386          -1           -1   empty        0   \n",
       "12659      Слуцк           -1   empty        0   \n",
       "8037          -1           -1   empty       -1   \n",
       "\n",
       "                                                   music high_education  \\\n",
       "11313                                              empty              1   \n",
       "23533                                             разные              1   \n",
       "3386                                               empty              1   \n",
       "12659  SUICIDEBOY, BONES, LIL PEEP, IMAGINE DRAGONS, ...              1   \n",
       "8037                                               empty              0   \n",
       "\n",
       "      age_category  \n",
       "11313            4  \n",
       "23533            1  \n",
       "3386             4  \n",
       "12659            4  \n",
       "8037             4  \n",
       "\n",
       "[5 rows x 24 columns]"
      ]
     },
     "execution_count": 7,
     "metadata": {},
     "output_type": "execute_result"
    }
   ],
   "source": [
    "df_test.head()"
   ]
  },
  {
   "cell_type": "code",
   "execution_count": 8,
   "metadata": {},
   "outputs": [],
   "source": [
    "# Сохраним наборы данных для дальнейшего использования\n",
    "df_train.to_csv('learning/df_train.csv', sep='\\t', encoding='utf-8')\n",
    "df_test.to_csv('learning/df_test.csv', sep='\\t', encoding='utf-8')"
   ]
  },
  {
   "cell_type": "markdown",
   "metadata": {},
   "source": [
    "Смысл значений в столбцах sex, political, smoking, alcohol, relation, life_main следующий (из описания API VK):\n",
    "\n",
    "1) sex - пол пользователя:\n",
    "1 - женский;\n",
    "2 - мужской;\n",
    "0 - пол не указан\n",
    "\n",
    "2) political - политические предпочтения:\n",
    "\n",
    "1 - коммунистические;\n",
    "2 - социалистические;\n",
    "3 - умеренные;\n",
    "4 - либеральные;\n",
    "5 - консервативные;\n",
    "6 - монархические;\n",
    "7 - ультраконсервативные;\n",
    "8 - индиффирентные;\n",
    "9 - либертарианские;\n",
    "\n",
    "3) smoking, alcohol - отношение к курению, алкоголю:\n",
    "\n",
    "1 - резко негативное;\n",
    "2 - негативное;\n",
    "3 - компромиссное;\n",
    "4 - нейтральное;\n",
    "5 - положительное;\n",
    "\n",
    "4) relation - семейное положение:\n",
    "\n",
    "1 - не женат/не замужем;\n",
    "2 - есть друг/есть подруга;\n",
    "3 - помолвлен/помолвлена;\n",
    "4 - женат/замужем;\n",
    "5 - всё сложно;\n",
    "6 - в активном поиске;\n",
    "7 - влюблён/влюблена;\n",
    "8 - в гражданском браке;\n",
    "0 - не указано;\n",
    "\n",
    "5) life_main - главное в жизни:\n",
    "\n",
    "1 - семья и дети;\n",
    "2 - карьера и деньги;\n",
    "3 - развлечения и отдых;\n",
    "4 - наука и исследования;\n",
    "5 - совершенствование мира;\n",
    "6 - саморазвитие;\n",
    "7 - красота и искусство;\n",
    "8 - слава и влияние"
   ]
  },
  {
   "cell_type": "markdown",
   "metadata": {},
   "source": [
    "Попытаемся предсказать возраст (по данным VK (скорее всего, может быть с ошибками: неизвестно, как он там определяется)) по постам пользователя, его полу (пол указан всегда) и указанным признаками из раздела personal, а также по наличию высшего образования"
   ]
  },
  {
   "cell_type": "markdown",
   "metadata": {},
   "source": [
    "#### Функции преобразования постов пользователя"
   ]
  },
  {
   "cell_type": "code",
   "execution_count": 9,
   "metadata": {},
   "outputs": [],
   "source": [
    "from nltk.corpus import stopwords\n",
    "\n",
    "stopwords_en = stopwords.words('english')\n",
    "stopwords_ru = stopwords.words('russian')\n",
    "stopwords_ge = stopwords.words('german')\n",
    "\n",
    "stopwords_all = stopwords_en + stopwords_ru + stopwords_ge\n",
    "\n",
    "# дополнительные буквосочетания, которые будем удалять из текстов\n",
    "additional_stopwords = \\\n",
    "[u'https', u'vk', u'com', u'id', u'ph', u'др', u'св', u'ff', u'la', u'это', \\\n",
    " u'de', u'pa', u'bb', u'p', u'ул', u'ин', u'http', u'ru', u'md', u'x', \\\n",
    " u'ft', u'сб', u'b', u'к', u'www', u'youtube', u'ка', u'v', u'g', u'goo', u'gl', \\\n",
    " u'eu', u'u', u'te', u'un', u'вк', u'w', u'ly', u'su', u'bu', u'vl', u'эт', u'r', u'e', \\\n",
    " u'свой', u'ещё', u'мой', u'весь', u'днём', u'youtu', u'твой', u'наш', u'ваш', u'тот', u'этот']\n",
    "\n",
    "stopwords_all = stopwords_all + additional_stopwords\n",
    "\n",
    "# дополнительные удаляемые после лемматизации слова\n",
    "delete_words = [u'свой', u'ещё', u'мой', u'весь', u'днём', u'youtu', u'твой', u'наш', u'ваш', u'тот', u'этот']"
   ]
  },
  {
   "cell_type": "code",
   "execution_count": 10,
   "metadata": {},
   "outputs": [],
   "source": [
    "# используем для лемматизации библиотеку pymorphy2, которая работает с русским языком\n",
    "import pymorphy2\n",
    "morph = pymorphy2.MorphAnalyzer()\n",
    "\n",
    "def lemmatization(text):\n",
    "    return morph.parse(text)[0].normal_form\n",
    "\n",
    "def my_tokenizer(text):\n",
    "    text = text.lower()\n",
    "    # очистка от html-разметки\n",
    "    text = re.sub('<[^>]*>', '', text)\n",
    "    # выделение смайлов\n",
    "    emoticons = re.findall('(?::|;|=)(?:-)?(?:\\)|\\(|D|P)', text)\n",
    "    # удаление несловарных символов\n",
    "    text = re.sub(r'[\\W]+', ' ', text, flags=re.U) + ' '.join(emoticons).replace('-', '')\n",
    "    # удалим также все цифры, которые вряд ли полезны при анализе текста\n",
    "    text = re.sub(r'\\d+', '', text, flags=re.U)\n",
    "    # удалим два или более пробелов\n",
    "    text = re.sub(r'[ ]{2,}', '', text, flags=re.U)\n",
    "    # удалим подчёркивания\n",
    "    text = re.sub(r'[_]+', '', text, flags=re.U)\n",
    "    # разбиение по пробелам и удаление стоп-слов\n",
    "    tokenized = [w for w in text.split() if w not in stopwords_all]\n",
    "    tokenized = [re.sub(r\"\\W\", \"\", w, flags=re.U) for w in tokenized]\n",
    "    # лемматизация\n",
    "    tokenized = [lemmatization(w) for w in tokenized]\n",
    "    # удалим все слова из одной и двух букв. Вряд ли они несут большой смысл. \n",
    "    # Также удалим \"слова-паразиты\"\n",
    "    tokenized = [w for w in tokenized if len(w) > 2 and w not in delete_words]\n",
    "    return tokenized"
   ]
  },
  {
   "cell_type": "code",
   "execution_count": 11,
   "metadata": {},
   "outputs": [],
   "source": [
    "def get_posts_col(df):\n",
    "    return df['posts']\n",
    "\n",
    "def get_sex_col(df):\n",
    "    return df[['sex']]\n",
    "\n",
    "def get_interests_col(df):\n",
    "    return df[df['interests'] != \"\"]['interests']\n",
    "\n",
    "def get_movies_col(df):\n",
    "    return df[df['movies'] != \"\"]['movies']\n",
    "\n",
    "def get_music_col(df):\n",
    "    return df[df['music'] != \"\"]['music']\n",
    "\n",
    "def get_tv_col(df):\n",
    "    return df[df['tv'] != \"\"]['tv']\n",
    "\n",
    "def get_categorial_cols(df):\n",
    "    return df[['high_education', 'political', 'smoking', 'alcohol', 'relation', 'life_main']]\n",
    "\n",
    "def get_text_sample(df):   \n",
    "    return df[['posts','interests', 'movies', 'music', 'tv']]\n",
    "\n",
    "vec = make_union(*[\n",
    "    make_pipeline(FunctionTransformer(get_categorial_cols, validate=False), MinMaxScaler()),\n",
    "    make_pipeline(FunctionTransformer(get_posts_col, validate=False)), CountVectorizer(tokenizer=my_tokenizer)\n",
    "])"
   ]
  },
  {
   "cell_type": "markdown",
   "metadata": {},
   "source": [
    "С pipeline'ом что-то не получается, поэтому используем только столбец текста"
   ]
  },
  {
   "cell_type": "code",
   "execution_count": 12,
   "metadata": {},
   "outputs": [
    {
     "name": "stdout",
     "output_type": "stream",
     "text": [
      "(27208,)\n",
      "(6803,)\n"
     ]
    }
   ],
   "source": [
    "y_train = df_train['age_category']\n",
    "y_test = df_test['age_category']\n",
    "print(y_train.shape)\n",
    "print(y_test.shape)"
   ]
  },
  {
   "cell_type": "code",
   "execution_count": 13,
   "metadata": {},
   "outputs": [],
   "source": [
    "y_train.to_csv('learning/y_train', sep='\\t')\n",
    "y_test.to_csv('learning/y_test', sep='\\t')"
   ]
  },
  {
   "cell_type": "code",
   "execution_count": 14,
   "metadata": {},
   "outputs": [],
   "source": [
    "# функции для сохранения и последующего восстановления разреженной матрицы\n",
    "def save_sparse_csr(filename, array):\n",
    "    np.savez(filename, data=array.data, indices=array.indices,\n",
    "             indptr=array.indptr, shape=array.shape)\n",
    "\n",
    "def load_sparse_csr(filename):\n",
    "    loader = np.load(filename)\n",
    "    return csr_matrix((loader['data'], loader['indices'], loader['indptr']),\n",
    "                      shape=loader['shape'])"
   ]
  },
  {
   "cell_type": "code",
   "execution_count": 15,
   "metadata": {},
   "outputs": [],
   "source": [
    "# vectorizer = CountVectorizer(tokenizer=my_tokenizer, ngram_range=(1, 2))\n",
    "vectorizer_posts = TfidfVectorizer(tokenizer=my_tokenizer, ngram_range=(1, 1), analyzer='word', max_features=1000)\n",
    "vectorizer_interests = TfidfVectorizer(tokenizer=my_tokenizer, ngram_range=(1, 1), analyzer='word', max_features=1000)\n",
    "vectorizer_movies = TfidfVectorizer(tokenizer=my_tokenizer, ngram_range=(1, 1), analyzer='word', max_features=1000)\n",
    "vectorizer_music = TfidfVectorizer(tokenizer=my_tokenizer, ngram_range=(1, 1), analyzer='word', max_features=1000)\n",
    "vectorizer_tv = TfidfVectorizer(tokenizer=my_tokenizer, ngram_range=(1, 1), analyzer='word', max_features=1000)"
   ]
  },
  {
   "cell_type": "code",
   "execution_count": 16,
   "metadata": {},
   "outputs": [
    {
     "name": "stderr",
     "output_type": "stream",
     "text": [
      "100%|██████████| 27208/27208 [1:09:40<00:00,  6.51it/s]\n",
      "  1%|          | 145/27208 [00:00<00:34, 778.36it/s]"
     ]
    },
    {
     "name": "stdout",
     "output_type": "stream",
     "text": [
      "(27208, 1000)\n"
     ]
    },
    {
     "name": "stderr",
     "output_type": "stream",
     "text": [
      "100%|██████████| 27208/27208 [00:33<00:00, 822.14it/s]\n",
      "  1%|          | 303/27208 [00:00<00:09, 2945.75it/s]"
     ]
    },
    {
     "name": "stdout",
     "output_type": "stream",
     "text": [
      "(27208, 1000)\n"
     ]
    },
    {
     "name": "stderr",
     "output_type": "stream",
     "text": [
      "100%|██████████| 27208/27208 [00:17<00:00, 1598.96it/s]\n",
      "  2%|▏         | 414/27208 [00:00<00:06, 4092.73it/s]"
     ]
    },
    {
     "name": "stdout",
     "output_type": "stream",
     "text": [
      "(27208, 1000)\n"
     ]
    },
    {
     "name": "stderr",
     "output_type": "stream",
     "text": [
      "100%|██████████| 27208/27208 [00:11<00:00, 2366.66it/s]\n",
      "  2%|▏         | 430/27208 [00:00<00:06, 4184.71it/s]"
     ]
    },
    {
     "name": "stdout",
     "output_type": "stream",
     "text": [
      "(27208, 1000)\n"
     ]
    },
    {
     "name": "stderr",
     "output_type": "stream",
     "text": [
      "100%|██████████| 27208/27208 [00:07<00:00, 3414.18it/s]"
     ]
    },
    {
     "name": "stdout",
     "output_type": "stream",
     "text": [
      "(27208, 1000)\n"
     ]
    },
    {
     "name": "stderr",
     "output_type": "stream",
     "text": [
      "\n"
     ]
    },
    {
     "data": {
      "text/plain": [
       "(27208, 5000)"
      ]
     },
     "execution_count": 16,
     "metadata": {},
     "output_type": "execute_result"
    }
   ],
   "source": [
    "# Используем сразу все текстовые колонки\n",
    "X_train_posts = vectorizer_posts.fit_transform(tqdm(get_posts_col(df_train)))\n",
    "print(X_train_posts.shape)\n",
    "\n",
    "X_train_interests = vectorizer_interests.fit_transform(tqdm(get_interests_col(df_train)))\n",
    "print(X_train_interests.shape)\n",
    "\n",
    "X_train_movies = vectorizer_movies.fit_transform(tqdm(get_movies_col(df_train)))\n",
    "print(X_train_movies.shape)\n",
    "\n",
    "X_train_music = vectorizer_music.fit_transform(tqdm(get_music_col(df_train)))\n",
    "print(X_train_music.shape)\n",
    "\n",
    "X_train_tv = vectorizer_tv.fit_transform(tqdm(get_tv_col(df_train)))\n",
    "print(X_train_tv.shape)\n",
    "\n",
    "X_train_text = hstack([X_train_posts, X_train_interests, X_train_movies, X_train_music, X_train_tv])\n",
    "X_train_text.shape"
   ]
  },
  {
   "cell_type": "markdown",
   "metadata": {},
   "source": [
    "### Рассмотрим получившуюся матрицу tf-idf для постов"
   ]
  },
  {
   "cell_type": "code",
   "execution_count": 17,
   "metadata": {},
   "outputs": [],
   "source": [
    "features_posts = vectorizer_posts.get_feature_names()\n",
    "features_interests = vectorizer_interests.get_feature_names()\n",
    "features_movies = vectorizer_movies.get_feature_names()\n",
    "features_music = vectorizer_music.get_feature_names()\n",
    "features_tv = vectorizer_tv.get_feature_names()"
   ]
  },
  {
   "cell_type": "code",
   "execution_count": 21,
   "metadata": {},
   "outputs": [
    {
     "name": "stdout",
     "output_type": "stream",
     "text": [
      "[u'adid', u'android', u'app', u'bitcoin', u'club', u'facebook', u'fotomagicsu', u'fotomimi', u'happy', u'instagram']\n",
      "[u'abc', u'agel', u'aimania', u'akuna', u'alfa', u'alivemax', u'ambre', u'amway', u'apple', u'aquel']\n",
      "[u'alliance', u'american', u'bad', u'big', u'black', u'capital', u'cash', u'club', u'corp', u'dead']\n",
      "[u'abba', u'accept', u'acid', u'adele', u'adriano', u'aerosmith', u'age', u'air', u'aka', u'akon']\n",
      "[u'air', u'alliance', u'allin', u'american', u'androiid', u'apple', u'aston', u'bad', u'bbc', u'big']\n"
     ]
    }
   ],
   "source": [
    "print(features_posts[:10])\n",
    "print(features_interests[:10])\n",
    "print(features_movies[:10])\n",
    "print(features_music[:10])\n",
    "print(features_tv[:10])"
   ]
  },
  {
   "cell_type": "code",
   "execution_count": 22,
   "metadata": {},
   "outputs": [],
   "source": [
    "def top_tfidf_feats(row, features, top_n=25):\n",
    "    ''' Get top n tfidf values in row and return them with their corresponding feature names.'''\n",
    "    topn_ids = np.argsort(row)[::-1][:top_n]\n",
    "    top_feats = [(features[i], row[i]) for i in topn_ids]\n",
    "    df = pd.DataFrame(top_feats)\n",
    "    df.columns = ['feature', 'tfidf']\n",
    "    return df"
   ]
  },
  {
   "cell_type": "code",
   "execution_count": 23,
   "metadata": {},
   "outputs": [],
   "source": [
    "def top_feats_in_doc(Xtr, features, row_id, top_n=25):\n",
    "    ''' Top tfidf features in specific document (matrix row) '''\n",
    "    row = np.squeeze(Xtr[row_id].toarray())\n",
    "    return top_tfidf_feats(row, features, top_n)"
   ]
  },
  {
   "cell_type": "code",
   "execution_count": 25,
   "metadata": {},
   "outputs": [
    {
     "data": {
      "text/html": [
       "<div>\n",
       "<style scoped>\n",
       "    .dataframe tbody tr th:only-of-type {\n",
       "        vertical-align: middle;\n",
       "    }\n",
       "\n",
       "    .dataframe tbody tr th {\n",
       "        vertical-align: top;\n",
       "    }\n",
       "\n",
       "    .dataframe thead th {\n",
       "        text-align: right;\n",
       "    }\n",
       "</style>\n",
       "<table border=\"1\" class=\"dataframe\">\n",
       "  <thead>\n",
       "    <tr style=\"text-align: right;\">\n",
       "      <th></th>\n",
       "      <th>feature</th>\n",
       "      <th>tfidf</th>\n",
       "    </tr>\n",
       "  </thead>\n",
       "  <tbody>\n",
       "    <tr>\n",
       "      <th>0</th>\n",
       "      <td>мор</td>\n",
       "      <td>0.49</td>\n",
       "    </tr>\n",
       "    <tr>\n",
       "      <th>1</th>\n",
       "      <td>music</td>\n",
       "      <td>0.22</td>\n",
       "    </tr>\n",
       "    <tr>\n",
       "      <th>2</th>\n",
       "      <td>встреча</td>\n",
       "      <td>0.22</td>\n",
       "    </tr>\n",
       "    <tr>\n",
       "      <th>3</th>\n",
       "      <td>настроение</td>\n",
       "      <td>0.20</td>\n",
       "    </tr>\n",
       "    <tr>\n",
       "      <th>4</th>\n",
       "      <td>ёлка</td>\n",
       "      <td>0.20</td>\n",
       "    </tr>\n",
       "    <tr>\n",
       "      <th>5</th>\n",
       "      <td>дом</td>\n",
       "      <td>0.18</td>\n",
       "    </tr>\n",
       "  </tbody>\n",
       "</table>\n",
       "</div>"
      ],
      "text/plain": [
       "      feature  tfidf\n",
       "0         мор   0.49\n",
       "1       music   0.22\n",
       "2     встреча   0.22\n",
       "3  настроение   0.20\n",
       "4        ёлка   0.20\n",
       "5         дом   0.18"
      ]
     },
     "execution_count": 25,
     "metadata": {},
     "output_type": "execute_result"
    }
   ],
   "source": [
    "top_feats_in_doc(X_train_posts, features_posts, 1000, top_n=6)"
   ]
  },
  {
   "cell_type": "code",
   "execution_count": 26,
   "metadata": {},
   "outputs": [],
   "source": [
    "def top_mean_feats(Xtr, features, grp_ids=None, min_tfidf=0.1, top_n=25):\n",
    "    ''' Return the top n features that on average are most important amongst documents in rows\n",
    "        indentified by indices in grp_ids. '''\n",
    "    if grp_ids:\n",
    "        D = Xtr[grp_ids].toarray()\n",
    "    else:\n",
    "        D = Xtr.toarray()\n",
    "\n",
    "    D[D < min_tfidf] = 0\n",
    "    tfidf_means = np.mean(D, axis=0)\n",
    "    return top_tfidf_feats(tfidf_means, features, top_n)"
   ]
  },
  {
   "cell_type": "code",
   "execution_count": 27,
   "metadata": {},
   "outputs": [
    {
     "data": {
      "text/html": [
       "<div>\n",
       "<style scoped>\n",
       "    .dataframe tbody tr th:only-of-type {\n",
       "        vertical-align: middle;\n",
       "    }\n",
       "\n",
       "    .dataframe tbody tr th {\n",
       "        vertical-align: top;\n",
       "    }\n",
       "\n",
       "    .dataframe thead th {\n",
       "        text-align: right;\n",
       "    }\n",
       "</style>\n",
       "<table border=\"1\" class=\"dataframe\">\n",
       "  <thead>\n",
       "    <tr style=\"text-align: right;\">\n",
       "      <th></th>\n",
       "      <th>feature</th>\n",
       "      <th>tfidf</th>\n",
       "    </tr>\n",
       "  </thead>\n",
       "  <tbody>\n",
       "    <tr>\n",
       "      <th>0</th>\n",
       "      <td>человек</td>\n",
       "      <td>0.04</td>\n",
       "    </tr>\n",
       "    <tr>\n",
       "      <th>1</th>\n",
       "      <td>app</td>\n",
       "      <td>0.04</td>\n",
       "    </tr>\n",
       "    <tr>\n",
       "      <th>2</th>\n",
       "      <td>рождение</td>\n",
       "      <td>0.03</td>\n",
       "    </tr>\n",
       "    <tr>\n",
       "      <th>3</th>\n",
       "      <td>который</td>\n",
       "      <td>0.03</td>\n",
       "    </tr>\n",
       "    <tr>\n",
       "      <th>4</th>\n",
       "      <td>открытка</td>\n",
       "      <td>0.03</td>\n",
       "    </tr>\n",
       "    <tr>\n",
       "      <th>5</th>\n",
       "      <td>друг</td>\n",
       "      <td>0.03</td>\n",
       "    </tr>\n",
       "    <tr>\n",
       "      <th>6</th>\n",
       "      <td>год</td>\n",
       "      <td>0.03</td>\n",
       "    </tr>\n",
       "    <tr>\n",
       "      <th>7</th>\n",
       "      <td>жизнь</td>\n",
       "      <td>0.03</td>\n",
       "    </tr>\n",
       "    <tr>\n",
       "      <th>8</th>\n",
       "      <td>любить</td>\n",
       "      <td>0.03</td>\n",
       "    </tr>\n",
       "    <tr>\n",
       "      <th>9</th>\n",
       "      <td>новый</td>\n",
       "      <td>0.02</td>\n",
       "    </tr>\n",
       "  </tbody>\n",
       "</table>\n",
       "</div>"
      ],
      "text/plain": [
       "    feature  tfidf\n",
       "0   человек   0.04\n",
       "1       app   0.04\n",
       "2  рождение   0.03\n",
       "3   который   0.03\n",
       "4  открытка   0.03\n",
       "5      друг   0.03\n",
       "6       год   0.03\n",
       "7     жизнь   0.03\n",
       "8    любить   0.03\n",
       "9     новый   0.02"
      ]
     },
     "execution_count": 27,
     "metadata": {},
     "output_type": "execute_result"
    }
   ],
   "source": [
    "top_mean_feats(X_train_posts, features_posts, top_n=10)"
   ]
  },
  {
   "cell_type": "code",
   "execution_count": 28,
   "metadata": {},
   "outputs": [],
   "source": [
    "def top_feats_by_class(Xtr, y, features, min_tfidf=0.1, top_n=25):\n",
    "    ''' Return a list of dfs, where each df holds top_n features and their mean tfidf value\n",
    "        calculated across documents with the same class label. '''\n",
    "    dfs = []\n",
    "    labels = np.unique(y)\n",
    "    for label in labels:\n",
    "        ids = np.where(y==label)\n",
    "        feats_df = top_mean_feats(Xtr, features, ids, min_tfidf=min_tfidf, top_n=top_n)\n",
    "        feats_df.label = label\n",
    "        dfs.append(feats_df)\n",
    "    return dfs"
   ]
  },
  {
   "cell_type": "code",
   "execution_count": 29,
   "metadata": {},
   "outputs": [
    {
     "data": {
      "text/plain": [
       "[    feature  tfidf\n",
       " 0       app   0.04\n",
       " 1      друг   0.03\n",
       " 2  рождение   0.03\n",
       " 3    узнать   0.03\n",
       " 4    любить   0.03,      feature  tfidf\n",
       " 0    человек   0.04\n",
       " 1    который   0.04\n",
       " 2  instagram   0.04\n",
       " 3    спасибо   0.03\n",
       " 4       друг   0.03,     feature  tfidf\n",
       " 0       app   0.05\n",
       " 1  открытка   0.05\n",
       " 2   человек   0.04\n",
       " 3   который   0.03\n",
       " 4  рождение   0.03,     feature  tfidf\n",
       " 0       app   0.06\n",
       " 1  открытка   0.06\n",
       " 2   человек   0.04\n",
       " 3  рождение   0.03\n",
       " 4   который   0.03,     feature  tfidf\n",
       " 0   человек   0.04\n",
       " 1  рождение   0.04\n",
       " 2    любить   0.03\n",
       " 3     жизнь   0.03\n",
       " 4   который   0.03]"
      ]
     },
     "execution_count": 29,
     "metadata": {},
     "output_type": "execute_result"
    }
   ],
   "source": [
    "top_feats_by_class(X_train_posts, y_train, features_posts, top_n=5)"
   ]
  },
  {
   "cell_type": "code",
   "execution_count": 32,
   "metadata": {},
   "outputs": [
    {
     "ename": "AttributeError",
     "evalue": "indices not found",
     "output_type": "error",
     "traceback": [
      "\u001b[0;31m---------------------------------------------------------------------------\u001b[0m",
      "\u001b[0;31mAttributeError\u001b[0m                            Traceback (most recent call last)",
      "\u001b[0;32m<ipython-input-32-113149f7c8e9>\u001b[0m in \u001b[0;36m<module>\u001b[0;34m()\u001b[0m\n\u001b[0;32m----> 1\u001b[0;31m \u001b[0msave_sparse_csr\u001b[0m\u001b[0;34m(\u001b[0m\u001b[0;34m'learning/X_train_bag_of_words'\u001b[0m\u001b[0;34m,\u001b[0m \u001b[0mX_train_text\u001b[0m\u001b[0;34m)\u001b[0m\u001b[0;34m\u001b[0m\u001b[0m\n\u001b[0m\u001b[1;32m      2\u001b[0m \u001b[0mX_train_text\u001b[0m\u001b[0;34m.\u001b[0m\u001b[0mdata\u001b[0m\u001b[0;34m\u001b[0m\u001b[0m\n",
      "\u001b[0;32m<ipython-input-14-d69d42fd5522>\u001b[0m in \u001b[0;36msave_sparse_csr\u001b[0;34m(filename, array)\u001b[0m\n\u001b[1;32m      1\u001b[0m \u001b[0;31m# функции для сохранения и последующего восстановления разреженной матрицы\u001b[0m\u001b[0;34m\u001b[0m\u001b[0;34m\u001b[0m\u001b[0m\n\u001b[1;32m      2\u001b[0m \u001b[0;32mdef\u001b[0m \u001b[0msave_sparse_csr\u001b[0m\u001b[0;34m(\u001b[0m\u001b[0mfilename\u001b[0m\u001b[0;34m,\u001b[0m \u001b[0marray\u001b[0m\u001b[0;34m)\u001b[0m\u001b[0;34m:\u001b[0m\u001b[0;34m\u001b[0m\u001b[0m\n\u001b[0;32m----> 3\u001b[0;31m     np.savez(filename, data=array.data, indices=array.indices,\n\u001b[0m\u001b[1;32m      4\u001b[0m              indptr=array.indptr, shape=array.shape)\n\u001b[1;32m      5\u001b[0m \u001b[0;34m\u001b[0m\u001b[0m\n",
      "\u001b[0;32m/usr/local/lib/python2.7/dist-packages/scipy/sparse/base.pyc\u001b[0m in \u001b[0;36m__getattr__\u001b[0;34m(self, attr)\u001b[0m\n\u001b[1;32m    645\u001b[0m             \u001b[0;32mreturn\u001b[0m \u001b[0mself\u001b[0m\u001b[0;34m.\u001b[0m\u001b[0mgetnnz\u001b[0m\u001b[0;34m(\u001b[0m\u001b[0;34m)\u001b[0m\u001b[0;34m\u001b[0m\u001b[0m\n\u001b[1;32m    646\u001b[0m         \u001b[0;32melse\u001b[0m\u001b[0;34m:\u001b[0m\u001b[0;34m\u001b[0m\u001b[0m\n\u001b[0;32m--> 647\u001b[0;31m             \u001b[0;32mraise\u001b[0m \u001b[0mAttributeError\u001b[0m\u001b[0;34m(\u001b[0m\u001b[0mattr\u001b[0m \u001b[0;34m+\u001b[0m \u001b[0;34m\" not found\"\u001b[0m\u001b[0;34m)\u001b[0m\u001b[0;34m\u001b[0m\u001b[0m\n\u001b[0m\u001b[1;32m    648\u001b[0m \u001b[0;34m\u001b[0m\u001b[0m\n\u001b[1;32m    649\u001b[0m     \u001b[0;32mdef\u001b[0m \u001b[0mtranspose\u001b[0m\u001b[0;34m(\u001b[0m\u001b[0mself\u001b[0m\u001b[0;34m,\u001b[0m \u001b[0maxes\u001b[0m\u001b[0;34m=\u001b[0m\u001b[0mNone\u001b[0m\u001b[0;34m,\u001b[0m \u001b[0mcopy\u001b[0m\u001b[0;34m=\u001b[0m\u001b[0mFalse\u001b[0m\u001b[0;34m)\u001b[0m\u001b[0;34m:\u001b[0m\u001b[0;34m\u001b[0m\u001b[0m\n",
      "\u001b[0;31mAttributeError\u001b[0m: indices not found"
     ]
    }
   ],
   "source": [
    "save_sparse_csr('learning/X_train_bag_of_words', X_train_text)"
   ]
  },
  {
   "cell_type": "code",
   "execution_count": 21,
   "metadata": {
    "collapsed": true
   },
   "outputs": [],
   "source": [
    "# сохраним векторизатор, чтобы не тратить время на повторное обучение\n",
    "with open('learning/vectorizer.pk', 'wb') as fin:\n",
    "    pickle.dump(vectorizer, fin)"
   ]
  },
  {
   "cell_type": "code",
   "execution_count": 13,
   "metadata": {},
   "outputs": [
    {
     "data": {
      "text/plain": [
       "TfidfVectorizer(analyzer='word', binary=False, decode_error=u'strict',\n",
       "        dtype=<type 'numpy.int64'>, encoding=u'utf-8', input=u'content',\n",
       "        lowercase=True, max_df=1.0, max_features=None, min_df=1,\n",
       "        ngram_range=(1, 1), norm=u'l2', preprocessor=None, smooth_idf=True,\n",
       "        stop_words=None, strip_accents=None, sublinear_tf=False,\n",
       "        token_pattern=u'(?u)\\\\b\\\\w\\\\w+\\\\b',\n",
       "        tokenizer=<function my_tokenizer at 0x7fdf1aef2e60>, use_idf=True,\n",
       "        vocabulary=None)"
      ]
     },
     "execution_count": 13,
     "metadata": {},
     "output_type": "execute_result"
    }
   ],
   "source": [
    "# vectorizer = pickle.load(open('vectorizer.pk', 'rb'))\n",
    "# vectorizer"
   ]
  },
  {
   "cell_type": "code",
   "execution_count": 36,
   "metadata": {},
   "outputs": [],
   "source": [
    "# Функция для получения вектора признаков для обучения в виде разреженной матрицы\n",
    "def get_X(X_bag_of_words, df):\n",
    "    scaler = MinMaxScaler()\n",
    "\n",
    "    # прибавим остальные признаки, которые будем учитывать при обучении модели\n",
    "    X_sex = sparse.csr_matrix(get_sex_col(df))\n",
    "\n",
    "    categorial_cols_scale = scaler.fit_transform(get_categorial_cols(df))\n",
    "    X_categorial = sparse.csr_matrix(categorial_cols_scale)\n",
    "\n",
    "    X = hstack([X_sex, X_categorial, X_bag_of_words])\n",
    "\n",
    "    print(X.shape)\n",
    "    \n",
    "    return X"
   ]
  },
  {
   "cell_type": "code",
   "execution_count": 37,
   "metadata": {},
   "outputs": [
    {
     "name": "stdout",
     "output_type": "stream",
     "text": [
      "(27208, 5007)\n"
     ]
    }
   ],
   "source": [
    "X_train = get_X(X_train_text, df_train)"
   ]
  },
  {
   "cell_type": "code",
   "execution_count": 38,
   "metadata": {},
   "outputs": [
    {
     "name": "stderr",
     "output_type": "stream",
     "text": [
      "100%|██████████| 6803/6803 [16:25<00:00,  6.91it/s]\n",
      "100%|██████████| 6803/6803 [00:07<00:00, 920.73it/s] \n",
      "100%|██████████| 6803/6803 [00:04<00:00, 1698.38it/s]\n",
      "100%|██████████| 6803/6803 [00:02<00:00, 2550.11it/s]\n",
      "100%|██████████| 6803/6803 [00:01<00:00, 3680.27it/s]\n"
     ]
    }
   ],
   "source": [
    "X_test_posts = vectorizer_posts.transform(tqdm(get_posts_col(df_test)))\n",
    "X_test_interests = vectorizer_interests.transform(tqdm(get_interests_col(df_test)))\n",
    "X_test_movies = vectorizer_movies.transform(tqdm(get_movies_col(df_test)))\n",
    "X_test_music = vectorizer_music.transform(tqdm(get_music_col(df_test)))\n",
    "X_test_tv = vectorizer_tv.transform(tqdm(get_tv_col(df_test)))\n",
    "\n",
    "X_test_text = hstack([X_test_posts, X_test_interests, X_test_movies, X_test_music, X_test_tv])"
   ]
  },
  {
   "cell_type": "code",
   "execution_count": 39,
   "metadata": {},
   "outputs": [
    {
     "name": "stdout",
     "output_type": "stream",
     "text": [
      "(6803, 5007)\n"
     ]
    }
   ],
   "source": [
    "X_test = get_X(X_test_text, df_test)"
   ]
  },
  {
   "cell_type": "markdown",
   "metadata": {},
   "source": [
    "### Обучение модели"
   ]
  },
  {
   "cell_type": "code",
   "execution_count": 40,
   "metadata": {},
   "outputs": [],
   "source": [
    "def randomized_cv(model, param_grid, x_train, y_train):\n",
    "    grid_search = RandomizedSearchCV(model, param_grid, cv=5, scoring='accuracy', n_iter=10)\n",
    "    t_start = time.time()\n",
    "    grid_search.fit(x_train, y_train)\n",
    "    t_end = time.time()\n",
    "    print('model {} best accuracy score is {}'.format(model.__class__.__name__, grid_search.best_score_))\n",
    "    print('time for training is {} seconds'.format(t_end - t_start))\n",
    "    return grid_search.best_estimator_"
   ]
  },
  {
   "cell_type": "code",
   "execution_count": 41,
   "metadata": {},
   "outputs": [
    {
     "name": "stdout",
     "output_type": "stream",
     "text": [
      "model MultinomialNB best accuracy score is 0.460783593061\n",
      "time for training is 3.3917350769 seconds\n"
     ]
    }
   ],
   "source": [
    "param_grid = {'alpha':[0.0, 0.1, 0.2, 0.3, 0.4, 0.5, 0.6, 0.7, 0.8, 0.9, 1, 1.5, 2, 5]}\n",
    "model = MultinomialNB()\n",
    "best_model = randomized_cv(model, param_grid, X_train, y_train)"
   ]
  },
  {
   "cell_type": "code",
   "execution_count": 31,
   "metadata": {},
   "outputs": [
    {
     "ename": "NameError",
     "evalue": "name 'pickle' is not defined",
     "output_type": "error",
     "traceback": [
      "\u001b[0;31m---------------------------------------------------------------------------\u001b[0m",
      "\u001b[0;31mNameError\u001b[0m                                 Traceback (most recent call last)",
      "\u001b[0;32m<ipython-input-31-fab8d25a2a27>\u001b[0m in \u001b[0;36m<module>\u001b[0;34m()\u001b[0m\n\u001b[1;32m      1\u001b[0m \u001b[0;32mwith\u001b[0m \u001b[0mopen\u001b[0m\u001b[0;34m(\u001b[0m\u001b[0;34m'learning/model_bayes.pk'\u001b[0m\u001b[0;34m,\u001b[0m \u001b[0;34m'wb'\u001b[0m\u001b[0;34m)\u001b[0m \u001b[0;32mas\u001b[0m \u001b[0mfin\u001b[0m\u001b[0;34m:\u001b[0m\u001b[0;34m\u001b[0m\u001b[0m\n\u001b[0;32m----> 2\u001b[0;31m     \u001b[0mpickle\u001b[0m\u001b[0;34m.\u001b[0m\u001b[0mdump\u001b[0m\u001b[0;34m(\u001b[0m\u001b[0mbest_model\u001b[0m\u001b[0;34m,\u001b[0m \u001b[0mfin\u001b[0m\u001b[0;34m)\u001b[0m\u001b[0;34m\u001b[0m\u001b[0m\n\u001b[0m",
      "\u001b[0;31mNameError\u001b[0m: name 'pickle' is not defined"
     ]
    }
   ],
   "source": [
    "with open('learning/model_bayes.pk', 'wb') as fin:\n",
    "    pickle.dump(best_model, fin)"
   ]
  },
  {
   "cell_type": "code",
   "execution_count": 42,
   "metadata": {},
   "outputs": [
    {
     "name": "stdout",
     "output_type": "stream",
     "text": [
      "0.467146846979\n"
     ]
    }
   ],
   "source": [
    "y_pred = best_model.predict(X_test)\n",
    "print(accuracy_score(y_test, y_pred))"
   ]
  },
  {
   "cell_type": "markdown",
   "metadata": {},
   "source": [
    "Видим, что точность не слишком высокая, но всё же лучше случайного гадания (у нас 5 классов, поэтому при случайном выборе было бы 0.2). Есть ощущение, что текств постах ВК не слишком коррелирует с возрастом пользователя, поэтому хорошее предсказание сделать тяжело"
   ]
  },
  {
   "cell_type": "code",
   "execution_count": 43,
   "metadata": {},
   "outputs": [
    {
     "name": "stderr",
     "output_type": "stream",
     "text": [
      "100%|██████████| 27208/27208 [1:08:17<00:00,  6.64it/s]\n"
     ]
    }
   ],
   "source": [
    "# попробуем биграммы\n",
    "vectorizer_2gram = TfidfVectorizer(tokenizer=my_tokenizer, ngram_range=(2, 2), analyzer='word', max_features=5000)\n",
    "X_train_bag_of_words_2gram = vectorizer_2gram.fit_transform(tqdm(get_posts_col(df_train)))"
   ]
  },
  {
   "cell_type": "code",
   "execution_count": 45,
   "metadata": {},
   "outputs": [
    {
     "name": "stdout",
     "output_type": "stream",
     "text": [
      "(27208, 5007)\n"
     ]
    }
   ],
   "source": [
    "X_train_2gram = get_X(X_train_bag_of_words_2gram, df_train)"
   ]
  },
  {
   "cell_type": "code",
   "execution_count": 46,
   "metadata": {},
   "outputs": [
    {
     "name": "stderr",
     "output_type": "stream",
     "text": [
      "100%|██████████| 6803/6803 [17:17<00:00,  6.56it/s]\n"
     ]
    }
   ],
   "source": [
    "X_test_bag_of_words_2gram = vectorizer_2gram.transform(tqdm(get_posts_col(df_test)))"
   ]
  },
  {
   "cell_type": "code",
   "execution_count": 47,
   "metadata": {},
   "outputs": [
    {
     "name": "stdout",
     "output_type": "stream",
     "text": [
      "(6803, 5007)\n"
     ]
    }
   ],
   "source": [
    "X_test_2gram = get_X(X_test_bag_of_words_2gram, df_test)"
   ]
  },
  {
   "cell_type": "code",
   "execution_count": 48,
   "metadata": {},
   "outputs": [
    {
     "name": "stderr",
     "output_type": "stream",
     "text": [
      "/usr/local/lib/python2.7/dist-packages/sklearn/naive_bayes.py:472: UserWarning: alpha too small will result in numeric errors, setting alpha = 1.0e-10\n",
      "  'setting alpha = %.1e' % _ALPHA_MIN)\n"
     ]
    },
    {
     "name": "stdout",
     "output_type": "stream",
     "text": [
      "model MultinomialNB best accuracy score is 0.475926198177\n",
      "time for training is 1.65328288078 seconds\n"
     ]
    }
   ],
   "source": [
    "model_2gram = MultinomialNB()\n",
    "best_model_2gram = randomized_cv(model_2gram, param_grid, X_train_2gram, y_train)"
   ]
  },
  {
   "cell_type": "code",
   "execution_count": 49,
   "metadata": {},
   "outputs": [
    {
     "name": "stdout",
     "output_type": "stream",
     "text": [
      "0.474496545642\n"
     ]
    }
   ],
   "source": [
    "y_pred_2gram = best_model_2gram.predict(X_test_2gram)\n",
    "print(accuracy_score(y_test, y_pred_2gram))"
   ]
  },
  {
   "cell_type": "code",
   "execution_count": 60,
   "metadata": {},
   "outputs": [
    {
     "name": "stderr",
     "output_type": "stream",
     "text": [
      "100%|██████████| 27208/27208 [00:22<00:00, 1183.00it/s]\n"
     ]
    }
   ],
   "source": [
    "# рассмотрим вариант без использования определённого нами tokenizer'а\n",
    "vectorizer_standard = TfidfVectorizer(max_features=10000)\n",
    "X_train_bag_of_words_standard = vectorizer_standard.fit_transform(tqdm(get_posts_col(df_train)))"
   ]
  },
  {
   "cell_type": "code",
   "execution_count": 61,
   "metadata": {},
   "outputs": [
    {
     "name": "stdout",
     "output_type": "stream",
     "text": [
      "(27208, 10007)\n"
     ]
    }
   ],
   "source": [
    "X_train_standard = get_X(X_train_bag_of_words_standard, df_train)"
   ]
  },
  {
   "cell_type": "code",
   "execution_count": 62,
   "metadata": {},
   "outputs": [
    {
     "name": "stderr",
     "output_type": "stream",
     "text": [
      "100%|██████████| 6803/6803 [00:06<00:00, 1046.56it/s]\n"
     ]
    }
   ],
   "source": [
    "X_test_bag_of_words_standard = vectorizer_standard.transform(tqdm(get_posts_col(df_test)))"
   ]
  },
  {
   "cell_type": "code",
   "execution_count": 63,
   "metadata": {},
   "outputs": [
    {
     "name": "stdout",
     "output_type": "stream",
     "text": [
      "model MultinomialNB best accuracy score is 0.488496030579\n",
      "time for training is 9.50514888763 seconds\n"
     ]
    }
   ],
   "source": [
    "model_standard = MultinomialNB()\n",
    "best_model_standard = randomized_cv(model_standard, param_grid, X_train_standard, y_train)"
   ]
  },
  {
   "cell_type": "code",
   "execution_count": 64,
   "metadata": {},
   "outputs": [
    {
     "name": "stdout",
     "output_type": "stream",
     "text": [
      "(6803, 10007)\n",
      "0.492870792298\n"
     ]
    }
   ],
   "source": [
    "X_test_standard = get_X(X_test_bag_of_words_standard, df_test)\n",
    "y_pred_standard = best_model_standard.predict(X_test_standard)\n",
    "print(accuracy_score(y_test, y_pred_standard))"
   ]
  },
  {
   "cell_type": "markdown",
   "metadata": {
    "collapsed": true
   },
   "source": [
    "### Некоторые выводы"
   ]
  },
  {
   "cell_type": "markdown",
   "metadata": {
    "collapsed": true
   },
   "source": [
    "1) Текстовые данные VK и возраст пользователя коррелирую, но незначительно. Используя только тестовые данные, предсказать возраст с высокой точностью не получится. Достигнутая точность составляет около 0,5 на 5 классах, что примерно в 2,5 раза лучше случайного гадания. \n",
    "\n",
    "2) Использование биграмм (пар слов) несколько увеличивает точность, но незначительно.\n",
    "\n",
    "3) Выбор количества \"оставляемых\" в наборе слов влияет на точность, но как выбрать оптималдьное значение, не слишком понятно. "
   ]
  }
 ],
 "metadata": {
  "kernelspec": {
   "display_name": "Python 3",
   "language": "python",
   "name": "python3"
  },
  "language_info": {
   "codemirror_mode": {
    "name": "ipython",
    "version": 2
   },
   "file_extension": ".py",
   "mimetype": "text/x-python",
   "name": "python",
   "nbconvert_exporter": "python",
   "pygments_lexer": "ipython2",
   "version": "2.7.12"
  }
 },
 "nbformat": 4,
 "nbformat_minor": 2
}
