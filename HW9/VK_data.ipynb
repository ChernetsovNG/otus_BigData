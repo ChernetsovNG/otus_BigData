{
 "cells": [
  {
   "cell_type": "code",
   "execution_count": 1,
   "metadata": {
    "collapsed": true
   },
   "outputs": [],
   "source": [
    "import re\n",
    "import pandas as pd\n",
    "import numpy as np\n",
    "import matplotlib\n",
    "import matplotlib.pyplot as plt\n",
    "import matplotlib.cm as cm\n",
    "import seaborn as sns\n",
    "\n",
    "from sklearn.base import BaseEstimator, TransformerMixin\n",
    "from sklearn.pipeline import make_union, make_pipeline\n",
    "from sklearn.preprocessing import FunctionTransformer, StandardScaler, LabelEncoder, MinMaxScaler,  Imputer\n",
    "from sklearn.preprocessing import LabelBinarizer, OneHotEncoder\n",
    "from sklearn.model_selection import train_test_split\n",
    "from sklearn.feature_extraction.text import CountVectorizer, TfidfTransformer, TfidfVectorizer\n",
    "from sklearn.naive_bayes import MultinomialNB\n",
    "from sklearn.model_selection import RandomizedSearchCV\n",
    "from sklearn.metrics import accuracy_score\n",
    "from sklearn.svm import SVR\n",
    "\n",
    "from tqdm import tqdm\n",
    "import time\n",
    "# import cPickle as pickle\n",
    "from scipy import sparse\n",
    "from scipy.sparse import hstack\n",
    "\n",
    "%matplotlib inline\n",
    "plt.rcParams[\"figure.figsize\"] = (15, 8)\n",
    "pd.options.display.float_format = '{:.2f}'.format"
   ]
  },
  {
   "cell_type": "code",
   "execution_count": 2,
   "metadata": {
    "collapsed": true
   },
   "outputs": [],
   "source": [
    "# Функция для вычисления квадратного корня среднеквадратической ошибки логарифма \n",
    "# (Root Mean Squared Logarithmic Error (RMSLE))\n",
    "def rmsle(y, y_pred):\n",
    "    y_pred[y_pred < 0.0] = 0.0\n",
    "    log_sqr = np.square(np.log(np.add(y_pred, 1.0)) - np.log(np.add(y, 1.0)))\n",
    "    return math.sqrt(np.sum(log_sqr) / y.shape[0])"
   ]
  },
  {
   "cell_type": "code",
   "execution_count": 3,
   "metadata": {},
   "outputs": [
    {
     "name": "stdout",
     "output_type": "stream",
     "text": [
      "<class 'pandas.core.frame.DataFrame'>\n",
      "RangeIndex: 35517 entries, 0 to 35516\n",
      "Data columns (total 18 columns):\n",
      "political     5400 non-null float64\n",
      "country       34114 non-null object\n",
      "smoking       6264 non-null float64\n",
      "sex           35517 non-null int64\n",
      "id            35517 non-null int64\n",
      "last_name     35517 non-null object\n",
      "alcohol       6189 non-null float64\n",
      "religion      6357 non-null object\n",
      "langs         4624 non-null object\n",
      "city          32524 non-null object\n",
      "relation      14826 non-null float64\n",
      "age           35517 non-null float64\n",
      "verified      35517 non-null int64\n",
      "bdate         29173 non-null object\n",
      "first_name    35517 non-null object\n",
      "university    14826 non-null float64\n",
      "life_main     6239 non-null float64\n",
      "posts         35517 non-null object\n",
      "dtypes: float64(7), int64(3), object(8)\n",
      "memory usage: 4.9+ MB\n"
     ]
    }
   ],
   "source": [
    "df = pd.read_csv('data/vk_users_data.csv')\n",
    "df.info()"
   ]
  },
  {
   "cell_type": "code",
   "execution_count": 4,
   "metadata": {
    "collapsed": true
   },
   "outputs": [],
   "source": [
    "# заменим не указанные значения категориальных признаков на -1\n",
    "df = df.fillna(-1)\n",
    "# В столбце university содержится id университета по БД VK. \n",
    "# Будем считать, что если он указан, то у пользователя есть высшее \n",
    "# образование, иначе нет (хотя строго это не так, он может быть просто \n",
    "# не указан. Но примем такое предположение)\n",
    "df['high_education'] = df['university'].apply(lambda x: 0 if x < -0.5 else 1)\n",
    "df['age'] = df['age'].astype(int)\n",
    "df['political'] = df['political'].astype(int)\n",
    "df['smoking'] = df['smoking'].astype(int)\n",
    "df['alcohol'] = df['alcohol'].astype(int)\n",
    "df['relation'] = df['relation'].astype(int)\n",
    "df['life_main'] = df['life_main'].astype(int)\n",
    "# df['posts'] = df['posts'].str.decode('utf-8')"
   ]
  },
  {
   "cell_type": "code",
   "execution_count": 5,
   "metadata": {},
   "outputs": [
    {
     "data": {
      "text/html": [
       "<div>\n",
       "<style scoped>\n",
       "    .dataframe tbody tr th:only-of-type {\n",
       "        vertical-align: middle;\n",
       "    }\n",
       "\n",
       "    .dataframe tbody tr th {\n",
       "        vertical-align: top;\n",
       "    }\n",
       "\n",
       "    .dataframe thead th {\n",
       "        text-align: right;\n",
       "    }\n",
       "</style>\n",
       "<table border=\"1\" class=\"dataframe\">\n",
       "  <thead>\n",
       "    <tr style=\"text-align: right;\">\n",
       "      <th></th>\n",
       "      <th>political</th>\n",
       "      <th>country</th>\n",
       "      <th>smoking</th>\n",
       "      <th>sex</th>\n",
       "      <th>id</th>\n",
       "      <th>last_name</th>\n",
       "      <th>alcohol</th>\n",
       "      <th>religion</th>\n",
       "      <th>langs</th>\n",
       "      <th>city</th>\n",
       "      <th>relation</th>\n",
       "      <th>age</th>\n",
       "      <th>verified</th>\n",
       "      <th>bdate</th>\n",
       "      <th>first_name</th>\n",
       "      <th>university</th>\n",
       "      <th>life_main</th>\n",
       "      <th>posts</th>\n",
       "      <th>high_education</th>\n",
       "      <th>age_category</th>\n",
       "    </tr>\n",
       "  </thead>\n",
       "  <tbody>\n",
       "    <tr>\n",
       "      <th>0</th>\n",
       "      <td>-1</td>\n",
       "      <td>Россия</td>\n",
       "      <td>-1</td>\n",
       "      <td>1</td>\n",
       "      <td>2615791</td>\n",
       "      <td>Третьякова</td>\n",
       "      <td>-1</td>\n",
       "      <td>-1</td>\n",
       "      <td>-1</td>\n",
       "      <td>Москва</td>\n",
       "      <td>-1</td>\n",
       "      <td>26</td>\n",
       "      <td>0</td>\n",
       "      <td>5.3.1992</td>\n",
       "      <td>Анастасия</td>\n",
       "      <td>-1.00</td>\n",
       "      <td>-1</td>\n",
       "      <td>🌸🌸🌸 #id2615791 (fashionlioness) #модель #фотос...</td>\n",
       "      <td>0</td>\n",
       "      <td>1</td>\n",
       "    </tr>\n",
       "    <tr>\n",
       "      <th>1</th>\n",
       "      <td>-1</td>\n",
       "      <td>Россия</td>\n",
       "      <td>-1</td>\n",
       "      <td>2</td>\n",
       "      <td>148071868</td>\n",
       "      <td>Дмитриев</td>\n",
       "      <td>-1</td>\n",
       "      <td>-1</td>\n",
       "      <td>-1</td>\n",
       "      <td>Кострома</td>\n",
       "      <td>-1</td>\n",
       "      <td>18</td>\n",
       "      <td>0</td>\n",
       "      <td>-1</td>\n",
       "      <td>Сергей</td>\n",
       "      <td>-1.00</td>\n",
       "      <td>-1</td>\n",
       "      <td>Карантин)!!!!!!!!!</td>\n",
       "      <td>0</td>\n",
       "      <td>0</td>\n",
       "    </tr>\n",
       "    <tr>\n",
       "      <th>2</th>\n",
       "      <td>3</td>\n",
       "      <td>Россия</td>\n",
       "      <td>4</td>\n",
       "      <td>1</td>\n",
       "      <td>54774632</td>\n",
       "      <td>Власова</td>\n",
       "      <td>4</td>\n",
       "      <td>Православие</td>\n",
       "      <td>-1</td>\n",
       "      <td>Пермь</td>\n",
       "      <td>4</td>\n",
       "      <td>110</td>\n",
       "      <td>0</td>\n",
       "      <td>6.7</td>\n",
       "      <td>Анюта</td>\n",
       "      <td>0.00</td>\n",
       "      <td>1</td>\n",
       "      <td>Не важно, сколько дверей закроется перед твоим...</td>\n",
       "      <td>1</td>\n",
       "      <td>4</td>\n",
       "    </tr>\n",
       "    <tr>\n",
       "      <th>3</th>\n",
       "      <td>-1</td>\n",
       "      <td>Россия</td>\n",
       "      <td>-1</td>\n",
       "      <td>1</td>\n",
       "      <td>76303980</td>\n",
       "      <td>Шабалкова</td>\n",
       "      <td>-1</td>\n",
       "      <td>-1</td>\n",
       "      <td>-1</td>\n",
       "      <td>Санкт-Петербург</td>\n",
       "      <td>-1</td>\n",
       "      <td>90</td>\n",
       "      <td>0</td>\n",
       "      <td>3.9</td>\n",
       "      <td>Анастасия</td>\n",
       "      <td>-1.00</td>\n",
       "      <td>-1</td>\n",
       "      <td>Друзья!  Я собираю большую посылку с помощью д...</td>\n",
       "      <td>0</td>\n",
       "      <td>4</td>\n",
       "    </tr>\n",
       "    <tr>\n",
       "      <th>4</th>\n",
       "      <td>-1</td>\n",
       "      <td>Россия</td>\n",
       "      <td>1</td>\n",
       "      <td>2</td>\n",
       "      <td>104199626</td>\n",
       "      <td>Блейх</td>\n",
       "      <td>1</td>\n",
       "      <td>Православие</td>\n",
       "      <td>['Русский', 'English']</td>\n",
       "      <td>Санкт-Петербург</td>\n",
       "      <td>1</td>\n",
       "      <td>26</td>\n",
       "      <td>0</td>\n",
       "      <td>6.11</td>\n",
       "      <td>Эдгар</td>\n",
       "      <td>1.00</td>\n",
       "      <td>1</td>\n",
       "      <td>Не мой среди твоих\\nИстинный ариец. Характер —...</td>\n",
       "      <td>1</td>\n",
       "      <td>1</td>\n",
       "    </tr>\n",
       "  </tbody>\n",
       "</table>\n",
       "</div>"
      ],
      "text/plain": [
       "   political country  smoking  sex         id   last_name  alcohol  \\\n",
       "0         -1  Россия       -1    1    2615791  Третьякова       -1   \n",
       "1         -1  Россия       -1    2  148071868    Дмитриев       -1   \n",
       "2          3  Россия        4    1   54774632     Власова        4   \n",
       "3         -1  Россия       -1    1   76303980   Шабалкова       -1   \n",
       "4         -1  Россия        1    2  104199626       Блейх        1   \n",
       "\n",
       "      religion                   langs             city  relation  age  \\\n",
       "0           -1                      -1           Москва        -1   26   \n",
       "1           -1                      -1         Кострома        -1   18   \n",
       "2  Православие                      -1            Пермь         4  110   \n",
       "3           -1                      -1  Санкт-Петербург        -1   90   \n",
       "4  Православие  ['Русский', 'English']  Санкт-Петербург         1   26   \n",
       "\n",
       "   verified     bdate first_name  university  life_main  \\\n",
       "0         0  5.3.1992  Анастасия       -1.00         -1   \n",
       "1         0        -1     Сергей       -1.00         -1   \n",
       "2         0       6.7      Анюта        0.00          1   \n",
       "3         0       3.9  Анастасия       -1.00         -1   \n",
       "4         0      6.11      Эдгар        1.00          1   \n",
       "\n",
       "                                               posts  high_education  \\\n",
       "0  🌸🌸🌸 #id2615791 (fashionlioness) #модель #фотос...               0   \n",
       "1                                 Карантин)!!!!!!!!!               0   \n",
       "2  Не важно, сколько дверей закроется перед твоим...               1   \n",
       "3  Друзья!  Я собираю большую посылку с помощью д...               0   \n",
       "4  Не мой среди твоих\\nИстинный ариец. Характер —...               1   \n",
       "\n",
       "   age_category  \n",
       "0             1  \n",
       "1             0  \n",
       "2             4  \n",
       "3             4  \n",
       "4             1  "
      ]
     },
     "execution_count": 5,
     "metadata": {},
     "output_type": "execute_result"
    }
   ],
   "source": [
    "# Чтобы превратить нашу задачу в задачу классификации, уменьшим количество категорий возраста\n",
    "# рассмотрим возраста от 0 до 18; от 18 до 30; от 30 до 50; от 50 до 70 и от 70 до 110 - 5 категорий\n",
    "def age_cat(age):\n",
    "    if 0 <= age <= 18:\n",
    "        return 0\n",
    "    elif 18 < age <= 30:\n",
    "        return 1\n",
    "    elif 30 < age <= 50:\n",
    "        return 2\n",
    "    elif 50 < age <= 70:\n",
    "        return 3\n",
    "    elif 70 < age <= 110:\n",
    "        return 4\n",
    "    \n",
    "df['age_category'] = df['age'].apply(lambda x: age_cat(x))\n",
    "df.head()"
   ]
  },
  {
   "cell_type": "code",
   "execution_count": 6,
   "metadata": {
    "collapsed": true
   },
   "outputs": [],
   "source": [
    "df_train, df_test = train_test_split(df, test_size=0.2, random_state=42)"
   ]
  },
  {
   "cell_type": "code",
   "execution_count": 7,
   "metadata": {},
   "outputs": [
    {
     "data": {
      "text/html": [
       "<div>\n",
       "<style scoped>\n",
       "    .dataframe tbody tr th:only-of-type {\n",
       "        vertical-align: middle;\n",
       "    }\n",
       "\n",
       "    .dataframe tbody tr th {\n",
       "        vertical-align: top;\n",
       "    }\n",
       "\n",
       "    .dataframe thead th {\n",
       "        text-align: right;\n",
       "    }\n",
       "</style>\n",
       "<table border=\"1\" class=\"dataframe\">\n",
       "  <thead>\n",
       "    <tr style=\"text-align: right;\">\n",
       "      <th></th>\n",
       "      <th>political</th>\n",
       "      <th>country</th>\n",
       "      <th>smoking</th>\n",
       "      <th>sex</th>\n",
       "      <th>id</th>\n",
       "      <th>last_name</th>\n",
       "      <th>alcohol</th>\n",
       "      <th>religion</th>\n",
       "      <th>langs</th>\n",
       "      <th>city</th>\n",
       "      <th>relation</th>\n",
       "      <th>age</th>\n",
       "      <th>verified</th>\n",
       "      <th>bdate</th>\n",
       "      <th>first_name</th>\n",
       "      <th>university</th>\n",
       "      <th>life_main</th>\n",
       "      <th>posts</th>\n",
       "      <th>high_education</th>\n",
       "      <th>age_category</th>\n",
       "    </tr>\n",
       "  </thead>\n",
       "  <tbody>\n",
       "    <tr>\n",
       "      <th>15714</th>\n",
       "      <td>-1</td>\n",
       "      <td>Украина</td>\n",
       "      <td>-1</td>\n",
       "      <td>1</td>\n",
       "      <td>128537508</td>\n",
       "      <td>Лехновська</td>\n",
       "      <td>-1</td>\n",
       "      <td>-1</td>\n",
       "      <td>-1</td>\n",
       "      <td>Львов</td>\n",
       "      <td>-1</td>\n",
       "      <td>30</td>\n",
       "      <td>0</td>\n",
       "      <td>17.9.1989</td>\n",
       "      <td>Мар'яна</td>\n",
       "      <td>-1.00</td>\n",
       "      <td>-1</td>\n",
       "      <td>Моя квіточка😘🌹🌼🌸\\nКвіточка наша, вітаємо тебе ...</td>\n",
       "      <td>0</td>\n",
       "      <td>1</td>\n",
       "    </tr>\n",
       "    <tr>\n",
       "      <th>11666</th>\n",
       "      <td>6</td>\n",
       "      <td>Италия</td>\n",
       "      <td>-1</td>\n",
       "      <td>1</td>\n",
       "      <td>132398387</td>\n",
       "      <td>Петросян</td>\n",
       "      <td>-1</td>\n",
       "      <td>Православие</td>\n",
       "      <td>-1</td>\n",
       "      <td>Fano</td>\n",
       "      <td>1</td>\n",
       "      <td>54</td>\n",
       "      <td>0</td>\n",
       "      <td>7.11</td>\n",
       "      <td>Марина</td>\n",
       "      <td>16542.00</td>\n",
       "      <td>-1</td>\n",
       "      <td>з днем рождения!!!!!\\n 😃 Картинки и открытки ♥...</td>\n",
       "      <td>1</td>\n",
       "      <td>3</td>\n",
       "    </tr>\n",
       "    <tr>\n",
       "      <th>17047</th>\n",
       "      <td>-1</td>\n",
       "      <td>Беларусь</td>\n",
       "      <td>-1</td>\n",
       "      <td>1</td>\n",
       "      <td>156080718</td>\n",
       "      <td>Соколовская</td>\n",
       "      <td>-1</td>\n",
       "      <td>-1</td>\n",
       "      <td>-1</td>\n",
       "      <td>Минск</td>\n",
       "      <td>-1</td>\n",
       "      <td>50</td>\n",
       "      <td>0</td>\n",
       "      <td>5.7</td>\n",
       "      <td>Елена</td>\n",
       "      <td>-1.00</td>\n",
       "      <td>-1</td>\n",
       "      <td>Всех с Новым годом Собаки!!!  Счастья,  Любви,...</td>\n",
       "      <td>0</td>\n",
       "      <td>2</td>\n",
       "    </tr>\n",
       "    <tr>\n",
       "      <th>28715</th>\n",
       "      <td>-1</td>\n",
       "      <td>Россия</td>\n",
       "      <td>-1</td>\n",
       "      <td>1</td>\n",
       "      <td>3687543</td>\n",
       "      <td>Игонина</td>\n",
       "      <td>-1</td>\n",
       "      <td>верю в себя</td>\n",
       "      <td>-1</td>\n",
       "      <td>Ульяновск</td>\n",
       "      <td>7</td>\n",
       "      <td>42</td>\n",
       "      <td>0</td>\n",
       "      <td>13.3</td>\n",
       "      <td>Анна</td>\n",
       "      <td>871.00</td>\n",
       "      <td>6</td>\n",
       "      <td>Актуальное время на Новогодние фотосессии и фо...</td>\n",
       "      <td>1</td>\n",
       "      <td>2</td>\n",
       "    </tr>\n",
       "    <tr>\n",
       "      <th>27703</th>\n",
       "      <td>-1</td>\n",
       "      <td>Россия</td>\n",
       "      <td>-1</td>\n",
       "      <td>1</td>\n",
       "      <td>819833</td>\n",
       "      <td>Зайцева</td>\n",
       "      <td>-1</td>\n",
       "      <td>верю</td>\n",
       "      <td>-1</td>\n",
       "      <td>Тюмень</td>\n",
       "      <td>4</td>\n",
       "      <td>34</td>\n",
       "      <td>0</td>\n",
       "      <td>27.11</td>\n",
       "      <td>Ксения</td>\n",
       "      <td>862.00</td>\n",
       "      <td>-1</td>\n",
       "      <td>На улице божественная красота😍😍 как у вас посл...</td>\n",
       "      <td>1</td>\n",
       "      <td>2</td>\n",
       "    </tr>\n",
       "  </tbody>\n",
       "</table>\n",
       "</div>"
      ],
      "text/plain": [
       "       political   country  smoking  sex         id    last_name  alcohol  \\\n",
       "15714         -1   Украина       -1    1  128537508   Лехновська       -1   \n",
       "11666          6    Италия       -1    1  132398387     Петросян       -1   \n",
       "17047         -1  Беларусь       -1    1  156080718  Соколовская       -1   \n",
       "28715         -1    Россия       -1    1    3687543      Игонина       -1   \n",
       "27703         -1    Россия       -1    1     819833      Зайцева       -1   \n",
       "\n",
       "          religion langs       city  relation  age  verified      bdate  \\\n",
       "15714           -1    -1      Львов        -1   30         0  17.9.1989   \n",
       "11666  Православие    -1       Fano         1   54         0       7.11   \n",
       "17047           -1    -1      Минск        -1   50         0        5.7   \n",
       "28715  верю в себя    -1  Ульяновск         7   42         0       13.3   \n",
       "27703         верю    -1     Тюмень         4   34         0      27.11   \n",
       "\n",
       "      first_name  university  life_main  \\\n",
       "15714    Мар'яна       -1.00         -1   \n",
       "11666     Марина    16542.00         -1   \n",
       "17047      Елена       -1.00         -1   \n",
       "28715       Анна      871.00          6   \n",
       "27703     Ксения      862.00         -1   \n",
       "\n",
       "                                                   posts  high_education  \\\n",
       "15714  Моя квіточка😘🌹🌼🌸\\nКвіточка наша, вітаємо тебе ...               0   \n",
       "11666  з днем рождения!!!!!\\n 😃 Картинки и открытки ♥...               1   \n",
       "17047  Всех с Новым годом Собаки!!!  Счастья,  Любви,...               0   \n",
       "28715  Актуальное время на Новогодние фотосессии и фо...               1   \n",
       "27703  На улице божественная красота😍😍 как у вас посл...               1   \n",
       "\n",
       "       age_category  \n",
       "15714             1  \n",
       "11666             3  \n",
       "17047             2  \n",
       "28715             2  \n",
       "27703             2  "
      ]
     },
     "execution_count": 7,
     "metadata": {},
     "output_type": "execute_result"
    }
   ],
   "source": [
    "df_train.head()"
   ]
  },
  {
   "cell_type": "code",
   "execution_count": 8,
   "metadata": {},
   "outputs": [
    {
     "data": {
      "text/html": [
       "<div>\n",
       "<style scoped>\n",
       "    .dataframe tbody tr th:only-of-type {\n",
       "        vertical-align: middle;\n",
       "    }\n",
       "\n",
       "    .dataframe tbody tr th {\n",
       "        vertical-align: top;\n",
       "    }\n",
       "\n",
       "    .dataframe thead th {\n",
       "        text-align: right;\n",
       "    }\n",
       "</style>\n",
       "<table border=\"1\" class=\"dataframe\">\n",
       "  <thead>\n",
       "    <tr style=\"text-align: right;\">\n",
       "      <th></th>\n",
       "      <th>political</th>\n",
       "      <th>country</th>\n",
       "      <th>smoking</th>\n",
       "      <th>sex</th>\n",
       "      <th>id</th>\n",
       "      <th>last_name</th>\n",
       "      <th>alcohol</th>\n",
       "      <th>religion</th>\n",
       "      <th>langs</th>\n",
       "      <th>city</th>\n",
       "      <th>relation</th>\n",
       "      <th>age</th>\n",
       "      <th>verified</th>\n",
       "      <th>bdate</th>\n",
       "      <th>first_name</th>\n",
       "      <th>university</th>\n",
       "      <th>life_main</th>\n",
       "      <th>posts</th>\n",
       "      <th>high_education</th>\n",
       "      <th>age_category</th>\n",
       "    </tr>\n",
       "  </thead>\n",
       "  <tbody>\n",
       "    <tr>\n",
       "      <th>7339</th>\n",
       "      <td>-1</td>\n",
       "      <td>Россия</td>\n",
       "      <td>-1</td>\n",
       "      <td>2</td>\n",
       "      <td>30163255</td>\n",
       "      <td>Кузинский</td>\n",
       "      <td>-1</td>\n",
       "      <td>-1</td>\n",
       "      <td>-1</td>\n",
       "      <td>Сочи</td>\n",
       "      <td>-1</td>\n",
       "      <td>34</td>\n",
       "      <td>0</td>\n",
       "      <td>15.8.1984</td>\n",
       "      <td>Виталик</td>\n",
       "      <td>-1.00</td>\n",
       "      <td>-1</td>\n",
       "      <td>Закрыл соревновательный сезон 17го года. \\nСта...</td>\n",
       "      <td>0</td>\n",
       "      <td>2</td>\n",
       "    </tr>\n",
       "    <tr>\n",
       "      <th>9058</th>\n",
       "      <td>-1</td>\n",
       "      <td>Россия</td>\n",
       "      <td>-1</td>\n",
       "      <td>2</td>\n",
       "      <td>35057592</td>\n",
       "      <td>Пьеха</td>\n",
       "      <td>-1</td>\n",
       "      <td>-1</td>\n",
       "      <td>-1</td>\n",
       "      <td>Санкт-Петербург</td>\n",
       "      <td>-1</td>\n",
       "      <td>34</td>\n",
       "      <td>1</td>\n",
       "      <td>-1</td>\n",
       "      <td>Стас</td>\n",
       "      <td>-1.00</td>\n",
       "      <td>-1</td>\n",
       "      <td>Я долго ждал- Когда придет её черед? ведь это ...</td>\n",
       "      <td>0</td>\n",
       "      <td>2</td>\n",
       "    </tr>\n",
       "    <tr>\n",
       "      <th>29722</th>\n",
       "      <td>-1</td>\n",
       "      <td>Россия</td>\n",
       "      <td>-1</td>\n",
       "      <td>1</td>\n",
       "      <td>116910037</td>\n",
       "      <td>Алдошина</td>\n",
       "      <td>-1</td>\n",
       "      <td>-1</td>\n",
       "      <td>-1</td>\n",
       "      <td>Санкт-Петербург</td>\n",
       "      <td>-1</td>\n",
       "      <td>54</td>\n",
       "      <td>0</td>\n",
       "      <td>20.2.1962</td>\n",
       "      <td>Елена</td>\n",
       "      <td>-1.00</td>\n",
       "      <td>-1</td>\n",
       "      <td>Елена прогнала из рощицы любителей ягод - медв...</td>\n",
       "      <td>0</td>\n",
       "      <td>3</td>\n",
       "    </tr>\n",
       "    <tr>\n",
       "      <th>33234</th>\n",
       "      <td>-1</td>\n",
       "      <td>Россия</td>\n",
       "      <td>-1</td>\n",
       "      <td>2</td>\n",
       "      <td>35303</td>\n",
       "      <td>Варламов</td>\n",
       "      <td>-1</td>\n",
       "      <td>-1</td>\n",
       "      <td>-1</td>\n",
       "      <td>Санкт-Петербург</td>\n",
       "      <td>-1</td>\n",
       "      <td>86</td>\n",
       "      <td>0</td>\n",
       "      <td>13.11.1930</td>\n",
       "      <td>Лёша</td>\n",
       "      <td>-1.00</td>\n",
       "      <td>-1</td>\n",
       "      <td>С днём рождения!!)\\nФорд, говоришь? А привод к...</td>\n",
       "      <td>0</td>\n",
       "      <td>4</td>\n",
       "    </tr>\n",
       "    <tr>\n",
       "      <th>15361</th>\n",
       "      <td>-1</td>\n",
       "      <td>Россия</td>\n",
       "      <td>-1</td>\n",
       "      <td>2</td>\n",
       "      <td>3159625</td>\n",
       "      <td>Стив</td>\n",
       "      <td>-1</td>\n",
       "      <td>-1</td>\n",
       "      <td>-1</td>\n",
       "      <td>Санкт-Петербург</td>\n",
       "      <td>-1</td>\n",
       "      <td>6</td>\n",
       "      <td>0</td>\n",
       "      <td>666.5</td>\n",
       "      <td>Наволочка</td>\n",
       "      <td>-1.00</td>\n",
       "      <td>-1</td>\n",
       "      <td>СКАЧИВАЕМ И СЛУШАЕМ НАШ MIXTAPE ЗОНА 812!\\n\\nС...</td>\n",
       "      <td>0</td>\n",
       "      <td>0</td>\n",
       "    </tr>\n",
       "  </tbody>\n",
       "</table>\n",
       "</div>"
      ],
      "text/plain": [
       "       political country  smoking  sex         id  last_name  alcohol  \\\n",
       "7339          -1  Россия       -1    2   30163255  Кузинский       -1   \n",
       "9058          -1  Россия       -1    2   35057592      Пьеха       -1   \n",
       "29722         -1  Россия       -1    1  116910037   Алдошина       -1   \n",
       "33234         -1  Россия       -1    2      35303   Варламов       -1   \n",
       "15361         -1  Россия       -1    2    3159625       Стив       -1   \n",
       "\n",
       "      religion langs             city  relation  age  verified       bdate  \\\n",
       "7339        -1    -1             Сочи        -1   34         0   15.8.1984   \n",
       "9058        -1    -1  Санкт-Петербург        -1   34         1          -1   \n",
       "29722       -1    -1  Санкт-Петербург        -1   54         0   20.2.1962   \n",
       "33234       -1    -1  Санкт-Петербург        -1   86         0  13.11.1930   \n",
       "15361       -1    -1  Санкт-Петербург        -1    6         0       666.5   \n",
       "\n",
       "      first_name  university  life_main  \\\n",
       "7339     Виталик       -1.00         -1   \n",
       "9058        Стас       -1.00         -1   \n",
       "29722      Елена       -1.00         -1   \n",
       "33234       Лёша       -1.00         -1   \n",
       "15361  Наволочка       -1.00         -1   \n",
       "\n",
       "                                                   posts  high_education  \\\n",
       "7339   Закрыл соревновательный сезон 17го года. \\nСта...               0   \n",
       "9058   Я долго ждал- Когда придет её черед? ведь это ...               0   \n",
       "29722  Елена прогнала из рощицы любителей ягод - медв...               0   \n",
       "33234  С днём рождения!!)\\nФорд, говоришь? А привод к...               0   \n",
       "15361  СКАЧИВАЕМ И СЛУШАЕМ НАШ MIXTAPE ЗОНА 812!\\n\\nС...               0   \n",
       "\n",
       "       age_category  \n",
       "7339              2  \n",
       "9058              2  \n",
       "29722             3  \n",
       "33234             4  \n",
       "15361             0  "
      ]
     },
     "execution_count": 8,
     "metadata": {},
     "output_type": "execute_result"
    }
   ],
   "source": [
    "df_test.head()"
   ]
  },
  {
   "cell_type": "code",
   "execution_count": 9,
   "metadata": {
    "collapsed": true
   },
   "outputs": [],
   "source": [
    "# Сохраним наборы данных для дальнейшего использования\n",
    "df_train.to_csv('learning/df_train.csv', sep='\\t', encoding='utf-8')\n",
    "df_test.to_csv('learning/df_test.csv', sep='\\t', encoding='utf-8')"
   ]
  },
  {
   "cell_type": "markdown",
   "metadata": {},
   "source": [
    "Смысл значений в столбцах sex, political, smoking, alcohol, relation, life_main следующий (из описания API VK):\n",
    "\n",
    "1) sex - пол пользователя:\n",
    "1 - женский;\n",
    "2 - мужской;\n",
    "0 - пол не указан\n",
    "\n",
    "2) political - политические предпочтения:\n",
    "\n",
    "1 - коммунистические;\n",
    "2 - социалистические;\n",
    "3 - умеренные;\n",
    "4 - либеральные;\n",
    "5 - консервативные;\n",
    "6 - монархические;\n",
    "7 - ультраконсервативные;\n",
    "8 - индиффирентные;\n",
    "9 - либертарианские;\n",
    "\n",
    "3) smoking, alcohol - отношение к курению, алкоголю:\n",
    "\n",
    "1 - резко негативное;\n",
    "2 - негативное;\n",
    "3 - компромиссное;\n",
    "4 - нейтральное;\n",
    "5 - положительное;\n",
    "\n",
    "4) relation - семейное положение:\n",
    "\n",
    "1 - не женат/не замужем;\n",
    "2 - есть друг/есть подруга;\n",
    "3 - помолвлен/помолвлена;\n",
    "4 - женат/замужем;\n",
    "5 - всё сложно;\n",
    "6 - в активном поиске;\n",
    "7 - влюблён/влюблена;\n",
    "8 - в гражданском браке;\n",
    "0 - не указано;\n",
    "\n",
    "5) life_main - главное в жизни:\n",
    "\n",
    "1 - семья и дети;\n",
    "2 - карьера и деньги;\n",
    "3 - развлечения и отдых;\n",
    "4 - наука и исследования;\n",
    "5 - совершенствование мира;\n",
    "6 - саморазвитие;\n",
    "7 - красота и искусство;\n",
    "8 - слава и влияние"
   ]
  },
  {
   "cell_type": "markdown",
   "metadata": {},
   "source": [
    "Попытаемся предсказать возраст (по данным VK (скорее всего, может быть с ошибками: неизвестно, как он там определяется)) по постам пользователя, его полу (пол указан всегда) и указанным признаками из раздела personal, а также по наличию высшего образования"
   ]
  },
  {
   "cell_type": "markdown",
   "metadata": {},
   "source": [
    "#### Функции преобразования постов пользователя"
   ]
  },
  {
   "cell_type": "code",
   "execution_count": 9,
   "metadata": {
    "collapsed": true
   },
   "outputs": [],
   "source": [
    "from nltk.corpus import stopwords\n",
    "\n",
    "stopwords_en = stopwords.words('english')\n",
    "stopwords_ru = stopwords.words('russian')\n",
    "stopwords_ge = stopwords.words('german')\n",
    "\n",
    "stopwords_all = stopwords_en + stopwords_ru + stopwords_ge\n",
    "\n",
    "# дополнительные буквосочетания, которые будем удалять из текстов\n",
    "additional_stopwords = \\\n",
    "[u'https', u'vk', u'com', u'id', u'ph', u'др', u'св', u'ff', u'la', u'это', \\\n",
    " u'de', u'pa', u'bb', u'p', u'ул', u'ин', u'http', u'ru', u'md', u'x', \\\n",
    " u'ft', u'сб', u'b', u'к', u'www', u'youtube', u'ка', u'v', u'g', u'goo', u'gl', \\\n",
    " u'eu', u'u', u'te', u'un', u'вк', u'w', u'ly', u'su', u'bu', u'vl', u'эт', u'r', u'e', \\\n",
    " u'свой', u'ещё', u'мой', u'весь', u'днём', u'youtu', u'твой', u'наш', u'ваш', u'тот', u'этот']\n",
    "\n",
    "stopwords_all = stopwords_all + additional_stopwords\n",
    "\n",
    "# дополнительные удаляемые после лемматизации слова\n",
    "delete_words = [u'свой', u'ещё', u'мой', u'весь', u'днём', u'youtu', u'твой', u'наш', u'ваш', u'тот', u'этот']"
   ]
  },
  {
   "cell_type": "code",
   "execution_count": 10,
   "metadata": {
    "collapsed": true
   },
   "outputs": [],
   "source": [
    "# используем для лемматизации библиотеку pymorphy2, которая работает с русским языком\n",
    "import pymorphy2\n",
    "morph = pymorphy2.MorphAnalyzer()\n",
    "\n",
    "def lemmatization(text):\n",
    "    return morph.parse(text)[0].normal_form\n",
    "\n",
    "def my_tokenizer(text):\n",
    "    text = text.lower()\n",
    "    # очистка от html-разметки\n",
    "    text = re.sub('<[^>]*>', '', text)\n",
    "    # выделение смайлов\n",
    "    emoticons = re.findall('(?::|;|=)(?:-)?(?:\\)|\\(|D|P)', text)\n",
    "    # удаление несловарных символов\n",
    "    text = re.sub(r'[\\W]+', ' ', text, flags=re.U) + ' '.join(emoticons).replace('-', '')\n",
    "    # удалим также все цифры, которые вряд ли полезны при анализе текста\n",
    "    text = re.sub(r'\\d+', '', text, flags=re.U)\n",
    "    # удалим два или более пробелов\n",
    "    text = re.sub(r'[ ]{2,}', '', text, flags=re.U)\n",
    "    # удалим подчёркивания\n",
    "    text = re.sub(r'[_]+', '', text, flags=re.U)\n",
    "    # разбиение по пробелам и удаление стоп-слов\n",
    "    tokenized = [w for w in text.split() if w not in stopwords_all]\n",
    "    tokenized = [re.sub(r\"\\W\", \"\", w, flags=re.U) for w in tokenized]\n",
    "    # лемматизация\n",
    "    tokenized = [lemmatization(w) for w in tokenized]\n",
    "    # удалим все слова из одной и двух букв. Вряд ли они несут большой смысл. \n",
    "    # Также удалим \"слова-паразиты\"\n",
    "    tokenized = [w for w in tokenized if len(w) > 2 and w not in delete_words]\n",
    "    return tokenized"
   ]
  },
  {
   "cell_type": "code",
   "execution_count": 11,
   "metadata": {
    "collapsed": true
   },
   "outputs": [],
   "source": [
    "def get_posts_col(df):\n",
    "    return df[['posts']]\n",
    "\n",
    "def get_sex_col(df):\n",
    "    return df[['sex']]\n",
    "\n",
    "def get_categorial_cols(df):\n",
    "    return df[['high_education', 'political', 'smoking', 'alcohol', 'relation', 'life_main']]\n",
    "\n",
    "vec = make_union(*[\n",
    "    make_pipeline(FunctionTransformer(get_categorial_cols, validate=False), MinMaxScaler()),\n",
    "    make_pipeline(FunctionTransformer(get_posts_col, validate=False)), CountVectorizer(tokenizer=my_tokenizer)\n",
    "])"
   ]
  },
  {
   "cell_type": "markdown",
   "metadata": {},
   "source": [
    "С pipeline'ом что-то не получается, поэтому используем только столбец текста"
   ]
  },
  {
   "cell_type": "code",
   "execution_count": 12,
   "metadata": {},
   "outputs": [
    {
     "name": "stdout",
     "output_type": "stream",
     "text": [
      "(28413,)\n",
      "(7104,)\n"
     ]
    }
   ],
   "source": [
    "y_train = df_train['age_category']\n",
    "y_test = df_test['age_category']\n",
    "print(y_train.shape)\n",
    "print(y_test.shape)"
   ]
  },
  {
   "cell_type": "code",
   "execution_count": 15,
   "metadata": {
    "collapsed": true
   },
   "outputs": [],
   "source": [
    "y_train.to_csv('learning/y_train', sep='\\t')\n",
    "y_test.to_csv('learning/y_test', sep='\\t')"
   ]
  },
  {
   "cell_type": "code",
   "execution_count": 13,
   "metadata": {
    "collapsed": true
   },
   "outputs": [],
   "source": [
    "# функции для сохранения и последующего восстановления разреженной матрицы\n",
    "def save_sparse_csr(filename, array):\n",
    "    np.savez(filename, data=array.data, indices=array.indices,\n",
    "             indptr=array.indptr, shape=array.shape)\n",
    "\n",
    "def load_sparse_csr(filename):\n",
    "    loader = np.load(filename)\n",
    "    return csr_matrix((loader['data'], loader['indices'], loader['indptr']),\n",
    "                      shape=loader['shape'])"
   ]
  },
  {
   "cell_type": "code",
   "execution_count": 39,
   "metadata": {
    "collapsed": true
   },
   "outputs": [],
   "source": [
    "# vectorizer = CountVectorizer(tokenizer=my_tokenizer, ngram_range=(1, 2))\n",
    "vectorizer = TfidfVectorizer(tokenizer=my_tokenizer, ngram_range=(1, 1), analyzer='word', max_features=5000)"
   ]
  },
  {
   "cell_type": "code",
   "execution_count": 40,
   "metadata": {},
   "outputs": [
    {
     "name": "stderr",
     "output_type": "stream",
     "text": [
      "100%|██████████| 28413/28413 [38:22<00:00, 12.34it/s]\n"
     ]
    },
    {
     "data": {
      "text/plain": [
       "(28413, 4694)"
      ]
     },
     "execution_count": 40,
     "metadata": {},
     "output_type": "execute_result"
    }
   ],
   "source": [
    "X_train_bag_of_words = vectorizer.fit_transform(tqdm(df_train['posts']))\n",
    "X_train_bag_of_words.shape"
   ]
  },
  {
   "cell_type": "markdown",
   "metadata": {},
   "source": [
    "### Исследуем получившуюся матрицу tf-idf"
   ]
  },
  {
   "cell_type": "code",
   "execution_count": 16,
   "metadata": {
    "collapsed": true
   },
   "outputs": [],
   "source": [
    "features = vectorizer.get_feature_names()"
   ]
  },
  {
   "cell_type": "code",
   "execution_count": 17,
   "metadata": {
    "collapsed": true
   },
   "outputs": [],
   "source": [
    "def top_tfidf_feats(row, features, top_n=25):\n",
    "    ''' Get top n tfidf values in row and return them with their corresponding feature names.'''\n",
    "    topn_ids = np.argsort(row)[::-1][:top_n]\n",
    "    top_feats = [(features[i], row[i]) for i in topn_ids]\n",
    "    df = pd.DataFrame(top_feats)\n",
    "    df.columns = ['feature', 'tfidf']\n",
    "    return df"
   ]
  },
  {
   "cell_type": "code",
   "execution_count": 18,
   "metadata": {
    "collapsed": true
   },
   "outputs": [],
   "source": [
    "def top_feats_in_doc(Xtr, features, row_id, top_n=25):\n",
    "    ''' Top tfidf features in specific document (matrix row) '''\n",
    "    row = np.squeeze(Xtr[row_id].toarray())\n",
    "    return top_tfidf_feats(row, features, top_n)"
   ]
  },
  {
   "cell_type": "code",
   "execution_count": 19,
   "metadata": {},
   "outputs": [
    {
     "data": {
      "text/html": [
       "<div>\n",
       "<style scoped>\n",
       "    .dataframe tbody tr th:only-of-type {\n",
       "        vertical-align: middle;\n",
       "    }\n",
       "\n",
       "    .dataframe tbody tr th {\n",
       "        vertical-align: top;\n",
       "    }\n",
       "\n",
       "    .dataframe thead th {\n",
       "        text-align: right;\n",
       "    }\n",
       "</style>\n",
       "<table border=\"1\" class=\"dataframe\">\n",
       "  <thead>\n",
       "    <tr style=\"text-align: right;\">\n",
       "      <th></th>\n",
       "      <th>feature</th>\n",
       "      <th>tfidf</th>\n",
       "    </tr>\n",
       "  </thead>\n",
       "  <tbody>\n",
       "    <tr>\n",
       "      <th>0</th>\n",
       "      <td>love</td>\n",
       "      <td>0.61</td>\n",
       "    </tr>\n",
       "    <tr>\n",
       "      <th>1</th>\n",
       "      <td>happy</td>\n",
       "      <td>0.36</td>\n",
       "    </tr>\n",
       "    <tr>\n",
       "      <th>2</th>\n",
       "      <td>клуб</td>\n",
       "      <td>0.19</td>\n",
       "    </tr>\n",
       "    <tr>\n",
       "      <th>3</th>\n",
       "      <td>девочка</td>\n",
       "      <td>0.14</td>\n",
       "    </tr>\n",
       "    <tr>\n",
       "      <th>4</th>\n",
       "      <td>муж</td>\n",
       "      <td>0.14</td>\n",
       "    </tr>\n",
       "    <tr>\n",
       "      <th>5</th>\n",
       "      <td>деньга</td>\n",
       "      <td>0.13</td>\n",
       "    </tr>\n",
       "  </tbody>\n",
       "</table>\n",
       "</div>"
      ],
      "text/plain": [
       "   feature  tfidf\n",
       "0     love   0.61\n",
       "1    happy   0.36\n",
       "2     клуб   0.19\n",
       "3  девочка   0.14\n",
       "4      муж   0.14\n",
       "5   деньга   0.13"
      ]
     },
     "execution_count": 19,
     "metadata": {},
     "output_type": "execute_result"
    }
   ],
   "source": [
    "top_feats_in_doc(X_train_bag_of_words, features, 1000, top_n=6)"
   ]
  },
  {
   "cell_type": "code",
   "execution_count": 20,
   "metadata": {
    "collapsed": true
   },
   "outputs": [],
   "source": [
    "def top_mean_feats(Xtr, features, grp_ids=None, min_tfidf=0.1, top_n=25):\n",
    "    ''' Return the top n features that on average are most important amongst documents in rows\n",
    "        indentified by indices in grp_ids. '''\n",
    "    if grp_ids:\n",
    "        D = Xtr[grp_ids].toarray()\n",
    "    else:\n",
    "        D = Xtr.toarray()\n",
    "\n",
    "    D[D < min_tfidf] = 0\n",
    "    tfidf_means = np.mean(D, axis=0)\n",
    "    return top_tfidf_feats(tfidf_means, features, top_n)"
   ]
  },
  {
   "cell_type": "code",
   "execution_count": 21,
   "metadata": {},
   "outputs": [
    {
     "data": {
      "text/html": [
       "<div>\n",
       "<style scoped>\n",
       "    .dataframe tbody tr th:only-of-type {\n",
       "        vertical-align: middle;\n",
       "    }\n",
       "\n",
       "    .dataframe tbody tr th {\n",
       "        vertical-align: top;\n",
       "    }\n",
       "\n",
       "    .dataframe thead th {\n",
       "        text-align: right;\n",
       "    }\n",
       "</style>\n",
       "<table border=\"1\" class=\"dataframe\">\n",
       "  <thead>\n",
       "    <tr style=\"text-align: right;\">\n",
       "      <th></th>\n",
       "      <th>feature</th>\n",
       "      <th>tfidf</th>\n",
       "    </tr>\n",
       "  </thead>\n",
       "  <tbody>\n",
       "    <tr>\n",
       "      <th>0</th>\n",
       "      <td>app</td>\n",
       "      <td>0.04</td>\n",
       "    </tr>\n",
       "    <tr>\n",
       "      <th>1</th>\n",
       "      <td>человек</td>\n",
       "      <td>0.04</td>\n",
       "    </tr>\n",
       "    <tr>\n",
       "      <th>2</th>\n",
       "      <td>рождение</td>\n",
       "      <td>0.03</td>\n",
       "    </tr>\n",
       "    <tr>\n",
       "      <th>3</th>\n",
       "      <td>который</td>\n",
       "      <td>0.03</td>\n",
       "    </tr>\n",
       "    <tr>\n",
       "      <th>4</th>\n",
       "      <td>открытка</td>\n",
       "      <td>0.03</td>\n",
       "    </tr>\n",
       "    <tr>\n",
       "      <th>5</th>\n",
       "      <td>друг</td>\n",
       "      <td>0.03</td>\n",
       "    </tr>\n",
       "    <tr>\n",
       "      <th>6</th>\n",
       "      <td>год</td>\n",
       "      <td>0.03</td>\n",
       "    </tr>\n",
       "    <tr>\n",
       "      <th>7</th>\n",
       "      <td>жизнь</td>\n",
       "      <td>0.03</td>\n",
       "    </tr>\n",
       "    <tr>\n",
       "      <th>8</th>\n",
       "      <td>любить</td>\n",
       "      <td>0.03</td>\n",
       "    </tr>\n",
       "    <tr>\n",
       "      <th>9</th>\n",
       "      <td>новый</td>\n",
       "      <td>0.03</td>\n",
       "    </tr>\n",
       "  </tbody>\n",
       "</table>\n",
       "</div>"
      ],
      "text/plain": [
       "    feature  tfidf\n",
       "0       app   0.04\n",
       "1   человек   0.04\n",
       "2  рождение   0.03\n",
       "3   который   0.03\n",
       "4  открытка   0.03\n",
       "5      друг   0.03\n",
       "6       год   0.03\n",
       "7     жизнь   0.03\n",
       "8    любить   0.03\n",
       "9     новый   0.03"
      ]
     },
     "execution_count": 21,
     "metadata": {},
     "output_type": "execute_result"
    }
   ],
   "source": [
    "top_mean_feats(X_train_bag_of_words, features, top_n=10)"
   ]
  },
  {
   "cell_type": "code",
   "execution_count": 22,
   "metadata": {
    "collapsed": true
   },
   "outputs": [],
   "source": [
    "def top_feats_by_class(Xtr, y, features, min_tfidf=0.1, top_n=25):\n",
    "    ''' Return a list of dfs, where each df holds top_n features and their mean tfidf value\n",
    "        calculated across documents with the same class label. '''\n",
    "    dfs = []\n",
    "    labels = np.unique(y)\n",
    "    for label in labels:\n",
    "        ids = np.where(y==label)\n",
    "        feats_df = top_mean_feats(Xtr, features, ids, min_tfidf=min_tfidf, top_n=top_n)\n",
    "        feats_df.label = label\n",
    "        dfs.append(feats_df)\n",
    "    return dfs"
   ]
  },
  {
   "cell_type": "code",
   "execution_count": 24,
   "metadata": {},
   "outputs": [
    {
     "data": {
      "text/plain": [
       "[    feature  tfidf\n",
       " 0       app   0.04\n",
       " 1    узнать   0.03\n",
       " 2  рождение   0.03\n",
       " 3      друг   0.03\n",
       " 4    любить   0.03,      feature  tfidf\n",
       " 0    человек   0.04\n",
       " 1  instagram   0.04\n",
       " 2    который   0.04\n",
       " 3    спасибо   0.03\n",
       " 4       друг   0.03,     feature  tfidf\n",
       " 0       app   0.06\n",
       " 1  открытка   0.05\n",
       " 2   человек   0.04\n",
       " 3   который   0.04\n",
       " 4       год   0.03,     feature  tfidf\n",
       " 0       app   0.07\n",
       " 1  открытка   0.06\n",
       " 2   человек   0.04\n",
       " 3   который   0.03\n",
       " 4  рождение   0.03,     feature  tfidf\n",
       " 0   человек   0.04\n",
       " 1  рождение   0.04\n",
       " 2    любить   0.04\n",
       " 3   который   0.03\n",
       " 4     жизнь   0.03]"
      ]
     },
     "execution_count": 24,
     "metadata": {},
     "output_type": "execute_result"
    }
   ],
   "source": [
    "top_feats_by_class(X_train_bag_of_words, y_train, features, top_n=5)"
   ]
  },
  {
   "cell_type": "code",
   "execution_count": null,
   "metadata": {
    "collapsed": true
   },
   "outputs": [],
   "source": [
    "save_sparse_csr('learning/X_train_bag_of_words', X_train_bag_of_words)"
   ]
  },
  {
   "cell_type": "code",
   "execution_count": 21,
   "metadata": {
    "collapsed": true
   },
   "outputs": [],
   "source": [
    "# сохраним векторизатор, чтобы не тратить время на повторное обучение\n",
    "with open('learning/vectorizer.pk', 'wb') as fin:\n",
    "    pickle.dump(vectorizer, fin)"
   ]
  },
  {
   "cell_type": "code",
   "execution_count": 13,
   "metadata": {},
   "outputs": [
    {
     "data": {
      "text/plain": [
       "TfidfVectorizer(analyzer='word', binary=False, decode_error=u'strict',\n",
       "        dtype=<type 'numpy.int64'>, encoding=u'utf-8', input=u'content',\n",
       "        lowercase=True, max_df=1.0, max_features=None, min_df=1,\n",
       "        ngram_range=(1, 1), norm=u'l2', preprocessor=None, smooth_idf=True,\n",
       "        stop_words=None, strip_accents=None, sublinear_tf=False,\n",
       "        token_pattern=u'(?u)\\\\b\\\\w\\\\w+\\\\b',\n",
       "        tokenizer=<function my_tokenizer at 0x7fdf1aef2e60>, use_idf=True,\n",
       "        vocabulary=None)"
      ]
     },
     "execution_count": 13,
     "metadata": {},
     "output_type": "execute_result"
    }
   ],
   "source": [
    "# vectorizer = pickle.load(open('vectorizer.pk', 'rb'))\n",
    "# vectorizer"
   ]
  },
  {
   "cell_type": "code",
   "execution_count": 25,
   "metadata": {
    "collapsed": true
   },
   "outputs": [],
   "source": [
    "# Функция для получения вектора признаков для обучения в виде разреженной матрицы\n",
    "def get_X(X_bag_of_words, df):\n",
    "    scaler = MinMaxScaler()\n",
    "\n",
    "    # прибавим остальные признаки, которые будем учитывать при обучении модели\n",
    "    X_sex = sparse.csr_matrix(get_sex_col(df))\n",
    "\n",
    "    categorial_cols_scale = scaler.fit_transform(get_categorial_cols(df))\n",
    "    X_categorial = sparse.csr_matrix(categorial_cols_scale)\n",
    "\n",
    "    X = hstack([X_sex, X_categorial, X_bag_of_words])\n",
    "\n",
    "    print(X.shape)\n",
    "    \n",
    "    return X"
   ]
  },
  {
   "cell_type": "code",
   "execution_count": 41,
   "metadata": {},
   "outputs": [
    {
     "name": "stdout",
     "output_type": "stream",
     "text": [
      "(28413, 4701)\n"
     ]
    }
   ],
   "source": [
    "X_train = get_X(X_train_bag_of_words, df_train)"
   ]
  },
  {
   "cell_type": "code",
   "execution_count": 42,
   "metadata": {},
   "outputs": [
    {
     "name": "stderr",
     "output_type": "stream",
     "text": [
      "100%|██████████| 7104/7104 [10:06<00:00, 11.72it/s]\n"
     ]
    }
   ],
   "source": [
    "X_test_bag_of_words = vectorizer.transform(tqdm(df_test['posts']))\n",
    "save_sparse_csr('learning/X_test_bag_of_words', X_test_bag_of_words)"
   ]
  },
  {
   "cell_type": "code",
   "execution_count": 43,
   "metadata": {},
   "outputs": [
    {
     "name": "stdout",
     "output_type": "stream",
     "text": [
      "(7104, 4701)\n"
     ]
    }
   ],
   "source": [
    "X_test = get_X(X_test_bag_of_words, df_test)"
   ]
  },
  {
   "cell_type": "markdown",
   "metadata": {},
   "source": [
    "### Обучение модели"
   ]
  },
  {
   "cell_type": "code",
   "execution_count": 44,
   "metadata": {
    "collapsed": true
   },
   "outputs": [],
   "source": [
    "def randomized_cv(model, param_grid, x_train, y_train):\n",
    "    grid_search = RandomizedSearchCV(model, param_grid, cv=5, scoring='accuracy', n_iter=10)\n",
    "    t_start = time.time()\n",
    "    grid_search.fit(x_train, y_train)\n",
    "    t_end = time.time()\n",
    "    print('model {} best accuracy score is {}'.format(model.__class__.__name__, grid_search.best_score_))\n",
    "    print('time for training is {} seconds'.format(t_end - t_start))\n",
    "    return grid_search.best_estimator_"
   ]
  },
  {
   "cell_type": "code",
   "execution_count": 45,
   "metadata": {},
   "outputs": [
    {
     "name": "stdout",
     "output_type": "stream",
     "text": [
      "model MultinomialNB best accuracy score is 0.4875233167916095\n",
      "time for training is 6.673130989074707 seconds\n"
     ]
    }
   ],
   "source": [
    "param_grid = {'alpha':[0.0, 0.1, 0.2, 0.3, 0.4, 0.5, 0.6, 0.7, 0.8, 0.9, 1, 1.5, 2, 5]}\n",
    "model = MultinomialNB()\n",
    "best_model = randomized_cv(model, param_grid, X_train, y_train)"
   ]
  },
  {
   "cell_type": "code",
   "execution_count": 31,
   "metadata": {},
   "outputs": [
    {
     "ename": "NameError",
     "evalue": "name 'pickle' is not defined",
     "output_type": "error",
     "traceback": [
      "\u001b[0;31m---------------------------------------------------------------------------\u001b[0m",
      "\u001b[0;31mNameError\u001b[0m                                 Traceback (most recent call last)",
      "\u001b[0;32m<ipython-input-31-fab8d25a2a27>\u001b[0m in \u001b[0;36m<module>\u001b[0;34m()\u001b[0m\n\u001b[1;32m      1\u001b[0m \u001b[0;32mwith\u001b[0m \u001b[0mopen\u001b[0m\u001b[0;34m(\u001b[0m\u001b[0;34m'learning/model_bayes.pk'\u001b[0m\u001b[0;34m,\u001b[0m \u001b[0;34m'wb'\u001b[0m\u001b[0;34m)\u001b[0m \u001b[0;32mas\u001b[0m \u001b[0mfin\u001b[0m\u001b[0;34m:\u001b[0m\u001b[0;34m\u001b[0m\u001b[0m\n\u001b[0;32m----> 2\u001b[0;31m     \u001b[0mpickle\u001b[0m\u001b[0;34m.\u001b[0m\u001b[0mdump\u001b[0m\u001b[0;34m(\u001b[0m\u001b[0mbest_model\u001b[0m\u001b[0;34m,\u001b[0m \u001b[0mfin\u001b[0m\u001b[0;34m)\u001b[0m\u001b[0;34m\u001b[0m\u001b[0m\n\u001b[0m",
      "\u001b[0;31mNameError\u001b[0m: name 'pickle' is not defined"
     ]
    }
   ],
   "source": [
    "with open('learning/model_bayes.pk', 'wb') as fin:\n",
    "    pickle.dump(best_model, fin)"
   ]
  },
  {
   "cell_type": "code",
   "execution_count": 46,
   "metadata": {},
   "outputs": [
    {
     "name": "stdout",
     "output_type": "stream",
     "text": [
      "0.485923423423\n"
     ]
    }
   ],
   "source": [
    "y_pred = best_model.predict(X_test)\n",
    "print(accuracy_score(y_test, y_pred))"
   ]
  },
  {
   "cell_type": "markdown",
   "metadata": {},
   "source": [
    "Видим, что точность не слишком высокая, но всё же лучше случайного гадания (у нас 5 классов, поэтому при случайном гадании было бы 0.2). Есть ощущение, что текств постах ВК не слишком коррелирует с возрастом пользователя, поэтому хорошее предсказание сделать тяжело"
   ]
  },
  {
   "cell_type": "code",
   "execution_count": 33,
   "metadata": {},
   "outputs": [
    {
     "name": "stderr",
     "output_type": "stream",
     "text": [
      "100%|██████████| 28413/28413 [39:27<00:00, 12.00it/s]\n"
     ]
    }
   ],
   "source": [
    "# попробуем биграммы\n",
    "vectorizer_2gram = TfidfVectorizer(tokenizer=my_tokenizer, ngram_range=(2, 2), analyzer='word', max_features=5000)\n",
    "X_train_bag_of_words_2gram = vectorizer_2gram.fit_transform(tqdm(df_train['posts']))"
   ]
  },
  {
   "cell_type": "code",
   "execution_count": 34,
   "metadata": {},
   "outputs": [
    {
     "name": "stdout",
     "output_type": "stream",
     "text": [
      "(28413, 31)\n"
     ]
    }
   ],
   "source": [
    "X_train_2gram = get_X(X_train_bag_of_words_2gram, df_train)"
   ]
  },
  {
   "cell_type": "code",
   "execution_count": 35,
   "metadata": {},
   "outputs": [
    {
     "name": "stderr",
     "output_type": "stream",
     "text": [
      "100%|██████████| 7104/7104 [09:41<00:00, 12.22it/s]\n"
     ]
    }
   ],
   "source": [
    "X_test_bag_of_words_2gram = vectorizer_2gram.transform(tqdm(df_test['posts']))"
   ]
  },
  {
   "cell_type": "code",
   "execution_count": 36,
   "metadata": {},
   "outputs": [
    {
     "name": "stdout",
     "output_type": "stream",
     "text": [
      "(7104, 31)\n"
     ]
    }
   ],
   "source": [
    "X_test_2gram = get_X(X_test_bag_of_words_2gram, df_test)"
   ]
  },
  {
   "cell_type": "code",
   "execution_count": 37,
   "metadata": {},
   "outputs": [
    {
     "name": "stderr",
     "output_type": "stream",
     "text": [
      "/usr/local/lib/python3.5/dist-packages/sklearn/naive_bayes.py:472: UserWarning: alpha too small will result in numeric errors, setting alpha = 1.0e-10\n",
      "  'setting alpha = %.1e' % _ALPHA_MIN)\n",
      "/usr/local/lib/python3.5/dist-packages/sklearn/naive_bayes.py:472: UserWarning: alpha too small will result in numeric errors, setting alpha = 1.0e-10\n",
      "  'setting alpha = %.1e' % _ALPHA_MIN)\n",
      "/usr/local/lib/python3.5/dist-packages/sklearn/naive_bayes.py:472: UserWarning: alpha too small will result in numeric errors, setting alpha = 1.0e-10\n",
      "  'setting alpha = %.1e' % _ALPHA_MIN)\n",
      "/usr/local/lib/python3.5/dist-packages/sklearn/naive_bayes.py:472: UserWarning: alpha too small will result in numeric errors, setting alpha = 1.0e-10\n",
      "  'setting alpha = %.1e' % _ALPHA_MIN)\n",
      "/usr/local/lib/python3.5/dist-packages/sklearn/naive_bayes.py:472: UserWarning: alpha too small will result in numeric errors, setting alpha = 1.0e-10\n",
      "  'setting alpha = %.1e' % _ALPHA_MIN)\n"
     ]
    },
    {
     "name": "stdout",
     "output_type": "stream",
     "text": [
      "model MultinomialNB best accuracy score is 0.4162883187273431\n",
      "time for training is 0.4641273021697998 seconds\n"
     ]
    }
   ],
   "source": [
    "model_2gram = MultinomialNB()\n",
    "best_model_2gram = randomized_cv(model_2gram, param_grid, X_train_2gram, y_train)"
   ]
  },
  {
   "cell_type": "code",
   "execution_count": 38,
   "metadata": {},
   "outputs": [
    {
     "name": "stdout",
     "output_type": "stream",
     "text": [
      "0.420467342342\n"
     ]
    }
   ],
   "source": [
    "y_pred_2gram = best_model_2gram.predict(X_test_2gram)\n",
    "print(accuracy_score(y_test, y_pred_2gram))"
   ]
  },
  {
   "cell_type": "code",
   "execution_count": null,
   "metadata": {
    "collapsed": true
   },
   "outputs": [],
   "source": []
  },
  {
   "cell_type": "code",
   "execution_count": null,
   "metadata": {
    "collapsed": true
   },
   "outputs": [],
   "source": []
  }
 ],
 "metadata": {
  "kernelspec": {
   "display_name": "Python 3",
   "language": "python",
   "name": "python3"
  },
  "language_info": {
   "codemirror_mode": {
    "name": "ipython",
    "version": 3
   },
   "file_extension": ".py",
   "mimetype": "text/x-python",
   "name": "python",
   "nbconvert_exporter": "python",
   "pygments_lexer": "ipython3",
   "version": "3.5.2"
  }
 },
 "nbformat": 4,
 "nbformat_minor": 2
}
