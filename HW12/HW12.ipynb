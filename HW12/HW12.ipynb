{
 "cells": [
  {
   "cell_type": "code",
   "execution_count": 16,
   "metadata": {},
   "outputs": [],
   "source": [
    "import numpy as np\n",
    "import tensorflow as tf\n",
    "import keras\n",
    "import graphviz\n",
    "\n",
    "from __future__ import print_function\n",
    "from keras.datasets import mnist\n",
    "from keras.models import Sequential, load_model\n",
    "from keras.layers.core import Dense, Activation, Dropout\n",
    "from keras.optimizers import SGD, Adam\n",
    "from keras.utils import np_utils\n",
    "from keras.utils import plot_model\n",
    "\n",
    "from PIL import Image\n",
    "\n",
    "from matplotlib.pyplot import figure, imshow, axis\n",
    "from matplotlib.image import imread\n",
    "%matplotlib inline"
   ]
  },
  {
   "cell_type": "code",
   "execution_count": 2,
   "metadata": {},
   "outputs": [
    {
     "name": "stdout",
     "output_type": "stream",
     "text": [
      "[name: \"/device:CPU:0\"\n",
      "device_type: \"CPU\"\n",
      "memory_limit: 268435456\n",
      "locality {\n",
      "}\n",
      "incarnation: 5974221749387484703\n",
      ", name: \"/device:GPU:0\"\n",
      "device_type: \"GPU\"\n",
      "memory_limit: 6972221031\n",
      "locality {\n",
      "  bus_id: 1\n",
      "}\n",
      "incarnation: 8751105145760362369\n",
      "physical_device_desc: \"device: 0, name: GeForce GTX 1070, pci bus id: 0000:01:00.0, compute capability: 6.1\"\n",
      "]\n"
     ]
    }
   ],
   "source": [
    "from tensorflow.python.client import device_lib\n",
    "print(device_lib.list_local_devices())"
   ]
  },
  {
   "cell_type": "markdown",
   "metadata": {},
   "source": [
    "После некоторых мучений удалось настроить Keras на работу с TensorFlow-GPU"
   ]
  },
  {
   "cell_type": "code",
   "execution_count": 3,
   "metadata": {},
   "outputs": [],
   "source": [
    "np.random.seed(42)"
   ]
  },
  {
   "cell_type": "markdown",
   "metadata": {},
   "source": [
    "### 1. Реализуем простую нейронную сеть для распознавания цифр из набора MNIST"
   ]
  },
  {
   "cell_type": "code",
   "execution_count": 4,
   "metadata": {},
   "outputs": [],
   "source": [
    "NB_EPOCH = 200\n",
    "BATCH_SIZE = 128\n",
    "VERBOSE = 1\n",
    "NB_CLASSES = 10 # количество классов = числу цифр\n",
    "OPTIMIZER = Adam()\n",
    "N_HIDDEN = 128\n",
    "VALIDATION_SPLIT = 0.2"
   ]
  },
  {
   "cell_type": "code",
   "execution_count": 5,
   "metadata": {},
   "outputs": [],
   "source": [
    "(X_train, y_train), (X_test, y_test) = mnist.load_data()"
   ]
  },
  {
   "cell_type": "markdown",
   "metadata": {},
   "source": [
    "Каждый образец в наборе представлен массивом 28 x 28, в каждой ячейке которого обозначена яркость соответствующего пикселя от 0 до 255. Набор данных MNIST это набор написанных вручную чисел. Все изображения нормализованы так, чтобы вместиться в квадрат 20 х 20 пикселей, и затем центрированы в изображение размером 28 х 28 пикселей относительно центра масс изображения."
   ]
  },
  {
   "cell_type": "code",
   "execution_count": 27,
   "metadata": {},
   "outputs": [
    {
     "data": {
      "text/plain": [
       "(-0.5, 27.5, 27.5, -0.5)"
      ]
     },
     "execution_count": 27,
     "metadata": {},
     "output_type": "execute_result"
    },
    {
     "data": {
      "image/png": "[encoded data removed]",
      "text/plain": [
       "<matplotlib.figure.Figure at 0x7fc91a097da0>"
      ]
     },
     "metadata": {},
     "output_type": "display_data"
    }
   ],
   "source": [
    "# Несколько цифр для примера\n",
    "fig = figure(figsize=(14,10))\n",
    "\n",
    "fig.add_subplot(1,7,1)\n",
    "imshow(X_train[10] ,cmap='Greys_r')\n",
    "axis('off')\n",
    "fig.add_subplot(1,7,2)\n",
    "imshow(X_train[1000] ,cmap='Greys_r')\n",
    "axis('off')\n",
    "fig.add_subplot(1,7,3)\n",
    "imshow(X_train[9999] ,cmap='Greys_r')\n",
    "axis('off')\n",
    "fig.add_subplot(1,7,4)\n",
    "imshow(X_train[15721] ,cmap='Greys_r')\n",
    "axis('off')\n",
    "fig.add_subplot(1,7,5)\n",
    "imshow(X_train[25000] ,cmap='Greys_r')\n",
    "axis('off')\n",
    "fig.add_subplot(1,7,6)\n",
    "imshow(X_train[37111] ,cmap='Greys_r')\n",
    "axis('off')\n",
    "fig.add_subplot(1,7,7)\n",
    "imshow(X_train[48911] ,cmap='Greys_r')\n",
    "axis('off')"
   ]
  },
  {
   "cell_type": "code",
   "execution_count": 6,
   "metadata": {},
   "outputs": [
    {
     "name": "stdout",
     "output_type": "stream",
     "text": [
      "60000\n",
      "10000\n"
     ]
    }
   ],
   "source": [
    "pictures_train_count = X_train.shape[0]\n",
    "pictures_test_count = X_test.shape[0]\n",
    "print(pictures_train_count)\n",
    "print(pictures_test_count)"
   ]
  },
  {
   "cell_type": "code",
   "execution_count": 7,
   "metadata": {},
   "outputs": [],
   "source": [
    "RESHAPED = 784\n",
    "X_train = X_train.reshape(pictures_train_count, RESHAPED)\n",
    "X_test = X_test.reshape(pictures_test_count, RESHAPED)\n",
    "X_train = X_train.astype('float32')\n",
    "X_test = X_test.astype('float32')"
   ]
  },
  {
   "cell_type": "code",
   "execution_count": 8,
   "metadata": {},
   "outputs": [],
   "source": [
    "# нормировка яркости пикселя\n",
    "X_train /= 255\n",
    "X_test /= 255"
   ]
  },
  {
   "cell_type": "code",
   "execution_count": 9,
   "metadata": {},
   "outputs": [],
   "source": [
    "# преобразование векторов классов в бинарные матрицы классов (one-hot encoding)\n",
    "y_train = np_utils.to_categorical(y_train, NB_CLASSES)\n",
    "y_test = np_utils.to_categorical(y_test, NB_CLASSES)"
   ]
  },
  {
   "cell_type": "code",
   "execution_count": 10,
   "metadata": {},
   "outputs": [
    {
     "data": {
      "text/plain": [
       "(60000, 10)"
      ]
     },
     "execution_count": 10,
     "metadata": {},
     "output_type": "execute_result"
    }
   ],
   "source": [
    "y_train.shape"
   ]
  },
  {
   "cell_type": "code",
   "execution_count": 11,
   "metadata": {},
   "outputs": [
    {
     "name": "stdout",
     "output_type": "stream",
     "text": [
      "_________________________________________________________________\n",
      "Layer (type)                 Output Shape              Param #   \n",
      "=================================================================\n",
      "dense_1 (Dense)              (None, 10)                7850      \n",
      "_________________________________________________________________\n",
      "activation_1 (Activation)    (None, 10)                0         \n",
      "=================================================================\n",
      "Total params: 7,850\n",
      "Trainable params: 7,850\n",
      "Non-trainable params: 0\n",
      "_________________________________________________________________\n"
     ]
    }
   ],
   "source": [
    "# Последний слой - один нейрон с функцией активации softmax,\n",
    "# аггрегирующий 10 ответов предыдущего слоя из 10 нейронов\n",
    "model = Sequential()\n",
    "model.add(Dense(NB_CLASSES, input_shape=(RESHAPED,)))\n",
    "model.add(Activation('softmax'))\n",
    "model.summary()"
   ]
  },
  {
   "cell_type": "code",
   "execution_count": 12,
   "metadata": {},
   "outputs": [],
   "source": [
    "# Компиляция модели\n",
    "model.compile(loss='categorical_crossentropy', optimizer=OPTIMIZER, metrics=['accuracy'])"
   ]
  },
  {
   "cell_type": "code",
   "execution_count": 13,
   "metadata": {},
   "outputs": [],
   "source": [
    "plot_model(model, to_file='model1.png')"
   ]
  },
  {
   "cell_type": "code",
   "execution_count": 14,
   "metadata": {},
   "outputs": [
    {
     "name": "stdout",
     "output_type": "stream",
     "text": [
      "Train on 48000 samples, validate on 12000 samples\n",
      "Epoch 1/200\n",
      "48000/48000 [==============================] - 1s 29us/step - loss: 0.7510 - acc: 0.8144 - val_loss: 0.4077 - val_acc: 0.8958\n",
      "Epoch 2/200\n",
      "48000/48000 [==============================] - 1s 24us/step - loss: 0.3899 - acc: 0.8966 - val_loss: 0.3347 - val_acc: 0.9110\n",
      "Epoch 3/200\n",
      "48000/48000 [==============================] - 1s 24us/step - loss: 0.3382 - acc: 0.9083 - val_loss: 0.3076 - val_acc: 0.9171\n",
      "Epoch 4/200\n",
      "48000/48000 [==============================] - 1s 24us/step - loss: 0.3145 - acc: 0.9135 - val_loss: 0.2931 - val_acc: 0.9198\n",
      "Epoch 5/200\n",
      "48000/48000 [==============================] - 1s 23us/step - loss: 0.3006 - acc: 0.9166 - val_loss: 0.2853 - val_acc: 0.9216\n",
      "Epoch 6/200\n",
      "48000/48000 [==============================] - 1s 23us/step - loss: 0.2907 - acc: 0.9189 - val_loss: 0.2785 - val_acc: 0.9235\n",
      "Epoch 7/200\n",
      "48000/48000 [==============================] - 1s 23us/step - loss: 0.2837 - acc: 0.9211 - val_loss: 0.2746 - val_acc: 0.9233\n",
      "Epoch 8/200\n",
      "48000/48000 [==============================] - 1s 24us/step - loss: 0.2780 - acc: 0.9227 - val_loss: 0.2727 - val_acc: 0.9236\n",
      "Epoch 9/200\n",
      "48000/48000 [==============================] - 1s 25us/step - loss: 0.2737 - acc: 0.9234 - val_loss: 0.2678 - val_acc: 0.9259\n",
      "Epoch 10/200\n",
      "48000/48000 [==============================] - 1s 23us/step - loss: 0.2696 - acc: 0.9247 - val_loss: 0.2656 - val_acc: 0.9274\n",
      "Epoch 11/200\n",
      "48000/48000 [==============================] - 1s 26us/step - loss: 0.2665 - acc: 0.9254 - val_loss: 0.2655 - val_acc: 0.9280\n",
      "Epoch 12/200\n",
      "48000/48000 [==============================] - 1s 24us/step - loss: 0.2640 - acc: 0.9266 - val_loss: 0.2647 - val_acc: 0.9273\n",
      "Epoch 13/200\n",
      "48000/48000 [==============================] - 1s 19us/step - loss: 0.2616 - acc: 0.9269 - val_loss: 0.2645 - val_acc: 0.9271\n",
      "Epoch 14/200\n",
      "48000/48000 [==============================] - 1s 23us/step - loss: 0.2595 - acc: 0.9275 - val_loss: 0.2627 - val_acc: 0.9287\n",
      "Epoch 15/200\n",
      "48000/48000 [==============================] - 1s 26us/step - loss: 0.2578 - acc: 0.9276 - val_loss: 0.2608 - val_acc: 0.9307\n",
      "Epoch 16/200\n",
      "48000/48000 [==============================] - 1s 22us/step - loss: 0.2562 - acc: 0.9281 - val_loss: 0.2610 - val_acc: 0.9300\n",
      "Epoch 17/200\n",
      "48000/48000 [==============================] - 1s 23us/step - loss: 0.2544 - acc: 0.9289 - val_loss: 0.2599 - val_acc: 0.9284\n",
      "Epoch 18/200\n",
      "48000/48000 [==============================] - 1s 22us/step - loss: 0.2527 - acc: 0.9292 - val_loss: 0.2595 - val_acc: 0.9292\n",
      "Epoch 19/200\n",
      "48000/48000 [==============================] - 1s 29us/step - loss: 0.2514 - acc: 0.9302 - val_loss: 0.2601 - val_acc: 0.9297\n",
      "Epoch 20/200\n",
      "48000/48000 [==============================] - 1s 27us/step - loss: 0.2501 - acc: 0.9312 - val_loss: 0.2595 - val_acc: 0.9301\n",
      "Epoch 21/200\n",
      "48000/48000 [==============================] - 1s 22us/step - loss: 0.2490 - acc: 0.9306 - val_loss: 0.2599 - val_acc: 0.9297\n",
      "Epoch 22/200\n",
      "48000/48000 [==============================] - 1s 21us/step - loss: 0.2480 - acc: 0.9306 - val_loss: 0.2605 - val_acc: 0.9292\n",
      "Epoch 23/200\n",
      "48000/48000 [==============================] - 1s 20us/step - loss: 0.2471 - acc: 0.9314 - val_loss: 0.2585 - val_acc: 0.9301\n",
      "Epoch 24/200\n",
      "48000/48000 [==============================] - 1s 21us/step - loss: 0.2462 - acc: 0.9312 - val_loss: 0.2582 - val_acc: 0.9310\n",
      "Epoch 25/200\n",
      "48000/48000 [==============================] - 1s 19us/step - loss: 0.2452 - acc: 0.9317 - val_loss: 0.2590 - val_acc: 0.9309\n",
      "Epoch 26/200\n",
      "48000/48000 [==============================] - 1s 19us/step - loss: 0.2442 - acc: 0.9326 - val_loss: 0.2611 - val_acc: 0.9300\n",
      "Epoch 27/200\n",
      "48000/48000 [==============================] - 1s 19us/step - loss: 0.2435 - acc: 0.9321 - val_loss: 0.2587 - val_acc: 0.9304\n",
      "Epoch 28/200\n",
      "48000/48000 [==============================] - 1s 19us/step - loss: 0.2426 - acc: 0.9324 - val_loss: 0.2608 - val_acc: 0.9296\n",
      "Epoch 29/200\n",
      "48000/48000 [==============================] - 1s 20us/step - loss: 0.2419 - acc: 0.9322 - val_loss: 0.2598 - val_acc: 0.9304\n",
      "Epoch 30/200\n",
      "48000/48000 [==============================] - 1s 19us/step - loss: 0.2409 - acc: 0.9331 - val_loss: 0.2590 - val_acc: 0.9304\n",
      "Epoch 31/200\n",
      "48000/48000 [==============================] - 1s 19us/step - loss: 0.2405 - acc: 0.9327 - val_loss: 0.2603 - val_acc: 0.9314\n",
      "Epoch 32/200\n",
      "48000/48000 [==============================] - 1s 19us/step - loss: 0.2400 - acc: 0.9331 - val_loss: 0.2592 - val_acc: 0.9311\n",
      "Epoch 33/200\n",
      "48000/48000 [==============================] - 1s 19us/step - loss: 0.2391 - acc: 0.9342 - val_loss: 0.2584 - val_acc: 0.9317\n",
      "Epoch 34/200\n",
      "48000/48000 [==============================] - 1s 19us/step - loss: 0.2384 - acc: 0.9343 - val_loss: 0.2587 - val_acc: 0.9297\n",
      "Epoch 35/200\n",
      "48000/48000 [==============================] - 1s 19us/step - loss: 0.2381 - acc: 0.9339 - val_loss: 0.2587 - val_acc: 0.9320\n",
      "Epoch 36/200\n",
      "48000/48000 [==============================] - 1s 19us/step - loss: 0.2376 - acc: 0.9340 - val_loss: 0.2606 - val_acc: 0.9306\n",
      "Epoch 37/200\n",
      "48000/48000 [==============================] - 1s 19us/step - loss: 0.2373 - acc: 0.9341 - val_loss: 0.2603 - val_acc: 0.9304\n",
      "Epoch 38/200\n",
      "48000/48000 [==============================] - 1s 19us/step - loss: 0.2364 - acc: 0.9345 - val_loss: 0.2610 - val_acc: 0.9307\n",
      "Epoch 39/200\n",
      "48000/48000 [==============================] - 1s 19us/step - loss: 0.2362 - acc: 0.9347 - val_loss: 0.2595 - val_acc: 0.9310\n",
      "Epoch 40/200\n",
      "48000/48000 [==============================] - 1s 19us/step - loss: 0.2355 - acc: 0.9353 - val_loss: 0.2615 - val_acc: 0.9303\n",
      "Epoch 41/200\n",
      "48000/48000 [==============================] - 1s 19us/step - loss: 0.2352 - acc: 0.9348 - val_loss: 0.2604 - val_acc: 0.9309\n",
      "Epoch 42/200\n",
      "48000/48000 [==============================] - 1s 19us/step - loss: 0.2345 - acc: 0.9348 - val_loss: 0.2617 - val_acc: 0.9308\n",
      "Epoch 43/200\n",
      "48000/48000 [==============================] - 1s 19us/step - loss: 0.2342 - acc: 0.9350 - val_loss: 0.2621 - val_acc: 0.9305\n",
      "Epoch 44/200\n",
      "48000/48000 [==============================] - 1s 19us/step - loss: 0.2338 - acc: 0.9347 - val_loss: 0.2599 - val_acc: 0.9308\n",
      "Epoch 45/200\n",
      "48000/48000 [==============================] - 1s 19us/step - loss: 0.2335 - acc: 0.9351 - val_loss: 0.2621 - val_acc: 0.9302\n",
      "Epoch 46/200\n",
      "48000/48000 [==============================] - 1s 19us/step - loss: 0.2331 - acc: 0.9353 - val_loss: 0.2613 - val_acc: 0.9314\n",
      "Epoch 47/200\n",
      "48000/48000 [==============================] - 1s 19us/step - loss: 0.2325 - acc: 0.9360 - val_loss: 0.2632 - val_acc: 0.9308\n",
      "Epoch 48/200\n",
      "48000/48000 [==============================] - 1s 19us/step - loss: 0.2325 - acc: 0.9358 - val_loss: 0.2615 - val_acc: 0.9305\n",
      "Epoch 49/200\n",
      "48000/48000 [==============================] - 1s 19us/step - loss: 0.2322 - acc: 0.9356 - val_loss: 0.2618 - val_acc: 0.9315\n",
      "Epoch 50/200\n",
      "48000/48000 [==============================] - 1s 19us/step - loss: 0.2312 - acc: 0.9360 - val_loss: 0.2631 - val_acc: 0.9302\n",
      "Epoch 51/200\n",
      "48000/48000 [==============================] - 1s 19us/step - loss: 0.2315 - acc: 0.9360 - val_loss: 0.2627 - val_acc: 0.9314\n",
      "Epoch 52/200\n",
      "48000/48000 [==============================] - 1s 19us/step - loss: 0.2306 - acc: 0.9356 - val_loss: 0.2630 - val_acc: 0.9310\n",
      "Epoch 53/200\n",
      "48000/48000 [==============================] - 1s 19us/step - loss: 0.2306 - acc: 0.9357 - val_loss: 0.2624 - val_acc: 0.9307\n",
      "Epoch 54/200\n",
      "48000/48000 [==============================] - 1s 19us/step - loss: 0.2300 - acc: 0.9365 - val_loss: 0.2631 - val_acc: 0.9305\n",
      "Epoch 55/200\n",
      "48000/48000 [==============================] - 1s 19us/step - loss: 0.2300 - acc: 0.9365 - val_loss: 0.2614 - val_acc: 0.9317\n",
      "Epoch 56/200\n",
      "48000/48000 [==============================] - 1s 19us/step - loss: 0.2296 - acc: 0.9364 - val_loss: 0.2655 - val_acc: 0.9312\n",
      "Epoch 57/200\n",
      "48000/48000 [==============================] - 1s 19us/step - loss: 0.2294 - acc: 0.9363 - val_loss: 0.2629 - val_acc: 0.9313\n",
      "Epoch 58/200\n",
      "48000/48000 [==============================] - 1s 19us/step - loss: 0.2291 - acc: 0.9362 - val_loss: 0.2628 - val_acc: 0.9313\n",
      "Epoch 59/200\n",
      "48000/48000 [==============================] - 1s 21us/step - loss: 0.2286 - acc: 0.9364 - val_loss: 0.2640 - val_acc: 0.9310\n",
      "Epoch 60/200\n",
      "48000/48000 [==============================] - 1s 20us/step - loss: 0.2288 - acc: 0.9370 - val_loss: 0.2636 - val_acc: 0.9309\n",
      "Epoch 61/200\n",
      "48000/48000 [==============================] - 1s 19us/step - loss: 0.2280 - acc: 0.9372 - val_loss: 0.2626 - val_acc: 0.9303\n",
      "Epoch 62/200\n",
      "48000/48000 [==============================] - 1s 19us/step - loss: 0.2279 - acc: 0.9362 - val_loss: 0.2638 - val_acc: 0.9316\n",
      "Epoch 63/200\n",
      "48000/48000 [==============================] - 1s 20us/step - loss: 0.2277 - acc: 0.9368 - val_loss: 0.2654 - val_acc: 0.9307\n",
      "Epoch 64/200\n",
      "48000/48000 [==============================] - 1s 19us/step - loss: 0.2275 - acc: 0.9369 - val_loss: 0.2660 - val_acc: 0.9303\n",
      "Epoch 65/200\n",
      "48000/48000 [==============================] - 1s 19us/step - loss: 0.2269 - acc: 0.9371 - val_loss: 0.2647 - val_acc: 0.9315\n",
      "Epoch 66/200\n",
      "48000/48000 [==============================] - 1s 19us/step - loss: 0.2270 - acc: 0.9370 - val_loss: 0.2647 - val_acc: 0.9298\n",
      "Epoch 67/200\n",
      "48000/48000 [==============================] - 1s 19us/step - loss: 0.2268 - acc: 0.9370 - val_loss: 0.2639 - val_acc: 0.9327\n",
      "Epoch 68/200\n",
      "48000/48000 [==============================] - 1s 19us/step - loss: 0.2265 - acc: 0.9370 - val_loss: 0.2655 - val_acc: 0.9312\n",
      "Epoch 69/200\n",
      "48000/48000 [==============================] - 1s 19us/step - loss: 0.2262 - acc: 0.9374 - val_loss: 0.2645 - val_acc: 0.9307\n",
      "Epoch 70/200\n",
      "48000/48000 [==============================] - 1s 19us/step - loss: 0.2261 - acc: 0.9371 - val_loss: 0.2657 - val_acc: 0.9299\n",
      "Epoch 71/200\n",
      "48000/48000 [==============================] - 1s 19us/step - loss: 0.2258 - acc: 0.9377 - val_loss: 0.2662 - val_acc: 0.9298\n",
      "Epoch 72/200\n",
      "48000/48000 [==============================] - 1s 19us/step - loss: 0.2253 - acc: 0.9376 - val_loss: 0.2658 - val_acc: 0.9312\n",
      "Epoch 73/200\n",
      "48000/48000 [==============================] - 1s 20us/step - loss: 0.2251 - acc: 0.9379 - val_loss: 0.2653 - val_acc: 0.9300\n",
      "Epoch 74/200\n",
      "48000/48000 [==============================] - 1s 20us/step - loss: 0.2253 - acc: 0.9374 - val_loss: 0.2668 - val_acc: 0.9299\n",
      "Epoch 75/200\n",
      "48000/48000 [==============================] - 1s 19us/step - loss: 0.2248 - acc: 0.9377 - val_loss: 0.2655 - val_acc: 0.9307\n",
      "Epoch 76/200\n",
      "48000/48000 [==============================] - 1s 21us/step - loss: 0.2247 - acc: 0.9375 - val_loss: 0.2666 - val_acc: 0.9308\n",
      "Epoch 77/200\n",
      "48000/48000 [==============================] - 1s 21us/step - loss: 0.2244 - acc: 0.9379 - val_loss: 0.2663 - val_acc: 0.9308\n",
      "Epoch 78/200\n",
      "48000/48000 [==============================] - 1s 20us/step - loss: 0.2243 - acc: 0.9375 - val_loss: 0.2663 - val_acc: 0.9305\n",
      "Epoch 79/200\n",
      "48000/48000 [==============================] - 1s 19us/step - loss: 0.2241 - acc: 0.9377 - val_loss: 0.2656 - val_acc: 0.9309\n",
      "Epoch 80/200\n",
      "48000/48000 [==============================] - 1s 20us/step - loss: 0.2243 - acc: 0.9374 - val_loss: 0.2658 - val_acc: 0.9299\n",
      "Epoch 81/200\n",
      "48000/48000 [==============================] - 1s 19us/step - loss: 0.2239 - acc: 0.9387 - val_loss: 0.2675 - val_acc: 0.9306\n",
      "Epoch 82/200\n",
      "48000/48000 [==============================] - 1s 20us/step - loss: 0.2234 - acc: 0.9382 - val_loss: 0.2675 - val_acc: 0.9293\n",
      "Epoch 83/200\n",
      "48000/48000 [==============================] - 1s 19us/step - loss: 0.2237 - acc: 0.9380 - val_loss: 0.2672 - val_acc: 0.9299\n",
      "Epoch 84/200\n",
      "48000/48000 [==============================] - 1s 24us/step - loss: 0.2233 - acc: 0.9385 - val_loss: 0.2672 - val_acc: 0.9306\n",
      "Epoch 85/200\n",
      "48000/48000 [==============================] - 1s 21us/step - loss: 0.2233 - acc: 0.9375 - val_loss: 0.2703 - val_acc: 0.9286\n",
      "Epoch 86/200\n",
      "48000/48000 [==============================] - 1s 19us/step - loss: 0.2229 - acc: 0.9382 - val_loss: 0.2696 - val_acc: 0.9294\n",
      "Epoch 87/200\n",
      "48000/48000 [==============================] - 1s 19us/step - loss: 0.2228 - acc: 0.9379 - val_loss: 0.2677 - val_acc: 0.9304\n",
      "Epoch 88/200\n",
      "48000/48000 [==============================] - 1s 19us/step - loss: 0.2225 - acc: 0.9384 - val_loss: 0.2694 - val_acc: 0.9296\n",
      "Epoch 89/200\n",
      "48000/48000 [==============================] - 1s 19us/step - loss: 0.2223 - acc: 0.9386 - val_loss: 0.2671 - val_acc: 0.9298\n",
      "Epoch 90/200\n",
      "48000/48000 [==============================] - 1s 19us/step - loss: 0.2222 - acc: 0.9386 - val_loss: 0.2685 - val_acc: 0.9303\n",
      "Epoch 91/200\n",
      "48000/48000 [==============================] - 1s 19us/step - loss: 0.2223 - acc: 0.9387 - val_loss: 0.2683 - val_acc: 0.9299\n",
      "Epoch 92/200\n",
      "48000/48000 [==============================] - 1s 19us/step - loss: 0.2217 - acc: 0.9385 - val_loss: 0.2693 - val_acc: 0.9301\n",
      "Epoch 93/200\n",
      "48000/48000 [==============================] - 1s 20us/step - loss: 0.2216 - acc: 0.9380 - val_loss: 0.2687 - val_acc: 0.9303\n",
      "Epoch 94/200\n",
      "48000/48000 [==============================] - 1s 23us/step - loss: 0.2217 - acc: 0.9382 - val_loss: 0.2693 - val_acc: 0.9301\n",
      "Epoch 95/200\n",
      "48000/48000 [==============================] - 1s 19us/step - loss: 0.2214 - acc: 0.9386 - val_loss: 0.2694 - val_acc: 0.9287\n",
      "Epoch 96/200\n",
      "48000/48000 [==============================] - 1s 20us/step - loss: 0.2212 - acc: 0.9384 - val_loss: 0.2705 - val_acc: 0.9290\n",
      "Epoch 97/200\n",
      "48000/48000 [==============================] - 1s 22us/step - loss: 0.2212 - acc: 0.9379 - val_loss: 0.2703 - val_acc: 0.9291\n",
      "Epoch 98/200\n",
      "48000/48000 [==============================] - 1s 22us/step - loss: 0.2210 - acc: 0.9387 - val_loss: 0.2696 - val_acc: 0.9301\n",
      "Epoch 99/200\n",
      "48000/48000 [==============================] - 1s 22us/step - loss: 0.2207 - acc: 0.9386 - val_loss: 0.2687 - val_acc: 0.9308\n",
      "Epoch 100/200\n",
      "48000/48000 [==============================] - 1s 24us/step - loss: 0.2207 - acc: 0.9384 - val_loss: 0.2701 - val_acc: 0.9302\n",
      "Epoch 101/200\n",
      "48000/48000 [==============================] - 1s 22us/step - loss: 0.2203 - acc: 0.9387 - val_loss: 0.2696 - val_acc: 0.9302\n",
      "Epoch 102/200\n",
      "48000/48000 [==============================] - 1s 20us/step - loss: 0.2204 - acc: 0.9384 - val_loss: 0.2699 - val_acc: 0.9301\n",
      "Epoch 103/200\n",
      "48000/48000 [==============================] - 1s 27us/step - loss: 0.2204 - acc: 0.9387 - val_loss: 0.2703 - val_acc: 0.9301\n",
      "Epoch 104/200\n",
      "48000/48000 [==============================] - 1s 26us/step - loss: 0.2201 - acc: 0.9389 - val_loss: 0.2709 - val_acc: 0.9303\n",
      "Epoch 105/200\n",
      "48000/48000 [==============================] - 1s 22us/step - loss: 0.2201 - acc: 0.9387 - val_loss: 0.2702 - val_acc: 0.9302\n",
      "Epoch 106/200\n",
      "48000/48000 [==============================] - 1s 22us/step - loss: 0.2199 - acc: 0.9393 - val_loss: 0.2712 - val_acc: 0.9293\n",
      "Epoch 107/200\n",
      "48000/48000 [==============================] - 1s 25us/step - loss: 0.2197 - acc: 0.9387 - val_loss: 0.2705 - val_acc: 0.9299\n",
      "Epoch 108/200\n",
      "48000/48000 [==============================] - 1s 24us/step - loss: 0.2198 - acc: 0.9390 - val_loss: 0.2707 - val_acc: 0.9306\n",
      "Epoch 109/200\n",
      "48000/48000 [==============================] - 1s 25us/step - loss: 0.2197 - acc: 0.9392 - val_loss: 0.2702 - val_acc: 0.9300\n",
      "Epoch 110/200\n",
      "48000/48000 [==============================] - 1s 24us/step - loss: 0.2192 - acc: 0.9388 - val_loss: 0.2718 - val_acc: 0.9291\n",
      "Epoch 111/200\n",
      "48000/48000 [==============================] - 1s 25us/step - loss: 0.2190 - acc: 0.9392 - val_loss: 0.2732 - val_acc: 0.9290\n",
      "Epoch 112/200\n",
      "48000/48000 [==============================] - 1s 23us/step - loss: 0.2193 - acc: 0.9388 - val_loss: 0.2716 - val_acc: 0.9303\n",
      "Epoch 113/200\n",
      "48000/48000 [==============================] - 1s 22us/step - loss: 0.2191 - acc: 0.9395 - val_loss: 0.2728 - val_acc: 0.9289\n",
      "Epoch 114/200\n",
      "48000/48000 [==============================] - 1s 21us/step - loss: 0.2186 - acc: 0.9394 - val_loss: 0.2732 - val_acc: 0.9292\n",
      "Epoch 115/200\n",
      "48000/48000 [==============================] - 1s 22us/step - loss: 0.2190 - acc: 0.9392 - val_loss: 0.2716 - val_acc: 0.9292\n",
      "Epoch 116/200\n",
      "48000/48000 [==============================] - 1s 23us/step - loss: 0.2187 - acc: 0.9394 - val_loss: 0.2735 - val_acc: 0.9297\n",
      "Epoch 117/200\n",
      "48000/48000 [==============================] - 1s 25us/step - loss: 0.2182 - acc: 0.9394 - val_loss: 0.2715 - val_acc: 0.9298\n"
     ]
    },
    {
     "name": "stdout",
     "output_type": "stream",
     "text": [
      "Epoch 118/200\n",
      "48000/48000 [==============================] - 1s 23us/step - loss: 0.2182 - acc: 0.9386 - val_loss: 0.2731 - val_acc: 0.9289\n",
      "Epoch 119/200\n",
      "48000/48000 [==============================] - 1s 25us/step - loss: 0.2183 - acc: 0.9391 - val_loss: 0.2724 - val_acc: 0.9291\n",
      "Epoch 120/200\n",
      "48000/48000 [==============================] - 1s 23us/step - loss: 0.2180 - acc: 0.9395 - val_loss: 0.2725 - val_acc: 0.9296\n",
      "Epoch 121/200\n",
      "48000/48000 [==============================] - 1s 24us/step - loss: 0.2181 - acc: 0.9395 - val_loss: 0.2722 - val_acc: 0.9297\n",
      "Epoch 122/200\n",
      "48000/48000 [==============================] - 1s 28us/step - loss: 0.2179 - acc: 0.9394 - val_loss: 0.2760 - val_acc: 0.9273\n",
      "Epoch 123/200\n",
      "48000/48000 [==============================] - 1s 23us/step - loss: 0.2183 - acc: 0.9391 - val_loss: 0.2754 - val_acc: 0.9290\n",
      "Epoch 124/200\n",
      "48000/48000 [==============================] - 1s 24us/step - loss: 0.2178 - acc: 0.9391 - val_loss: 0.2736 - val_acc: 0.9294\n",
      "Epoch 125/200\n",
      "48000/48000 [==============================] - 1s 23us/step - loss: 0.2175 - acc: 0.9394 - val_loss: 0.2736 - val_acc: 0.9293\n",
      "Epoch 126/200\n",
      "48000/48000 [==============================] - 1s 23us/step - loss: 0.2176 - acc: 0.9395 - val_loss: 0.2745 - val_acc: 0.9296\n",
      "Epoch 127/200\n",
      "48000/48000 [==============================] - 1s 21us/step - loss: 0.2177 - acc: 0.9392 - val_loss: 0.2728 - val_acc: 0.9297\n",
      "Epoch 128/200\n",
      "48000/48000 [==============================] - 1s 22us/step - loss: 0.2172 - acc: 0.9393 - val_loss: 0.2732 - val_acc: 0.9292\n",
      "Epoch 129/200\n",
      "48000/48000 [==============================] - 1s 21us/step - loss: 0.2170 - acc: 0.9394 - val_loss: 0.2768 - val_acc: 0.9282\n",
      "Epoch 130/200\n",
      "48000/48000 [==============================] - 1s 21us/step - loss: 0.2173 - acc: 0.9395 - val_loss: 0.2746 - val_acc: 0.9287\n",
      "Epoch 131/200\n",
      "48000/48000 [==============================] - 1s 21us/step - loss: 0.2172 - acc: 0.9394 - val_loss: 0.2739 - val_acc: 0.9298\n",
      "Epoch 132/200\n",
      "48000/48000 [==============================] - 1s 21us/step - loss: 0.2166 - acc: 0.9400 - val_loss: 0.2757 - val_acc: 0.9285\n",
      "Epoch 133/200\n",
      "48000/48000 [==============================] - 1s 21us/step - loss: 0.2165 - acc: 0.9398 - val_loss: 0.2751 - val_acc: 0.9293\n",
      "Epoch 134/200\n",
      "48000/48000 [==============================] - 1s 21us/step - loss: 0.2164 - acc: 0.9400 - val_loss: 0.2754 - val_acc: 0.9292\n",
      "Epoch 135/200\n",
      "48000/48000 [==============================] - 1s 21us/step - loss: 0.2167 - acc: 0.9393 - val_loss: 0.2753 - val_acc: 0.9286\n",
      "Epoch 136/200\n",
      "48000/48000 [==============================] - 1s 21us/step - loss: 0.2165 - acc: 0.9400 - val_loss: 0.2743 - val_acc: 0.9293\n",
      "Epoch 137/200\n",
      "48000/48000 [==============================] - 1s 21us/step - loss: 0.2163 - acc: 0.9397 - val_loss: 0.2768 - val_acc: 0.9285\n",
      "Epoch 138/200\n",
      "48000/48000 [==============================] - 1s 21us/step - loss: 0.2163 - acc: 0.9399 - val_loss: 0.2766 - val_acc: 0.9286\n",
      "Epoch 139/200\n",
      "48000/48000 [==============================] - 1s 21us/step - loss: 0.2161 - acc: 0.9401 - val_loss: 0.2766 - val_acc: 0.9286\n",
      "Epoch 140/200\n",
      "48000/48000 [==============================] - 1s 21us/step - loss: 0.2160 - acc: 0.9397 - val_loss: 0.2768 - val_acc: 0.9272\n",
      "Epoch 141/200\n",
      "48000/48000 [==============================] - 1s 21us/step - loss: 0.2160 - acc: 0.9398 - val_loss: 0.2772 - val_acc: 0.9280\n",
      "Epoch 142/200\n",
      "48000/48000 [==============================] - 1s 21us/step - loss: 0.2159 - acc: 0.9393 - val_loss: 0.2763 - val_acc: 0.9289\n",
      "Epoch 143/200\n",
      "48000/48000 [==============================] - 1s 21us/step - loss: 0.2158 - acc: 0.9402 - val_loss: 0.2756 - val_acc: 0.9285\n",
      "Epoch 144/200\n",
      "48000/48000 [==============================] - 1s 21us/step - loss: 0.2158 - acc: 0.9398 - val_loss: 0.2762 - val_acc: 0.9288\n",
      "Epoch 145/200\n",
      "48000/48000 [==============================] - 1s 21us/step - loss: 0.2157 - acc: 0.9397 - val_loss: 0.2757 - val_acc: 0.9288\n",
      "Epoch 146/200\n",
      "48000/48000 [==============================] - 1s 21us/step - loss: 0.2153 - acc: 0.9396 - val_loss: 0.2751 - val_acc: 0.9292\n",
      "Epoch 147/200\n",
      "48000/48000 [==============================] - 1s 21us/step - loss: 0.2153 - acc: 0.9396 - val_loss: 0.2784 - val_acc: 0.9279\n",
      "Epoch 148/200\n",
      "48000/48000 [==============================] - 1s 22us/step - loss: 0.2156 - acc: 0.9397 - val_loss: 0.2755 - val_acc: 0.9283\n",
      "Epoch 149/200\n",
      "48000/48000 [==============================] - 1s 22us/step - loss: 0.2153 - acc: 0.9399 - val_loss: 0.2766 - val_acc: 0.9288\n",
      "Epoch 150/200\n",
      "48000/48000 [==============================] - 1s 22us/step - loss: 0.2155 - acc: 0.9400 - val_loss: 0.2784 - val_acc: 0.9279\n",
      "Epoch 151/200\n",
      "48000/48000 [==============================] - 1s 21us/step - loss: 0.2150 - acc: 0.9399 - val_loss: 0.2762 - val_acc: 0.9292\n",
      "Epoch 152/200\n",
      "48000/48000 [==============================] - 1s 21us/step - loss: 0.2149 - acc: 0.9401 - val_loss: 0.2785 - val_acc: 0.9282\n",
      "Epoch 153/200\n",
      "48000/48000 [==============================] - 1s 21us/step - loss: 0.2150 - acc: 0.9401 - val_loss: 0.2770 - val_acc: 0.9292\n",
      "Epoch 154/200\n",
      "48000/48000 [==============================] - 1s 21us/step - loss: 0.2145 - acc: 0.9401 - val_loss: 0.2768 - val_acc: 0.9284\n",
      "Epoch 155/200\n",
      "48000/48000 [==============================] - 1s 22us/step - loss: 0.2150 - acc: 0.9399 - val_loss: 0.2773 - val_acc: 0.9292\n",
      "Epoch 156/200\n",
      "48000/48000 [==============================] - 1s 21us/step - loss: 0.2148 - acc: 0.9404 - val_loss: 0.2794 - val_acc: 0.9281\n",
      "Epoch 157/200\n",
      "48000/48000 [==============================] - 1s 22us/step - loss: 0.2148 - acc: 0.9397 - val_loss: 0.2809 - val_acc: 0.9282\n",
      "Epoch 158/200\n",
      "48000/48000 [==============================] - 1s 21us/step - loss: 0.2147 - acc: 0.9399 - val_loss: 0.2807 - val_acc: 0.9272\n",
      "Epoch 159/200\n",
      "48000/48000 [==============================] - 1s 22us/step - loss: 0.2141 - acc: 0.9400 - val_loss: 0.2790 - val_acc: 0.9277\n",
      "Epoch 160/200\n",
      "48000/48000 [==============================] - 1s 22us/step - loss: 0.2146 - acc: 0.9397 - val_loss: 0.2800 - val_acc: 0.9283\n",
      "Epoch 161/200\n",
      "48000/48000 [==============================] - 1s 22us/step - loss: 0.2141 - acc: 0.9400 - val_loss: 0.2802 - val_acc: 0.9278\n",
      "Epoch 162/200\n",
      "48000/48000 [==============================] - 1s 22us/step - loss: 0.2140 - acc: 0.9399 - val_loss: 0.2800 - val_acc: 0.9273\n",
      "Epoch 163/200\n",
      "48000/48000 [==============================] - 1s 21us/step - loss: 0.2142 - acc: 0.9400 - val_loss: 0.2784 - val_acc: 0.9293\n",
      "Epoch 164/200\n",
      "48000/48000 [==============================] - 1s 21us/step - loss: 0.2141 - acc: 0.9400 - val_loss: 0.2805 - val_acc: 0.9282\n",
      "Epoch 165/200\n",
      "48000/48000 [==============================] - 1s 22us/step - loss: 0.2141 - acc: 0.9402 - val_loss: 0.2794 - val_acc: 0.9275\n",
      "Epoch 166/200\n",
      "48000/48000 [==============================] - 1s 21us/step - loss: 0.2138 - acc: 0.9401 - val_loss: 0.2805 - val_acc: 0.9275\n",
      "Epoch 167/200\n",
      "48000/48000 [==============================] - 1s 21us/step - loss: 0.2138 - acc: 0.9404 - val_loss: 0.2805 - val_acc: 0.9280\n",
      "Epoch 168/200\n",
      "48000/48000 [==============================] - 1s 21us/step - loss: 0.2140 - acc: 0.9409 - val_loss: 0.2786 - val_acc: 0.9297\n",
      "Epoch 169/200\n",
      "48000/48000 [==============================] - 1s 21us/step - loss: 0.2131 - acc: 0.9404 - val_loss: 0.2797 - val_acc: 0.9280\n",
      "Epoch 170/200\n",
      "48000/48000 [==============================] - 1s 21us/step - loss: 0.2133 - acc: 0.9401 - val_loss: 0.2811 - val_acc: 0.9280\n",
      "Epoch 171/200\n",
      "48000/48000 [==============================] - 1s 21us/step - loss: 0.2134 - acc: 0.9405 - val_loss: 0.2793 - val_acc: 0.9288\n",
      "Epoch 172/200\n",
      "48000/48000 [==============================] - 1s 21us/step - loss: 0.2134 - acc: 0.9406 - val_loss: 0.2802 - val_acc: 0.9285\n",
      "Epoch 173/200\n",
      "48000/48000 [==============================] - 1s 22us/step - loss: 0.2134 - acc: 0.9400 - val_loss: 0.2807 - val_acc: 0.9280\n",
      "Epoch 174/200\n",
      "48000/48000 [==============================] - 1s 21us/step - loss: 0.2133 - acc: 0.9407 - val_loss: 0.2788 - val_acc: 0.9288\n",
      "Epoch 175/200\n",
      "48000/48000 [==============================] - 1s 21us/step - loss: 0.2133 - acc: 0.9405 - val_loss: 0.2807 - val_acc: 0.9282\n",
      "Epoch 176/200\n",
      "48000/48000 [==============================] - 1s 22us/step - loss: 0.2131 - acc: 0.9401 - val_loss: 0.2824 - val_acc: 0.9267\n",
      "Epoch 177/200\n",
      "48000/48000 [==============================] - 1s 21us/step - loss: 0.2132 - acc: 0.9400 - val_loss: 0.2819 - val_acc: 0.9272\n",
      "Epoch 178/200\n",
      "48000/48000 [==============================] - 1s 21us/step - loss: 0.2130 - acc: 0.9404 - val_loss: 0.2809 - val_acc: 0.9287\n",
      "Epoch 179/200\n",
      "48000/48000 [==============================] - 1s 21us/step - loss: 0.2128 - acc: 0.9404 - val_loss: 0.2826 - val_acc: 0.9276\n",
      "Epoch 180/200\n",
      "48000/48000 [==============================] - 1s 21us/step - loss: 0.2129 - acc: 0.9401 - val_loss: 0.2808 - val_acc: 0.9278\n",
      "Epoch 181/200\n",
      "48000/48000 [==============================] - 1s 21us/step - loss: 0.2127 - acc: 0.9400 - val_loss: 0.2821 - val_acc: 0.9274\n",
      "Epoch 182/200\n",
      "48000/48000 [==============================] - 1s 21us/step - loss: 0.2130 - acc: 0.9401 - val_loss: 0.2804 - val_acc: 0.9287\n",
      "Epoch 183/200\n",
      "48000/48000 [==============================] - 1s 21us/step - loss: 0.2129 - acc: 0.9405 - val_loss: 0.2814 - val_acc: 0.9280\n",
      "Epoch 184/200\n",
      "48000/48000 [==============================] - 1s 21us/step - loss: 0.2125 - acc: 0.9400 - val_loss: 0.2821 - val_acc: 0.9278\n",
      "Epoch 185/200\n",
      "48000/48000 [==============================] - 1s 21us/step - loss: 0.2127 - acc: 0.9407 - val_loss: 0.2821 - val_acc: 0.9283\n",
      "Epoch 186/200\n",
      "48000/48000 [==============================] - 1s 21us/step - loss: 0.2123 - acc: 0.9406 - val_loss: 0.2832 - val_acc: 0.9274\n",
      "Epoch 187/200\n",
      "48000/48000 [==============================] - 1s 21us/step - loss: 0.2125 - acc: 0.9404 - val_loss: 0.2810 - val_acc: 0.9289\n",
      "Epoch 188/200\n",
      "48000/48000 [==============================] - 1s 21us/step - loss: 0.2124 - acc: 0.9405 - val_loss: 0.2811 - val_acc: 0.9288\n",
      "Epoch 189/200\n",
      "48000/48000 [==============================] - 1s 21us/step - loss: 0.2124 - acc: 0.9406 - val_loss: 0.2818 - val_acc: 0.9282\n",
      "Epoch 190/200\n",
      "48000/48000 [==============================] - 1s 21us/step - loss: 0.2122 - acc: 0.9410 - val_loss: 0.2838 - val_acc: 0.9264\n",
      "Epoch 191/200\n",
      "48000/48000 [==============================] - 1s 21us/step - loss: 0.2120 - acc: 0.9403 - val_loss: 0.2828 - val_acc: 0.9272\n",
      "Epoch 192/200\n",
      "48000/48000 [==============================] - 1s 21us/step - loss: 0.2120 - acc: 0.9404 - val_loss: 0.2827 - val_acc: 0.9277\n",
      "Epoch 193/200\n",
      "48000/48000 [==============================] - 1s 21us/step - loss: 0.2120 - acc: 0.9404 - val_loss: 0.2820 - val_acc: 0.9280\n",
      "Epoch 194/200\n",
      "48000/48000 [==============================] - 1s 21us/step - loss: 0.2120 - acc: 0.9403 - val_loss: 0.2824 - val_acc: 0.9278\n",
      "Epoch 195/200\n",
      "48000/48000 [==============================] - 1s 21us/step - loss: 0.2119 - acc: 0.9413 - val_loss: 0.2837 - val_acc: 0.9267\n",
      "Epoch 196/200\n",
      "48000/48000 [==============================] - 1s 21us/step - loss: 0.2121 - acc: 0.9404 - val_loss: 0.2825 - val_acc: 0.9286\n",
      "Epoch 197/200\n",
      "48000/48000 [==============================] - 1s 21us/step - loss: 0.2120 - acc: 0.9401 - val_loss: 0.2830 - val_acc: 0.9283\n",
      "Epoch 198/200\n",
      "48000/48000 [==============================] - 1s 21us/step - loss: 0.2118 - acc: 0.9400 - val_loss: 0.2823 - val_acc: 0.9275\n",
      "Epoch 199/200\n",
      "48000/48000 [==============================] - 1s 21us/step - loss: 0.2115 - acc: 0.9408 - val_loss: 0.2820 - val_acc: 0.9282\n",
      "Epoch 200/200\n",
      "48000/48000 [==============================] - 1s 21us/step - loss: 0.2115 - acc: 0.9410 - val_loss: 0.2832 - val_acc: 0.9273\n"
     ]
    }
   ],
   "source": [
    "# Обучение модели\n",
    "history = model.fit(X_train, y_train, batch_size=BATCH_SIZE, epochs=NB_EPOCH,\n",
    "                    verbose=VERBOSE, validation_split=VALIDATION_SPLIT)"
   ]
  },
  {
   "cell_type": "code",
   "execution_count": 15,
   "metadata": {},
   "outputs": [
    {
     "name": "stdout",
     "output_type": "stream",
     "text": [
      "10000/10000 [==============================] - 0s 33us/step\n",
      "Test score:  0.2984068250253797\n",
      "Test accuracy:  0.927\n"
     ]
    }
   ],
   "source": [
    "score = model.evaluate(X_test, y_test, verbose=VERBOSE)\n",
    "print(\"Test score: \", score[0])\n",
    "print(\"Test accuracy: \", score[1])"
   ]
  },
  {
   "cell_type": "markdown",
   "metadata": {},
   "source": [
    "#### Добавим скрытые слои"
   ]
  },
  {
   "cell_type": "code",
   "execution_count": 16,
   "metadata": {},
   "outputs": [
    {
     "name": "stdout",
     "output_type": "stream",
     "text": [
      "_________________________________________________________________\n",
      "Layer (type)                 Output Shape              Param #   \n",
      "=================================================================\n",
      "dense_2 (Dense)              (None, 128)               100480    \n",
      "_________________________________________________________________\n",
      "activation_2 (Activation)    (None, 128)               0         \n",
      "_________________________________________________________________\n",
      "dropout_1 (Dropout)          (None, 128)               0         \n",
      "_________________________________________________________________\n",
      "dense_3 (Dense)              (None, 128)               16512     \n",
      "_________________________________________________________________\n",
      "activation_3 (Activation)    (None, 128)               0         \n",
      "_________________________________________________________________\n",
      "dropout_2 (Dropout)          (None, 128)               0         \n",
      "_________________________________________________________________\n",
      "dense_4 (Dense)              (None, 10)                1290      \n",
      "_________________________________________________________________\n",
      "activation_4 (Activation)    (None, 10)                0         \n",
      "=================================================================\n",
      "Total params: 118,282\n",
      "Trainable params: 118,282\n",
      "Non-trainable params: 0\n",
      "_________________________________________________________________\n"
     ]
    }
   ],
   "source": [
    "# Усложним сеть, добавив 2 скрытых слоя с N_HIDDEN=128 нейронами. Т.е. сеть состоит из\n",
    "# входного слоя (784 нейрона, по кол-ву пикселей), 2 скрытых слоёв (по 128 нейронов), выходного слоя (10 нейронов),\n",
    "# выхода (1 нейрон)\n",
    "NB_EPOCH = 50\n",
    "DROPOUT = 0.3\n",
    "\n",
    "model = Sequential()\n",
    "model.add(Dense(N_HIDDEN, input_shape=(RESHAPED,)))\n",
    "model.add(Activation('relu'))\n",
    "model.add(Dropout(DROPOUT))\n",
    "model.add(Dense(N_HIDDEN))\n",
    "model.add(Activation('relu'))\n",
    "model.add(Dropout(DROPOUT))\n",
    "model.add(Dense(NB_CLASSES))\n",
    "model.add(Activation('softmax'))\n",
    "model.summary()"
   ]
  },
  {
   "cell_type": "code",
   "execution_count": 17,
   "metadata": {},
   "outputs": [],
   "source": [
    "plot_model(model, to_file='model2.png')"
   ]
  },
  {
   "cell_type": "code",
   "execution_count": 18,
   "metadata": {},
   "outputs": [
    {
     "name": "stdout",
     "output_type": "stream",
     "text": [
      "Train on 48000 samples, validate on 12000 samples\n",
      "Epoch 1/50\n",
      "48000/48000 [==============================] - 2s 34us/step - loss: 0.3568 - acc: 0.8918 - val_loss: 0.1433 - val_acc: 0.9586\n",
      "Epoch 2/50\n",
      "48000/48000 [==============================] - 1s 31us/step - loss: 0.1905 - acc: 0.9439 - val_loss: 0.1162 - val_acc: 0.9652\n",
      "Epoch 3/50\n",
      "48000/48000 [==============================] - 2s 31us/step - loss: 0.1522 - acc: 0.9543 - val_loss: 0.1105 - val_acc: 0.9663\n",
      "Epoch 4/50\n",
      "48000/48000 [==============================] - 1s 31us/step - loss: 0.1342 - acc: 0.9593 - val_loss: 0.1056 - val_acc: 0.9688\n",
      "Epoch 5/50\n",
      "48000/48000 [==============================] - 1s 31us/step - loss: 0.1230 - acc: 0.9626 - val_loss: 0.0968 - val_acc: 0.9708\n",
      "Epoch 6/50\n",
      "48000/48000 [==============================] - 1s 31us/step - loss: 0.1120 - acc: 0.9657 - val_loss: 0.0941 - val_acc: 0.9705\n",
      "Epoch 7/50\n",
      "48000/48000 [==============================] - 1s 31us/step - loss: 0.1014 - acc: 0.9689 - val_loss: 0.0902 - val_acc: 0.9723\n",
      "Epoch 8/50\n",
      "48000/48000 [==============================] - 1s 31us/step - loss: 0.0956 - acc: 0.9689 - val_loss: 0.0879 - val_acc: 0.9737\n",
      "Epoch 9/50\n",
      "48000/48000 [==============================] - 2s 31us/step - loss: 0.0876 - acc: 0.9722 - val_loss: 0.0894 - val_acc: 0.9746\n",
      "Epoch 10/50\n",
      "48000/48000 [==============================] - 1s 31us/step - loss: 0.0818 - acc: 0.9737 - val_loss: 0.0887 - val_acc: 0.9749\n",
      "Epoch 11/50\n",
      "48000/48000 [==============================] - 1s 31us/step - loss: 0.0796 - acc: 0.9750 - val_loss: 0.0863 - val_acc: 0.9745\n",
      "Epoch 12/50\n",
      "48000/48000 [==============================] - 2s 31us/step - loss: 0.0751 - acc: 0.9762 - val_loss: 0.0809 - val_acc: 0.9760\n",
      "Epoch 13/50\n",
      "48000/48000 [==============================] - 1s 31us/step - loss: 0.0730 - acc: 0.9765 - val_loss: 0.0844 - val_acc: 0.9747\n",
      "Epoch 14/50\n",
      "48000/48000 [==============================] - 2s 37us/step - loss: 0.0723 - acc: 0.9767 - val_loss: 0.0824 - val_acc: 0.9767\n",
      "Epoch 15/50\n",
      "48000/48000 [==============================] - 2s 39us/step - loss: 0.0702 - acc: 0.9771 - val_loss: 0.0866 - val_acc: 0.9752\n",
      "Epoch 16/50\n",
      "48000/48000 [==============================] - 2s 36us/step - loss: 0.0639 - acc: 0.9788 - val_loss: 0.0808 - val_acc: 0.9772\n",
      "Epoch 17/50\n",
      "48000/48000 [==============================] - 2s 36us/step - loss: 0.0640 - acc: 0.9787 - val_loss: 0.0884 - val_acc: 0.9756\n",
      "Epoch 18/50\n",
      "48000/48000 [==============================] - 2s 32us/step - loss: 0.0613 - acc: 0.9804 - val_loss: 0.0820 - val_acc: 0.9768\n",
      "Epoch 19/50\n",
      "48000/48000 [==============================] - 2s 31us/step - loss: 0.0582 - acc: 0.9816 - val_loss: 0.0836 - val_acc: 0.9772\n",
      "Epoch 20/50\n",
      "48000/48000 [==============================] - 2s 35us/step - loss: 0.0568 - acc: 0.9818 - val_loss: 0.0822 - val_acc: 0.9773\n",
      "Epoch 21/50\n",
      "48000/48000 [==============================] - 1s 31us/step - loss: 0.0558 - acc: 0.9818 - val_loss: 0.0827 - val_acc: 0.9778\n",
      "Epoch 22/50\n",
      "48000/48000 [==============================] - 1s 31us/step - loss: 0.0557 - acc: 0.9817 - val_loss: 0.0879 - val_acc: 0.9763\n",
      "Epoch 23/50\n",
      "48000/48000 [==============================] - 1s 31us/step - loss: 0.0528 - acc: 0.9831 - val_loss: 0.0814 - val_acc: 0.9776\n",
      "Epoch 24/50\n",
      "48000/48000 [==============================] - 1s 29us/step - loss: 0.0496 - acc: 0.9841 - val_loss: 0.0908 - val_acc: 0.9751\n",
      "Epoch 25/50\n",
      "48000/48000 [==============================] - 2s 33us/step - loss: 0.0518 - acc: 0.9830 - val_loss: 0.0886 - val_acc: 0.9768\n",
      "Epoch 26/50\n",
      "48000/48000 [==============================] - 1s 30us/step - loss: 0.0505 - acc: 0.9841 - val_loss: 0.0843 - val_acc: 0.9771\n",
      "Epoch 27/50\n",
      "48000/48000 [==============================] - 2s 34us/step - loss: 0.0463 - acc: 0.9849 - val_loss: 0.0926 - val_acc: 0.9766\n",
      "Epoch 28/50\n",
      "48000/48000 [==============================] - 2s 35us/step - loss: 0.0475 - acc: 0.9841 - val_loss: 0.0871 - val_acc: 0.9759\n",
      "Epoch 29/50\n",
      "48000/48000 [==============================] - 2s 32us/step - loss: 0.0463 - acc: 0.9842 - val_loss: 0.0912 - val_acc: 0.9767\n",
      "Epoch 30/50\n",
      "48000/48000 [==============================] - 1s 28us/step - loss: 0.0433 - acc: 0.9856 - val_loss: 0.0925 - val_acc: 0.9767\n",
      "Epoch 31/50\n",
      "48000/48000 [==============================] - 1s 29us/step - loss: 0.0446 - acc: 0.9855 - val_loss: 0.0830 - val_acc: 0.9776\n",
      "Epoch 32/50\n",
      "48000/48000 [==============================] - 1s 28us/step - loss: 0.0432 - acc: 0.9854 - val_loss: 0.0826 - val_acc: 0.9783\n",
      "Epoch 33/50\n",
      "48000/48000 [==============================] - 1s 28us/step - loss: 0.0427 - acc: 0.9863 - val_loss: 0.0922 - val_acc: 0.9783\n",
      "Epoch 34/50\n",
      "48000/48000 [==============================] - 1s 28us/step - loss: 0.0433 - acc: 0.9856 - val_loss: 0.0839 - val_acc: 0.9780\n",
      "Epoch 35/50\n",
      "48000/48000 [==============================] - 1s 28us/step - loss: 0.0424 - acc: 0.9863 - val_loss: 0.0827 - val_acc: 0.9780\n",
      "Epoch 36/50\n",
      "48000/48000 [==============================] - 1s 28us/step - loss: 0.0417 - acc: 0.9865 - val_loss: 0.0830 - val_acc: 0.9787\n",
      "Epoch 37/50\n",
      "48000/48000 [==============================] - 1s 28us/step - loss: 0.0400 - acc: 0.9862 - val_loss: 0.0914 - val_acc: 0.9775\n",
      "Epoch 38/50\n",
      "48000/48000 [==============================] - 1s 28us/step - loss: 0.0389 - acc: 0.9866 - val_loss: 0.0866 - val_acc: 0.9791\n",
      "Epoch 39/50\n",
      "48000/48000 [==============================] - 1s 28us/step - loss: 0.0386 - acc: 0.9868 - val_loss: 0.0862 - val_acc: 0.9779\n",
      "Epoch 40/50\n",
      "48000/48000 [==============================] - 1s 28us/step - loss: 0.0399 - acc: 0.9865 - val_loss: 0.0838 - val_acc: 0.9779\n",
      "Epoch 41/50\n",
      "48000/48000 [==============================] - 1s 28us/step - loss: 0.0385 - acc: 0.9871 - val_loss: 0.0867 - val_acc: 0.9789\n",
      "Epoch 42/50\n",
      "48000/48000 [==============================] - 1s 27us/step - loss: 0.0383 - acc: 0.9879 - val_loss: 0.0815 - val_acc: 0.9797\n",
      "Epoch 43/50\n",
      "48000/48000 [==============================] - 1s 30us/step - loss: 0.0366 - acc: 0.9877 - val_loss: 0.0879 - val_acc: 0.9790\n",
      "Epoch 44/50\n",
      "48000/48000 [==============================] - 2s 40us/step - loss: 0.0386 - acc: 0.9874 - val_loss: 0.0865 - val_acc: 0.9778\n",
      "Epoch 45/50\n",
      "48000/48000 [==============================] - 2s 36us/step - loss: 0.0380 - acc: 0.9875 - val_loss: 0.0865 - val_acc: 0.9793\n",
      "Epoch 46/50\n",
      "48000/48000 [==============================] - 2s 38us/step - loss: 0.0362 - acc: 0.9880 - val_loss: 0.0884 - val_acc: 0.9794\n",
      "Epoch 47/50\n",
      "48000/48000 [==============================] - 2s 36us/step - loss: 0.0364 - acc: 0.9879 - val_loss: 0.0860 - val_acc: 0.9804\n",
      "Epoch 48/50\n",
      "48000/48000 [==============================] - 2s 35us/step - loss: 0.0364 - acc: 0.9888 - val_loss: 0.0850 - val_acc: 0.9796\n",
      "Epoch 49/50\n",
      "48000/48000 [==============================] - 2s 40us/step - loss: 0.0349 - acc: 0.9882 - val_loss: 0.0871 - val_acc: 0.9801\n",
      "Epoch 50/50\n",
      "48000/48000 [==============================] - 2s 36us/step - loss: 0.0341 - acc: 0.9885 - val_loss: 0.0911 - val_acc: 0.9785\n"
     ]
    }
   ],
   "source": [
    "model.compile(loss='categorical_crossentropy', optimizer=OPTIMIZER, metrics=['accuracy'])\n",
    "history = model.fit(X_train, y_train, batch_size=BATCH_SIZE, epochs=NB_EPOCH,\n",
    "                    verbose=VERBOSE, validation_split=VALIDATION_SPLIT)"
   ]
  },
  {
   "cell_type": "code",
   "execution_count": 19,
   "metadata": {},
   "outputs": [
    {
     "name": "stdout",
     "output_type": "stream",
     "text": [
      "10000/10000 [==============================] - 0s 35us/step\n",
      "Test score:  0.08500177006984158\n",
      "Test accuracy:  0.9797\n"
     ]
    }
   ],
   "source": [
    "score = model.evaluate(X_test, y_test, verbose=VERBOSE)\n",
    "print(\"Test score: \", score[0])\n",
    "print(\"Test accuracy: \", score[1])"
   ]
  },
  {
   "cell_type": "code",
   "execution_count": 20,
   "metadata": {},
   "outputs": [],
   "source": [
    "model.save('model2.h5')"
   ]
  },
  {
   "cell_type": "markdown",
   "metadata": {},
   "source": [
    "### 2. Свёрточная нейронная сеть для той же задачи"
   ]
  },
  {
   "cell_type": "code",
   "execution_count": 35,
   "metadata": {},
   "outputs": [],
   "source": [
    "# Немного разберёмся с понятием свёртки"
   ]
  },
  {
   "cell_type": "code",
   "execution_count": 34,
   "metadata": {},
   "outputs": [],
   "source": [
    "x_inp = tf.placeholder(tf.float32, [5, 5])\n",
    "w_inp = tf.placeholder(tf.float32, [3, 3])"
   ]
  },
  {
   "cell_type": "code",
   "execution_count": 36,
   "metadata": {},
   "outputs": [],
   "source": [
    "# [размер батча, высота, ширина, каналы]\n",
    "x = tf.reshape(x_inp, [1, 5, 5, 1])\n",
    "# [высота, ширина, входные каналы, выходные каналы]\n",
    "w = tf.reshape(w_inp, [3, 3, 1, 1])"
   ]
  },
  {
   "cell_type": "code",
   "execution_count": 37,
   "metadata": {},
   "outputs": [],
   "source": [
    "x_valid = tf.nn.conv2d(x, w, strides=[1, 1, 1, 1], padding=\"VALID\")\n",
    "x_same = tf.nn.conv2d(x, w, strides=[1, 1, 1, 1], padding=\"SAME\")\n",
    "x_valid_half = tf.nn.conv2d(x, w, strides=[1, 2, 2, 1], padding=\"VALID\")\n",
    "x_same_half = tf.nn.conv2d(x, w, strides=[1, 2, 2, 1], padding=\"SAME\")"
   ]
  },
  {
   "cell_type": "code",
   "execution_count": 38,
   "metadata": {},
   "outputs": [],
   "source": [
    "x = np.array([[0, 1, 2, 1, 0],\n",
    "              [4, 1, 0, 1, 0],\n",
    "              [2, 0, 1, 1, 1],\n",
    "              [1, 2, 3, 1, 0],\n",
    "              [0, 4, 3, 2, 0]])\n",
    "w = np.array([[0, 1, 0],\n",
    "              [1, 0, 1],\n",
    "              [2, 1, 0]])"
   ]
  },
  {
   "cell_type": "code",
   "execution_count": 39,
   "metadata": {},
   "outputs": [],
   "source": [
    "sess = tf.Session()\n",
    "y_valid, y_same, y_valid_half, y_same_half = sess.run(\n",
    "    [x_valid, x_same, x_valid_half, x_same_half],\n",
    "    feed_dict={x_inp: x, w_inp: w}\n",
    ")"
   ]
  },
  {
   "cell_type": "code",
   "execution_count": 40,
   "metadata": {},
   "outputs": [
    {
     "name": "stdout",
     "output_type": "stream",
     "text": [
      "padding=VALID:\n",
      " [[ 9.  5.  4.]\n",
      " [ 8.  8. 10.]\n",
      " [ 8. 15. 12.]]\n",
      "padding=SAME:\n",
      " [[ 5. 11.  4.  3.  3.]\n",
      " [ 3.  9.  5.  4.  4.]\n",
      " [ 5.  8.  8. 10.  3.]\n",
      " [ 4.  8. 15. 12.  6.]\n",
      " [ 5.  5.  9.  4.  2.]]\n",
      "padding=VALID, stride 2:\n",
      " [[ 9.  4.]\n",
      " [ 8. 12.]]\n",
      "padding=SAME, stride 2:\n",
      " [[5. 4. 3.]\n",
      " [5. 8. 3.]\n",
      " [5. 9. 2.]]\n"
     ]
    }
   ],
   "source": [
    "print(\"padding=VALID:\\n\", y_valid[0, :, :, 0])\n",
    "print(\"padding=SAME:\\n\", y_same[0, :, :, 0])\n",
    "print(\"padding=VALID, stride 2:\\n\", y_valid_half[0, :, :, 0])\n",
    "print(\"padding=SAME, stride 2:\\n\", y_same_half[0, :, :, 0])"
   ]
  },
  {
   "cell_type": "code",
   "execution_count": null,
   "metadata": {},
   "outputs": [],
   "source": []
  },
  {
   "cell_type": "code",
   "execution_count": null,
   "metadata": {},
   "outputs": [],
   "source": []
  },
  {
   "cell_type": "code",
   "execution_count": null,
   "metadata": {},
   "outputs": [],
   "source": []
  }
 ],
 "metadata": {
  "kernelspec": {
   "display_name": "Python 3",
   "language": "python",
   "name": "python3"
  },
  "language_info": {
   "codemirror_mode": {
    "name": "ipython",
    "version": 3
   },
   "file_extension": ".py",
   "mimetype": "text/x-python",
   "name": "python",
   "nbconvert_exporter": "python",
   "pygments_lexer": "ipython3",
   "version": "3.5.2"
  }
 },
 "nbformat": 4,
 "nbformat_minor": 2
}
