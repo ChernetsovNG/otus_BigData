{
 "cells": [
  {
   "cell_type": "code",
   "execution_count": 1,
   "metadata": {
    "collapsed": true
   },
   "outputs": [],
   "source": [
    "import numpy as np\n",
    "import pandas as pd\n",
    "import math\n",
    "\n",
    "import matplotlib\n",
    "import matplotlib.pyplot as plt \n",
    "import matplotlib.mlab as mlab\n",
    "%matplotlib inline\n",
    "\n",
    "import seaborn as sns"
   ]
  },
  {
   "cell_type": "code",
   "execution_count": 2,
   "metadata": {},
   "outputs": [],
   "source": [
    "df = pd.read_csv('raw_data.csv')"
   ]
  },
  {
   "cell_type": "code",
   "execution_count": 3,
   "metadata": {
    "collapsed": true
   },
   "outputs": [],
   "source": [
    "# Берём только \"валидные\" точки, и фильтруем выбросы (нулевые координаты)\n",
    "df_valid = df[(df['valid'] == True) & (df['lat'] > 0.0) & (df['lon'] > 0.0)]\n",
    "# Разделяем dataset по значению operator_id\n",
    "df1 = df_valid[df_valid['opid'] == 1001]\n",
    "df2 = df_valid[df_valid['opid'] == 1002]\n",
    "# Список ТС операторов 1 и 2\n",
    "operator1_vehicles = df1.groupby('oid').count().index.tolist()\n",
    "operator2_vehicles = df2.groupby('oid').count().index.tolist()"
   ]
  },
  {
   "cell_type": "code",
   "execution_count": 9,
   "metadata": {},
   "outputs": [],
   "source": [
    "# находим модуль ускорения (по компонентам x и y)\n",
    "def get_acceleration_abs(operator_id, vehicle_id):\n",
    "    if (operator_id == 1001):\n",
    "        df_device = df1[df1['oid'] == vehicle_id].sort_values(by=['ntm'])\n",
    "    if (operator_id == 1002):\n",
    "        df_device = df2[df2['oid'] == vehicle_id].sort_values(by=['ntm'])\n",
    "    \n",
    "    w = df_device['spd'].as_matrix() * (10.0 / 36.0)        # переводим в м/с\n",
    "    dir = df_device['dir'].as_matrix() * (math.pi / 180.0)  # азимут в радианах\n",
    "    wx = w * np.sin(dir)\n",
    "    wy = w * np.cos(dir)\n",
    "    \n",
    "    delta_wx = np.diff(wx, axis=0) \n",
    "    delta_wy = np.diff(wy, axis=0)\n",
    "    delta_time = np.diff(df_device['ntm'].as_matrix()/1000.0, axis=0)  # переводим в с\n",
    "    \n",
    "    acc_x = delta_wx / delta_time\n",
    "    acc_y = delta_wy / delta_time\n",
    "    \n",
    "    acc = np.sqrt(acc_x**2 + acc_y**2)\n",
    "    \n",
    "    return acc"
   ]
  },
  {
   "cell_type": "code",
   "execution_count": 10,
   "metadata": {},
   "outputs": [],
   "source": [
    "# находим ускорение по изменению скорости\n",
    "def get_acceleration(operator_id, vehicle_id):\n",
    "    if operator_id == 1001:\n",
    "        df_device = df1[df1['oid'] == vehicle_id].sort_values(by=['ntm'])\n",
    "    if operator_id == 1002:\n",
    "        df_device = df2[df2['oid'] == vehicle_id].sort_values(by=['ntm'])\n",
    "    \n",
    "    w = df_device['spd'].as_matrix() * (10.0 / 36.0)        # переводим в м/с\n",
    "    \n",
    "    delta_w = np.diff(w, axis=0) \n",
    "    delta_time = np.diff(df_device['ntm'].as_matrix()/1000.0, axis=0)  # переводим в с\n",
    "    \n",
    "    acc = delta_w / delta_time\n",
    "    \n",
    "    return acc"
   ]
  },
  {
   "cell_type": "code",
   "execution_count": 12,
   "metadata": {},
   "outputs": [
    {
     "name": "stdout",
     "output_type": "stream",
     "text": [
      "Размерность массива ускорений = 1282201\n",
      "Mean = 0.010095\n",
      "Min = -8.611111\n",
      "Max = 23.611111\n",
      "Среднеквадратическое отклонение = 0.378922\n",
      "Дисперсия = 0.143582\n"
     ]
    }
   ],
   "source": [
    "# Оценим ускорение для машин\n",
    "acceleration_all = np.empty((0,))\n",
    "\n",
    "for vehicle in operator1_vehicles:\n",
    "    acceleration = get_acceleration(1001, vehicle)  \n",
    "    acceleration_all = np.hstack([acceleration_all, acceleration])\n",
    "    \n",
    "for vehicle in operator2_vehicles:\n",
    "    acceleration = get_acceleration(1002, vehicle)  \n",
    "    acceleration_all = np.hstack([acceleration_all, acceleration])\n",
    "\n",
    "print(\"Размерность массива ускорений = %s\" % acceleration_all.shape)\n",
    "print(\"Mean = %f\" % acceleration_all.mean()) # среднее значение\n",
    "print(\"Min = %f\" % acceleration_all.min())  # минимум\n",
    "print(\"Max = %f\" % acceleration_all.max())  # максимум\n",
    "print(\"Среднеквадратическое отклонение = %f\" % acceleration_all.std())  # среднеквадратическое отклонение\n",
    "print(\"Дисперсия = %f\" % acceleration_all.var())  # дисперсия"
   ]
  },
  {
   "cell_type": "code",
   "execution_count": 13,
   "metadata": {},
   "outputs": [
    {
     "data": {
      "text/plain": [
       "<matplotlib.axes._subplots.AxesSubplot at 0x7f3651a3f9e8>"
      ]
     },
     "execution_count": 13,
     "metadata": {},
     "output_type": "execute_result"
    },
    {
     "data": {
      "image/png": "[encoded data removed]",
      "text/plain": [
       "<matplotlib.figure.Figure at 0x7f3651a3ffd0>"
      ]
     },
     "metadata": {},
     "output_type": "display_data"
    }
   ],
   "source": [
    "sns.distplot(acceleration_all)"
   ]
  }
 ],
 "metadata": {
  "kernelspec": {
   "display_name": "Python 3",
   "language": "python",
   "name": "python3"
  },
  "language_info": {
   "codemirror_mode": {
    "name": "ipython",
    "version": 3
   },
   "file_extension": ".py",
   "mimetype": "text/x-python",
   "name": "python",
   "nbconvert_exporter": "python",
   "pygments_lexer": "ipython3",
   "version": "3.5.2"
  }
 },
 "nbformat": 4,
 "nbformat_minor": 2
}
