{
 "cells": [
  {
   "cell_type": "code",
   "execution_count": 1,
   "metadata": {},
   "outputs": [],
   "source": [
    "import numpy as np\n",
    "import pandas as pd\n",
    "import math\n",
    "\n",
    "import matplotlib\n",
    "import matplotlib.pyplot as plt \n",
    "import matplotlib.mlab as mlab\n",
    "%matplotlib inline\n",
    "\n",
    "import seaborn as sns"
   ]
  },
  {
   "cell_type": "code",
   "execution_count": 2,
   "metadata": {},
   "outputs": [],
   "source": [
    "df = pd.read_csv('raw_data.csv')"
   ]
  },
  {
   "cell_type": "code",
   "execution_count": 3,
   "metadata": {},
   "outputs": [],
   "source": [
    "# Берём только \"валидные\" точки, и фильтруем выбросы (нулевые координаты)\n",
    "df_valid = df[(df['valid'] == True) & (df['lat'] > 0.0) & (df['lon'] > 0.0)]\n",
    "# Разделяем dataset по значению operator_id\n",
    "df1 = df_valid[df_valid['opid'] == 1001]\n",
    "df2 = df_valid[df_valid['opid'] == 1002]\n",
    "# Список ТС операторов 1 и 2\n",
    "operator1_vehicles = df1.groupby('oid').count().index.tolist()\n",
    "operator2_vehicles = df2.groupby('oid').count().index.tolist()"
   ]
  },
  {
   "cell_type": "code",
   "execution_count": 4,
   "metadata": {},
   "outputs": [],
   "source": [
    "# находим ускорение по изменению скорости\n",
    "def get_acceleration_axis(operator_id, vehicle_id, axis):\n",
    "    if (operator_id == 1001):\n",
    "        df_device = df1[df1['oid'] == vehicle_id].sort_values(by=['ntm'])\n",
    "    if (operator_id == 1002):\n",
    "        df_device = df2[df2['oid'] == vehicle_id].sort_values(by=['ntm'])\n",
    "    \n",
    "    w = df_device['spd'].as_matrix() * (10.0 / 36.0)        # переводим в м/с\n",
    "    dir = df_device['dir'].as_matrix() * (math.pi / 180.0)  # азимут в радианах\n",
    "    \n",
    "    if axis == 'x':\n",
    "        w_axis = w * np.sin(dir)\n",
    "    if axis == 'y':\n",
    "        w_axis = w * np.cos(dir)\n",
    "    \n",
    "    delta_w = np.diff(w_axis, axis=0) \n",
    "    delta_time = np.diff(df_device['ntm'].as_matrix()/1000.0, axis=0)  # переводим в с\n",
    "    \n",
    "    acc_axis = delta_w / delta_time\n",
    "    \n",
    "    return acc_axis"
   ]
  },
  {
   "cell_type": "code",
   "execution_count": 5,
   "metadata": {},
   "outputs": [],
   "source": [
    "# находим модуль ускорения (по компонентам x и y)\n",
    "def get_acceleration_abs(operator_id, vehicle_id):\n",
    "    if (operator_id == 1001):\n",
    "        df_device = df1[df1['oid'] == vehicle_id].sort_values(by=['ntm'])\n",
    "    if (operator_id == 1002):\n",
    "        df_device = df2[df2['oid'] == vehicle_id].sort_values(by=['ntm'])\n",
    "    \n",
    "    w = df_device['spd'].as_matrix() * (10.0 / 36.0)        # переводим в м/с\n",
    "    dir = df_device['dir'].as_matrix() * (math.pi / 180.0)  # азимут в радианах\n",
    "    wx = w * np.sin(dir)\n",
    "    wy = w * np.cos(dir)\n",
    "    \n",
    "    delta_wx = np.diff(wx, axis=0) \n",
    "    delta_wy = np.diff(wy, axis=0)\n",
    "    delta_time = np.diff(df_device['ntm'].as_matrix()/1000.0, axis=0)  # переводим в с\n",
    "    \n",
    "    acc_x = delta_wx / delta_time\n",
    "    acc_y = delta_wy / delta_time\n",
    "    \n",
    "    acc = np.sqrt(acc_x**2 + acc_y**2)\n",
    "    \n",
    "    return acc"
   ]
  },
  {
   "cell_type": "code",
   "execution_count": 6,
   "metadata": {},
   "outputs": [],
   "source": [
    "# находим ускорение по изменению скорости\n",
    "def get_acceleration(operator_id, vehicle_id):\n",
    "    if operator_id == 1001:\n",
    "        df_device = df1[df1['oid'] == vehicle_id].sort_values(by=['ntm'])\n",
    "    if operator_id == 1002:\n",
    "        df_device = df2[df2['oid'] == vehicle_id].sort_values(by=['ntm'])\n",
    "    \n",
    "    w = df_device['spd'].as_matrix() * (10.0 / 36.0)        # переводим в м/с\n",
    "    \n",
    "    delta_w = np.diff(w, axis=0) \n",
    "    delta_time = np.diff(df_device['ntm'].as_matrix()/1000.0, axis=0)  # переводим в с\n",
    "    \n",
    "    acc = delta_w / delta_time\n",
    "    \n",
    "    return acc"
   ]
  },
  {
   "cell_type": "code",
   "execution_count": 7,
   "metadata": {},
   "outputs": [
    {
     "name": "stdout",
     "output_type": "stream",
     "text": [
      "---------- Ускорение по оси X ----------\n",
      "Размерность массива ускорений = 1282201\n",
      "Mean = 0.000543\n",
      "Min = -25.013519\n",
      "Max = 11.458266\n",
      "Среднеквадратическое отклонение = 0.542965\n",
      "Дисперсия = 0.294811\n",
      "---------- Ускорение по оси Y ----------\n",
      "Размерность массива ускорений = 1282201\n",
      "Mean = 0.000071\n",
      "Min = -10.535348\n",
      "Max = 15.030127\n",
      "Среднеквадратическое отклонение = 0.551736\n",
      "Дисперсия = 0.304412\n"
     ]
    }
   ],
   "source": [
    "# Оценим ускорение для машин\n",
    "acceleration_all_x = np.empty((0,))\n",
    "acceleration_all_y = np.empty((0,))\n",
    "\n",
    "for vehicle in operator1_vehicles:\n",
    "    acceleration_x = get_acceleration_axis(1001, vehicle, 'x')\n",
    "    acceleration_y = get_acceleration_axis(1001, vehicle, 'y') \n",
    "    acceleration_all_x = np.hstack([acceleration_all_x, acceleration_x])\n",
    "    acceleration_all_y = np.hstack([acceleration_all_y, acceleration_y])\n",
    "    \n",
    "for vehicle in operator2_vehicles:\n",
    "    acceleration_x = get_acceleration_axis(1002, vehicle, 'x')\n",
    "    acceleration_y = get_acceleration_axis(1002, vehicle, 'y') \n",
    "    acceleration_all_x = np.hstack([acceleration_all_x, acceleration_x])\n",
    "    acceleration_all_y = np.hstack([acceleration_all_y, acceleration_y])\n",
    "\n",
    "print(\"---------- Ускорение по оси X ----------\")\n",
    "print(\"Размерность массива ускорений = %s\" % acceleration_all_x.shape)\n",
    "print(\"Mean = %f\" % acceleration_all_x.mean()) # среднее значение\n",
    "print(\"Min = %f\" % acceleration_all_x.min())  # минимум\n",
    "print(\"Max = %f\" % acceleration_all_x.max())  # максимум\n",
    "print(\"Среднеквадратическое отклонение = %f\" % acceleration_all_x.std())  # среднеквадратическое отклонение\n",
    "print(\"Дисперсия = %f\" % acceleration_all_x.var())  # дисперсия\n",
    "\n",
    "print(\"---------- Ускорение по оси Y ----------\")\n",
    "print(\"Размерность массива ускорений = %s\" % acceleration_all_y.shape)\n",
    "print(\"Mean = %f\" % acceleration_all_y.mean()) # среднее значение\n",
    "print(\"Min = %f\" % acceleration_all_y.min())  # минимум\n",
    "print(\"Max = %f\" % acceleration_all_y.max())  # максимум\n",
    "print(\"Среднеквадратическое отклонение = %f\" % acceleration_all_y.std())  # среднеквадратическое отклонение\n",
    "print(\"Дисперсия = %f\" % acceleration_all_y.var())  # дисперсия"
   ]
  },
  {
   "cell_type": "code",
   "execution_count": 8,
   "metadata": {},
   "outputs": [
    {
     "data": {
      "image/png": "[encoded data removed]",
      "text/plain": [
       "<matplotlib.figure.Figure at 0x7fc943f8f438>"
      ]
     },
     "metadata": {},
     "output_type": "display_data"
    }
   ],
   "source": [
    "acc_array = np.column_stack((acceleration_all_x, acceleration_all_y))\n",
    "acc = pd.DataFrame(acc_array)\n",
    "sns_plot = sns.pairplot(acc)"
   ]
  },
  {
   "cell_type": "code",
   "execution_count": 9,
   "metadata": {},
   "outputs": [
    {
     "data": {
      "text/plain": [
       "array([[ 0.29481169,  0.00273116],\n",
       "       [ 0.00273116,  0.30441248]])"
      ]
     },
     "execution_count": 9,
     "metadata": {},
     "output_type": "execute_result"
    }
   ],
   "source": [
    "# Находим ковариацию (ковариационную матрицу) между ускорениями по оси X и Y\n",
    "np.cov(np.vstack((acceleration_all_x, acceleration_all_y)))"
   ]
  },
  {
   "cell_type": "code",
   "execution_count": 13,
   "metadata": {},
   "outputs": [
    {
     "data": {
      "text/html": [
       "<div>\n",
       "<table border=\"1\" class=\"dataframe\">\n",
       "  <thead>\n",
       "    <tr style=\"text-align: right;\">\n",
       "      <th></th>\n",
       "      <th>0</th>\n",
       "      <th>1</th>\n",
       "    </tr>\n",
       "  </thead>\n",
       "  <tbody>\n",
       "    <tr>\n",
       "      <th>0</th>\n",
       "      <td>0.294812</td>\n",
       "      <td>0.002731</td>\n",
       "    </tr>\n",
       "    <tr>\n",
       "      <th>1</th>\n",
       "      <td>0.002731</td>\n",
       "      <td>0.304412</td>\n",
       "    </tr>\n",
       "  </tbody>\n",
       "</table>\n",
       "</div>"
      ],
      "text/plain": [
       "          0         1\n",
       "0  0.294812  0.002731\n",
       "1  0.002731  0.304412"
      ]
     },
     "execution_count": 13,
     "metadata": {},
     "output_type": "execute_result"
    }
   ],
   "source": [
    "acc.cov()"
   ]
  },
  {
   "cell_type": "code",
   "execution_count": 10,
   "metadata": {},
   "outputs": [
    {
     "data": {
      "text/plain": [
       "<matplotlib.axes._subplots.AxesSubplot at 0x7fc93ba7bdd8>"
      ]
     },
     "execution_count": 10,
     "metadata": {},
     "output_type": "execute_result"
    },
    {
     "data": {
      "image/png": "[encoded data removed]",
      "text/plain": [
       "<matplotlib.figure.Figure at 0x7fc93ba6f048>"
      ]
     },
     "metadata": {},
     "output_type": "display_data"
    }
   ],
   "source": [
    "sns.distplot(acceleration_all_x)"
   ]
  },
  {
   "cell_type": "code",
   "execution_count": 11,
   "metadata": {},
   "outputs": [
    {
     "data": {
      "text/plain": [
       "<matplotlib.axes._subplots.AxesSubplot at 0x7fc93b87abe0>"
      ]
     },
     "execution_count": 11,
     "metadata": {},
     "output_type": "execute_result"
    },
    {
     "data": {
      "image/png": "[encoded data removed]",
      "text/plain": [
       "<matplotlib.figure.Figure at 0x7fc93b8c4978>"
      ]
     },
     "metadata": {},
     "output_type": "display_data"
    }
   ],
   "source": [
    "sns.distplot(acceleration_all_y)"
   ]
  }
 ],
 "metadata": {
  "kernelspec": {
   "display_name": "Python 3",
   "language": "python",
   "name": "python3"
  },
  "language_info": {
   "codemirror_mode": {
    "name": "ipython",
    "version": 3
   },
   "file_extension": ".py",
   "mimetype": "text/x-python",
   "name": "python",
   "nbconvert_exporter": "python",
   "pygments_lexer": "ipython3",
   "version": "3.5.2"
  }
 },
 "nbformat": 4,
 "nbformat_minor": 2
}
