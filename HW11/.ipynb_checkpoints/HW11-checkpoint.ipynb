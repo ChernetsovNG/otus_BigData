{
 "cells": [
  {
   "cell_type": "code",
   "execution_count": 2,
   "metadata": {},
   "outputs": [],
   "source": [
    "import numpy as np\n",
    "import pandas as pd\n",
    "\n",
    "import matplotlib\n",
    "import matplotlib.pyplot as plt\n",
    "import seaborn as sns; sns.set()\n",
    "%matplotlib inline\n",
    "\n",
    "import tqdm\n",
    "\n",
    "import statsmodels.formula.api as smf\n",
    "import statsmodels.tsa.api as smt\n",
    "import statsmodels.api as sm\n",
    "\n",
    "from sklearn.metrics import mean_squared_log_error, mean_squared_error\n",
    "from sklearn.preprocessing import LabelEncoder, Imputer, OneHotEncoder, FunctionTransformer\n",
    "from sklearn.preprocessing import MinMaxScaler, StandardScaler, LabelBinarizer\n",
    "from sklearn.base import TransformerMixin\n",
    "from sklearn.pipeline import make_union, make_pipeline\n",
    "from sklearn.ensemble import RandomForestRegressor\n",
    "from sklearn.linear_model import LinearRegression\n",
    "\n",
    "from lightgbm import LGBMRegressor"
   ]
  },
  {
   "cell_type": "code",
   "execution_count": 3,
   "metadata": {},
   "outputs": [],
   "source": [
    "def rmsle(y_true, y_pred):\n",
    "    return np.sqrt(mean_squared_log_error(y_true, y_pred))"
   ]
  },
  {
   "cell_type": "markdown",
   "metadata": {},
   "source": [
    "### 1. Базовый разведочный анализ данных"
   ]
  },
  {
   "cell_type": "code",
   "execution_count": 4,
   "metadata": {},
   "outputs": [
    {
     "name": "stderr",
     "output_type": "stream",
     "text": [
      "/usr/local/lib/python3.5/dist-packages/IPython/core/interactiveshell.py:2728: DtypeWarning: Columns (7) have mixed types. Specify dtype option on import or set low_memory=False.\n",
      "  interactivity=interactivity, compiler=compiler, result=result)\n"
     ]
    }
   ],
   "source": [
    "df_test = pd.read_csv(\"test.csv\")\n",
    "df_train = pd.read_csv(\"train.csv\")\n",
    "df_store = pd.read_csv(\"store.csv\")"
   ]
  },
  {
   "cell_type": "code",
   "execution_count": 5,
   "metadata": {},
   "outputs": [
    {
     "data": {
      "text/html": [
       "<div>\n",
       "<style scoped>\n",
       "    .dataframe tbody tr th:only-of-type {\n",
       "        vertical-align: middle;\n",
       "    }\n",
       "\n",
       "    .dataframe tbody tr th {\n",
       "        vertical-align: top;\n",
       "    }\n",
       "\n",
       "    .dataframe thead th {\n",
       "        text-align: right;\n",
       "    }\n",
       "</style>\n",
       "<table border=\"1\" class=\"dataframe\">\n",
       "  <thead>\n",
       "    <tr style=\"text-align: right;\">\n",
       "      <th></th>\n",
       "      <th>Store</th>\n",
       "      <th>DayOfWeek</th>\n",
       "      <th>Date</th>\n",
       "      <th>Sales</th>\n",
       "      <th>Customers</th>\n",
       "      <th>Open</th>\n",
       "      <th>Promo</th>\n",
       "      <th>StateHoliday</th>\n",
       "      <th>SchoolHoliday</th>\n",
       "    </tr>\n",
       "  </thead>\n",
       "  <tbody>\n",
       "    <tr>\n",
       "      <th>0</th>\n",
       "      <td>1</td>\n",
       "      <td>5</td>\n",
       "      <td>2015-07-31</td>\n",
       "      <td>5263</td>\n",
       "      <td>555</td>\n",
       "      <td>1</td>\n",
       "      <td>1</td>\n",
       "      <td>0</td>\n",
       "      <td>1</td>\n",
       "    </tr>\n",
       "    <tr>\n",
       "      <th>1</th>\n",
       "      <td>2</td>\n",
       "      <td>5</td>\n",
       "      <td>2015-07-31</td>\n",
       "      <td>6064</td>\n",
       "      <td>625</td>\n",
       "      <td>1</td>\n",
       "      <td>1</td>\n",
       "      <td>0</td>\n",
       "      <td>1</td>\n",
       "    </tr>\n",
       "    <tr>\n",
       "      <th>2</th>\n",
       "      <td>3</td>\n",
       "      <td>5</td>\n",
       "      <td>2015-07-31</td>\n",
       "      <td>8314</td>\n",
       "      <td>821</td>\n",
       "      <td>1</td>\n",
       "      <td>1</td>\n",
       "      <td>0</td>\n",
       "      <td>1</td>\n",
       "    </tr>\n",
       "    <tr>\n",
       "      <th>3</th>\n",
       "      <td>4</td>\n",
       "      <td>5</td>\n",
       "      <td>2015-07-31</td>\n",
       "      <td>13995</td>\n",
       "      <td>1498</td>\n",
       "      <td>1</td>\n",
       "      <td>1</td>\n",
       "      <td>0</td>\n",
       "      <td>1</td>\n",
       "    </tr>\n",
       "    <tr>\n",
       "      <th>4</th>\n",
       "      <td>5</td>\n",
       "      <td>5</td>\n",
       "      <td>2015-07-31</td>\n",
       "      <td>4822</td>\n",
       "      <td>559</td>\n",
       "      <td>1</td>\n",
       "      <td>1</td>\n",
       "      <td>0</td>\n",
       "      <td>1</td>\n",
       "    </tr>\n",
       "  </tbody>\n",
       "</table>\n",
       "</div>"
      ],
      "text/plain": [
       "   Store  DayOfWeek       Date  Sales  Customers  Open  Promo StateHoliday  \\\n",
       "0      1          5 2015-07-31   5263        555     1      1            0   \n",
       "1      2          5 2015-07-31   6064        625     1      1            0   \n",
       "2      3          5 2015-07-31   8314        821     1      1            0   \n",
       "3      4          5 2015-07-31  13995       1498     1      1            0   \n",
       "4      5          5 2015-07-31   4822        559     1      1            0   \n",
       "\n",
       "   SchoolHoliday  \n",
       "0              1  \n",
       "1              1  \n",
       "2              1  \n",
       "3              1  \n",
       "4              1  "
      ]
     },
     "execution_count": 5,
     "metadata": {},
     "output_type": "execute_result"
    }
   ],
   "source": [
    "df_train['Date'] = df_train['Date'].astype('datetime64[ns]')\n",
    "df_train.head()"
   ]
  },
  {
   "cell_type": "markdown",
   "metadata": {},
   "source": [
    "Набор данных train содержит следующую информацию:\n",
    "- Store - id магазина;\n",
    "- DayOfWeek - день недели;\n",
    "- Date - дата;\n",
    "- Sales - количество проданных товаров (оборот магазина в рассматриваемый день. Это величина, которую надо предсказать);\n",
    "- Customers - количество покупателей в рассматриваемый день;\n",
    "- Open - индикатор того, был ли магазин открыт (0 - закрыт; 1 - открыт);\n",
    "- Promo - индикатор того, была ли в магазине промо-акция (?) в рассматриваемый день;\n",
    "- StateHoliday - индикатор того, был ли в этот день выходной. Возможные значения: a - обычный выходной; b - Пасха; с - Рождество; 0 - не выходной день;\n",
    "- SchoolHoliday - указывает, были ли закрыты школы в этот день (?)"
   ]
  },
  {
   "cell_type": "code",
   "execution_count": 6,
   "metadata": {},
   "outputs": [
    {
     "data": {
      "text/html": [
       "<div>\n",
       "<style scoped>\n",
       "    .dataframe tbody tr th:only-of-type {\n",
       "        vertical-align: middle;\n",
       "    }\n",
       "\n",
       "    .dataframe tbody tr th {\n",
       "        vertical-align: top;\n",
       "    }\n",
       "\n",
       "    .dataframe thead th {\n",
       "        text-align: right;\n",
       "    }\n",
       "</style>\n",
       "<table border=\"1\" class=\"dataframe\">\n",
       "  <thead>\n",
       "    <tr style=\"text-align: right;\">\n",
       "      <th></th>\n",
       "      <th>Id</th>\n",
       "      <th>Store</th>\n",
       "      <th>DayOfWeek</th>\n",
       "      <th>Date</th>\n",
       "      <th>Open</th>\n",
       "      <th>Promo</th>\n",
       "      <th>StateHoliday</th>\n",
       "      <th>SchoolHoliday</th>\n",
       "    </tr>\n",
       "  </thead>\n",
       "  <tbody>\n",
       "    <tr>\n",
       "      <th>0</th>\n",
       "      <td>1</td>\n",
       "      <td>1</td>\n",
       "      <td>4</td>\n",
       "      <td>2015-09-17</td>\n",
       "      <td>1.0</td>\n",
       "      <td>1</td>\n",
       "      <td>0</td>\n",
       "      <td>0</td>\n",
       "    </tr>\n",
       "    <tr>\n",
       "      <th>1</th>\n",
       "      <td>2</td>\n",
       "      <td>3</td>\n",
       "      <td>4</td>\n",
       "      <td>2015-09-17</td>\n",
       "      <td>1.0</td>\n",
       "      <td>1</td>\n",
       "      <td>0</td>\n",
       "      <td>0</td>\n",
       "    </tr>\n",
       "    <tr>\n",
       "      <th>2</th>\n",
       "      <td>3</td>\n",
       "      <td>7</td>\n",
       "      <td>4</td>\n",
       "      <td>2015-09-17</td>\n",
       "      <td>1.0</td>\n",
       "      <td>1</td>\n",
       "      <td>0</td>\n",
       "      <td>0</td>\n",
       "    </tr>\n",
       "    <tr>\n",
       "      <th>3</th>\n",
       "      <td>4</td>\n",
       "      <td>8</td>\n",
       "      <td>4</td>\n",
       "      <td>2015-09-17</td>\n",
       "      <td>1.0</td>\n",
       "      <td>1</td>\n",
       "      <td>0</td>\n",
       "      <td>0</td>\n",
       "    </tr>\n",
       "    <tr>\n",
       "      <th>4</th>\n",
       "      <td>5</td>\n",
       "      <td>9</td>\n",
       "      <td>4</td>\n",
       "      <td>2015-09-17</td>\n",
       "      <td>1.0</td>\n",
       "      <td>1</td>\n",
       "      <td>0</td>\n",
       "      <td>0</td>\n",
       "    </tr>\n",
       "  </tbody>\n",
       "</table>\n",
       "</div>"
      ],
      "text/plain": [
       "   Id  Store  DayOfWeek       Date  Open  Promo StateHoliday  SchoolHoliday\n",
       "0   1      1          4 2015-09-17   1.0      1            0              0\n",
       "1   2      3          4 2015-09-17   1.0      1            0              0\n",
       "2   3      7          4 2015-09-17   1.0      1            0              0\n",
       "3   4      8          4 2015-09-17   1.0      1            0              0\n",
       "4   5      9          4 2015-09-17   1.0      1            0              0"
      ]
     },
     "execution_count": 6,
     "metadata": {},
     "output_type": "execute_result"
    }
   ],
   "source": [
    "df_test['Date'] = df_test['Date'].astype('datetime64[ns]')\n",
    "df_test.head()"
   ]
  },
  {
   "cell_type": "markdown",
   "metadata": {},
   "source": [
    "Тут всё тоже замое, но количество продаж неизвестно"
   ]
  },
  {
   "cell_type": "code",
   "execution_count": 7,
   "metadata": {},
   "outputs": [
    {
     "data": {
      "text/html": [
       "<div>\n",
       "<style scoped>\n",
       "    .dataframe tbody tr th:only-of-type {\n",
       "        vertical-align: middle;\n",
       "    }\n",
       "\n",
       "    .dataframe tbody tr th {\n",
       "        vertical-align: top;\n",
       "    }\n",
       "\n",
       "    .dataframe thead th {\n",
       "        text-align: right;\n",
       "    }\n",
       "</style>\n",
       "<table border=\"1\" class=\"dataframe\">\n",
       "  <thead>\n",
       "    <tr style=\"text-align: right;\">\n",
       "      <th></th>\n",
       "      <th>Store</th>\n",
       "      <th>StoreType</th>\n",
       "      <th>Assortment</th>\n",
       "      <th>CompetitionDistance</th>\n",
       "      <th>CompetitionOpenSinceMonth</th>\n",
       "      <th>CompetitionOpenSinceYear</th>\n",
       "      <th>Promo2</th>\n",
       "      <th>Promo2SinceWeek</th>\n",
       "      <th>Promo2SinceYear</th>\n",
       "      <th>PromoInterval</th>\n",
       "    </tr>\n",
       "  </thead>\n",
       "  <tbody>\n",
       "    <tr>\n",
       "      <th>0</th>\n",
       "      <td>1</td>\n",
       "      <td>c</td>\n",
       "      <td>a</td>\n",
       "      <td>1270.0</td>\n",
       "      <td>9.0</td>\n",
       "      <td>2008.0</td>\n",
       "      <td>0</td>\n",
       "      <td>NaN</td>\n",
       "      <td>NaN</td>\n",
       "      <td>NaN</td>\n",
       "    </tr>\n",
       "    <tr>\n",
       "      <th>1</th>\n",
       "      <td>2</td>\n",
       "      <td>a</td>\n",
       "      <td>a</td>\n",
       "      <td>570.0</td>\n",
       "      <td>11.0</td>\n",
       "      <td>2007.0</td>\n",
       "      <td>1</td>\n",
       "      <td>13.0</td>\n",
       "      <td>2010.0</td>\n",
       "      <td>Jan,Apr,Jul,Oct</td>\n",
       "    </tr>\n",
       "    <tr>\n",
       "      <th>2</th>\n",
       "      <td>3</td>\n",
       "      <td>a</td>\n",
       "      <td>a</td>\n",
       "      <td>14130.0</td>\n",
       "      <td>12.0</td>\n",
       "      <td>2006.0</td>\n",
       "      <td>1</td>\n",
       "      <td>14.0</td>\n",
       "      <td>2011.0</td>\n",
       "      <td>Jan,Apr,Jul,Oct</td>\n",
       "    </tr>\n",
       "    <tr>\n",
       "      <th>3</th>\n",
       "      <td>4</td>\n",
       "      <td>c</td>\n",
       "      <td>c</td>\n",
       "      <td>620.0</td>\n",
       "      <td>9.0</td>\n",
       "      <td>2009.0</td>\n",
       "      <td>0</td>\n",
       "      <td>NaN</td>\n",
       "      <td>NaN</td>\n",
       "      <td>NaN</td>\n",
       "    </tr>\n",
       "    <tr>\n",
       "      <th>4</th>\n",
       "      <td>5</td>\n",
       "      <td>a</td>\n",
       "      <td>a</td>\n",
       "      <td>29910.0</td>\n",
       "      <td>4.0</td>\n",
       "      <td>2015.0</td>\n",
       "      <td>0</td>\n",
       "      <td>NaN</td>\n",
       "      <td>NaN</td>\n",
       "      <td>NaN</td>\n",
       "    </tr>\n",
       "  </tbody>\n",
       "</table>\n",
       "</div>"
      ],
      "text/plain": [
       "   Store StoreType Assortment  CompetitionDistance  CompetitionOpenSinceMonth  \\\n",
       "0      1         c          a               1270.0                        9.0   \n",
       "1      2         a          a                570.0                       11.0   \n",
       "2      3         a          a              14130.0                       12.0   \n",
       "3      4         c          c                620.0                        9.0   \n",
       "4      5         a          a              29910.0                        4.0   \n",
       "\n",
       "   CompetitionOpenSinceYear  Promo2  Promo2SinceWeek  Promo2SinceYear  \\\n",
       "0                    2008.0       0              NaN              NaN   \n",
       "1                    2007.0       1             13.0           2010.0   \n",
       "2                    2006.0       1             14.0           2011.0   \n",
       "3                    2009.0       0              NaN              NaN   \n",
       "4                    2015.0       0              NaN              NaN   \n",
       "\n",
       "     PromoInterval  \n",
       "0              NaN  \n",
       "1  Jan,Apr,Jul,Oct  \n",
       "2  Jan,Apr,Jul,Oct  \n",
       "3              NaN  \n",
       "4              NaN  "
      ]
     },
     "execution_count": 7,
     "metadata": {},
     "output_type": "execute_result"
    }
   ],
   "source": [
    "df_store.head()"
   ]
  },
  {
   "cell_type": "markdown",
   "metadata": {},
   "source": [
    "Дополнительные характеристики магазинов:\n",
    "- StoreType - 4 различных возможных модели магазина: a, b, c, d;\n",
    "- Assortment - описывает уровень ассортимента: a - основной, b - дополнительный; c - расширенный;\n",
    "- CompetitionDistance - расстояние в метрах до ближайшего конкурирующего магазина;\n",
    "- CompetitionOpenSinceMonth, CompetitionOpenSinceYear - показывает примерный год и месяц, когда открылся ближайших конкурирующий магазин;\n",
    "- Promo2 - Promo2 это непрерывная и последовательная рекламная акция для некоторых магазинов: 0 - магазин не участвует; 1 - магазин участвует;\n",
    "- Promo2SinceWeek, Promo2SinceYear - описывает год и неделю, когда магазин начал участвовать в Promo2;\n",
    "- PromoInterval - описываются последовательные интервал Promo2, названия месяцев, когда акция начинается заново. Например Feb, May, Aug, Nov означает, что каждый \"раунд\" начинается в феврале, мае, августе, ноябре"
   ]
  },
  {
   "cell_type": "code",
   "execution_count": 8,
   "metadata": {},
   "outputs": [
    {
     "data": {
      "text/html": [
       "<div>\n",
       "<style scoped>\n",
       "    .dataframe tbody tr th:only-of-type {\n",
       "        vertical-align: middle;\n",
       "    }\n",
       "\n",
       "    .dataframe tbody tr th {\n",
       "        vertical-align: top;\n",
       "    }\n",
       "\n",
       "    .dataframe thead th {\n",
       "        text-align: right;\n",
       "    }\n",
       "</style>\n",
       "<table border=\"1\" class=\"dataframe\">\n",
       "  <thead>\n",
       "    <tr style=\"text-align: right;\">\n",
       "      <th></th>\n",
       "      <th>Store</th>\n",
       "      <th>StoreType</th>\n",
       "      <th>Assortment</th>\n",
       "      <th>CompetitionDistance</th>\n",
       "      <th>CompetitionOpenSinceMonth</th>\n",
       "      <th>CompetitionOpenSinceYear</th>\n",
       "      <th>Promo2</th>\n",
       "    </tr>\n",
       "  </thead>\n",
       "  <tbody>\n",
       "    <tr>\n",
       "      <th>0</th>\n",
       "      <td>1</td>\n",
       "      <td>c</td>\n",
       "      <td>a</td>\n",
       "      <td>1270.0</td>\n",
       "      <td>9.0</td>\n",
       "      <td>2008.0</td>\n",
       "      <td>0</td>\n",
       "    </tr>\n",
       "    <tr>\n",
       "      <th>1</th>\n",
       "      <td>2</td>\n",
       "      <td>a</td>\n",
       "      <td>a</td>\n",
       "      <td>570.0</td>\n",
       "      <td>11.0</td>\n",
       "      <td>2007.0</td>\n",
       "      <td>1</td>\n",
       "    </tr>\n",
       "    <tr>\n",
       "      <th>2</th>\n",
       "      <td>3</td>\n",
       "      <td>a</td>\n",
       "      <td>a</td>\n",
       "      <td>14130.0</td>\n",
       "      <td>12.0</td>\n",
       "      <td>2006.0</td>\n",
       "      <td>1</td>\n",
       "    </tr>\n",
       "    <tr>\n",
       "      <th>3</th>\n",
       "      <td>4</td>\n",
       "      <td>c</td>\n",
       "      <td>c</td>\n",
       "      <td>620.0</td>\n",
       "      <td>9.0</td>\n",
       "      <td>2009.0</td>\n",
       "      <td>0</td>\n",
       "    </tr>\n",
       "    <tr>\n",
       "      <th>4</th>\n",
       "      <td>5</td>\n",
       "      <td>a</td>\n",
       "      <td>a</td>\n",
       "      <td>29910.0</td>\n",
       "      <td>4.0</td>\n",
       "      <td>2015.0</td>\n",
       "      <td>0</td>\n",
       "    </tr>\n",
       "  </tbody>\n",
       "</table>\n",
       "</div>"
      ],
      "text/plain": [
       "   Store StoreType Assortment  CompetitionDistance  CompetitionOpenSinceMonth  \\\n",
       "0      1         c          a               1270.0                        9.0   \n",
       "1      2         a          a                570.0                       11.0   \n",
       "2      3         a          a              14130.0                       12.0   \n",
       "3      4         c          c                620.0                        9.0   \n",
       "4      5         a          a              29910.0                        4.0   \n",
       "\n",
       "   CompetitionOpenSinceYear  Promo2  \n",
       "0                    2008.0       0  \n",
       "1                    2007.0       1  \n",
       "2                    2006.0       1  \n",
       "3                    2009.0       0  \n",
       "4                    2015.0       0  "
      ]
     },
     "execution_count": 8,
     "metadata": {},
     "output_type": "execute_result"
    }
   ],
   "source": [
    "# Удалим столбцы, которые в дальнейшей работе не будем использовать\n",
    "df_store = df_store.drop(['Promo2SinceWeek', 'Promo2SinceYear', 'PromoInterval'], axis=1)\n",
    "df_store = df_store.fillna(-1)\n",
    "df_store.head()"
   ]
  },
  {
   "cell_type": "code",
   "execution_count": 9,
   "metadata": {},
   "outputs": [
    {
     "data": {
      "text/plain": [
       "Store            0\n",
       "DayOfWeek        0\n",
       "Date             0\n",
       "Sales            0\n",
       "Customers        0\n",
       "Open             0\n",
       "Promo            0\n",
       "StateHoliday     0\n",
       "SchoolHoliday    0\n",
       "dtype: int64"
      ]
     },
     "execution_count": 9,
     "metadata": {},
     "output_type": "execute_result"
    }
   ],
   "source": [
    "df_train.isnull().sum()"
   ]
  },
  {
   "cell_type": "code",
   "execution_count": 10,
   "metadata": {},
   "outputs": [
    {
     "data": {
      "text/plain": [
       "Store                        0\n",
       "StoreType                    0\n",
       "Assortment                   0\n",
       "CompetitionDistance          0\n",
       "CompetitionOpenSinceMonth    0\n",
       "CompetitionOpenSinceYear     0\n",
       "Promo2                       0\n",
       "dtype: int64"
      ]
     },
     "execution_count": 10,
     "metadata": {},
     "output_type": "execute_result"
    }
   ],
   "source": [
    "df_store.isnull().sum()"
   ]
  },
  {
   "cell_type": "code",
   "execution_count": 11,
   "metadata": {},
   "outputs": [],
   "source": [
    "df_train_sales = df_train[df_train['Sales'] != 0]"
   ]
  },
  {
   "cell_type": "code",
   "execution_count": 12,
   "metadata": {},
   "outputs": [
    {
     "data": {
      "text/plain": [
       "<matplotlib.axes._subplots.AxesSubplot at 0x7f4f3314ef98>"
      ]
     },
     "execution_count": 12,
     "metadata": {},
     "output_type": "execute_result"
    },
    {
     "data": {
      "image/png": "[encoded data removed]",
      "text/plain": [
       "<matplotlib.figure.Figure at 0x7f4f3314ee10>"
      ]
     },
     "metadata": {},
     "output_type": "display_data"
    }
   ],
   "source": [
    "# Средние продажи в магазинах по дням, когда продажи были > 0\n",
    "sns.distplot(df_train_sales.groupby(['Store']).mean()['Sales'])"
   ]
  },
  {
   "cell_type": "code",
   "execution_count": 13,
   "metadata": {},
   "outputs": [
    {
     "data": {
      "text/plain": [
       "<matplotlib.axes._subplots.AxesSubplot at 0x7f4f2e1cbcf8>"
      ]
     },
     "execution_count": 13,
     "metadata": {},
     "output_type": "execute_result"
    },
    {
     "data": {
      "image/png": "[encoded data removed]",
      "text/plain": [
       "<matplotlib.figure.Figure at 0x7f4f2e1e0048>"
      ]
     },
     "metadata": {},
     "output_type": "display_data"
    }
   ],
   "source": [
    "# Среднее количество покупателей в магазинах\n",
    "sns.distplot(df_train_sales.groupby(['Store']).mean()['Customers'])"
   ]
  },
  {
   "cell_type": "code",
   "execution_count": 14,
   "metadata": {},
   "outputs": [
    {
     "data": {
      "text/plain": [
       "<matplotlib.axes._subplots.AxesSubplot at 0x7f4f2e176438>"
      ]
     },
     "execution_count": 14,
     "metadata": {},
     "output_type": "execute_result"
    },
    {
     "data": {
      "image/png": "[encoded data removed]",
      "text/plain": [
       "<matplotlib.figure.Figure at 0x7f4f2e12e5f8>"
      ]
     },
     "metadata": {},
     "output_type": "display_data"
    }
   ],
   "source": [
    "# Влияет ли работа школ на продажи?\n",
    "sns.boxplot(x=df_train['SchoolHoliday'], y=df_train['Sales'], palette=\"PRGn\")\n",
    "# Пожалуй, некоторое смещение наблюдается, но едва уловимое"
   ]
  },
  {
   "cell_type": "code",
   "execution_count": 15,
   "metadata": {},
   "outputs": [
    {
     "data": {
      "text/plain": [
       "<matplotlib.axes._subplots.AxesSubplot at 0x7f4f2e0d9da0>"
      ]
     },
     "execution_count": 15,
     "metadata": {},
     "output_type": "execute_result"
    },
    {
     "data": {
      "image/png": "[encoded data removed]",
      "text/plain": [
       "<matplotlib.figure.Figure at 0x7f4f2e0f91d0>"
      ]
     },
     "metadata": {},
     "output_type": "display_data"
    }
   ],
   "source": [
    "# Как связано количество продаж и количество покупателей?\n",
    "df_train_sales_customers = df_train_sales[df_train_sales['Customers'] != 0]\n",
    "x = np.log(df_train_sales_customers['Customers'])\n",
    "y = np.log(df_train_sales_customers['Sales'])\n",
    "sns.regplot(x, y, scatter_kws={'s':3}, fit_reg=True)"
   ]
  },
  {
   "cell_type": "code",
   "execution_count": 16,
   "metadata": {},
   "outputs": [
    {
     "data": {
      "text/plain": [
       "<matplotlib.axes._subplots.AxesSubplot at 0x7f4f2e0b6710>"
      ]
     },
     "execution_count": 16,
     "metadata": {},
     "output_type": "execute_result"
    },
    {
     "data": {
      "image/png": "[encoded data removed]",
      "text/plain": [
       "<matplotlib.figure.Figure at 0x7f4f2e119ba8>"
      ]
     },
     "metadata": {},
     "output_type": "display_data"
    }
   ],
   "source": [
    "# Зависимость продаж от промо-акции\n",
    "sns.boxplot(x=df_train_sales['Promo'], y=df_train_sales['Sales'], palette=\"PRGn\")\n",
    "# Здесь зависимость достаточно заметна"
   ]
  },
  {
   "cell_type": "code",
   "execution_count": 17,
   "metadata": {},
   "outputs": [
    {
     "name": "stdout",
     "output_type": "stream",
     "text": [
      "8.941127696725117\n",
      "10.178960909582786\n"
     ]
    }
   ],
   "source": [
    "# Среднее количество продаж на одного покупателя\n",
    "df_train_no_promo = df_train_sales[df_train_sales['Promo'] == 0]\n",
    "df_train_promo = df_train_sales[df_train_sales['Promo'] == 1]\n",
    "print(np.mean(df_train_no_promo['Sales']/df_train_no_promo['Customers']))\n",
    "print(np.mean(df_train_promo['Sales']/df_train_promo['Customers']))"
   ]
  },
  {
   "cell_type": "code",
   "execution_count": 18,
   "metadata": {},
   "outputs": [
    {
     "data": {
      "text/plain": [
       "<matplotlib.axes._subplots.AxesSubplot at 0x7f4f33718438>"
      ]
     },
     "execution_count": 18,
     "metadata": {},
     "output_type": "execute_result"
    },
    {
     "data": {
      "image/png": "[encoded data removed]",
      "text/plain": [
       "<matplotlib.figure.Figure at 0x7f4f7facb860>"
      ]
     },
     "metadata": {},
     "output_type": "display_data"
    }
   ],
   "source": [
    "# Продажи в зависимости от дня недели\n",
    "sns.boxplot(x=df_train_sales['DayOfWeek'], y=df_train_sales['Sales'], palette=\"PRGn\")\n",
    "# В пятницу, воскресенье и понедельник продажи повышаются"
   ]
  },
  {
   "cell_type": "code",
   "execution_count": 19,
   "metadata": {},
   "outputs": [
    {
     "data": {
      "text/plain": [
       "<matplotlib.axes._subplots.AxesSubplot at 0x7f4f2e01beb8>"
      ]
     },
     "execution_count": 19,
     "metadata": {},
     "output_type": "execute_result"
    },
    {
     "data": {
      "image/png": "[encoded data removed]",
      "text/plain": [
       "<matplotlib.figure.Figure at 0x7f4f2e074320>"
      ]
     },
     "metadata": {},
     "output_type": "display_data"
    }
   ],
   "source": [
    "# Продажи в зависимости от того, открыт ли магазин\n",
    "sns.boxplot(x=df_train['Open'], y=df_train['Sales'], palette=\"PRGn\")"
   ]
  },
  {
   "cell_type": "code",
   "execution_count": 20,
   "metadata": {},
   "outputs": [
    {
     "name": "stdout",
     "output_type": "stream",
     "text": [
      "1115\n",
      "856\n",
      "259\n"
     ]
    }
   ],
   "source": [
    "train_stores = np.unique(df_train['Store'])\n",
    "test_stores = np.unique(df_test['Store'])\n",
    "stores_difference = np.setdiff1d(train_stores, test_stores)\n",
    "print(len(train_stores))\n",
    "print(len(test_stores))\n",
    "print(len(stores_difference))"
   ]
  },
  {
   "cell_type": "markdown",
   "metadata": {},
   "source": [
    "Мы видим, что в тестовом наборе меньше магазинов, чем в тренировочном"
   ]
  },
  {
   "cell_type": "code",
   "execution_count": 21,
   "metadata": {},
   "outputs": [
    {
     "name": "stdout",
     "output_type": "stream",
     "text": [
      "2013-01-01 00:00:00 2015-07-31 00:00:00\n",
      "2015-08-01 00:00:00 2015-09-17 00:00:00\n"
     ]
    }
   ],
   "source": [
    "# Рассмотрим даты в тренировочном и тестовом наборе\n",
    "train_date_min = df_train['Date'].min()\n",
    "train_date_max = df_train['Date'].max()\n",
    "test_date_min = df_test['Date'].min()\n",
    "test_date_max = df_test['Date'].max()\n",
    "print(train_date_min, train_date_max)\n",
    "print(test_date_min, test_date_max)"
   ]
  },
  {
   "cell_type": "markdown",
   "metadata": {},
   "source": [
    "Однако даты в тестовом наборе находятся после дат в тренировочном. Поэтому мы можем использовать \"исторические\" данные, чтобы обучить модель и пытаться делать предсказание на будущее."
   ]
  },
  {
   "cell_type": "code",
   "execution_count": 22,
   "metadata": {},
   "outputs": [
    {
     "data": {
      "text/html": [
       "<div>\n",
       "<style scoped>\n",
       "    .dataframe tbody tr th:only-of-type {\n",
       "        vertical-align: middle;\n",
       "    }\n",
       "\n",
       "    .dataframe tbody tr th {\n",
       "        vertical-align: top;\n",
       "    }\n",
       "\n",
       "    .dataframe thead th {\n",
       "        text-align: right;\n",
       "    }\n",
       "</style>\n",
       "<table border=\"1\" class=\"dataframe\">\n",
       "  <thead>\n",
       "    <tr style=\"text-align: right;\">\n",
       "      <th></th>\n",
       "      <th>Store</th>\n",
       "      <th>DayOfWeek</th>\n",
       "      <th>Date</th>\n",
       "      <th>Sales</th>\n",
       "      <th>Customers</th>\n",
       "      <th>Open</th>\n",
       "      <th>Promo</th>\n",
       "      <th>StateHoliday</th>\n",
       "      <th>SchoolHoliday</th>\n",
       "      <th>StoreType</th>\n",
       "      <th>Assortment</th>\n",
       "      <th>CompetitionDistance</th>\n",
       "      <th>CompetitionOpenSinceMonth</th>\n",
       "      <th>CompetitionOpenSinceYear</th>\n",
       "      <th>Promo2</th>\n",
       "    </tr>\n",
       "  </thead>\n",
       "  <tbody>\n",
       "    <tr>\n",
       "      <th>1017208</th>\n",
       "      <td>1115</td>\n",
       "      <td>2</td>\n",
       "      <td>2013-01-01</td>\n",
       "      <td>0</td>\n",
       "      <td>0</td>\n",
       "      <td>0</td>\n",
       "      <td>0</td>\n",
       "      <td>a</td>\n",
       "      <td>1</td>\n",
       "      <td>d</td>\n",
       "      <td>c</td>\n",
       "      <td>5350.0</td>\n",
       "      <td>-1.0</td>\n",
       "      <td>-1.0</td>\n",
       "      <td>1</td>\n",
       "    </tr>\n",
       "    <tr>\n",
       "      <th>679363</th>\n",
       "      <td>746</td>\n",
       "      <td>2</td>\n",
       "      <td>2013-01-01</td>\n",
       "      <td>0</td>\n",
       "      <td>0</td>\n",
       "      <td>0</td>\n",
       "      <td>0</td>\n",
       "      <td>a</td>\n",
       "      <td>1</td>\n",
       "      <td>d</td>\n",
       "      <td>c</td>\n",
       "      <td>4330.0</td>\n",
       "      <td>2.0</td>\n",
       "      <td>2011.0</td>\n",
       "      <td>1</td>\n",
       "    </tr>\n",
       "    <tr>\n",
       "      <th>155193</th>\n",
       "      <td>171</td>\n",
       "      <td>2</td>\n",
       "      <td>2013-01-01</td>\n",
       "      <td>0</td>\n",
       "      <td>0</td>\n",
       "      <td>0</td>\n",
       "      <td>0</td>\n",
       "      <td>a</td>\n",
       "      <td>1</td>\n",
       "      <td>a</td>\n",
       "      <td>a</td>\n",
       "      <td>2640.0</td>\n",
       "      <td>-1.0</td>\n",
       "      <td>-1.0</td>\n",
       "      <td>0</td>\n",
       "    </tr>\n",
       "    <tr>\n",
       "      <th>632403</th>\n",
       "      <td>694</td>\n",
       "      <td>2</td>\n",
       "      <td>2013-01-01</td>\n",
       "      <td>0</td>\n",
       "      <td>0</td>\n",
       "      <td>0</td>\n",
       "      <td>0</td>\n",
       "      <td>a</td>\n",
       "      <td>1</td>\n",
       "      <td>a</td>\n",
       "      <td>c</td>\n",
       "      <td>460.0</td>\n",
       "      <td>11.0</td>\n",
       "      <td>2012.0</td>\n",
       "      <td>1</td>\n",
       "    </tr>\n",
       "    <tr>\n",
       "      <th>361623</th>\n",
       "      <td>396</td>\n",
       "      <td>2</td>\n",
       "      <td>2013-01-01</td>\n",
       "      <td>0</td>\n",
       "      <td>0</td>\n",
       "      <td>0</td>\n",
       "      <td>0</td>\n",
       "      <td>a</td>\n",
       "      <td>1</td>\n",
       "      <td>a</td>\n",
       "      <td>c</td>\n",
       "      <td>23130.0</td>\n",
       "      <td>-1.0</td>\n",
       "      <td>-1.0</td>\n",
       "      <td>0</td>\n",
       "    </tr>\n",
       "  </tbody>\n",
       "</table>\n",
       "</div>"
      ],
      "text/plain": [
       "         Store  DayOfWeek       Date  Sales  Customers  Open  Promo  \\\n",
       "1017208   1115          2 2013-01-01      0          0     0      0   \n",
       "679363     746          2 2013-01-01      0          0     0      0   \n",
       "155193     171          2 2013-01-01      0          0     0      0   \n",
       "632403     694          2 2013-01-01      0          0     0      0   \n",
       "361623     396          2 2013-01-01      0          0     0      0   \n",
       "\n",
       "        StateHoliday  SchoolHoliday StoreType Assortment  CompetitionDistance  \\\n",
       "1017208            a              1         d          c               5350.0   \n",
       "679363             a              1         d          c               4330.0   \n",
       "155193             a              1         a          a               2640.0   \n",
       "632403             a              1         a          c                460.0   \n",
       "361623             a              1         a          c              23130.0   \n",
       "\n",
       "         CompetitionOpenSinceMonth  CompetitionOpenSinceYear  Promo2  \n",
       "1017208                       -1.0                      -1.0       1  \n",
       "679363                         2.0                    2011.0       1  \n",
       "155193                        -1.0                      -1.0       0  \n",
       "632403                        11.0                    2012.0       1  \n",
       "361623                        -1.0                      -1.0       0  "
      ]
     },
     "execution_count": 22,
     "metadata": {},
     "output_type": "execute_result"
    }
   ],
   "source": [
    "df_train_store = pd.merge(df_train, df_store, on='Store')\n",
    "df_train_store = df_train_store.sort_values(['Date'])\n",
    "df_train_store.head()"
   ]
  },
  {
   "cell_type": "code",
   "execution_count": 23,
   "metadata": {},
   "outputs": [
    {
     "data": {
      "text/html": [
       "<div>\n",
       "<style scoped>\n",
       "    .dataframe tbody tr th:only-of-type {\n",
       "        vertical-align: middle;\n",
       "    }\n",
       "\n",
       "    .dataframe tbody tr th {\n",
       "        vertical-align: top;\n",
       "    }\n",
       "\n",
       "    .dataframe thead th {\n",
       "        text-align: right;\n",
       "    }\n",
       "</style>\n",
       "<table border=\"1\" class=\"dataframe\">\n",
       "  <thead>\n",
       "    <tr style=\"text-align: right;\">\n",
       "      <th></th>\n",
       "      <th>Id</th>\n",
       "      <th>Store</th>\n",
       "      <th>DayOfWeek</th>\n",
       "      <th>Date</th>\n",
       "      <th>Open</th>\n",
       "      <th>Promo</th>\n",
       "      <th>StateHoliday</th>\n",
       "      <th>SchoolHoliday</th>\n",
       "      <th>StoreType</th>\n",
       "      <th>Assortment</th>\n",
       "      <th>CompetitionDistance</th>\n",
       "      <th>CompetitionOpenSinceMonth</th>\n",
       "      <th>CompetitionOpenSinceYear</th>\n",
       "      <th>Promo2</th>\n",
       "    </tr>\n",
       "  </thead>\n",
       "  <tbody>\n",
       "    <tr>\n",
       "      <th>20543</th>\n",
       "      <td>40660</td>\n",
       "      <td>553</td>\n",
       "      <td>6</td>\n",
       "      <td>2015-08-01</td>\n",
       "      <td>1.0</td>\n",
       "      <td>0</td>\n",
       "      <td>0</td>\n",
       "      <td>0</td>\n",
       "      <td>c</td>\n",
       "      <td>a</td>\n",
       "      <td>3040.0</td>\n",
       "      <td>9.0</td>\n",
       "      <td>2002.0</td>\n",
       "      <td>1</td>\n",
       "    </tr>\n",
       "    <tr>\n",
       "      <th>14543</th>\n",
       "      <td>40535</td>\n",
       "      <td>394</td>\n",
       "      <td>6</td>\n",
       "      <td>2015-08-01</td>\n",
       "      <td>1.0</td>\n",
       "      <td>0</td>\n",
       "      <td>0</td>\n",
       "      <td>1</td>\n",
       "      <td>d</td>\n",
       "      <td>a</td>\n",
       "      <td>10850.0</td>\n",
       "      <td>-1.0</td>\n",
       "      <td>-1.0</td>\n",
       "      <td>0</td>\n",
       "    </tr>\n",
       "    <tr>\n",
       "      <th>14495</th>\n",
       "      <td>40534</td>\n",
       "      <td>393</td>\n",
       "      <td>6</td>\n",
       "      <td>2015-08-01</td>\n",
       "      <td>1.0</td>\n",
       "      <td>0</td>\n",
       "      <td>0</td>\n",
       "      <td>0</td>\n",
       "      <td>d</td>\n",
       "      <td>c</td>\n",
       "      <td>4820.0</td>\n",
       "      <td>3.0</td>\n",
       "      <td>2008.0</td>\n",
       "      <td>0</td>\n",
       "    </tr>\n",
       "    <tr>\n",
       "      <th>14447</th>\n",
       "      <td>40533</td>\n",
       "      <td>392</td>\n",
       "      <td>6</td>\n",
       "      <td>2015-08-01</td>\n",
       "      <td>1.0</td>\n",
       "      <td>0</td>\n",
       "      <td>0</td>\n",
       "      <td>0</td>\n",
       "      <td>a</td>\n",
       "      <td>a</td>\n",
       "      <td>2120.0</td>\n",
       "      <td>-1.0</td>\n",
       "      <td>-1.0</td>\n",
       "      <td>0</td>\n",
       "    </tr>\n",
       "    <tr>\n",
       "      <th>14399</th>\n",
       "      <td>40532</td>\n",
       "      <td>391</td>\n",
       "      <td>6</td>\n",
       "      <td>2015-08-01</td>\n",
       "      <td>1.0</td>\n",
       "      <td>0</td>\n",
       "      <td>0</td>\n",
       "      <td>0</td>\n",
       "      <td>a</td>\n",
       "      <td>a</td>\n",
       "      <td>460.0</td>\n",
       "      <td>11.0</td>\n",
       "      <td>2014.0</td>\n",
       "      <td>1</td>\n",
       "    </tr>\n",
       "  </tbody>\n",
       "</table>\n",
       "</div>"
      ],
      "text/plain": [
       "          Id  Store  DayOfWeek       Date  Open  Promo StateHoliday  \\\n",
       "20543  40660    553          6 2015-08-01   1.0      0            0   \n",
       "14543  40535    394          6 2015-08-01   1.0      0            0   \n",
       "14495  40534    393          6 2015-08-01   1.0      0            0   \n",
       "14447  40533    392          6 2015-08-01   1.0      0            0   \n",
       "14399  40532    391          6 2015-08-01   1.0      0            0   \n",
       "\n",
       "       SchoolHoliday StoreType Assortment  CompetitionDistance  \\\n",
       "20543              0         c          a               3040.0   \n",
       "14543              1         d          a              10850.0   \n",
       "14495              0         d          c               4820.0   \n",
       "14447              0         a          a               2120.0   \n",
       "14399              0         a          a                460.0   \n",
       "\n",
       "       CompetitionOpenSinceMonth  CompetitionOpenSinceYear  Promo2  \n",
       "20543                        9.0                    2002.0       1  \n",
       "14543                       -1.0                      -1.0       0  \n",
       "14495                        3.0                    2008.0       0  \n",
       "14447                       -1.0                      -1.0       0  \n",
       "14399                       11.0                    2014.0       1  "
      ]
     },
     "execution_count": 23,
     "metadata": {},
     "output_type": "execute_result"
    }
   ],
   "source": [
    "df_test_store = pd.merge(df_test, df_store, on='Store')\n",
    "df_test_store = df_test_store.sort_values(['Date'])\n",
    "df_test_store.head()"
   ]
  },
  {
   "cell_type": "markdown",
   "metadata": {},
   "source": [
    "### 2. Построить простую модель и реализовать подбор параметров и кросс-валидацию для данных с учётом наличия времени в данных"
   ]
  },
  {
   "cell_type": "markdown",
   "metadata": {},
   "source": [
    "Так как у нас множество временных рядов, а не один, то будем использовать модели на признаках. Для начала преобразуем множество df_train_store."
   ]
  },
  {
   "cell_type": "markdown",
   "metadata": {},
   "source": [
    "### Baseline\n",
    "В качестве простейшего наивного предсказания возьмём продажи за предыдущий день"
   ]
  },
  {
   "cell_type": "code",
   "execution_count": 24,
   "metadata": {
    "scrolled": true
   },
   "outputs": [
    {
     "data": {
      "text/html": [
       "<div>\n",
       "<style scoped>\n",
       "    .dataframe tbody tr th:only-of-type {\n",
       "        vertical-align: middle;\n",
       "    }\n",
       "\n",
       "    .dataframe tbody tr th {\n",
       "        vertical-align: top;\n",
       "    }\n",
       "\n",
       "    .dataframe thead th {\n",
       "        text-align: right;\n",
       "    }\n",
       "</style>\n",
       "<table border=\"1\" class=\"dataframe\">\n",
       "  <thead>\n",
       "    <tr style=\"text-align: right;\">\n",
       "      <th></th>\n",
       "      <th>Store</th>\n",
       "      <th>DayOfWeek</th>\n",
       "      <th>Date</th>\n",
       "      <th>Sales</th>\n",
       "      <th>Customers</th>\n",
       "      <th>Open</th>\n",
       "      <th>Promo</th>\n",
       "      <th>StateHoliday</th>\n",
       "      <th>SchoolHoliday</th>\n",
       "      <th>StoreType</th>\n",
       "      <th>Assortment</th>\n",
       "      <th>CompetitionDistance</th>\n",
       "      <th>CompetitionOpenSinceMonth</th>\n",
       "      <th>CompetitionOpenSinceYear</th>\n",
       "      <th>Promo2</th>\n",
       "      <th>LastDaySales</th>\n",
       "      <th>LastDayDiff</th>\n",
       "    </tr>\n",
       "  </thead>\n",
       "  <tbody>\n",
       "    <tr>\n",
       "      <th>413475</th>\n",
       "      <td>453</td>\n",
       "      <td>4</td>\n",
       "      <td>2013-01-03</td>\n",
       "      <td>6109</td>\n",
       "      <td>740</td>\n",
       "      <td>1</td>\n",
       "      <td>0</td>\n",
       "      <td>0</td>\n",
       "      <td>1</td>\n",
       "      <td>a</td>\n",
       "      <td>c</td>\n",
       "      <td>75860.0</td>\n",
       "      <td>-1.0</td>\n",
       "      <td>-1.0</td>\n",
       "      <td>0</td>\n",
       "      <td>8265.0</td>\n",
       "      <td>8265.0</td>\n",
       "    </tr>\n",
       "    <tr>\n",
       "      <th>276245</th>\n",
       "      <td>304</td>\n",
       "      <td>4</td>\n",
       "      <td>2013-01-03</td>\n",
       "      <td>5457</td>\n",
       "      <td>893</td>\n",
       "      <td>1</td>\n",
       "      <td>0</td>\n",
       "      <td>0</td>\n",
       "      <td>1</td>\n",
       "      <td>a</td>\n",
       "      <td>a</td>\n",
       "      <td>1950.0</td>\n",
       "      <td>7.0</td>\n",
       "      <td>2015.0</td>\n",
       "      <td>0</td>\n",
       "      <td>7108.0</td>\n",
       "      <td>7108.0</td>\n",
       "    </tr>\n",
       "    <tr>\n",
       "      <th>145197</th>\n",
       "      <td>160</td>\n",
       "      <td>4</td>\n",
       "      <td>2013-01-03</td>\n",
       "      <td>5068</td>\n",
       "      <td>523</td>\n",
       "      <td>1</td>\n",
       "      <td>0</td>\n",
       "      <td>0</td>\n",
       "      <td>1</td>\n",
       "      <td>d</td>\n",
       "      <td>c</td>\n",
       "      <td>17110.0</td>\n",
       "      <td>11.0</td>\n",
       "      <td>2005.0</td>\n",
       "      <td>0</td>\n",
       "      <td>5726.0</td>\n",
       "      <td>5726.0</td>\n",
       "    </tr>\n",
       "    <tr>\n",
       "      <th>515483</th>\n",
       "      <td>565</td>\n",
       "      <td>4</td>\n",
       "      <td>2013-01-03</td>\n",
       "      <td>5262</td>\n",
       "      <td>645</td>\n",
       "      <td>1</td>\n",
       "      <td>0</td>\n",
       "      <td>0</td>\n",
       "      <td>1</td>\n",
       "      <td>a</td>\n",
       "      <td>c</td>\n",
       "      <td>160.0</td>\n",
       "      <td>7.0</td>\n",
       "      <td>2007.0</td>\n",
       "      <td>0</td>\n",
       "      <td>5856.0</td>\n",
       "      <td>5856.0</td>\n",
       "    </tr>\n",
       "    <tr>\n",
       "      <th>648253</th>\n",
       "      <td>712</td>\n",
       "      <td>4</td>\n",
       "      <td>2013-01-03</td>\n",
       "      <td>6250</td>\n",
       "      <td>566</td>\n",
       "      <td>1</td>\n",
       "      <td>0</td>\n",
       "      <td>0</td>\n",
       "      <td>1</td>\n",
       "      <td>a</td>\n",
       "      <td>a</td>\n",
       "      <td>4870.0</td>\n",
       "      <td>9.0</td>\n",
       "      <td>2007.0</td>\n",
       "      <td>1</td>\n",
       "      <td>6377.0</td>\n",
       "      <td>6377.0</td>\n",
       "    </tr>\n",
       "  </tbody>\n",
       "</table>\n",
       "</div>"
      ],
      "text/plain": [
       "        Store  DayOfWeek       Date  Sales  Customers  Open  Promo  \\\n",
       "413475    453          4 2013-01-03   6109        740     1      0   \n",
       "276245    304          4 2013-01-03   5457        893     1      0   \n",
       "145197    160          4 2013-01-03   5068        523     1      0   \n",
       "515483    565          4 2013-01-03   5262        645     1      0   \n",
       "648253    712          4 2013-01-03   6250        566     1      0   \n",
       "\n",
       "       StateHoliday  SchoolHoliday StoreType Assortment  CompetitionDistance  \\\n",
       "413475            0              1         a          c              75860.0   \n",
       "276245            0              1         a          a               1950.0   \n",
       "145197            0              1         d          c              17110.0   \n",
       "515483            0              1         a          c                160.0   \n",
       "648253            0              1         a          a               4870.0   \n",
       "\n",
       "        CompetitionOpenSinceMonth  CompetitionOpenSinceYear  Promo2  \\\n",
       "413475                       -1.0                      -1.0       0   \n",
       "276245                        7.0                    2015.0       0   \n",
       "145197                       11.0                    2005.0       0   \n",
       "515483                        7.0                    2007.0       0   \n",
       "648253                        9.0                    2007.0       1   \n",
       "\n",
       "        LastDaySales  LastDayDiff  \n",
       "413475        8265.0       8265.0  \n",
       "276245        7108.0       7108.0  \n",
       "145197        5726.0       5726.0  \n",
       "515483        5856.0       5856.0  \n",
       "648253        6377.0       6377.0  "
      ]
     },
     "execution_count": 24,
     "metadata": {},
     "output_type": "execute_result"
    }
   ],
   "source": [
    "# Посчитаем продажи за предыдущий день и разницу в продажах \n",
    "# за предыдущий день и день перед ним\n",
    "df_train_store_1 = df_train_store.copy()\n",
    "df_train_store_1['LastDaySales'] = df_train_store_1.groupby(['Store'])['Sales'].shift()\n",
    "df_train_store_1['LastDayDiff'] = df_train_store_1.groupby(['Store'])['LastDaySales'].diff()\n",
    "df_train_store_1 = df_train_store_1.dropna()\n",
    "df_train_store_1.head()"
   ]
  },
  {
   "cell_type": "code",
   "execution_count": 25,
   "metadata": {},
   "outputs": [
    {
     "name": "stdout",
     "output_type": "stream",
     "text": [
      "0.07307533699923388\n",
      "9.421191308469721\n",
      "Mean Error = 3.00912\n"
     ]
    }
   ],
   "source": [
    "# Средняя ошибка по всем магазинам в определённый день\n",
    "mean_error = []\n",
    "\n",
    "for day in pd.date_range(train_date_min + pd.DateOffset(2), train_date_max):\n",
    "    val = df_train_store_1[df_train_store_1['Date'] == day]\n",
    "    predict = val['LastDaySales'].values\n",
    "    error = rmsle(val['Sales'].values, predict)\n",
    "    mean_error.append(error)\n",
    "    \n",
    "print(min(mean_error))\n",
    "print(max(mean_error))\n",
    "print('Mean Error = %.5f' % np.mean(mean_error))"
   ]
  },
  {
   "cell_type": "markdown",
   "metadata": {},
   "source": [
    "В задании нам необходимо предсказать продажи на 47 дней вперёд относительно последней даты, определённой в тренировочных данных. "
   ]
  },
  {
   "cell_type": "code",
   "execution_count": 26,
   "metadata": {},
   "outputs": [
    {
     "data": {
      "text/plain": [
       "Timedelta('47 days 00:00:00')"
      ]
     },
     "execution_count": 26,
     "metadata": {},
     "output_type": "execute_result"
    }
   ],
   "source": [
    "test_date_max - test_date_min"
   ]
  },
  {
   "cell_type": "code",
   "execution_count": 27,
   "metadata": {},
   "outputs": [],
   "source": [
    "class LabelEncoderPipelineFriendly(LabelEncoder):\n",
    "    \n",
    "    def fit(self, X, y=None):\n",
    "        \"\"\"this would allow us to fit the model based on the X input.\"\"\"\n",
    "        super(LabelEncoderPipelineFriendly, self).fit(X)\n",
    "        \n",
    "    def transform(self, X, y=None):\n",
    "        return super(LabelEncoderPipelineFriendly, self).transform(X).reshape(-1, 1)\n",
    "\n",
    "    def fit_transform(self, X, y=None):\n",
    "        return super(LabelEncoderPipelineFriendly, self).fit(X).transform(X).reshape(-1, 1)"
   ]
  },
  {
   "cell_type": "code",
   "execution_count": 28,
   "metadata": {},
   "outputs": [],
   "source": [
    "def get_num_cols(df):\n",
    "    return df[['Store', 'DayOfWeek', 'Customers', 'Open', 'Promo', 'SchoolHoliday', \\\n",
    "               'CompetitionDistance', 'CompetitionOpenSinceYear', 'CompetitionOpenSinceMonth', 'Promo2']]\n",
    "\n",
    "def get_num_cols_2(df):\n",
    "    return df[['Store', 'DayOfWeek', 'Open', 'Promo', 'SchoolHoliday', \\\n",
    "               'CompetitionDistance', 'CompetitionOpenSinceYear', 'CompetitionOpenSinceMonth', 'Promo2']]\n",
    "\n",
    "def get_state_holiday(df):\n",
    "    return df['StateHoliday']\n",
    "\n",
    "def get_store_type(df):\n",
    "    return df['StoreType']\n",
    "\n",
    "def get_assortment(df):\n",
    "    return df['Assortment']\n",
    "\n",
    "def get_sales_diff_cols_1(df):\n",
    "    return df[['LastDaySales', 'LastDayDiff']]\n",
    "\n",
    "def get_sales_diff_cols_1_month(df):\n",
    "    return df[['LastMonthSales', 'LastMonthDiff']]\n",
    "\n",
    "def get_sales_diff_cols_2(df):\n",
    "    return df[['LastDaySales', 'LastDayDiff', \n",
    "               'LastDaySales-1', 'LastDayDiff-1']]\n",
    "\n",
    "def get_sales_diff_cols_8(df):\n",
    "    return df[['LastDaySales', 'LastDayDiff', \n",
    "               'LastDaySales-1', 'LastDayDiff-1', \\\n",
    "               'LastDaySales-2', 'LastDayDiff-2', \\\n",
    "               'LastDaySales-3', 'LastDayDiff-3', \\\n",
    "               'LastDaySales-4', 'LastDayDiff-4', \\\n",
    "               'LastDaySales-5', 'LastDayDiff-5', \\\n",
    "               'LastDaySales-6', 'LastDayDiff-6', \\\n",
    "               'LastDaySales-7', 'LastDayDiff-7']]\n",
    "\n",
    "vec_0 = make_union(*[\n",
    "    make_pipeline(FunctionTransformer(get_num_cols_2, validate=False), Imputer(strategy='mean')),\n",
    "    make_pipeline(FunctionTransformer(get_store_type, validate=False), LabelEncoderPipelineFriendly(), OneHotEncoder(sparse=False)),\n",
    "    make_pipeline(FunctionTransformer(get_assortment, validate=False), LabelEncoderPipelineFriendly(), OneHotEncoder(sparse=False))\n",
    "])\n",
    "\n",
    "vec_1 = make_union(*[\n",
    "    make_pipeline(FunctionTransformer(get_num_cols_2, validate=False), Imputer(strategy='mean')),\n",
    "    make_pipeline(FunctionTransformer(get_store_type, validate=False), LabelEncoderPipelineFriendly(), OneHotEncoder(sparse=False)),\n",
    "    make_pipeline(FunctionTransformer(get_assortment, validate=False), LabelEncoderPipelineFriendly(), OneHotEncoder(sparse=False)),\n",
    "    make_pipeline(FunctionTransformer(get_sales_diff_cols_1, validate=False))\n",
    "])\n",
    "\n",
    "vec_1_month = make_union(*[\n",
    "    make_pipeline(FunctionTransformer(get_num_cols_2, validate=False), Imputer(strategy='mean')),\n",
    "    make_pipeline(FunctionTransformer(get_store_type, validate=False), LabelEncoderPipelineFriendly(), OneHotEncoder(sparse=False)),\n",
    "    make_pipeline(FunctionTransformer(get_assortment, validate=False), LabelEncoderPipelineFriendly(), OneHotEncoder(sparse=False)),\n",
    "    make_pipeline(FunctionTransformer(get_sales_diff_cols_1_month, validate=False))\n",
    "])\n",
    "\n",
    "vec_2 = make_union(*[\n",
    "    make_pipeline(FunctionTransformer(get_num_cols_2, validate=False), Imputer(strategy='mean')),\n",
    "    make_pipeline(FunctionTransformer(get_store_type, validate=False), LabelEncoderPipelineFriendly(), OneHotEncoder(sparse=False)),\n",
    "    make_pipeline(FunctionTransformer(get_assortment, validate=False), LabelEncoderPipelineFriendly(), OneHotEncoder(sparse=False)),\n",
    "    make_pipeline(FunctionTransformer(get_sales_diff_cols_2, validate=False))\n",
    "])\n",
    "\n",
    "vec_8 = make_union(*[\n",
    "    make_pipeline(FunctionTransformer(get_num_cols_2, validate=False), Imputer(strategy='mean')),\n",
    "    make_pipeline(FunctionTransformer(get_store_type, validate=False), LabelEncoderPipelineFriendly(), OneHotEncoder(sparse=False)),\n",
    "    make_pipeline(FunctionTransformer(get_assortment, validate=False), LabelEncoderPipelineFriendly(), OneHotEncoder(sparse=False)),\n",
    "    make_pipeline(FunctionTransformer(get_sales_diff_cols_8, validate=False))\n",
    "])"
   ]
  },
  {
   "cell_type": "code",
   "execution_count": 29,
   "metadata": {},
   "outputs": [
    {
     "name": "stdout",
     "output_type": "stream",
     "text": [
      "Day 2015-07-25 00:00:00 - Error 0.38494\n",
      "Day 2015-07-26 00:00:00 - Error 0.20507\n",
      "Day 2015-07-27 00:00:00 - Error 0.37698\n",
      "Day 2015-07-28 00:00:00 - Error 0.24369\n",
      "Day 2015-07-29 00:00:00 - Error 0.26674\n",
      "Day 2015-07-30 00:00:00 - Error 0.17669\n",
      "Day 2015-07-31 00:00:00 - Error 0.24637\n",
      "Mean Error = 0.27150\n",
      "CPU times: user 32.2 s, sys: 4.79 s, total: 37 s\n",
      "Wall time: 27.1 s\n"
     ]
    }
   ],
   "source": [
    "%%time\n",
    "mean_error = []\n",
    "for day in pd.date_range(train_date_max - pd.DateOffset(6), train_date_max):\n",
    "    train = df_train_store_1[df_train_store_1['Date'] < day]\n",
    "    val = df_train_store_1[df_train_store_1['Date'] == day]\n",
    "    \n",
    "    x_train = vec_1.fit_transform(train)\n",
    "    x_test = vec_1.fit_transform(val)\n",
    "    y_train = train['Sales'].values\n",
    "    y_test = val['Sales'].values\n",
    "    \n",
    "    model_lr = LinearRegression()\n",
    "    model_lr.fit(x_train, np.log1p(y_train))\n",
    "    \n",
    "    predict = np.expm1(model_lr.predict(x_test))\n",
    "    \n",
    "    error = rmsle(y_test, predict)\n",
    "    print('Day %s - Error %.5f' % (str(day), error))\n",
    "    mean_error.append(error)\n",
    "    \n",
    "print('Mean Error = %.5f' % np.mean(mean_error))"
   ]
  },
  {
   "cell_type": "markdown",
   "metadata": {},
   "source": [
    "#### Линейная регрессия без временного лага"
   ]
  },
  {
   "cell_type": "code",
   "execution_count": 30,
   "metadata": {},
   "outputs": [
    {
     "name": "stdout",
     "output_type": "stream",
     "text": [
      "Day 2015-07-25 00:00:00 - Error 0.48125\n",
      "Day 2015-07-26 00:00:00 - Error 0.11795\n",
      "Day 2015-07-27 00:00:00 - Error 0.34772\n",
      "Day 2015-07-28 00:00:00 - Error 0.31516\n",
      "Day 2015-07-29 00:00:00 - Error 0.31950\n",
      "Day 2015-07-30 00:00:00 - Error 0.31623\n",
      "Day 2015-07-31 00:00:00 - Error 0.34839\n",
      "Mean Error = 0.32088\n",
      "CPU times: user 29.2 s, sys: 4.4 s, total: 33.6 s\n",
      "Wall time: 25.6 s\n"
     ]
    }
   ],
   "source": [
    "%%time\n",
    "mean_error = []\n",
    "for day in pd.date_range(train_date_max - pd.DateOffset(6), train_date_max):\n",
    "    train = df_train_store[df_train_store['Date'] < day]\n",
    "    val = df_train_store[df_train_store['Date'] == day]\n",
    "    \n",
    "    x_train = vec_0.fit_transform(train)\n",
    "    x_test = vec_0.fit_transform(val)\n",
    "    y_train = train['Sales'].values\n",
    "    y_test = val['Sales'].values\n",
    "    \n",
    "    model_lr = LinearRegression()\n",
    "    model_lr.fit(x_train, np.log1p(y_train))\n",
    "    \n",
    "    predict = np.expm1(model_lr.predict(x_test))\n",
    "    \n",
    "    error = rmsle(y_test, predict)\n",
    "    print('Day %s - Error %.5f' % (str(day), error))\n",
    "    mean_error.append(error)\n",
    "    \n",
    "print('Mean Error = %.5f' % np.mean(mean_error))"
   ]
  },
  {
   "cell_type": "code",
   "execution_count": 31,
   "metadata": {},
   "outputs": [],
   "source": [
    "x_train = vec_0.fit_transform(df_train_store)\n",
    "y_train = df_train_store['Sales'].values\n",
    "\n",
    "model_lr = LinearRegression()\n",
    "model_lr.fit(x_train, np.log1p(y_train))\n",
    "\n",
    "x_test = vec_0.fit_transform(df_test_store)\n",
    "predict = np.expm1(model_lr.predict(x_test))"
   ]
  },
  {
   "cell_type": "code",
   "execution_count": 32,
   "metadata": {},
   "outputs": [],
   "source": [
    "df_test_store['Sales'] = predict\n",
    "df_test_store.to_csv('submission.csv', columns = ['Id', 'Sales'], index=False)"
   ]
  },
  {
   "cell_type": "markdown",
   "metadata": {},
   "source": [
    "Оценка этой модели на Kaggle - 0.37592"
   ]
  },
  {
   "cell_type": "markdown",
   "metadata": {},
   "source": [
    "#### Случайный лес без временного лага"
   ]
  },
  {
   "cell_type": "code",
   "execution_count": 33,
   "metadata": {},
   "outputs": [
    {
     "name": "stdout",
     "output_type": "stream",
     "text": [
      "Day 2015-07-25 00:00:00 - Error 0.19539\n",
      "Day 2015-07-26 00:00:00 - Error 0.06496\n",
      "Day 2015-07-27 00:00:00 - Error 0.13211\n",
      "Day 2015-07-28 00:00:00 - Error 0.12938\n",
      "Day 2015-07-29 00:00:00 - Error 0.13290\n",
      "Day 2015-07-30 00:00:00 - Error 0.13258\n",
      "Day 2015-07-31 00:00:00 - Error 0.24556\n",
      "Mean Error = 0.14755\n",
      "CPU times: user 32min 46s, sys: 2.48 s, total: 32min 48s\n",
      "Wall time: 16min 37s\n"
     ]
    }
   ],
   "source": [
    "%%time\n",
    "mean_error = []\n",
    "for day in pd.date_range(train_date_max - pd.DateOffset(6), train_date_max):\n",
    "    train = df_train_store[df_train_store['Date'] < day]\n",
    "    val = df_train_store[df_train_store['Date'] == day]\n",
    "    \n",
    "    x_train = vec_0.fit_transform(train)\n",
    "    x_test = vec_0.fit_transform(val)\n",
    "    y_train = train['Sales'].values\n",
    "    y_test = val['Sales'].values\n",
    "    \n",
    "    model_forest = RandomForestRegressor(n_estimators=100, n_jobs=2, random_state=42)\n",
    "    model_forest.fit(x_train, np.log1p(y_train))\n",
    "    \n",
    "    predict = np.expm1(model_forest.predict(x_test))\n",
    "    \n",
    "    error = rmsle(y_test, predict)\n",
    "    print('Day %s - Error %.5f' % (str(day), error))\n",
    "    mean_error.append(error)\n",
    "    \n",
    "print('Mean Error = %.5f' % np.mean(mean_error))"
   ]
  },
  {
   "cell_type": "code",
   "execution_count": 34,
   "metadata": {},
   "outputs": [],
   "source": [
    "x_train = vec_0.fit_transform(df_train_store)\n",
    "y_train = df_train_store['Sales'].values\n",
    "\n",
    "model_forest = RandomForestRegressor(n_estimators=100, n_jobs=2, random_state=42)\n",
    "model_forest.fit(x_train, np.log1p(y_train))\n",
    "\n",
    "x_test = vec_0.fit_transform(df_test_store)\n",
    "predict = np.expm1(model_forest.predict(x_test))"
   ]
  },
  {
   "cell_type": "code",
   "execution_count": 35,
   "metadata": {},
   "outputs": [],
   "source": [
    "df_test_store['Sales'] = predict\n",
    "df_test_store.to_csv('submission.csv', columns = ['Id', 'Sales'], index=False)"
   ]
  },
  {
   "cell_type": "markdown",
   "metadata": {},
   "source": [
    "Оценка этой модели на Kaggle - 0.14308"
   ]
  },
  {
   "cell_type": "markdown",
   "metadata": {},
   "source": [
    "#### Случайный лес с временным лагом в один месяц"
   ]
  },
  {
   "cell_type": "code",
   "execution_count": 36,
   "metadata": {},
   "outputs": [
    {
     "data": {
      "text/html": [
       "<div>\n",
       "<style scoped>\n",
       "    .dataframe tbody tr th:only-of-type {\n",
       "        vertical-align: middle;\n",
       "    }\n",
       "\n",
       "    .dataframe tbody tr th {\n",
       "        vertical-align: top;\n",
       "    }\n",
       "\n",
       "    .dataframe thead th {\n",
       "        text-align: right;\n",
       "    }\n",
       "</style>\n",
       "<table border=\"1\" class=\"dataframe\">\n",
       "  <thead>\n",
       "    <tr style=\"text-align: right;\">\n",
       "      <th></th>\n",
       "      <th>Store</th>\n",
       "      <th>DayOfWeek</th>\n",
       "      <th>Date</th>\n",
       "      <th>Sales</th>\n",
       "      <th>Customers</th>\n",
       "      <th>Open</th>\n",
       "      <th>Promo</th>\n",
       "      <th>StateHoliday</th>\n",
       "      <th>SchoolHoliday</th>\n",
       "      <th>StoreType</th>\n",
       "      <th>Assortment</th>\n",
       "      <th>CompetitionDistance</th>\n",
       "      <th>CompetitionOpenSinceMonth</th>\n",
       "      <th>CompetitionOpenSinceYear</th>\n",
       "      <th>Promo2</th>\n",
       "      <th>YearMonth</th>\n",
       "    </tr>\n",
       "  </thead>\n",
       "  <tbody>\n",
       "    <tr>\n",
       "      <th>1017208</th>\n",
       "      <td>1115</td>\n",
       "      <td>2</td>\n",
       "      <td>2013-01-01</td>\n",
       "      <td>0</td>\n",
       "      <td>0</td>\n",
       "      <td>0</td>\n",
       "      <td>0</td>\n",
       "      <td>a</td>\n",
       "      <td>1</td>\n",
       "      <td>d</td>\n",
       "      <td>c</td>\n",
       "      <td>5350.0</td>\n",
       "      <td>-1.0</td>\n",
       "      <td>-1.0</td>\n",
       "      <td>1</td>\n",
       "      <td>2013001</td>\n",
       "    </tr>\n",
       "    <tr>\n",
       "      <th>679363</th>\n",
       "      <td>746</td>\n",
       "      <td>2</td>\n",
       "      <td>2013-01-01</td>\n",
       "      <td>0</td>\n",
       "      <td>0</td>\n",
       "      <td>0</td>\n",
       "      <td>0</td>\n",
       "      <td>a</td>\n",
       "      <td>1</td>\n",
       "      <td>d</td>\n",
       "      <td>c</td>\n",
       "      <td>4330.0</td>\n",
       "      <td>2.0</td>\n",
       "      <td>2011.0</td>\n",
       "      <td>1</td>\n",
       "      <td>2013001</td>\n",
       "    </tr>\n",
       "    <tr>\n",
       "      <th>155193</th>\n",
       "      <td>171</td>\n",
       "      <td>2</td>\n",
       "      <td>2013-01-01</td>\n",
       "      <td>0</td>\n",
       "      <td>0</td>\n",
       "      <td>0</td>\n",
       "      <td>0</td>\n",
       "      <td>a</td>\n",
       "      <td>1</td>\n",
       "      <td>a</td>\n",
       "      <td>a</td>\n",
       "      <td>2640.0</td>\n",
       "      <td>-1.0</td>\n",
       "      <td>-1.0</td>\n",
       "      <td>0</td>\n",
       "      <td>2013001</td>\n",
       "    </tr>\n",
       "    <tr>\n",
       "      <th>632403</th>\n",
       "      <td>694</td>\n",
       "      <td>2</td>\n",
       "      <td>2013-01-01</td>\n",
       "      <td>0</td>\n",
       "      <td>0</td>\n",
       "      <td>0</td>\n",
       "      <td>0</td>\n",
       "      <td>a</td>\n",
       "      <td>1</td>\n",
       "      <td>a</td>\n",
       "      <td>c</td>\n",
       "      <td>460.0</td>\n",
       "      <td>11.0</td>\n",
       "      <td>2012.0</td>\n",
       "      <td>1</td>\n",
       "      <td>2013001</td>\n",
       "    </tr>\n",
       "    <tr>\n",
       "      <th>361623</th>\n",
       "      <td>396</td>\n",
       "      <td>2</td>\n",
       "      <td>2013-01-01</td>\n",
       "      <td>0</td>\n",
       "      <td>0</td>\n",
       "      <td>0</td>\n",
       "      <td>0</td>\n",
       "      <td>a</td>\n",
       "      <td>1</td>\n",
       "      <td>a</td>\n",
       "      <td>c</td>\n",
       "      <td>23130.0</td>\n",
       "      <td>-1.0</td>\n",
       "      <td>-1.0</td>\n",
       "      <td>0</td>\n",
       "      <td>2013001</td>\n",
       "    </tr>\n",
       "  </tbody>\n",
       "</table>\n",
       "</div>"
      ],
      "text/plain": [
       "         Store  DayOfWeek       Date  Sales  Customers  Open  Promo  \\\n",
       "1017208   1115          2 2013-01-01      0          0     0      0   \n",
       "679363     746          2 2013-01-01      0          0     0      0   \n",
       "155193     171          2 2013-01-01      0          0     0      0   \n",
       "632403     694          2 2013-01-01      0          0     0      0   \n",
       "361623     396          2 2013-01-01      0          0     0      0   \n",
       "\n",
       "        StateHoliday  SchoolHoliday StoreType Assortment  CompetitionDistance  \\\n",
       "1017208            a              1         d          c               5350.0   \n",
       "679363             a              1         d          c               4330.0   \n",
       "155193             a              1         a          a               2640.0   \n",
       "632403             a              1         a          c                460.0   \n",
       "361623             a              1         a          c              23130.0   \n",
       "\n",
       "         CompetitionOpenSinceMonth  CompetitionOpenSinceYear  Promo2  \\\n",
       "1017208                       -1.0                      -1.0       1   \n",
       "679363                         2.0                    2011.0       1   \n",
       "155193                        -1.0                      -1.0       0   \n",
       "632403                        11.0                    2012.0       1   \n",
       "361623                        -1.0                      -1.0       0   \n",
       "\n",
       "         YearMonth  \n",
       "1017208    2013001  \n",
       "679363     2013001  \n",
       "155193     2013001  \n",
       "632403     2013001  \n",
       "361623     2013001  "
      ]
     },
     "execution_count": 36,
     "metadata": {},
     "output_type": "execute_result"
    }
   ],
   "source": [
    "# Добавим в тестовые данные столбцы с годом и месяцем и средними продажами за месяц\n",
    "df_train_store_m = df_train_store.copy()\n",
    "df_train_store_m['YearMonth'] = df_train_store_m['Date'].map(lambda x: 1000*x.year + x.month)\n",
    "df_train_store_m.head()"
   ]
  },
  {
   "cell_type": "code",
   "execution_count": 37,
   "metadata": {},
   "outputs": [
    {
     "data": {
      "text/html": [
       "<div>\n",
       "<style scoped>\n",
       "    .dataframe tbody tr th:only-of-type {\n",
       "        vertical-align: middle;\n",
       "    }\n",
       "\n",
       "    .dataframe tbody tr th {\n",
       "        vertical-align: top;\n",
       "    }\n",
       "\n",
       "    .dataframe thead th {\n",
       "        text-align: right;\n",
       "    }\n",
       "</style>\n",
       "<table border=\"1\" class=\"dataframe\">\n",
       "  <thead>\n",
       "    <tr style=\"text-align: right;\">\n",
       "      <th></th>\n",
       "      <th>Store</th>\n",
       "      <th>YearMonth</th>\n",
       "      <th>SalesMonth</th>\n",
       "    </tr>\n",
       "  </thead>\n",
       "  <tbody>\n",
       "    <tr>\n",
       "      <th>0</th>\n",
       "      <td>1</td>\n",
       "      <td>2013001</td>\n",
       "      <td>4142.935484</td>\n",
       "    </tr>\n",
       "    <tr>\n",
       "      <th>1</th>\n",
       "      <td>1</td>\n",
       "      <td>2013002</td>\n",
       "      <td>4473.964286</td>\n",
       "    </tr>\n",
       "    <tr>\n",
       "      <th>2</th>\n",
       "      <td>1</td>\n",
       "      <td>2013003</td>\n",
       "      <td>4682.870968</td>\n",
       "    </tr>\n",
       "    <tr>\n",
       "      <th>3</th>\n",
       "      <td>1</td>\n",
       "      <td>2013004</td>\n",
       "      <td>3933.633333</td>\n",
       "    </tr>\n",
       "    <tr>\n",
       "      <th>4</th>\n",
       "      <td>1</td>\n",
       "      <td>2013005</td>\n",
       "      <td>3813.709677</td>\n",
       "    </tr>\n",
       "  </tbody>\n",
       "</table>\n",
       "</div>"
      ],
      "text/plain": [
       "   Store  YearMonth   SalesMonth\n",
       "0      1    2013001  4142.935484\n",
       "1      1    2013002  4473.964286\n",
       "2      1    2013003  4682.870968\n",
       "3      1    2013004  3933.633333\n",
       "4      1    2013005  3813.709677"
      ]
     },
     "execution_count": 37,
     "metadata": {},
     "output_type": "execute_result"
    }
   ],
   "source": [
    "# Сгруппированные по магазинам и месяцам и усреднённые продажи\n",
    "df_month_mean_sales = df_train_store_m.groupby(['Store', 'YearMonth'])['Sales'].mean().reset_index()\n",
    "df_month_mean_sales = df_month_mean_sales.rename(columns={'Sales': 'SalesMonth'})\n",
    "df_month_mean_sales.head()"
   ]
  },
  {
   "cell_type": "code",
   "execution_count": 38,
   "metadata": {},
   "outputs": [
    {
     "data": {
      "text/html": [
       "<div>\n",
       "<style scoped>\n",
       "    .dataframe tbody tr th:only-of-type {\n",
       "        vertical-align: middle;\n",
       "    }\n",
       "\n",
       "    .dataframe tbody tr th {\n",
       "        vertical-align: top;\n",
       "    }\n",
       "\n",
       "    .dataframe thead th {\n",
       "        text-align: right;\n",
       "    }\n",
       "</style>\n",
       "<table border=\"1\" class=\"dataframe\">\n",
       "  <thead>\n",
       "    <tr style=\"text-align: right;\">\n",
       "      <th></th>\n",
       "      <th>Store</th>\n",
       "      <th>DayOfWeek</th>\n",
       "      <th>Date</th>\n",
       "      <th>Sales</th>\n",
       "      <th>Customers</th>\n",
       "      <th>Open</th>\n",
       "      <th>Promo</th>\n",
       "      <th>StateHoliday</th>\n",
       "      <th>SchoolHoliday</th>\n",
       "      <th>StoreType</th>\n",
       "      <th>Assortment</th>\n",
       "      <th>CompetitionDistance</th>\n",
       "      <th>CompetitionOpenSinceMonth</th>\n",
       "      <th>CompetitionOpenSinceYear</th>\n",
       "      <th>Promo2</th>\n",
       "      <th>YearMonth</th>\n",
       "      <th>SalesMonth</th>\n",
       "    </tr>\n",
       "  </thead>\n",
       "  <tbody>\n",
       "    <tr>\n",
       "      <th>0</th>\n",
       "      <td>1115</td>\n",
       "      <td>2</td>\n",
       "      <td>2013-01-01</td>\n",
       "      <td>0</td>\n",
       "      <td>0</td>\n",
       "      <td>0</td>\n",
       "      <td>0</td>\n",
       "      <td>a</td>\n",
       "      <td>1</td>\n",
       "      <td>d</td>\n",
       "      <td>c</td>\n",
       "      <td>5350.0</td>\n",
       "      <td>-1.0</td>\n",
       "      <td>-1.0</td>\n",
       "      <td>1</td>\n",
       "      <td>2013001</td>\n",
       "      <td>3757.483871</td>\n",
       "    </tr>\n",
       "    <tr>\n",
       "      <th>1</th>\n",
       "      <td>1115</td>\n",
       "      <td>3</td>\n",
       "      <td>2013-01-02</td>\n",
       "      <td>3697</td>\n",
       "      <td>305</td>\n",
       "      <td>1</td>\n",
       "      <td>0</td>\n",
       "      <td>0</td>\n",
       "      <td>1</td>\n",
       "      <td>d</td>\n",
       "      <td>c</td>\n",
       "      <td>5350.0</td>\n",
       "      <td>-1.0</td>\n",
       "      <td>-1.0</td>\n",
       "      <td>1</td>\n",
       "      <td>2013001</td>\n",
       "      <td>3757.483871</td>\n",
       "    </tr>\n",
       "    <tr>\n",
       "      <th>2</th>\n",
       "      <td>1115</td>\n",
       "      <td>4</td>\n",
       "      <td>2013-01-03</td>\n",
       "      <td>4297</td>\n",
       "      <td>300</td>\n",
       "      <td>1</td>\n",
       "      <td>0</td>\n",
       "      <td>0</td>\n",
       "      <td>1</td>\n",
       "      <td>d</td>\n",
       "      <td>c</td>\n",
       "      <td>5350.0</td>\n",
       "      <td>-1.0</td>\n",
       "      <td>-1.0</td>\n",
       "      <td>1</td>\n",
       "      <td>2013001</td>\n",
       "      <td>3757.483871</td>\n",
       "    </tr>\n",
       "    <tr>\n",
       "      <th>3</th>\n",
       "      <td>1115</td>\n",
       "      <td>5</td>\n",
       "      <td>2013-01-04</td>\n",
       "      <td>4540</td>\n",
       "      <td>326</td>\n",
       "      <td>1</td>\n",
       "      <td>0</td>\n",
       "      <td>0</td>\n",
       "      <td>1</td>\n",
       "      <td>d</td>\n",
       "      <td>c</td>\n",
       "      <td>5350.0</td>\n",
       "      <td>-1.0</td>\n",
       "      <td>-1.0</td>\n",
       "      <td>1</td>\n",
       "      <td>2013001</td>\n",
       "      <td>3757.483871</td>\n",
       "    </tr>\n",
       "    <tr>\n",
       "      <th>4</th>\n",
       "      <td>1115</td>\n",
       "      <td>6</td>\n",
       "      <td>2013-01-05</td>\n",
       "      <td>4771</td>\n",
       "      <td>339</td>\n",
       "      <td>1</td>\n",
       "      <td>0</td>\n",
       "      <td>0</td>\n",
       "      <td>1</td>\n",
       "      <td>d</td>\n",
       "      <td>c</td>\n",
       "      <td>5350.0</td>\n",
       "      <td>-1.0</td>\n",
       "      <td>-1.0</td>\n",
       "      <td>1</td>\n",
       "      <td>2013001</td>\n",
       "      <td>3757.483871</td>\n",
       "    </tr>\n",
       "  </tbody>\n",
       "</table>\n",
       "</div>"
      ],
      "text/plain": [
       "   Store  DayOfWeek       Date  Sales  Customers  Open  Promo StateHoliday  \\\n",
       "0   1115          2 2013-01-01      0          0     0      0            a   \n",
       "1   1115          3 2013-01-02   3697        305     1      0            0   \n",
       "2   1115          4 2013-01-03   4297        300     1      0            0   \n",
       "3   1115          5 2013-01-04   4540        326     1      0            0   \n",
       "4   1115          6 2013-01-05   4771        339     1      0            0   \n",
       "\n",
       "   SchoolHoliday StoreType Assortment  CompetitionDistance  \\\n",
       "0              1         d          c               5350.0   \n",
       "1              1         d          c               5350.0   \n",
       "2              1         d          c               5350.0   \n",
       "3              1         d          c               5350.0   \n",
       "4              1         d          c               5350.0   \n",
       "\n",
       "   CompetitionOpenSinceMonth  CompetitionOpenSinceYear  Promo2  YearMonth  \\\n",
       "0                       -1.0                      -1.0       1    2013001   \n",
       "1                       -1.0                      -1.0       1    2013001   \n",
       "2                       -1.0                      -1.0       1    2013001   \n",
       "3                       -1.0                      -1.0       1    2013001   \n",
       "4                       -1.0                      -1.0       1    2013001   \n",
       "\n",
       "    SalesMonth  \n",
       "0  3757.483871  \n",
       "1  3757.483871  \n",
       "2  3757.483871  \n",
       "3  3757.483871  \n",
       "4  3757.483871  "
      ]
     },
     "execution_count": 38,
     "metadata": {},
     "output_type": "execute_result"
    }
   ],
   "source": [
    "df_train_store_m = pd.merge(df_train_store_m, df_month_mean_sales, on=['Store', 'YearMonth'])\n",
    "df_train_store_m.head()"
   ]
  },
  {
   "cell_type": "code",
   "execution_count": 39,
   "metadata": {},
   "outputs": [
    {
     "data": {
      "text/html": [
       "<div>\n",
       "<style scoped>\n",
       "    .dataframe tbody tr th:only-of-type {\n",
       "        vertical-align: middle;\n",
       "    }\n",
       "\n",
       "    .dataframe tbody tr th {\n",
       "        vertical-align: top;\n",
       "    }\n",
       "\n",
       "    .dataframe thead th {\n",
       "        text-align: right;\n",
       "    }\n",
       "</style>\n",
       "<table border=\"1\" class=\"dataframe\">\n",
       "  <thead>\n",
       "    <tr style=\"text-align: right;\">\n",
       "      <th></th>\n",
       "      <th>Store</th>\n",
       "      <th>DayOfWeek</th>\n",
       "      <th>Date</th>\n",
       "      <th>Sales</th>\n",
       "      <th>Customers</th>\n",
       "      <th>Open</th>\n",
       "      <th>Promo</th>\n",
       "      <th>StateHoliday</th>\n",
       "      <th>SchoolHoliday</th>\n",
       "      <th>StoreType</th>\n",
       "      <th>Assortment</th>\n",
       "      <th>CompetitionDistance</th>\n",
       "      <th>CompetitionOpenSinceMonth</th>\n",
       "      <th>CompetitionOpenSinceYear</th>\n",
       "      <th>Promo2</th>\n",
       "      <th>YearMonth</th>\n",
       "      <th>SalesMonth</th>\n",
       "      <th>LastMonthSales</th>\n",
       "      <th>LastMonthDiff</th>\n",
       "    </tr>\n",
       "  </thead>\n",
       "  <tbody>\n",
       "    <tr>\n",
       "      <th>2</th>\n",
       "      <td>1115</td>\n",
       "      <td>4</td>\n",
       "      <td>2013-01-03</td>\n",
       "      <td>4297</td>\n",
       "      <td>300</td>\n",
       "      <td>1</td>\n",
       "      <td>0</td>\n",
       "      <td>0</td>\n",
       "      <td>1</td>\n",
       "      <td>d</td>\n",
       "      <td>c</td>\n",
       "      <td>5350.0</td>\n",
       "      <td>-1.0</td>\n",
       "      <td>-1.0</td>\n",
       "      <td>1</td>\n",
       "      <td>2013001</td>\n",
       "      <td>3757.483871</td>\n",
       "      <td>3757.483871</td>\n",
       "      <td>0.0</td>\n",
       "    </tr>\n",
       "    <tr>\n",
       "      <th>3</th>\n",
       "      <td>1115</td>\n",
       "      <td>5</td>\n",
       "      <td>2013-01-04</td>\n",
       "      <td>4540</td>\n",
       "      <td>326</td>\n",
       "      <td>1</td>\n",
       "      <td>0</td>\n",
       "      <td>0</td>\n",
       "      <td>1</td>\n",
       "      <td>d</td>\n",
       "      <td>c</td>\n",
       "      <td>5350.0</td>\n",
       "      <td>-1.0</td>\n",
       "      <td>-1.0</td>\n",
       "      <td>1</td>\n",
       "      <td>2013001</td>\n",
       "      <td>3757.483871</td>\n",
       "      <td>3757.483871</td>\n",
       "      <td>0.0</td>\n",
       "    </tr>\n",
       "    <tr>\n",
       "      <th>4</th>\n",
       "      <td>1115</td>\n",
       "      <td>6</td>\n",
       "      <td>2013-01-05</td>\n",
       "      <td>4771</td>\n",
       "      <td>339</td>\n",
       "      <td>1</td>\n",
       "      <td>0</td>\n",
       "      <td>0</td>\n",
       "      <td>1</td>\n",
       "      <td>d</td>\n",
       "      <td>c</td>\n",
       "      <td>5350.0</td>\n",
       "      <td>-1.0</td>\n",
       "      <td>-1.0</td>\n",
       "      <td>1</td>\n",
       "      <td>2013001</td>\n",
       "      <td>3757.483871</td>\n",
       "      <td>3757.483871</td>\n",
       "      <td>0.0</td>\n",
       "    </tr>\n",
       "    <tr>\n",
       "      <th>5</th>\n",
       "      <td>1115</td>\n",
       "      <td>7</td>\n",
       "      <td>2013-01-06</td>\n",
       "      <td>0</td>\n",
       "      <td>0</td>\n",
       "      <td>0</td>\n",
       "      <td>0</td>\n",
       "      <td>0</td>\n",
       "      <td>1</td>\n",
       "      <td>d</td>\n",
       "      <td>c</td>\n",
       "      <td>5350.0</td>\n",
       "      <td>-1.0</td>\n",
       "      <td>-1.0</td>\n",
       "      <td>1</td>\n",
       "      <td>2013001</td>\n",
       "      <td>3757.483871</td>\n",
       "      <td>3757.483871</td>\n",
       "      <td>0.0</td>\n",
       "    </tr>\n",
       "    <tr>\n",
       "      <th>6</th>\n",
       "      <td>1115</td>\n",
       "      <td>1</td>\n",
       "      <td>2013-01-07</td>\n",
       "      <td>6905</td>\n",
       "      <td>471</td>\n",
       "      <td>1</td>\n",
       "      <td>1</td>\n",
       "      <td>0</td>\n",
       "      <td>1</td>\n",
       "      <td>d</td>\n",
       "      <td>c</td>\n",
       "      <td>5350.0</td>\n",
       "      <td>-1.0</td>\n",
       "      <td>-1.0</td>\n",
       "      <td>1</td>\n",
       "      <td>2013001</td>\n",
       "      <td>3757.483871</td>\n",
       "      <td>3757.483871</td>\n",
       "      <td>0.0</td>\n",
       "    </tr>\n",
       "  </tbody>\n",
       "</table>\n",
       "</div>"
      ],
      "text/plain": [
       "   Store  DayOfWeek       Date  Sales  Customers  Open  Promo StateHoliday  \\\n",
       "2   1115          4 2013-01-03   4297        300     1      0            0   \n",
       "3   1115          5 2013-01-04   4540        326     1      0            0   \n",
       "4   1115          6 2013-01-05   4771        339     1      0            0   \n",
       "5   1115          7 2013-01-06      0          0     0      0            0   \n",
       "6   1115          1 2013-01-07   6905        471     1      1            0   \n",
       "\n",
       "   SchoolHoliday StoreType Assortment  CompetitionDistance  \\\n",
       "2              1         d          c               5350.0   \n",
       "3              1         d          c               5350.0   \n",
       "4              1         d          c               5350.0   \n",
       "5              1         d          c               5350.0   \n",
       "6              1         d          c               5350.0   \n",
       "\n",
       "   CompetitionOpenSinceMonth  CompetitionOpenSinceYear  Promo2  YearMonth  \\\n",
       "2                       -1.0                      -1.0       1    2013001   \n",
       "3                       -1.0                      -1.0       1    2013001   \n",
       "4                       -1.0                      -1.0       1    2013001   \n",
       "5                       -1.0                      -1.0       1    2013001   \n",
       "6                       -1.0                      -1.0       1    2013001   \n",
       "\n",
       "    SalesMonth  LastMonthSales  LastMonthDiff  \n",
       "2  3757.483871     3757.483871            0.0  \n",
       "3  3757.483871     3757.483871            0.0  \n",
       "4  3757.483871     3757.483871            0.0  \n",
       "5  3757.483871     3757.483871            0.0  \n",
       "6  3757.483871     3757.483871            0.0  "
      ]
     },
     "execution_count": 39,
     "metadata": {},
     "output_type": "execute_result"
    }
   ],
   "source": [
    "df_train_store_lag_m = df_train_store_m.copy()\n",
    "df_train_store_lag_m['LastMonthSales'] = df_train_store_lag_m.groupby(['Store'])['SalesMonth'].shift()\n",
    "df_train_store_lag_m['LastMonthDiff'] = df_train_store_lag_m.groupby(['Store'])['LastMonthSales'].diff()\n",
    "df_train_store_lag_m = df_train_store_lag_m.dropna()\n",
    "df_train_store_lag_m.head()"
   ]
  },
  {
   "cell_type": "code",
   "execution_count": 40,
   "metadata": {},
   "outputs": [
    {
     "name": "stdout",
     "output_type": "stream",
     "text": [
      "Day 2015-03-01 00:00:00 - Error 0.01639\n",
      "Day 2015-04-01 00:00:00 - Error 0.28038\n",
      "Day 2015-05-01 00:00:00 - Error 0.06553\n",
      "Day 2015-06-01 00:00:00 - Error 0.13544\n",
      "Day 2015-07-01 00:00:00 - Error 0.14818\n",
      "Mean Error = 0.12919\n",
      "CPU times: user 31min 38s, sys: 5.36 s, total: 31min 43s\n",
      "Wall time: 16min 2s\n"
     ]
    }
   ],
   "source": [
    "%%time\n",
    "mean_error = []   \n",
    "for day in pd.date_range(train_date_max - pd.DateOffset(months=5), train_date_max, freq='MS'):\n",
    "    train = df_train_store_lag_m[df_train_store_lag_m['Date'] < day]\n",
    "    val = df_train_store_lag_m[df_train_store_lag_m['Date'] == day]\n",
    "    \n",
    "    x_train = vec_1_month.fit_transform(train)\n",
    "    x_test = vec_1_month.fit_transform(val)\n",
    "    y_train = train['Sales'].values\n",
    "    y_test = val['Sales'].values\n",
    "    \n",
    "    model_forest = RandomForestRegressor(n_estimators=100, n_jobs=2, random_state=42)\n",
    "    model_forest.fit(x_train, np.log1p(y_train))\n",
    "    \n",
    "    predict = np.expm1(model_forest.predict(x_test))\n",
    "    \n",
    "    error = rmsle(y_test, predict)\n",
    "    print('Day %s - Error %.5f' % (str(day), error))\n",
    "    mean_error.append(error)\n",
    "    \n",
    "print('Mean Error = %.5f' % np.mean(mean_error))"
   ]
  },
  {
   "cell_type": "markdown",
   "metadata": {},
   "source": [
    "#### Случайный лес с временным лагом в один день"
   ]
  },
  {
   "cell_type": "markdown",
   "metadata": {},
   "source": [
    "Для использования этой модели необходимо для тестовых данных заполнить столбцы LastDaySales и LastDayDiff, которые сами зависят от значения, которое необходимо предсказать. Это своеобразная \"алгебраическая петля\", и чтобы её разорвать, нужно, похоже, использовать некие итерации. Мы же поступим проще, и возьмём эти значения, используя известные предыдущие значения и скользящее среднее."
   ]
  },
  {
   "cell_type": "code",
   "execution_count": 41,
   "metadata": {},
   "outputs": [],
   "source": [
    "df_train_test = df_train_store_1.append(df_test_store)"
   ]
  },
  {
   "cell_type": "code",
   "execution_count": 42,
   "metadata": {},
   "outputs": [],
   "source": [
    "df_train_test_2 = df_train_test.copy()"
   ]
  },
  {
   "cell_type": "code",
   "execution_count": 43,
   "metadata": {},
   "outputs": [],
   "source": [
    "n_mean = 14  # кол-во предыдущих значений для усреднения\n",
    "\n",
    "change_dict_LastDaySales = {}\n",
    "\n",
    "for group_id, series in df_train_test_2.groupby(['Store'])['LastDaySales']:\n",
    "    lst = []\n",
    "    for index, value in series.iteritems():\n",
    "        if np.isnan(value):\n",
    "            value = np.mean(lst)\n",
    "                \n",
    "        if len(lst) == n_mean:\n",
    "            lst.pop(0)\n",
    "        lst.append(value)\n",
    "            \n",
    "        change_dict_LastDaySales[index] = value "
   ]
  },
  {
   "cell_type": "code",
   "execution_count": 44,
   "metadata": {},
   "outputs": [],
   "source": [
    "change_dict_LastDayDiff = {}\n",
    "\n",
    "for group_id, series in df_train_test_2.groupby(['Store'])['LastDayDiff']:\n",
    "    lst = []\n",
    "    for index, value in series.iteritems():\n",
    "        if np.isnan(value):\n",
    "            value = np.mean(lst)\n",
    "\n",
    "        if len(lst) == n_mean:\n",
    "            lst.pop(0)\n",
    "        lst.append(value)\n",
    "\n",
    "        change_dict_LastDayDiff[index] = value"
   ]
  },
  {
   "cell_type": "code",
   "execution_count": 45,
   "metadata": {},
   "outputs": [],
   "source": [
    "# заменяем отсутствующие значения для тестовых данных на скользящие средние\n",
    "df_train_test_2['LastDaySales'] = pd.Series(change_dict_LastDaySales)\n",
    "df_train_test_2['LastDayDiff'] = pd.Series(change_dict_LastDayDiff)"
   ]
  },
  {
   "cell_type": "code",
   "execution_count": 46,
   "metadata": {},
   "outputs": [],
   "source": [
    "# Заменяем пропущенные значения в столбце Open в тестовых данных\n",
    "df_train_test_2 = df_train_test_2.fillna(value={'Open': 0})"
   ]
  },
  {
   "cell_type": "code",
   "execution_count": 47,
   "metadata": {},
   "outputs": [
    {
     "data": {
      "text/plain": [
       "RandomForestRegressor(bootstrap=True, criterion='mse', max_depth=None,\n",
       "           max_features='auto', max_leaf_nodes=None,\n",
       "           min_impurity_decrease=0.0, min_impurity_split=None,\n",
       "           min_samples_leaf=1, min_samples_split=2,\n",
       "           min_weight_fraction_leaf=0.0, n_estimators=100, n_jobs=2,\n",
       "           oob_score=False, random_state=42, verbose=0, warm_start=False)"
      ]
     },
     "execution_count": 47,
     "metadata": {},
     "output_type": "execute_result"
    }
   ],
   "source": [
    "# обучаем случайный лес на тренировочных данных\n",
    "train = df_train_test_2[df_train_test_2['Date'] <= train_date_max]\n",
    "    \n",
    "x_train = vec_1.fit_transform(train)\n",
    "y_train = train['Sales'].values\n",
    "    \n",
    "model_forest = RandomForestRegressor(n_estimators=100, n_jobs=2, random_state=42)\n",
    "model_forest.fit(x_train, np.log1p(y_train))"
   ]
  },
  {
   "cell_type": "code",
   "execution_count": 48,
   "metadata": {},
   "outputs": [],
   "source": [
    "test = df_train_test_2[df_train_test_2['Date'] > train_date_max]\n",
    "x_test = vec_1.fit_transform(test)\n",
    "predict = np.expm1(model_forest.predict(x_test))"
   ]
  },
  {
   "cell_type": "code",
   "execution_count": 49,
   "metadata": {},
   "outputs": [],
   "source": [
    "df_predict = df_train_test_2[df_train_test_2['Date'] > train_date_max]"
   ]
  },
  {
   "cell_type": "code",
   "execution_count": 50,
   "metadata": {},
   "outputs": [
    {
     "name": "stderr",
     "output_type": "stream",
     "text": [
      "/usr/local/lib/python3.5/dist-packages/ipykernel_launcher.py:1: SettingWithCopyWarning: \n",
      "A value is trying to be set on a copy of a slice from a DataFrame.\n",
      "Try using .loc[row_indexer,col_indexer] = value instead\n",
      "\n",
      "See the caveats in the documentation: http://pandas.pydata.org/pandas-docs/stable/indexing.html#indexing-view-versus-copy\n",
      "  \"\"\"Entry point for launching an IPython kernel.\n"
     ]
    }
   ],
   "source": [
    "df_predict['Sales'] = predict"
   ]
  },
  {
   "cell_type": "code",
   "execution_count": 51,
   "metadata": {},
   "outputs": [
    {
     "name": "stderr",
     "output_type": "stream",
     "text": [
      "/usr/local/lib/python3.5/dist-packages/ipykernel_launcher.py:1: SettingWithCopyWarning: \n",
      "A value is trying to be set on a copy of a slice from a DataFrame.\n",
      "Try using .loc[row_indexer,col_indexer] = value instead\n",
      "\n",
      "See the caveats in the documentation: http://pandas.pydata.org/pandas-docs/stable/indexing.html#indexing-view-versus-copy\n",
      "  \"\"\"Entry point for launching an IPython kernel.\n"
     ]
    }
   ],
   "source": [
    "df_predict['Id'] = df_predict['Id'].astype(int)"
   ]
  },
  {
   "cell_type": "code",
   "execution_count": 52,
   "metadata": {},
   "outputs": [],
   "source": [
    "df_predict.to_csv('submission.csv', columns = ['Id', 'Sales'], index=False)"
   ]
  },
  {
   "cell_type": "markdown",
   "metadata": {},
   "source": [
    "Оценка этой модели на Kaggle - 0.22655, т.е. ухудшилась по отношению к простому случайному лесу"
   ]
  },
  {
   "cell_type": "markdown",
   "metadata": {},
   "source": [
    "#### Градиентный бустинг"
   ]
  },
  {
   "cell_type": "code",
   "execution_count": 53,
   "metadata": {},
   "outputs": [
    {
     "name": "stdout",
     "output_type": "stream",
     "text": [
      "Day 2015-07-25 00:00:00 - Error 0.34142\n",
      "Day 2015-07-26 00:00:00 - Error 0.07141\n",
      "Day 2015-07-27 00:00:00 - Error 0.23326\n",
      "Day 2015-07-28 00:00:00 - Error 0.21522\n",
      "Day 2015-07-29 00:00:00 - Error 0.21317\n",
      "Day 2015-07-30 00:00:00 - Error 0.21813\n",
      "Day 2015-07-31 00:00:00 - Error 0.27968\n",
      "Mean Error = 0.22461\n",
      "CPU times: user 40min 12s, sys: 19.3 s, total: 40min 31s\n",
      "Wall time: 6min 2s\n"
     ]
    }
   ],
   "source": [
    "%%time\n",
    "mean_error = []\n",
    "for day in pd.date_range(train_date_max - pd.DateOffset(6), train_date_max):\n",
    "    train = df_train_store[df_train_store['Date'] < day]\n",
    "    val = df_train_store[df_train_store['Date'] == day]\n",
    "    \n",
    "    x_train = vec_0.fit_transform(train)\n",
    "    x_test = vec_0.fit_transform(val)\n",
    "    y_train = train['Sales'].values\n",
    "    y_test = val['Sales'].values\n",
    "    \n",
    "    mdl = LGBMRegressor(n_estimators=1000, learning_rate=0.01)\n",
    "    mdl.fit(x_train, np.log1p(y_train))\n",
    "    \n",
    "    predict = np.expm1(mdl.predict(x_test))\n",
    "    \n",
    "    error = rmsle(y_test, predict)\n",
    "    print('Day %s - Error %.5f' % (str(day), error))\n",
    "    mean_error.append(error)\n",
    "    \n",
    "print('Mean Error = %.5f' % np.mean(mean_error))"
   ]
  },
  {
   "cell_type": "markdown",
   "metadata": {},
   "source": [
    "Простой случайный лес в нашем случае оказался лучшей моделью"
   ]
  },
  {
   "cell_type": "markdown",
   "metadata": {},
   "source": [
    "Ссылка на Kaggle:\n",
    "\n",
    "https://www.kaggle.com/c/rossmann-store-sales/submissions?sortBy=date&group=all&page=1\n",
    "\n",
    "Ник: Nikita Chernetsov\n",
    "\n",
    "Лучшая оценка: 0.14308 (случайный лес без временного лага)"
   ]
  }
 ],
 "metadata": {
  "kernelspec": {
   "display_name": "Python 3",
   "language": "python",
   "name": "python3"
  },
  "language_info": {
   "codemirror_mode": {
    "name": "ipython",
    "version": 3
   },
   "file_extension": ".py",
   "mimetype": "text/x-python",
   "name": "python",
   "nbconvert_exporter": "python",
   "pygments_lexer": "ipython3",
   "version": "3.5.2"
  }
 },
 "nbformat": 4,
 "nbformat_minor": 2
}
